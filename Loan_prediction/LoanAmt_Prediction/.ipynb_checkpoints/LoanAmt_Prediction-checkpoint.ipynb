{
 "cells": [
  {
   "cell_type": "markdown",
   "id": "13ea55ff",
   "metadata": {},
   "source": [
    "# *Loan Amount Prediction - Linear Regression Model*\n",
    "# By Luis Emilio Garduno Garcia"
   ]
  },
  {
   "cell_type": "markdown",
   "id": "b9976ab1",
   "metadata": {},
   "source": [
    "*References:*\n",
    "- **Bambang Sarif (2022) CSIS 3290 – Fund. of Machine Learning in Data Science. Based on Course Material & Jupyter Notebook Demo Files.** \n",
    "- Dataset: https://data.world/sonaksh/bank-customer-credit-details/workspace/file?filename=credit_card_dataset.csv\n",
    "\n",
    "\n",
    "- https://stackoverflow.com/questions/39512002/convert-whole-dataframe-from-lower-case-to-upper-case-with-pandas\n",
    "- https://www.roelpeters.be/how-to-remove-trailing-whitespaces-from-column-headers-in-pandas/#:~:text=To%20strip%20whitespaces%20from%20column,rstrip.\n",
    "- https://stackoverflow.com/questions/56947333/how-to-remove-commas-from-all-the-column-in-pandas-at-once\n",
    "- https://www.geeksforgeeks.org/change-data-type-for-one-or-more-columns-in-pandas-dataframe/\n",
    "- https://www.edureka.co/community/51168/pandas-fillna-with-another-column\n",
    "- https://pandas.pydata.org/docs/reference/api/pandas.DataFrame.reset_index.html\n",
    "- https://stackoverflow.com/questions/55394854/how-to-change-the-format-of-describe-output\n",
    "- https://seaborn.pydata.org/tutorial/distributions.html\n",
    "- https://datatofish.com/numpy-array-to-pandas-dataframe/\n",
    "- https://stackoverflow.com/questions/63757258/negative-accuracy-in-linear-regression\n",
    "- https://blog.paperspace.com/implementing-gradient-boosting-regression-python/\n",
    "- https://stackoverflow.com/questions/62130081/how-to-get-catboost-models-coefficients"
   ]
  },
  {
   "cell_type": "markdown",
   "id": "1fb884c7",
   "metadata": {},
   "source": [
    "## 1. Problem Definition. Look at the big picture"
   ]
  },
  {
   "cell_type": "markdown",
   "id": "ec460260",
   "metadata": {},
   "source": [
    "As a loan issuer, it could be the case that managers may be concerned about increasing the credit portfolio value base with current and potential customers to get more revenue from the interests they charge by each transaction. Thus, they may want to predict the optimal loan amount based on the current customers' information and determine which occupation is convenient to start a marketing campaign. They may also want to reduce the non-payment risk by these clients, considering some features such as payment delays, returned cheques, and dishonor of bills. A text file is provided to describe each feature. We use a credit card dataset updated last time on March 21, 2018 and obtained from the data.world website that includes some bank customer details. \n",
    "\n",
    "The main steps of the machine learning project include:\n",
    "\n",
    "- 1. Problem definition.\n",
    "- 2. Library import and Data Loading.\n",
    "- 3. Data wrangling and transformation.\n",
    "- 4. EDA - Discover and visualize the data to gain insights.\n",
    "- 5. Convert categorical data to Dummy variables.\n",
    "- 6. Hypothesis Definition.\n",
    "- 7. Split the Data (Training and Test sets).\n",
    "- 8. Feature Selection Methods\n",
    "- 9. Feature Scaling\n",
    "- 10. Simple Linear Regression Model with Feature Selection and Scaling\n",
    "- 11. Perform Other Linear Regression Models\n",
    "- 12. Pipeline\n",
    "- 13. Create a data frame to display Linear Regression results\n",
    "- 14. Best Model Selection\n",
    "- 15. Performance of the Best Model\n",
    "- 16. Out of Sample Prediction\n",
    "\n",
    "Please refer to each step for more details."
   ]
  },
  {
   "cell_type": "markdown",
   "id": "82a01289",
   "metadata": {},
   "source": [
    "![Workflow](Img/Model_Workflow.png)"
   ]
  },
  {
   "cell_type": "markdown",
   "id": "d5cfdd8a",
   "metadata": {},
   "source": [
    "## 2. Library import and data loading"
   ]
  },
  {
   "cell_type": "code",
   "execution_count": 143,
   "id": "9a64d480",
   "metadata": {},
   "outputs": [],
   "source": [
    "#Import and load the required python libraries\n",
    "\n",
    "import pandas as pd \n",
    "import numpy as np \n",
    "import seaborn as sns \n",
    "import matplotlib.pyplot as plt \n",
    "from scipy.stats import norm \n",
    "\n",
    "#To save the plot within the jupyter notebook\n",
    "%matplotlib inline \n",
    "\n",
    "#To split the data\n",
    "from sklearn.model_selection import train_test_split\n",
    "\n",
    "#Feature Selection Methods\n",
    "from sklearn.feature_selection import VarianceThreshold\n",
    "from sklearn.feature_selection import SelectKBest\n",
    "from sklearn.feature_selection import f_regression #We use 'f_regression' for regression algorithm\n",
    "from sklearn.feature_selection import SelectFromModel\n",
    "from sklearn.ensemble import RandomForestClassifier\n",
    "import statsmodels.api as sm #for Generalized Linear Model as feature selection method\n",
    "from sklearn.linear_model import Ridge, Lasso\n",
    "\n",
    "#Feature transformation\n",
    "from sklearn.preprocessing import PolynomialFeatures\n",
    "from sklearn.preprocessing import RobustScaler\n",
    "\n",
    "#Regressors\n",
    "from sklearn.linear_model import LinearRegression\n",
    "from sklearn.tree import DecisionTreeRegressor\n",
    "from sklearn.ensemble import GradientBoostingRegressor\n",
    "from sklearn.ensemble import RandomForestRegressor\n",
    "from sklearn.ensemble import AdaBoostRegressor\n",
    "from xgboost import XGBRegressor\n",
    "\n",
    "#Pipeline\n",
    "from sklearn.pipeline import Pipeline\n",
    "\n",
    "#Metrics\n",
    "from sklearn.metrics import mean_squared_error\n",
    "\n",
    "#Other:\n",
    "#To get rid the following Warning: xgboost\\compat.py:36: FutureWarning: pandas.Int64Index is deprecated and will be \n",
    "#removed from pandas in a future version. Use pandas.Index with the appropriate dtype instead. \n",
    "from pandas import MultiIndex, Int16Dtype\n"
   ]
  },
  {
   "cell_type": "markdown",
   "id": "3bf21ad1",
   "metadata": {},
   "source": [
    "### 2.1 Get the data"
   ]
  },
  {
   "cell_type": "markdown",
   "id": "fdbebd95",
   "metadata": {},
   "source": [
    "Load the dataset, previously downoloaded from the data.world website.\n",
    "\n",
    "Glimpse of the dataset using df.head() function displaying only 3 rows"
   ]
  },
  {
   "cell_type": "code",
   "execution_count": 144,
   "id": "b7bde661",
   "metadata": {},
   "outputs": [
    {
     "data": {
      "text/html": [
       "<div>\n",
       "<style scoped>\n",
       "    .dataframe tbody tr th:only-of-type {\n",
       "        vertical-align: middle;\n",
       "    }\n",
       "\n",
       "    .dataframe tbody tr th {\n",
       "        vertical-align: top;\n",
       "    }\n",
       "\n",
       "    .dataframe thead th {\n",
       "        text-align: right;\n",
       "    }\n",
       "</style>\n",
       "<table border=\"1\" class=\"dataframe\">\n",
       "  <thead>\n",
       "    <tr style=\"text-align: right;\">\n",
       "      <th></th>\n",
       "      <th>Customer_ID</th>\n",
       "      <th>Age</th>\n",
       "      <th>Gender</th>\n",
       "      <th>Occupation</th>\n",
       "      <th>Marital Status</th>\n",
       "      <th>Family Size</th>\n",
       "      <th>Income</th>\n",
       "      <th>Expenditure</th>\n",
       "      <th>Use Frequency</th>\n",
       "      <th>Loan Category</th>\n",
       "      <th>Loan Amount</th>\n",
       "      <th>Overdue</th>\n",
       "      <th>Debt Record</th>\n",
       "      <th>Returned Cheque</th>\n",
       "      <th>Dishonour of Bill</th>\n",
       "    </tr>\n",
       "  </thead>\n",
       "  <tbody>\n",
       "    <tr>\n",
       "      <th>0</th>\n",
       "      <td>IB14001</td>\n",
       "      <td>30</td>\n",
       "      <td>MALE</td>\n",
       "      <td>BANK MANAGER</td>\n",
       "      <td>SINGLE</td>\n",
       "      <td>4</td>\n",
       "      <td>50000.0</td>\n",
       "      <td>22199.0</td>\n",
       "      <td>6</td>\n",
       "      <td>HOUSING</td>\n",
       "      <td>10,00,000</td>\n",
       "      <td>5</td>\n",
       "      <td>42,898</td>\n",
       "      <td>6</td>\n",
       "      <td>9</td>\n",
       "    </tr>\n",
       "    <tr>\n",
       "      <th>1</th>\n",
       "      <td>IB14008</td>\n",
       "      <td>44</td>\n",
       "      <td>MALE</td>\n",
       "      <td>PROFESSOR</td>\n",
       "      <td>MARRIED</td>\n",
       "      <td>6</td>\n",
       "      <td>51000.0</td>\n",
       "      <td>19999.0</td>\n",
       "      <td>4</td>\n",
       "      <td>SHOPPING</td>\n",
       "      <td>50,000</td>\n",
       "      <td>3</td>\n",
       "      <td>33,999</td>\n",
       "      <td>1</td>\n",
       "      <td>5</td>\n",
       "    </tr>\n",
       "    <tr>\n",
       "      <th>2</th>\n",
       "      <td>IB14012</td>\n",
       "      <td>30</td>\n",
       "      <td>FEMALE</td>\n",
       "      <td>DENTIST</td>\n",
       "      <td>SINGLE</td>\n",
       "      <td>3</td>\n",
       "      <td>58450.0</td>\n",
       "      <td>27675.0</td>\n",
       "      <td>5</td>\n",
       "      <td>TRAVELLING</td>\n",
       "      <td>75,000</td>\n",
       "      <td>6</td>\n",
       "      <td>20,876</td>\n",
       "      <td>3</td>\n",
       "      <td>1</td>\n",
       "    </tr>\n",
       "  </tbody>\n",
       "</table>\n",
       "</div>"
      ],
      "text/plain": [
       "  Customer_ID  Age  Gender    Occupation Marital Status  Family Size   Income  \\\n",
       "0     IB14001   30    MALE  BANK MANAGER         SINGLE            4  50000.0   \n",
       "1     IB14008   44    MALE     PROFESSOR        MARRIED            6  51000.0   \n",
       "2     IB14012   30  FEMALE       DENTIST         SINGLE            3  58450.0   \n",
       "\n",
       "   Expenditure  Use Frequency Loan Category  Loan Amount  Overdue  \\\n",
       "0      22199.0              6       HOUSING   10,00,000         5   \n",
       "1      19999.0              4      SHOPPING       50,000        3   \n",
       "2      27675.0              5    TRAVELLING       75,000        6   \n",
       "\n",
       "   Debt Record   Returned Cheque   Dishonour of Bill  \n",
       "0       42,898                 6                   9  \n",
       "1       33,999                 1                   5  \n",
       "2       20,876                 3                   1  "
      ]
     },
     "execution_count": 144,
     "metadata": {},
     "output_type": "execute_result"
    }
   ],
   "source": [
    "df = pd.read_csv('Dataset/credit_card_dataset.csv')\n",
    "#Glimpse of the dataset using df.head() function displaying only 3 rows\n",
    "df.head(3)"
   ]
  },
  {
   "cell_type": "markdown",
   "id": "042206b9",
   "metadata": {},
   "source": [
    "Get the information about the dataset."
   ]
  },
  {
   "cell_type": "code",
   "execution_count": 145,
   "id": "bf174f45",
   "metadata": {},
   "outputs": [
    {
     "name": "stdout",
     "output_type": "stream",
     "text": [
      "<class 'pandas.core.frame.DataFrame'>\n",
      "RangeIndex: 500 entries, 0 to 499\n",
      "Data columns (total 15 columns):\n",
      " #   Column              Non-Null Count  Dtype  \n",
      "---  ------              --------------  -----  \n",
      " 0   Customer_ID         500 non-null    object \n",
      " 1   Age                 500 non-null    int64  \n",
      " 2   Gender              500 non-null    object \n",
      " 3   Occupation          500 non-null    object \n",
      " 4   Marital Status      500 non-null    object \n",
      " 5   Family Size         500 non-null    int64  \n",
      " 6   Income              468 non-null    float64\n",
      " 7   Expenditure         481 non-null    float64\n",
      " 8   Use Frequency       500 non-null    int64  \n",
      " 9   Loan Category       500 non-null    object \n",
      " 10  Loan Amount         500 non-null    object \n",
      " 11  Overdue             500 non-null    int64  \n",
      " 12   Debt Record        500 non-null    object \n",
      " 13   Returned Cheque    500 non-null    int64  \n",
      " 14   Dishonour of Bill  500 non-null    int64  \n",
      "dtypes: float64(2), int64(6), object(7)\n",
      "memory usage: 58.7+ KB\n"
     ]
    }
   ],
   "source": [
    "df.info()"
   ]
  },
  {
   "cell_type": "markdown",
   "id": "f66ba2ce",
   "metadata": {},
   "source": [
    "The previous output confirms the total non-null values by column. If we subtract each element (Non-null Count) from the Total entries (500), we find the Null values per column. However, we can also use 'isnull()' and 'sum()' functions, to determine how many null values does the dataset have."
   ]
  },
  {
   "cell_type": "code",
   "execution_count": 146,
   "id": "2475e52c",
   "metadata": {},
   "outputs": [
    {
     "data": {
      "text/plain": [
       "Customer_ID            0\n",
       "Age                    0\n",
       "Gender                 0\n",
       "Occupation             0\n",
       "Marital Status         0\n",
       "Family Size            0\n",
       "Income                32\n",
       "Expenditure           19\n",
       "Use Frequency          0\n",
       "Loan Category          0\n",
       "Loan Amount            0\n",
       "Overdue                0\n",
       " Debt Record           0\n",
       " Returned Cheque       0\n",
       " Dishonour of Bill     0\n",
       "dtype: int64"
      ]
     },
     "execution_count": 146,
     "metadata": {},
     "output_type": "execute_result"
    }
   ],
   "source": [
    "df.isnull().sum()"
   ]
  },
  {
   "cell_type": "markdown",
   "id": "40eebbaf",
   "metadata": {},
   "source": [
    "Notice here, Income and Expenditure features are the only ones that contain null values. We can either fill these cells with the mean from the whole dataset or filling based on a match condition with other fields and rows. "
   ]
  },
  {
   "cell_type": "markdown",
   "id": "f85ab548",
   "metadata": {},
   "source": [
    "## 3. Data wrangling and transformation¶"
   ]
  },
  {
   "cell_type": "markdown",
   "id": "faf8f607",
   "metadata": {},
   "source": [
    "### 3.1 Apply changes to column headers"
   ]
  },
  {
   "cell_type": "markdown",
   "id": "07a69349",
   "metadata": {},
   "source": [
    "From df.info() we see that the following column names are not lined up, it looks like there are spaces/indentation on them. We remove them to avoid errors later on: ' Debt Record', ' Returned Cheque', ' Dishonour of Bill'"
   ]
  },
  {
   "cell_type": "code",
   "execution_count": 147,
   "id": "8dbe6f90",
   "metadata": {},
   "outputs": [
    {
     "data": {
      "text/plain": [
       "Index(['Customer_ID', 'Age', 'Gender', 'Occupation', 'Marital Status',\n",
       "       'Family Size', 'Income', 'Expenditure', 'Use Frequency',\n",
       "       'Loan Category', 'Loan Amount', 'Overdue', ' Debt Record',\n",
       "       ' Returned Cheque', ' Dishonour of Bill'],\n",
       "      dtype='object')"
      ]
     },
     "execution_count": 147,
     "metadata": {},
     "output_type": "execute_result"
    }
   ],
   "source": [
    "df.columns"
   ]
  },
  {
   "cell_type": "code",
   "execution_count": 148,
   "id": "dbc7561b",
   "metadata": {},
   "outputs": [],
   "source": [
    "def strip_function(x):\n",
    "    r = []\n",
    "    for y in x:\n",
    "        if isinstance (y, str): #isinstance function returns True if the specified object is of the specified type, otherwise False\n",
    "            y = y.strip()\n",
    "            \n",
    "        r.append(y)\n",
    "    return pd.Series(r)\n",
    "\n",
    "df = df.apply(strip_function)"
   ]
  },
  {
   "cell_type": "markdown",
   "id": "b0b8c0bb",
   "metadata": {},
   "source": [
    "**Remove trailing whitespaces from column headers.**\n",
    "\n",
    "Suppose we have hundreds of columns, we can use the following code to check which columns contain a whitespace."
   ]
  },
  {
   "cell_type": "code",
   "execution_count": 149,
   "id": "8b8e0735",
   "metadata": {},
   "outputs": [
    {
     "data": {
      "text/plain": [
       "[' Debt Record', ' Returned Cheque', ' Dishonour of Bill']"
      ]
     },
     "execution_count": 149,
     "metadata": {},
     "output_type": "execute_result"
    }
   ],
   "source": [
    "[x for x in df.columns if x.endswith(' ') or x.startswith(' ')]"
   ]
  },
  {
   "cell_type": "markdown",
   "id": "9b66858a",
   "metadata": {},
   "source": [
    "We may use lambda and strip function to remove trailing whitespaces from column headers"
   ]
  },
  {
   "cell_type": "code",
   "execution_count": 150,
   "id": "08b0aecf",
   "metadata": {},
   "outputs": [],
   "source": [
    "df = df.rename(columns=lambda x: x.strip())"
   ]
  },
  {
   "cell_type": "code",
   "execution_count": 151,
   "id": "9a16f38e",
   "metadata": {},
   "outputs": [
    {
     "data": {
      "text/plain": [
       "Index(['Customer_ID', 'Age', 'Gender', 'Occupation', 'Marital Status',\n",
       "       'Family Size', 'Income', 'Expenditure', 'Use Frequency',\n",
       "       'Loan Category', 'Loan Amount', 'Overdue', 'Debt Record',\n",
       "       'Returned Cheque', 'Dishonour of Bill'],\n",
       "      dtype='object')"
      ]
     },
     "execution_count": 151,
     "metadata": {},
     "output_type": "execute_result"
    }
   ],
   "source": [
    "df.columns #To confirm updates"
   ]
  },
  {
   "cell_type": "markdown",
   "id": "61a95d7e",
   "metadata": {},
   "source": [
    "**Remove unnecesary whitespaces from column headers using underscore**"
   ]
  },
  {
   "cell_type": "code",
   "execution_count": 152,
   "id": "186b7eb7",
   "metadata": {},
   "outputs": [
    {
     "data": {
      "text/html": [
       "<div>\n",
       "<style scoped>\n",
       "    .dataframe tbody tr th:only-of-type {\n",
       "        vertical-align: middle;\n",
       "    }\n",
       "\n",
       "    .dataframe tbody tr th {\n",
       "        vertical-align: top;\n",
       "    }\n",
       "\n",
       "    .dataframe thead th {\n",
       "        text-align: right;\n",
       "    }\n",
       "</style>\n",
       "<table border=\"1\" class=\"dataframe\">\n",
       "  <thead>\n",
       "    <tr style=\"text-align: right;\">\n",
       "      <th></th>\n",
       "      <th>Customer_ID</th>\n",
       "      <th>Age</th>\n",
       "      <th>Gender</th>\n",
       "      <th>Occupation</th>\n",
       "      <th>Marital_Status</th>\n",
       "      <th>Family_Size</th>\n",
       "      <th>Income</th>\n",
       "      <th>Expenditure</th>\n",
       "      <th>Use_Frequency</th>\n",
       "      <th>Loan_Category</th>\n",
       "      <th>Loan_Amount</th>\n",
       "      <th>Overdue</th>\n",
       "      <th>Debt_Record</th>\n",
       "      <th>Returned_Cheque</th>\n",
       "      <th>Dishonour_of_Bill</th>\n",
       "    </tr>\n",
       "  </thead>\n",
       "  <tbody>\n",
       "    <tr>\n",
       "      <th>0</th>\n",
       "      <td>IB14001</td>\n",
       "      <td>30</td>\n",
       "      <td>MALE</td>\n",
       "      <td>BANK MANAGER</td>\n",
       "      <td>SINGLE</td>\n",
       "      <td>4</td>\n",
       "      <td>50000.0</td>\n",
       "      <td>22199.0</td>\n",
       "      <td>6</td>\n",
       "      <td>HOUSING</td>\n",
       "      <td>10,00,000</td>\n",
       "      <td>5</td>\n",
       "      <td>42,898</td>\n",
       "      <td>6</td>\n",
       "      <td>9</td>\n",
       "    </tr>\n",
       "  </tbody>\n",
       "</table>\n",
       "</div>"
      ],
      "text/plain": [
       "  Customer_ID  Age Gender    Occupation Marital_Status  Family_Size   Income  \\\n",
       "0     IB14001   30   MALE  BANK MANAGER         SINGLE            4  50000.0   \n",
       "\n",
       "   Expenditure  Use_Frequency Loan_Category Loan_Amount  Overdue Debt_Record  \\\n",
       "0      22199.0              6       HOUSING   10,00,000        5      42,898   \n",
       "\n",
       "   Returned_Cheque  Dishonour_of_Bill  \n",
       "0                6                  9  "
      ]
     },
     "execution_count": 152,
     "metadata": {},
     "output_type": "execute_result"
    }
   ],
   "source": [
    "df.columns = df.columns.str.replace(' ', '_')\n",
    "df.head(1)"
   ]
  },
  {
   "cell_type": "markdown",
   "id": "5778f275",
   "metadata": {},
   "source": [
    "### 3.2 Apply changes to the dataset values"
   ]
  },
  {
   "cell_type": "markdown",
   "id": "ff55bb7c",
   "metadata": {},
   "source": [
    "Some **values** have capital letters. We make them **all lower-case letter**"
   ]
  },
  {
   "cell_type": "code",
   "execution_count": 153,
   "id": "5ee57f76",
   "metadata": {},
   "outputs": [
    {
     "data": {
      "text/html": [
       "<div>\n",
       "<style scoped>\n",
       "    .dataframe tbody tr th:only-of-type {\n",
       "        vertical-align: middle;\n",
       "    }\n",
       "\n",
       "    .dataframe tbody tr th {\n",
       "        vertical-align: top;\n",
       "    }\n",
       "\n",
       "    .dataframe thead th {\n",
       "        text-align: right;\n",
       "    }\n",
       "</style>\n",
       "<table border=\"1\" class=\"dataframe\">\n",
       "  <thead>\n",
       "    <tr style=\"text-align: right;\">\n",
       "      <th></th>\n",
       "      <th>Customer_ID</th>\n",
       "      <th>Age</th>\n",
       "      <th>Gender</th>\n",
       "      <th>Occupation</th>\n",
       "      <th>Marital_Status</th>\n",
       "      <th>Family_Size</th>\n",
       "      <th>Income</th>\n",
       "      <th>Expenditure</th>\n",
       "      <th>Use_Frequency</th>\n",
       "      <th>Loan_Category</th>\n",
       "      <th>Loan_Amount</th>\n",
       "      <th>Overdue</th>\n",
       "      <th>Debt_Record</th>\n",
       "      <th>Returned_Cheque</th>\n",
       "      <th>Dishonour_of_Bill</th>\n",
       "    </tr>\n",
       "  </thead>\n",
       "  <tbody>\n",
       "    <tr>\n",
       "      <th>0</th>\n",
       "      <td>ib14001</td>\n",
       "      <td>30</td>\n",
       "      <td>male</td>\n",
       "      <td>bank manager</td>\n",
       "      <td>single</td>\n",
       "      <td>4</td>\n",
       "      <td>50000.0</td>\n",
       "      <td>22199.0</td>\n",
       "      <td>6</td>\n",
       "      <td>housing</td>\n",
       "      <td>10,00,000</td>\n",
       "      <td>5</td>\n",
       "      <td>42,898</td>\n",
       "      <td>6</td>\n",
       "      <td>9</td>\n",
       "    </tr>\n",
       "    <tr>\n",
       "      <th>1</th>\n",
       "      <td>ib14008</td>\n",
       "      <td>44</td>\n",
       "      <td>male</td>\n",
       "      <td>professor</td>\n",
       "      <td>married</td>\n",
       "      <td>6</td>\n",
       "      <td>51000.0</td>\n",
       "      <td>19999.0</td>\n",
       "      <td>4</td>\n",
       "      <td>shopping</td>\n",
       "      <td>50,000</td>\n",
       "      <td>3</td>\n",
       "      <td>33,999</td>\n",
       "      <td>1</td>\n",
       "      <td>5</td>\n",
       "    </tr>\n",
       "    <tr>\n",
       "      <th>2</th>\n",
       "      <td>ib14012</td>\n",
       "      <td>30</td>\n",
       "      <td>female</td>\n",
       "      <td>dentist</td>\n",
       "      <td>single</td>\n",
       "      <td>3</td>\n",
       "      <td>58450.0</td>\n",
       "      <td>27675.0</td>\n",
       "      <td>5</td>\n",
       "      <td>travelling</td>\n",
       "      <td>75,000</td>\n",
       "      <td>6</td>\n",
       "      <td>20,876</td>\n",
       "      <td>3</td>\n",
       "      <td>1</td>\n",
       "    </tr>\n",
       "  </tbody>\n",
       "</table>\n",
       "</div>"
      ],
      "text/plain": [
       "  Customer_ID  Age  Gender    Occupation Marital_Status  Family_Size   Income  \\\n",
       "0     ib14001   30    male  bank manager         single            4  50000.0   \n",
       "1     ib14008   44    male     professor        married            6  51000.0   \n",
       "2     ib14012   30  female       dentist         single            3  58450.0   \n",
       "\n",
       "   Expenditure  Use_Frequency Loan_Category Loan_Amount  Overdue Debt_Record  \\\n",
       "0      22199.0              6       housing   10,00,000        5      42,898   \n",
       "1      19999.0              4      shopping      50,000        3      33,999   \n",
       "2      27675.0              5    travelling      75,000        6      20,876   \n",
       "\n",
       "   Returned_Cheque  Dishonour_of_Bill  \n",
       "0                6                  9  \n",
       "1                1                  5  \n",
       "2                3                  1  "
      ]
     },
     "execution_count": 153,
     "metadata": {},
     "output_type": "execute_result"
    }
   ],
   "source": [
    "#keep datatype for the entire dataset\n",
    "df = df.applymap(lambda x: x.lower() if type(x) == str else x)\n",
    "df.head(3)"
   ]
  },
  {
   "cell_type": "markdown",
   "id": "e72da7f8",
   "metadata": {},
   "source": [
    "Format the values in the following columns to **remove commas**: Loan_Amount and Debt_Record "
   ]
  },
  {
   "cell_type": "code",
   "execution_count": 154,
   "id": "83a6b112",
   "metadata": {},
   "outputs": [
    {
     "data": {
      "text/html": [
       "<div>\n",
       "<style scoped>\n",
       "    .dataframe tbody tr th:only-of-type {\n",
       "        vertical-align: middle;\n",
       "    }\n",
       "\n",
       "    .dataframe tbody tr th {\n",
       "        vertical-align: top;\n",
       "    }\n",
       "\n",
       "    .dataframe thead th {\n",
       "        text-align: right;\n",
       "    }\n",
       "</style>\n",
       "<table border=\"1\" class=\"dataframe\">\n",
       "  <thead>\n",
       "    <tr style=\"text-align: right;\">\n",
       "      <th></th>\n",
       "      <th>Customer_ID</th>\n",
       "      <th>Age</th>\n",
       "      <th>Gender</th>\n",
       "      <th>Occupation</th>\n",
       "      <th>Marital_Status</th>\n",
       "      <th>Family_Size</th>\n",
       "      <th>Income</th>\n",
       "      <th>Expenditure</th>\n",
       "      <th>Use_Frequency</th>\n",
       "      <th>Loan_Category</th>\n",
       "      <th>Loan_Amount</th>\n",
       "      <th>Overdue</th>\n",
       "      <th>Debt_Record</th>\n",
       "      <th>Returned_Cheque</th>\n",
       "      <th>Dishonour_of_Bill</th>\n",
       "    </tr>\n",
       "  </thead>\n",
       "  <tbody>\n",
       "    <tr>\n",
       "      <th>0</th>\n",
       "      <td>ib14001</td>\n",
       "      <td>30</td>\n",
       "      <td>male</td>\n",
       "      <td>bank manager</td>\n",
       "      <td>single</td>\n",
       "      <td>4</td>\n",
       "      <td>50000.0</td>\n",
       "      <td>22199.0</td>\n",
       "      <td>6</td>\n",
       "      <td>housing</td>\n",
       "      <td>1000000</td>\n",
       "      <td>5</td>\n",
       "      <td>42898</td>\n",
       "      <td>6</td>\n",
       "      <td>9</td>\n",
       "    </tr>\n",
       "    <tr>\n",
       "      <th>1</th>\n",
       "      <td>ib14008</td>\n",
       "      <td>44</td>\n",
       "      <td>male</td>\n",
       "      <td>professor</td>\n",
       "      <td>married</td>\n",
       "      <td>6</td>\n",
       "      <td>51000.0</td>\n",
       "      <td>19999.0</td>\n",
       "      <td>4</td>\n",
       "      <td>shopping</td>\n",
       "      <td>50000</td>\n",
       "      <td>3</td>\n",
       "      <td>33999</td>\n",
       "      <td>1</td>\n",
       "      <td>5</td>\n",
       "    </tr>\n",
       "    <tr>\n",
       "      <th>2</th>\n",
       "      <td>ib14012</td>\n",
       "      <td>30</td>\n",
       "      <td>female</td>\n",
       "      <td>dentist</td>\n",
       "      <td>single</td>\n",
       "      <td>3</td>\n",
       "      <td>58450.0</td>\n",
       "      <td>27675.0</td>\n",
       "      <td>5</td>\n",
       "      <td>travelling</td>\n",
       "      <td>75000</td>\n",
       "      <td>6</td>\n",
       "      <td>20876</td>\n",
       "      <td>3</td>\n",
       "      <td>1</td>\n",
       "    </tr>\n",
       "  </tbody>\n",
       "</table>\n",
       "</div>"
      ],
      "text/plain": [
       "  Customer_ID  Age  Gender    Occupation Marital_Status  Family_Size   Income  \\\n",
       "0     ib14001   30    male  bank manager         single            4  50000.0   \n",
       "1     ib14008   44    male     professor        married            6  51000.0   \n",
       "2     ib14012   30  female       dentist         single            3  58450.0   \n",
       "\n",
       "   Expenditure  Use_Frequency Loan_Category Loan_Amount  Overdue Debt_Record  \\\n",
       "0      22199.0              6       housing     1000000        5       42898   \n",
       "1      19999.0              4      shopping       50000        3       33999   \n",
       "2      27675.0              5    travelling       75000        6       20876   \n",
       "\n",
       "   Returned_Cheque  Dishonour_of_Bill  \n",
       "0                6                  9  \n",
       "1                1                  5  \n",
       "2                3                  1  "
      ]
     },
     "execution_count": 154,
     "metadata": {},
     "output_type": "execute_result"
    }
   ],
   "source": [
    "df['Loan_Amount'] = df['Loan_Amount'].str.replace(\",\",\"\", regex = True)\n",
    "df['Debt_Record'] = df['Debt_Record'].str.replace(\",\",\"\", regex = True)\n",
    "\n",
    "df.head(3) #To confirm updates"
   ]
  },
  {
   "cell_type": "markdown",
   "id": "020de841",
   "metadata": {},
   "source": [
    "According to df.info() we **set the datatype of Loan_Amount and Debt_Record into float64**"
   ]
  },
  {
   "cell_type": "code",
   "execution_count": 155,
   "id": "2a32d320",
   "metadata": {},
   "outputs": [],
   "source": [
    "# using dictionary to convert specific columns\n",
    "convert_dict = {'Loan_Amount': float,\n",
    "                'Debt_Record': float\n",
    "                }\n",
    " \n",
    "df = df.astype(convert_dict)"
   ]
  },
  {
   "cell_type": "code",
   "execution_count": 156,
   "id": "e9187307",
   "metadata": {},
   "outputs": [
    {
     "name": "stdout",
     "output_type": "stream",
     "text": [
      "<class 'pandas.core.frame.DataFrame'>\n",
      "RangeIndex: 500 entries, 0 to 499\n",
      "Data columns (total 15 columns):\n",
      " #   Column             Non-Null Count  Dtype  \n",
      "---  ------             --------------  -----  \n",
      " 0   Customer_ID        500 non-null    object \n",
      " 1   Age                500 non-null    int64  \n",
      " 2   Gender             500 non-null    object \n",
      " 3   Occupation         500 non-null    object \n",
      " 4   Marital_Status     500 non-null    object \n",
      " 5   Family_Size        500 non-null    int64  \n",
      " 6   Income             468 non-null    float64\n",
      " 7   Expenditure        481 non-null    float64\n",
      " 8   Use_Frequency      500 non-null    int64  \n",
      " 9   Loan_Category      500 non-null    object \n",
      " 10  Loan_Amount        500 non-null    float64\n",
      " 11  Overdue            500 non-null    int64  \n",
      " 12  Debt_Record        500 non-null    float64\n",
      " 13  Returned_Cheque    500 non-null    int64  \n",
      " 14  Dishonour_of_Bill  500 non-null    int64  \n",
      "dtypes: float64(4), int64(6), object(5)\n",
      "memory usage: 58.7+ KB\n"
     ]
    }
   ],
   "source": [
    "df.info()"
   ]
  },
  {
   "cell_type": "markdown",
   "id": "5ce18c75",
   "metadata": {},
   "source": [
    "#### 3.2.1 Handling missing data"
   ]
  },
  {
   "cell_type": "markdown",
   "id": "d2660573",
   "metadata": {},
   "source": [
    "Check if there are rows where all data is missing"
   ]
  },
  {
   "cell_type": "code",
   "execution_count": 157,
   "id": "22e0a6a0",
   "metadata": {},
   "outputs": [
    {
     "data": {
      "text/html": [
       "<div>\n",
       "<style scoped>\n",
       "    .dataframe tbody tr th:only-of-type {\n",
       "        vertical-align: middle;\n",
       "    }\n",
       "\n",
       "    .dataframe tbody tr th {\n",
       "        vertical-align: top;\n",
       "    }\n",
       "\n",
       "    .dataframe thead th {\n",
       "        text-align: right;\n",
       "    }\n",
       "</style>\n",
       "<table border=\"1\" class=\"dataframe\">\n",
       "  <thead>\n",
       "    <tr style=\"text-align: right;\">\n",
       "      <th></th>\n",
       "      <th>Customer_ID</th>\n",
       "      <th>Age</th>\n",
       "      <th>Gender</th>\n",
       "      <th>Occupation</th>\n",
       "      <th>Marital_Status</th>\n",
       "      <th>Family_Size</th>\n",
       "      <th>Income</th>\n",
       "      <th>Expenditure</th>\n",
       "      <th>Use_Frequency</th>\n",
       "      <th>Loan_Category</th>\n",
       "      <th>Loan_Amount</th>\n",
       "      <th>Overdue</th>\n",
       "      <th>Debt_Record</th>\n",
       "      <th>Returned_Cheque</th>\n",
       "      <th>Dishonour_of_Bill</th>\n",
       "    </tr>\n",
       "  </thead>\n",
       "  <tbody>\n",
       "    <tr>\n",
       "      <th>0</th>\n",
       "      <td>ib14001</td>\n",
       "      <td>30</td>\n",
       "      <td>male</td>\n",
       "      <td>bank manager</td>\n",
       "      <td>single</td>\n",
       "      <td>4</td>\n",
       "      <td>50000.0</td>\n",
       "      <td>22199.0</td>\n",
       "      <td>6</td>\n",
       "      <td>housing</td>\n",
       "      <td>1000000.0</td>\n",
       "      <td>5</td>\n",
       "      <td>42898.0</td>\n",
       "      <td>6</td>\n",
       "      <td>9</td>\n",
       "    </tr>\n",
       "    <tr>\n",
       "      <th>1</th>\n",
       "      <td>ib14008</td>\n",
       "      <td>44</td>\n",
       "      <td>male</td>\n",
       "      <td>professor</td>\n",
       "      <td>married</td>\n",
       "      <td>6</td>\n",
       "      <td>51000.0</td>\n",
       "      <td>19999.0</td>\n",
       "      <td>4</td>\n",
       "      <td>shopping</td>\n",
       "      <td>50000.0</td>\n",
       "      <td>3</td>\n",
       "      <td>33999.0</td>\n",
       "      <td>1</td>\n",
       "      <td>5</td>\n",
       "    </tr>\n",
       "    <tr>\n",
       "      <th>2</th>\n",
       "      <td>ib14012</td>\n",
       "      <td>30</td>\n",
       "      <td>female</td>\n",
       "      <td>dentist</td>\n",
       "      <td>single</td>\n",
       "      <td>3</td>\n",
       "      <td>58450.0</td>\n",
       "      <td>27675.0</td>\n",
       "      <td>5</td>\n",
       "      <td>travelling</td>\n",
       "      <td>75000.0</td>\n",
       "      <td>6</td>\n",
       "      <td>20876.0</td>\n",
       "      <td>3</td>\n",
       "      <td>1</td>\n",
       "    </tr>\n",
       "    <tr>\n",
       "      <th>3</th>\n",
       "      <td>ib14018</td>\n",
       "      <td>29</td>\n",
       "      <td>male</td>\n",
       "      <td>teacher</td>\n",
       "      <td>married</td>\n",
       "      <td>5</td>\n",
       "      <td>45767.0</td>\n",
       "      <td>12787.0</td>\n",
       "      <td>3</td>\n",
       "      <td>gold loan</td>\n",
       "      <td>600000.0</td>\n",
       "      <td>7</td>\n",
       "      <td>11000.0</td>\n",
       "      <td>0</td>\n",
       "      <td>4</td>\n",
       "    </tr>\n",
       "    <tr>\n",
       "      <th>4</th>\n",
       "      <td>ib14022</td>\n",
       "      <td>34</td>\n",
       "      <td>male</td>\n",
       "      <td>police</td>\n",
       "      <td>single</td>\n",
       "      <td>4</td>\n",
       "      <td>43521.0</td>\n",
       "      <td>11999.0</td>\n",
       "      <td>3</td>\n",
       "      <td>automobile</td>\n",
       "      <td>200000.0</td>\n",
       "      <td>2</td>\n",
       "      <td>43898.0</td>\n",
       "      <td>1</td>\n",
       "      <td>2</td>\n",
       "    </tr>\n",
       "    <tr>\n",
       "      <th>...</th>\n",
       "      <td>...</td>\n",
       "      <td>...</td>\n",
       "      <td>...</td>\n",
       "      <td>...</td>\n",
       "      <td>...</td>\n",
       "      <td>...</td>\n",
       "      <td>...</td>\n",
       "      <td>...</td>\n",
       "      <td>...</td>\n",
       "      <td>...</td>\n",
       "      <td>...</td>\n",
       "      <td>...</td>\n",
       "      <td>...</td>\n",
       "      <td>...</td>\n",
       "      <td>...</td>\n",
       "    </tr>\n",
       "    <tr>\n",
       "      <th>495</th>\n",
       "      <td>ib15097</td>\n",
       "      <td>32</td>\n",
       "      <td>female</td>\n",
       "      <td>dietician</td>\n",
       "      <td>single</td>\n",
       "      <td>3</td>\n",
       "      <td>45060.0</td>\n",
       "      <td>24989.0</td>\n",
       "      <td>6</td>\n",
       "      <td>travelling</td>\n",
       "      <td>400085.0</td>\n",
       "      <td>6</td>\n",
       "      <td>41436.0</td>\n",
       "      <td>4</td>\n",
       "      <td>9</td>\n",
       "    </tr>\n",
       "    <tr>\n",
       "      <th>496</th>\n",
       "      <td>ib15099</td>\n",
       "      <td>45</td>\n",
       "      <td>male</td>\n",
       "      <td>driver</td>\n",
       "      <td>married</td>\n",
       "      <td>6</td>\n",
       "      <td>35838.0</td>\n",
       "      <td>19788.0</td>\n",
       "      <td>6</td>\n",
       "      <td>agriculture</td>\n",
       "      <td>1182282.0</td>\n",
       "      <td>6</td>\n",
       "      <td>37338.0</td>\n",
       "      <td>9</td>\n",
       "      <td>3</td>\n",
       "    </tr>\n",
       "    <tr>\n",
       "      <th>497</th>\n",
       "      <td>ib15102</td>\n",
       "      <td>50</td>\n",
       "      <td>female</td>\n",
       "      <td>technician</td>\n",
       "      <td>married</td>\n",
       "      <td>3</td>\n",
       "      <td>35938.0</td>\n",
       "      <td>21048.0</td>\n",
       "      <td>6</td>\n",
       "      <td>restaurants</td>\n",
       "      <td>330589.0</td>\n",
       "      <td>8</td>\n",
       "      <td>46120.0</td>\n",
       "      <td>4</td>\n",
       "      <td>8</td>\n",
       "    </tr>\n",
       "    <tr>\n",
       "      <th>498</th>\n",
       "      <td>ib15104</td>\n",
       "      <td>42</td>\n",
       "      <td>male</td>\n",
       "      <td>bank manager</td>\n",
       "      <td>married</td>\n",
       "      <td>4</td>\n",
       "      <td>NaN</td>\n",
       "      <td>48072.0</td>\n",
       "      <td>9</td>\n",
       "      <td>gold loan</td>\n",
       "      <td>729793.0</td>\n",
       "      <td>6</td>\n",
       "      <td>51976.0</td>\n",
       "      <td>2</td>\n",
       "      <td>4</td>\n",
       "    </tr>\n",
       "    <tr>\n",
       "      <th>499</th>\n",
       "      <td>ib15107</td>\n",
       "      <td>46</td>\n",
       "      <td>female</td>\n",
       "      <td>chartered appraiser</td>\n",
       "      <td>married</td>\n",
       "      <td>2</td>\n",
       "      <td>85088.0</td>\n",
       "      <td>44256.0</td>\n",
       "      <td>5</td>\n",
       "      <td>housing</td>\n",
       "      <td>347254.0</td>\n",
       "      <td>9</td>\n",
       "      <td>37966.0</td>\n",
       "      <td>1</td>\n",
       "      <td>5</td>\n",
       "    </tr>\n",
       "  </tbody>\n",
       "</table>\n",
       "<p>500 rows × 15 columns</p>\n",
       "</div>"
      ],
      "text/plain": [
       "    Customer_ID  Age  Gender           Occupation Marital_Status  Family_Size  \\\n",
       "0       ib14001   30    male         bank manager         single            4   \n",
       "1       ib14008   44    male            professor        married            6   \n",
       "2       ib14012   30  female              dentist         single            3   \n",
       "3       ib14018   29    male              teacher        married            5   \n",
       "4       ib14022   34    male               police         single            4   \n",
       "..          ...  ...     ...                  ...            ...          ...   \n",
       "495     ib15097   32  female            dietician         single            3   \n",
       "496     ib15099   45    male               driver        married            6   \n",
       "497     ib15102   50  female           technician        married            3   \n",
       "498     ib15104   42    male         bank manager        married            4   \n",
       "499     ib15107   46  female  chartered appraiser        married            2   \n",
       "\n",
       "      Income  Expenditure  Use_Frequency Loan_Category  Loan_Amount  Overdue  \\\n",
       "0    50000.0      22199.0              6       housing    1000000.0        5   \n",
       "1    51000.0      19999.0              4      shopping      50000.0        3   \n",
       "2    58450.0      27675.0              5    travelling      75000.0        6   \n",
       "3    45767.0      12787.0              3     gold loan     600000.0        7   \n",
       "4    43521.0      11999.0              3    automobile     200000.0        2   \n",
       "..       ...          ...            ...           ...          ...      ...   \n",
       "495  45060.0      24989.0              6    travelling     400085.0        6   \n",
       "496  35838.0      19788.0              6   agriculture    1182282.0        6   \n",
       "497  35938.0      21048.0              6   restaurants     330589.0        8   \n",
       "498      NaN      48072.0              9     gold loan     729793.0        6   \n",
       "499  85088.0      44256.0              5       housing     347254.0        9   \n",
       "\n",
       "     Debt_Record  Returned_Cheque  Dishonour_of_Bill  \n",
       "0        42898.0                6                  9  \n",
       "1        33999.0                1                  5  \n",
       "2        20876.0                3                  1  \n",
       "3        11000.0                0                  4  \n",
       "4        43898.0                1                  2  \n",
       "..           ...              ...                ...  \n",
       "495      41436.0                4                  9  \n",
       "496      37338.0                9                  3  \n",
       "497      46120.0                4                  8  \n",
       "498      51976.0                2                  4  \n",
       "499      37966.0                1                  5  \n",
       "\n",
       "[500 rows x 15 columns]"
      ]
     },
     "execution_count": 157,
     "metadata": {},
     "output_type": "execute_result"
    }
   ],
   "source": [
    "df.dropna(how = 'all')"
   ]
  },
  {
   "cell_type": "markdown",
   "id": "7bb1796e",
   "metadata": {},
   "source": [
    "To fill missing values in the Income and Expenditure fields, we may use the 20/10 rule of thumb, which implies that consumer debt should take up, at a maximum, 20% of the annual take-home income (Ref. https://www.thebalance.com/should-you-follow-the-20-10-rule-for-debt-management-4164476). Because we already have Loan Amount, we could get the Income value dividing Loan Amount by 0.20. Thus, we may replace all NA/null data from Income column with Loan_Amount. Because we already have Loan_Amount, we could get the Income value as follows: Loan Amount / 0.20."
   ]
  },
  {
   "cell_type": "code",
   "execution_count": 158,
   "id": "261bb1ba",
   "metadata": {},
   "outputs": [
    {
     "name": "stdout",
     "output_type": "stream",
     "text": [
      "<class 'pandas.core.frame.DataFrame'>\n",
      "RangeIndex: 500 entries, 0 to 499\n",
      "Data columns (total 15 columns):\n",
      " #   Column             Non-Null Count  Dtype  \n",
      "---  ------             --------------  -----  \n",
      " 0   Customer_ID        500 non-null    object \n",
      " 1   Age                500 non-null    int64  \n",
      " 2   Gender             500 non-null    object \n",
      " 3   Occupation         500 non-null    object \n",
      " 4   Marital_Status     500 non-null    object \n",
      " 5   Family_Size        500 non-null    int64  \n",
      " 6   Income             500 non-null    float64\n",
      " 7   Expenditure        481 non-null    float64\n",
      " 8   Use_Frequency      500 non-null    int64  \n",
      " 9   Loan_Category      500 non-null    object \n",
      " 10  Loan_Amount        500 non-null    float64\n",
      " 11  Overdue            500 non-null    int64  \n",
      " 12  Debt_Record        500 non-null    float64\n",
      " 13  Returned_Cheque    500 non-null    int64  \n",
      " 14  Dishonour_of_Bill  500 non-null    int64  \n",
      "dtypes: float64(4), int64(6), object(5)\n",
      "memory usage: 58.7+ KB\n"
     ]
    }
   ],
   "source": [
    "df['Income'] = df.apply(\n",
    "                lambda row: row['Loan_Amount']/0.20 if np.isnan(row['Income']) else row['Income'], axis=1)\n",
    "df.info() #To confirm updates"
   ]
  },
  {
   "cell_type": "markdown",
   "id": "dc7a06d5",
   "metadata": {},
   "source": [
    "To populate null values from Expenditure column, we calculate the **proportion between Expenditure and Income** from the\n",
    "data that we already have by calculating the overall mean of each field."
   ]
  },
  {
   "cell_type": "code",
   "execution_count": 159,
   "id": "16f9c1bd",
   "metadata": {},
   "outputs": [
    {
     "name": "stdout",
     "output_type": "stream",
     "text": [
      "239618.754\n",
      "27533.180873180874\n",
      "0.11490411503091646\n"
     ]
    }
   ],
   "source": [
    "avg_income = df['Income'].mean() #avg of Income column\n",
    "print(avg_income)\n",
    "avg_expenditure = df['Expenditure'].mean() #avg of Expenditure column \n",
    "print(avg_expenditure)\n",
    "\n",
    "proportion = avg_expenditure/avg_income\n",
    "print(proportion)"
   ]
  },
  {
   "cell_type": "markdown",
   "id": "960266f9",
   "metadata": {},
   "source": [
    "Based on the previous calculation, we populate null cells from Expenditure field, applying the proportion to the Income value in the same row where the Expenditure value is null. "
   ]
  },
  {
   "cell_type": "code",
   "execution_count": 160,
   "id": "c6604f42",
   "metadata": {},
   "outputs": [
    {
     "name": "stdout",
     "output_type": "stream",
     "text": [
      "<class 'pandas.core.frame.DataFrame'>\n",
      "RangeIndex: 500 entries, 0 to 499\n",
      "Data columns (total 15 columns):\n",
      " #   Column             Non-Null Count  Dtype  \n",
      "---  ------             --------------  -----  \n",
      " 0   Customer_ID        500 non-null    object \n",
      " 1   Age                500 non-null    int64  \n",
      " 2   Gender             500 non-null    object \n",
      " 3   Occupation         500 non-null    object \n",
      " 4   Marital_Status     500 non-null    object \n",
      " 5   Family_Size        500 non-null    int64  \n",
      " 6   Income             500 non-null    float64\n",
      " 7   Expenditure        500 non-null    float64\n",
      " 8   Use_Frequency      500 non-null    int64  \n",
      " 9   Loan_Category      500 non-null    object \n",
      " 10  Loan_Amount        500 non-null    float64\n",
      " 11  Overdue            500 non-null    int64  \n",
      " 12  Debt_Record        500 non-null    float64\n",
      " 13  Returned_Cheque    500 non-null    int64  \n",
      " 14  Dishonour_of_Bill  500 non-null    int64  \n",
      "dtypes: float64(4), int64(6), object(5)\n",
      "memory usage: 58.7+ KB\n"
     ]
    }
   ],
   "source": [
    "df['Expenditure'] = df.apply(\n",
    "                lambda row: row['Income']*proportion if np.isnan(row['Expenditure']) else row['Expenditure'], axis=1)\n",
    "df.info() #To confirm updates"
   ]
  },
  {
   "cell_type": "markdown",
   "id": "46cffc6c",
   "metadata": {},
   "source": [
    "Up to this point, we may **copy the data frame** regarding previous steps"
   ]
  },
  {
   "cell_type": "code",
   "execution_count": 161,
   "id": "ef53f748",
   "metadata": {},
   "outputs": [],
   "source": [
    "df1 = df.copy()"
   ]
  },
  {
   "cell_type": "markdown",
   "id": "9ef4c206",
   "metadata": {},
   "source": [
    "So far we don't need Customer_ID column. It may not influence on predicting Loan_Amount"
   ]
  },
  {
   "cell_type": "code",
   "execution_count": 162,
   "id": "3d197bd9",
   "metadata": {},
   "outputs": [],
   "source": [
    "df1.drop(['Customer_ID'], axis = 1, inplace = True)"
   ]
  },
  {
   "cell_type": "code",
   "execution_count": 163,
   "id": "79069d2c",
   "metadata": {},
   "outputs": [
    {
     "data": {
      "text/html": [
       "<div>\n",
       "<style scoped>\n",
       "    .dataframe tbody tr th:only-of-type {\n",
       "        vertical-align: middle;\n",
       "    }\n",
       "\n",
       "    .dataframe tbody tr th {\n",
       "        vertical-align: top;\n",
       "    }\n",
       "\n",
       "    .dataframe thead th {\n",
       "        text-align: right;\n",
       "    }\n",
       "</style>\n",
       "<table border=\"1\" class=\"dataframe\">\n",
       "  <thead>\n",
       "    <tr style=\"text-align: right;\">\n",
       "      <th></th>\n",
       "      <th>Age</th>\n",
       "      <th>Gender</th>\n",
       "      <th>Occupation</th>\n",
       "      <th>Marital_Status</th>\n",
       "      <th>Family_Size</th>\n",
       "      <th>Income</th>\n",
       "      <th>Expenditure</th>\n",
       "      <th>Use_Frequency</th>\n",
       "      <th>Loan_Category</th>\n",
       "      <th>Loan_Amount</th>\n",
       "      <th>Overdue</th>\n",
       "      <th>Debt_Record</th>\n",
       "      <th>Returned_Cheque</th>\n",
       "      <th>Dishonour_of_Bill</th>\n",
       "    </tr>\n",
       "  </thead>\n",
       "  <tbody>\n",
       "    <tr>\n",
       "      <th>0</th>\n",
       "      <td>30</td>\n",
       "      <td>male</td>\n",
       "      <td>bank manager</td>\n",
       "      <td>single</td>\n",
       "      <td>4</td>\n",
       "      <td>50000.0</td>\n",
       "      <td>22199.0</td>\n",
       "      <td>6</td>\n",
       "      <td>housing</td>\n",
       "      <td>1000000.0</td>\n",
       "      <td>5</td>\n",
       "      <td>42898.0</td>\n",
       "      <td>6</td>\n",
       "      <td>9</td>\n",
       "    </tr>\n",
       "    <tr>\n",
       "      <th>1</th>\n",
       "      <td>44</td>\n",
       "      <td>male</td>\n",
       "      <td>professor</td>\n",
       "      <td>married</td>\n",
       "      <td>6</td>\n",
       "      <td>51000.0</td>\n",
       "      <td>19999.0</td>\n",
       "      <td>4</td>\n",
       "      <td>shopping</td>\n",
       "      <td>50000.0</td>\n",
       "      <td>3</td>\n",
       "      <td>33999.0</td>\n",
       "      <td>1</td>\n",
       "      <td>5</td>\n",
       "    </tr>\n",
       "    <tr>\n",
       "      <th>2</th>\n",
       "      <td>30</td>\n",
       "      <td>female</td>\n",
       "      <td>dentist</td>\n",
       "      <td>single</td>\n",
       "      <td>3</td>\n",
       "      <td>58450.0</td>\n",
       "      <td>27675.0</td>\n",
       "      <td>5</td>\n",
       "      <td>travelling</td>\n",
       "      <td>75000.0</td>\n",
       "      <td>6</td>\n",
       "      <td>20876.0</td>\n",
       "      <td>3</td>\n",
       "      <td>1</td>\n",
       "    </tr>\n",
       "  </tbody>\n",
       "</table>\n",
       "</div>"
      ],
      "text/plain": [
       "   Age  Gender    Occupation Marital_Status  Family_Size   Income  \\\n",
       "0   30    male  bank manager         single            4  50000.0   \n",
       "1   44    male     professor        married            6  51000.0   \n",
       "2   30  female       dentist         single            3  58450.0   \n",
       "\n",
       "   Expenditure  Use_Frequency Loan_Category  Loan_Amount  Overdue  \\\n",
       "0      22199.0              6       housing    1000000.0        5   \n",
       "1      19999.0              4      shopping      50000.0        3   \n",
       "2      27675.0              5    travelling      75000.0        6   \n",
       "\n",
       "   Debt_Record  Returned_Cheque  Dishonour_of_Bill  \n",
       "0      42898.0                6                  9  \n",
       "1      33999.0                1                  5  \n",
       "2      20876.0                3                  1  "
      ]
     },
     "execution_count": 163,
     "metadata": {},
     "output_type": "execute_result"
    }
   ],
   "source": [
    "df1.head(3)"
   ]
  },
  {
   "cell_type": "markdown",
   "id": "7b232ec0",
   "metadata": {},
   "source": [
    "#### 3.2.2 Reduce the number of unique values in some columns"
   ]
  },
  {
   "cell_type": "markdown",
   "id": "5b7287f6",
   "metadata": {},
   "source": [
    "**Occupation field**"
   ]
  },
  {
   "cell_type": "code",
   "execution_count": 164,
   "id": "e8aaccbe",
   "metadata": {},
   "outputs": [
    {
     "data": {
      "text/plain": [
       "array(['bank manager', 'professor', 'dentist', 'teacher', 'police',\n",
       "       'nurse', 'system manager', 'software engineer', 'data analyst',\n",
       "       'product engineer', 'account manager', 'assistant professor',\n",
       "       'doctor', 'store keeper', 'civil engineer', 'airport officer',\n",
       "       'clerk', 'public works', 'fire department', 'electrician',\n",
       "       'technician', 'system engineer', 'manager', 'driver',\n",
       "       'corporate officer', 'assistant manager', 'system officer',\n",
       "       'pilot', 'navy', 'business', 'chartered appraiser', 'farmer',\n",
       "       'dietician', 'accountant', 'agricultural engineer', 'army',\n",
       "       'data engineer', 'executive', 'nutrition'], dtype=object)"
      ]
     },
     "execution_count": 164,
     "metadata": {},
     "output_type": "execute_result"
    }
   ],
   "source": [
    "df1.Occupation.unique()"
   ]
  },
  {
   "cell_type": "code",
   "execution_count": 165,
   "id": "1cf3e3f4",
   "metadata": {},
   "outputs": [
    {
     "data": {
      "text/plain": [
       "teacher                  63\n",
       "software engineer        35\n",
       "doctor                   29\n",
       "bank manager             28\n",
       "clerk                    26\n",
       "product engineer         21\n",
       "driver                   18\n",
       "police                   18\n",
       "navy                     16\n",
       "business                 16\n",
       "airport officer          15\n",
       "pilot                    15\n",
       "dietician                13\n",
       "fire department          12\n",
       "technician               12\n",
       "account manager          11\n",
       "chartered appraiser      11\n",
       "nurse                    11\n",
       "system manager           10\n",
       "dentist                  10\n",
       "assistant professor       9\n",
       "agricultural engineer     8\n",
       "electrician               8\n",
       "professor                 8\n",
       "data analyst              8\n",
       "farmer                    7\n",
       "accountant                7\n",
       "data engineer             7\n",
       "executive                 7\n",
       "assistant manager         6\n",
       "public works              6\n",
       "civil engineer            6\n",
       "store keeper              5\n",
       "army                      5\n",
       "system officer            4\n",
       "corporate officer         3\n",
       "system engineer           3\n",
       "manager                   2\n",
       "nutrition                 1\n",
       "Name: Occupation, dtype: int64"
      ]
     },
     "execution_count": 165,
     "metadata": {},
     "output_type": "execute_result"
    }
   ],
   "source": [
    "df1.Occupation.value_counts()"
   ]
  },
  {
   "cell_type": "code",
   "execution_count": 166,
   "id": "f0e2544a",
   "metadata": {},
   "outputs": [],
   "source": [
    "#business, finance, administration, clerical occupations\n",
    "df1.loc[df1.Occupation.str.contains('(?i)clerk|business|accountant|executive|assistant manager|corporate officer'),\n",
    "        'Occupation'] = 'administration'\n",
    "\n",
    "#management occupations\n",
    "df1.loc[df1.Occupation.str.contains('(?i)manager'),'Occupation'] = 'management'\n",
    "\n",
    "#occupations in education\n",
    "df1.loc[df1.Occupation.str.contains('(?i)teacher|assistant professor|professor'), 'Occupation'] = 'education'\n",
    "\n",
    "#health occupations\n",
    "df1.loc[df1.Occupation.str.contains('(?i)doctor|dietician|nurse|dentist|nutrition'), 'Occupation'] = 'health'\n",
    "\n",
    "#professional and technical occupations in the sciences (engineering, IT, etc.)\n",
    "df1.loc[df1.Occupation.str.contains('(?i)engineer'), 'Occupation'] = 'engineering'\n",
    "df1.loc[df1.Occupation.str.contains('(?i)data analyst|system officer|electrician|technician'), 'Occupation'] = 'engineering'\n",
    "\n",
    "#public, social, and other community services\n",
    "df1.loc[df1.Occupation.str.contains(\n",
    "    '(?i)driver|police|navy|airport officer|pilot|fire department|chartered appraiser|farmer|public works|store keeper|army'), \n",
    "        'Occupation'] = 'communityserv'"
   ]
  },
  {
   "cell_type": "code",
   "execution_count": 167,
   "id": "944f5873",
   "metadata": {},
   "outputs": [
    {
     "data": {
      "text/plain": [
       "communityserv     128\n",
       "engineering       112\n",
       "education          80\n",
       "administration     65\n",
       "health             64\n",
       "management         51\n",
       "Name: Occupation, dtype: int64"
      ]
     },
     "execution_count": 167,
     "metadata": {},
     "output_type": "execute_result"
    }
   ],
   "source": [
    "df1.Occupation.value_counts()"
   ]
  },
  {
   "cell_type": "markdown",
   "id": "69ca4d12",
   "metadata": {},
   "source": [
    "**Loan_Category field**"
   ]
  },
  {
   "cell_type": "code",
   "execution_count": 168,
   "id": "9bd396c7",
   "metadata": {},
   "outputs": [
    {
     "data": {
      "text/plain": [
       "array(['housing', 'shopping', 'travelling', 'gold loan', 'automobile',\n",
       "       'restaurants', 'computer softwares', 'educational loan',\n",
       "       'book stores', 'building', 'electronics', 'home appliances',\n",
       "       'dinning', 'business', 'restaurant', 'agriculture'], dtype=object)"
      ]
     },
     "execution_count": 168,
     "metadata": {},
     "output_type": "execute_result"
    }
   ],
   "source": [
    "df1.Loan_Category.unique()"
   ]
  },
  {
   "cell_type": "code",
   "execution_count": 169,
   "id": "92828044",
   "metadata": {},
   "outputs": [
    {
     "data": {
      "text/plain": [
       "gold loan             77\n",
       "housing               67\n",
       "automobile            60\n",
       "travelling            53\n",
       "restaurants           41\n",
       "shopping              35\n",
       "computer softwares    35\n",
       "business              24\n",
       "educational loan      20\n",
       "restaurant            20\n",
       "electronics           14\n",
       "home appliances       14\n",
       "dinning               14\n",
       "agriculture           12\n",
       "book stores            7\n",
       "building               7\n",
       "Name: Loan_Category, dtype: int64"
      ]
     },
     "execution_count": 169,
     "metadata": {},
     "output_type": "execute_result"
    }
   ],
   "source": [
    "df1.Loan_Category.value_counts()"
   ]
  },
  {
   "cell_type": "code",
   "execution_count": 170,
   "id": "6aedc430",
   "metadata": {},
   "outputs": [],
   "source": [
    "#small business loans for restaurants. Banks usually treat different this kind of business, probably because of the cash flow\n",
    "df1.loc[df1.Loan_Category.str.contains('(?i)restaurant|dinning'),'Loan_Category'] = 'restaurants'\n",
    "\n",
    "#short-term loans for other types of business including agriculture and building\n",
    "df1.loc[df1.Loan_Category.str.contains('(?i)agriculture|book stores|building|business'),'Loan_Category'] = 'other_business'\n",
    "\n",
    "#personal loans for shopping: home renovations and to get pricey electronics \n",
    "df1.loc[df1.Loan_Category.str.contains('(?i)appliances|electronics|shopping|computer softwares'),'Loan_Category'] = 'shopping'\n",
    "\n",
    "#Student loans are meant to pay for tuition, fees and living expenses at accredited schools\n",
    "df1.loc[df1.Loan_Category.str.contains('(?i)educational'),'Loan_Category'] = 'educational_loan'\n",
    " \n",
    "#Loan against gold jewellery, including pawnshop loans\n",
    "df1.loc[df1.Loan_Category.str.contains('(?i)gold'),'Loan_Category'] = 'gold_loan'"
   ]
  },
  {
   "cell_type": "code",
   "execution_count": 171,
   "id": "33672d90",
   "metadata": {},
   "outputs": [
    {
     "data": {
      "text/plain": [
       "shopping            98\n",
       "gold_loan           77\n",
       "restaurants         75\n",
       "housing             67\n",
       "automobile          60\n",
       "travelling          53\n",
       "other_business      50\n",
       "educational_loan    20\n",
       "Name: Loan_Category, dtype: int64"
      ]
     },
     "execution_count": 171,
     "metadata": {},
     "output_type": "execute_result"
    }
   ],
   "source": [
    "df1.Loan_Category.value_counts()"
   ]
  },
  {
   "cell_type": "markdown",
   "id": "61534ea5",
   "metadata": {},
   "source": [
    "    - We don't need to drop or merge any other column "
   ]
  },
  {
   "cell_type": "markdown",
   "id": "a717b06c",
   "metadata": {},
   "source": [
    "### 3.4 Save the cleaned dataset"
   ]
  },
  {
   "cell_type": "markdown",
   "id": "4691ef49",
   "metadata": {},
   "source": [
    "**We may use the drop parameter to avoid the old index being added as a column**"
   ]
  },
  {
   "cell_type": "code",
   "execution_count": 172,
   "id": "d12bf66d",
   "metadata": {},
   "outputs": [
    {
     "data": {
      "text/html": [
       "<div>\n",
       "<style scoped>\n",
       "    .dataframe tbody tr th:only-of-type {\n",
       "        vertical-align: middle;\n",
       "    }\n",
       "\n",
       "    .dataframe tbody tr th {\n",
       "        vertical-align: top;\n",
       "    }\n",
       "\n",
       "    .dataframe thead th {\n",
       "        text-align: right;\n",
       "    }\n",
       "</style>\n",
       "<table border=\"1\" class=\"dataframe\">\n",
       "  <thead>\n",
       "    <tr style=\"text-align: right;\">\n",
       "      <th></th>\n",
       "      <th>Age</th>\n",
       "      <th>Gender</th>\n",
       "      <th>Occupation</th>\n",
       "      <th>Marital_Status</th>\n",
       "      <th>Family_Size</th>\n",
       "      <th>Income</th>\n",
       "      <th>Expenditure</th>\n",
       "      <th>Use_Frequency</th>\n",
       "      <th>Loan_Category</th>\n",
       "      <th>Loan_Amount</th>\n",
       "      <th>Overdue</th>\n",
       "      <th>Debt_Record</th>\n",
       "      <th>Returned_Cheque</th>\n",
       "      <th>Dishonour_of_Bill</th>\n",
       "    </tr>\n",
       "  </thead>\n",
       "  <tbody>\n",
       "    <tr>\n",
       "      <th>0</th>\n",
       "      <td>30</td>\n",
       "      <td>male</td>\n",
       "      <td>management</td>\n",
       "      <td>single</td>\n",
       "      <td>4</td>\n",
       "      <td>50000.0</td>\n",
       "      <td>22199.0</td>\n",
       "      <td>6</td>\n",
       "      <td>housing</td>\n",
       "      <td>1000000.0</td>\n",
       "      <td>5</td>\n",
       "      <td>42898.0</td>\n",
       "      <td>6</td>\n",
       "      <td>9</td>\n",
       "    </tr>\n",
       "    <tr>\n",
       "      <th>1</th>\n",
       "      <td>44</td>\n",
       "      <td>male</td>\n",
       "      <td>education</td>\n",
       "      <td>married</td>\n",
       "      <td>6</td>\n",
       "      <td>51000.0</td>\n",
       "      <td>19999.0</td>\n",
       "      <td>4</td>\n",
       "      <td>shopping</td>\n",
       "      <td>50000.0</td>\n",
       "      <td>3</td>\n",
       "      <td>33999.0</td>\n",
       "      <td>1</td>\n",
       "      <td>5</td>\n",
       "    </tr>\n",
       "    <tr>\n",
       "      <th>2</th>\n",
       "      <td>30</td>\n",
       "      <td>female</td>\n",
       "      <td>health</td>\n",
       "      <td>single</td>\n",
       "      <td>3</td>\n",
       "      <td>58450.0</td>\n",
       "      <td>27675.0</td>\n",
       "      <td>5</td>\n",
       "      <td>travelling</td>\n",
       "      <td>75000.0</td>\n",
       "      <td>6</td>\n",
       "      <td>20876.0</td>\n",
       "      <td>3</td>\n",
       "      <td>1</td>\n",
       "    </tr>\n",
       "  </tbody>\n",
       "</table>\n",
       "</div>"
      ],
      "text/plain": [
       "   Age  Gender  Occupation Marital_Status  Family_Size   Income  Expenditure  \\\n",
       "0   30    male  management         single            4  50000.0      22199.0   \n",
       "1   44    male   education        married            6  51000.0      19999.0   \n",
       "2   30  female      health         single            3  58450.0      27675.0   \n",
       "\n",
       "   Use_Frequency Loan_Category  Loan_Amount  Overdue  Debt_Record  \\\n",
       "0              6       housing    1000000.0        5      42898.0   \n",
       "1              4      shopping      50000.0        3      33999.0   \n",
       "2              5    travelling      75000.0        6      20876.0   \n",
       "\n",
       "   Returned_Cheque  Dishonour_of_Bill  \n",
       "0                6                  9  \n",
       "1                1                  5  \n",
       "2                3                  1  "
      ]
     },
     "execution_count": 172,
     "metadata": {},
     "output_type": "execute_result"
    }
   ],
   "source": [
    "df1.reset_index(drop = True, inplace = True) \n",
    "df1.head(3)"
   ]
  },
  {
   "cell_type": "code",
   "execution_count": 173,
   "id": "0458d8bf",
   "metadata": {},
   "outputs": [
    {
     "name": "stdout",
     "output_type": "stream",
     "text": [
      "Write CSV:\n",
      "      Age  Gender     Occupation Marital_Status  Family_Size     Income  \\\n",
      "0     30    male     management         single            4    50000.0   \n",
      "1     44    male      education        married            6    51000.0   \n",
      "2     30  female         health         single            3    58450.0   \n",
      "3     29    male      education        married            5    45767.0   \n",
      "4     34    male  communityserv         single            4    43521.0   \n",
      "..   ...     ...            ...            ...          ...        ...   \n",
      "495   32  female         health         single            3    45060.0   \n",
      "496   45    male  communityserv        married            6    35838.0   \n",
      "497   50  female    engineering        married            3    35938.0   \n",
      "498   42    male     management        married            4  3648965.0   \n",
      "499   46  female  communityserv        married            2    85088.0   \n",
      "\n",
      "     Expenditure  Use_Frequency   Loan_Category  Loan_Amount  Overdue  \\\n",
      "0        22199.0              6         housing    1000000.0        5   \n",
      "1        19999.0              4        shopping      50000.0        3   \n",
      "2        27675.0              5      travelling      75000.0        6   \n",
      "3        12787.0              3       gold_loan     600000.0        7   \n",
      "4        11999.0              3      automobile     200000.0        2   \n",
      "..           ...            ...             ...          ...      ...   \n",
      "495      24989.0              6      travelling     400085.0        6   \n",
      "496      19788.0              6  other_business    1182282.0        6   \n",
      "497      21048.0              6     restaurants     330589.0        8   \n",
      "498      48072.0              9       gold_loan     729793.0        6   \n",
      "499      44256.0              5         housing     347254.0        9   \n",
      "\n",
      "     Debt_Record  Returned_Cheque  Dishonour_of_Bill  \n",
      "0        42898.0                6                  9  \n",
      "1        33999.0                1                  5  \n",
      "2        20876.0                3                  1  \n",
      "3        11000.0                0                  4  \n",
      "4        43898.0                1                  2  \n",
      "..           ...              ...                ...  \n",
      "495      41436.0                4                  9  \n",
      "496      37338.0                9                  3  \n",
      "497      46120.0                4                  8  \n",
      "498      51976.0                2                  4  \n",
      "499      37966.0                1                  5  \n",
      "\n",
      "[500 rows x 14 columns]\n"
     ]
    }
   ],
   "source": [
    "df1.to_csv('df_cleaned.csv', index = False)\n",
    "print(\"Write CSV:\\n\",df1)"
   ]
  },
  {
   "cell_type": "markdown",
   "id": "d3691399",
   "metadata": {},
   "source": [
    "## 4. EDA. \n",
    "\n",
    "## Discover and visualize the data to gain insights"
   ]
  },
  {
   "cell_type": "markdown",
   "id": "afedf32f",
   "metadata": {},
   "source": [
    "### 4.1 Analyze the statistics"
   ]
  },
  {
   "cell_type": "code",
   "execution_count": 174,
   "id": "755802af",
   "metadata": {},
   "outputs": [
    {
     "data": {
      "text/html": [
       "<div>\n",
       "<style scoped>\n",
       "    .dataframe tbody tr th:only-of-type {\n",
       "        vertical-align: middle;\n",
       "    }\n",
       "\n",
       "    .dataframe tbody tr th {\n",
       "        vertical-align: top;\n",
       "    }\n",
       "\n",
       "    .dataframe thead th {\n",
       "        text-align: right;\n",
       "    }\n",
       "</style>\n",
       "<table border=\"1\" class=\"dataframe\">\n",
       "  <thead>\n",
       "    <tr style=\"text-align: right;\">\n",
       "      <th></th>\n",
       "      <th>Age</th>\n",
       "      <th>Family_Size</th>\n",
       "      <th>Income</th>\n",
       "      <th>Expenditure</th>\n",
       "      <th>Use_Frequency</th>\n",
       "      <th>Loan_Amount</th>\n",
       "      <th>Overdue</th>\n",
       "      <th>Debt_Record</th>\n",
       "      <th>Returned_Cheque</th>\n",
       "      <th>Dishonour_of_Bill</th>\n",
       "    </tr>\n",
       "  </thead>\n",
       "  <tbody>\n",
       "    <tr>\n",
       "      <th>count</th>\n",
       "      <td>500.00</td>\n",
       "      <td>500.00</td>\n",
       "      <td>500.00</td>\n",
       "      <td>500.00</td>\n",
       "      <td>500.00</td>\n",
       "      <td>500.00</td>\n",
       "      <td>500.00</td>\n",
       "      <td>500.00</td>\n",
       "      <td>500.00</td>\n",
       "      <td>500.00</td>\n",
       "    </tr>\n",
       "    <tr>\n",
       "      <th>mean</th>\n",
       "      <td>40.95</td>\n",
       "      <td>4.55</td>\n",
       "      <td>239,618.75</td>\n",
       "      <td>26,731.05</td>\n",
       "      <td>5.33</td>\n",
       "      <td>797,052.90</td>\n",
       "      <td>4.97</td>\n",
       "      <td>39,759.40</td>\n",
       "      <td>4.12</td>\n",
       "      <td>4.31</td>\n",
       "    </tr>\n",
       "    <tr>\n",
       "      <th>std</th>\n",
       "      <td>10.19</td>\n",
       "      <td>1.54</td>\n",
       "      <td>896,354.16</td>\n",
       "      <td>10,803.56</td>\n",
       "      <td>2.05</td>\n",
       "      <td>693,618.86</td>\n",
       "      <td>2.49</td>\n",
       "      <td>23,721.28</td>\n",
       "      <td>2.78</td>\n",
       "      <td>2.62</td>\n",
       "    </tr>\n",
       "    <tr>\n",
       "      <th>min</th>\n",
       "      <td>21.00</td>\n",
       "      <td>2.00</td>\n",
       "      <td>28,366.00</td>\n",
       "      <td>3,447.12</td>\n",
       "      <td>2.00</td>\n",
       "      <td>15,350.00</td>\n",
       "      <td>1.00</td>\n",
       "      <td>0.00</td>\n",
       "      <td>0.00</td>\n",
       "      <td>0.00</td>\n",
       "    </tr>\n",
       "    <tr>\n",
       "      <th>5%</th>\n",
       "      <td>25.00</td>\n",
       "      <td>2.00</td>\n",
       "      <td>34,830.25</td>\n",
       "      <td>11,999.00</td>\n",
       "      <td>2.00</td>\n",
       "      <td>60,676.00</td>\n",
       "      <td>1.00</td>\n",
       "      <td>8,885.00</td>\n",
       "      <td>0.00</td>\n",
       "      <td>0.00</td>\n",
       "    </tr>\n",
       "    <tr>\n",
       "      <th>25%</th>\n",
       "      <td>32.00</td>\n",
       "      <td>3.00</td>\n",
       "      <td>45,590.50</td>\n",
       "      <td>19,300.50</td>\n",
       "      <td>4.00</td>\n",
       "      <td>399,435.00</td>\n",
       "      <td>3.00</td>\n",
       "      <td>19,981.00</td>\n",
       "      <td>2.00</td>\n",
       "      <td>2.00</td>\n",
       "    </tr>\n",
       "    <tr>\n",
       "      <th>50%</th>\n",
       "      <td>41.50</td>\n",
       "      <td>5.00</td>\n",
       "      <td>57,723.00</td>\n",
       "      <td>25,312.00</td>\n",
       "      <td>5.00</td>\n",
       "      <td>704,820.00</td>\n",
       "      <td>5.00</td>\n",
       "      <td>35,619.00</td>\n",
       "      <td>4.00</td>\n",
       "      <td>4.00</td>\n",
       "    </tr>\n",
       "    <tr>\n",
       "      <th>75%</th>\n",
       "      <td>50.00</td>\n",
       "      <td>6.00</td>\n",
       "      <td>76,616.75</td>\n",
       "      <td>32,617.00</td>\n",
       "      <td>7.00</td>\n",
       "      <td>1,042,400.00</td>\n",
       "      <td>7.00</td>\n",
       "      <td>57,206.00</td>\n",
       "      <td>6.00</td>\n",
       "      <td>6.00</td>\n",
       "    </tr>\n",
       "    <tr>\n",
       "      <th>95%</th>\n",
       "      <td>56.05</td>\n",
       "      <td>7.00</td>\n",
       "      <td>520,716.00</td>\n",
       "      <td>46,686.05</td>\n",
       "      <td>9.00</td>\n",
       "      <td>1,694,414.95</td>\n",
       "      <td>9.00</td>\n",
       "      <td>84,100.25</td>\n",
       "      <td>9.00</td>\n",
       "      <td>9.00</td>\n",
       "    </tr>\n",
       "    <tr>\n",
       "      <th>max</th>\n",
       "      <td>60.00</td>\n",
       "      <td>7.00</td>\n",
       "      <td>8,457,255.00</td>\n",
       "      <td>62,541.00</td>\n",
       "      <td>9.00</td>\n",
       "      <td>7,541,236.00</td>\n",
       "      <td>9.00</td>\n",
       "      <td>90,000.00</td>\n",
       "      <td>9.00</td>\n",
       "      <td>10.00</td>\n",
       "    </tr>\n",
       "  </tbody>\n",
       "</table>\n",
       "</div>"
      ],
      "text/plain": [
       "          Age Family_Size        Income Expenditure Use_Frequency  \\\n",
       "count  500.00      500.00        500.00      500.00        500.00   \n",
       "mean    40.95        4.55    239,618.75   26,731.05          5.33   \n",
       "std     10.19        1.54    896,354.16   10,803.56          2.05   \n",
       "min     21.00        2.00     28,366.00    3,447.12          2.00   \n",
       "5%      25.00        2.00     34,830.25   11,999.00          2.00   \n",
       "25%     32.00        3.00     45,590.50   19,300.50          4.00   \n",
       "50%     41.50        5.00     57,723.00   25,312.00          5.00   \n",
       "75%     50.00        6.00     76,616.75   32,617.00          7.00   \n",
       "95%     56.05        7.00    520,716.00   46,686.05          9.00   \n",
       "max     60.00        7.00  8,457,255.00   62,541.00          9.00   \n",
       "\n",
       "        Loan_Amount Overdue Debt_Record Returned_Cheque Dishonour_of_Bill  \n",
       "count        500.00  500.00      500.00          500.00            500.00  \n",
       "mean     797,052.90    4.97   39,759.40            4.12              4.31  \n",
       "std      693,618.86    2.49   23,721.28            2.78              2.62  \n",
       "min       15,350.00    1.00        0.00            0.00              0.00  \n",
       "5%        60,676.00    1.00    8,885.00            0.00              0.00  \n",
       "25%      399,435.00    3.00   19,981.00            2.00              2.00  \n",
       "50%      704,820.00    5.00   35,619.00            4.00              4.00  \n",
       "75%    1,042,400.00    7.00   57,206.00            6.00              6.00  \n",
       "95%    1,694,414.95    9.00   84,100.25            9.00              9.00  \n",
       "max    7,541,236.00    9.00   90,000.00            9.00             10.00  "
      ]
     },
     "execution_count": 174,
     "metadata": {},
     "output_type": "execute_result"
    }
   ],
   "source": [
    "df1.describe(percentiles=[0.05, 0.25, 0.50, 0.75, 0.95]).applymap('{:,.2f}'.format)"
   ]
  },
  {
   "cell_type": "markdown",
   "id": "f1769bf6",
   "metadata": {},
   "source": [
    "Average Loan Amount: 797,053. We may consider percentiles to remove outliers later on"
   ]
  },
  {
   "cell_type": "markdown",
   "id": "42daa8f5",
   "metadata": {},
   "source": [
    "### 4.2 Correlation matrix"
   ]
  },
  {
   "cell_type": "code",
   "execution_count": 175,
   "id": "cfc976fc",
   "metadata": {},
   "outputs": [
    {
     "data": {
      "text/html": [
       "<style type=\"text/css\">\n",
       "#T_7489e_row0_col0, #T_7489e_row1_col1, #T_7489e_row2_col2, #T_7489e_row3_col3, #T_7489e_row4_col4, #T_7489e_row5_col5, #T_7489e_row6_col6, #T_7489e_row7_col7, #T_7489e_row8_col8, #T_7489e_row9_col9 {\n",
       "  background-color: #b40426;\n",
       "  color: #f1f1f1;\n",
       "}\n",
       "#T_7489e_row0_col1, #T_7489e_row5_col3 {\n",
       "  background-color: #6c8ff1;\n",
       "  color: #f1f1f1;\n",
       "}\n",
       "#T_7489e_row0_col2 {\n",
       "  background-color: #4a63d3;\n",
       "  color: #f1f1f1;\n",
       "}\n",
       "#T_7489e_row0_col3 {\n",
       "  background-color: #4f69d9;\n",
       "  color: #f1f1f1;\n",
       "}\n",
       "#T_7489e_row0_col4, #T_7489e_row0_col6, #T_7489e_row0_col7, #T_7489e_row1_col5, #T_7489e_row1_col9, #T_7489e_row4_col8, #T_7489e_row6_col0, #T_7489e_row6_col1, #T_7489e_row8_col3, #T_7489e_row9_col2, #T_7489e_row9_col3, #T_7489e_row9_col5 {\n",
       "  background-color: #3b4cc0;\n",
       "  color: #f1f1f1;\n",
       "}\n",
       "#T_7489e_row0_col5, #T_7489e_row5_col2, #T_7489e_row6_col5 {\n",
       "  background-color: #5a78e4;\n",
       "  color: #f1f1f1;\n",
       "}\n",
       "#T_7489e_row0_col8 {\n",
       "  background-color: #6384eb;\n",
       "  color: #f1f1f1;\n",
       "}\n",
       "#T_7489e_row0_col9, #T_7489e_row6_col3 {\n",
       "  background-color: #506bda;\n",
       "  color: #f1f1f1;\n",
       "}\n",
       "#T_7489e_row1_col0 {\n",
       "  background-color: #6f92f3;\n",
       "  color: #f1f1f1;\n",
       "}\n",
       "#T_7489e_row1_col2, #T_7489e_row2_col9, #T_7489e_row7_col1 {\n",
       "  background-color: #4358cb;\n",
       "  color: #f1f1f1;\n",
       "}\n",
       "#T_7489e_row1_col3, #T_7489e_row2_col8, #T_7489e_row8_col5 {\n",
       "  background-color: #4c66d6;\n",
       "  color: #f1f1f1;\n",
       "}\n",
       "#T_7489e_row1_col4, #T_7489e_row2_col6, #T_7489e_row4_col9, #T_7489e_row5_col0, #T_7489e_row5_col6, #T_7489e_row7_col6 {\n",
       "  background-color: #6a8bef;\n",
       "  color: #f1f1f1;\n",
       "}\n",
       "#T_7489e_row1_col6, #T_7489e_row6_col8 {\n",
       "  background-color: #3d50c3;\n",
       "  color: #f1f1f1;\n",
       "}\n",
       "#T_7489e_row1_col7, #T_7489e_row8_col4 {\n",
       "  background-color: #3c4ec2;\n",
       "  color: #f1f1f1;\n",
       "}\n",
       "#T_7489e_row1_col8, #T_7489e_row7_col5, #T_7489e_row9_col4 {\n",
       "  background-color: #688aef;\n",
       "  color: #f1f1f1;\n",
       "}\n",
       "#T_7489e_row2_col0, #T_7489e_row2_col5 {\n",
       "  background-color: #5e7de7;\n",
       "  color: #f1f1f1;\n",
       "}\n",
       "#T_7489e_row2_col1, #T_7489e_row7_col2 {\n",
       "  background-color: #536edd;\n",
       "  color: #f1f1f1;\n",
       "}\n",
       "#T_7489e_row2_col3, #T_7489e_row3_col9, #T_7489e_row7_col0, #T_7489e_row7_col8 {\n",
       "  background-color: #445acc;\n",
       "  color: #f1f1f1;\n",
       "}\n",
       "#T_7489e_row2_col4 {\n",
       "  background-color: #5d7ce6;\n",
       "  color: #f1f1f1;\n",
       "}\n",
       "#T_7489e_row2_col7, #T_7489e_row9_col0 {\n",
       "  background-color: #5b7ae5;\n",
       "  color: #f1f1f1;\n",
       "}\n",
       "#T_7489e_row3_col0, #T_7489e_row7_col9, #T_7489e_row9_col7 {\n",
       "  background-color: #6485ec;\n",
       "  color: #f1f1f1;\n",
       "}\n",
       "#T_7489e_row3_col1, #T_7489e_row6_col7 {\n",
       "  background-color: #5f7fe8;\n",
       "  color: #f1f1f1;\n",
       "}\n",
       "#T_7489e_row3_col2, #T_7489e_row5_col1 {\n",
       "  background-color: #465ecf;\n",
       "  color: #f1f1f1;\n",
       "}\n",
       "#T_7489e_row3_col4 {\n",
       "  background-color: #5470de;\n",
       "  color: #f1f1f1;\n",
       "}\n",
       "#T_7489e_row3_col5, #T_7489e_row8_col0 {\n",
       "  background-color: #7295f4;\n",
       "  color: #f1f1f1;\n",
       "}\n",
       "#T_7489e_row3_col6 {\n",
       "  background-color: #6687ed;\n",
       "  color: #f1f1f1;\n",
       "}\n",
       "#T_7489e_row3_col7, #T_7489e_row4_col2, #T_7489e_row6_col2 {\n",
       "  background-color: #5673e0;\n",
       "  color: #f1f1f1;\n",
       "}\n",
       "#T_7489e_row3_col8, #T_7489e_row8_col9, #T_7489e_row9_col1 {\n",
       "  background-color: #4257c9;\n",
       "  color: #f1f1f1;\n",
       "}\n",
       "#T_7489e_row4_col0, #T_7489e_row8_col2 {\n",
       "  background-color: #485fd1;\n",
       "  color: #f1f1f1;\n",
       "}\n",
       "#T_7489e_row4_col1, #T_7489e_row8_col1 {\n",
       "  background-color: #7396f5;\n",
       "  color: #f1f1f1;\n",
       "}\n",
       "#T_7489e_row4_col3, #T_7489e_row5_col4, #T_7489e_row7_col3, #T_7489e_row8_col6 {\n",
       "  background-color: #4b64d5;\n",
       "  color: #f1f1f1;\n",
       "}\n",
       "#T_7489e_row4_col5, #T_7489e_row8_col7 {\n",
       "  background-color: #4961d2;\n",
       "  color: #f1f1f1;\n",
       "}\n",
       "#T_7489e_row4_col6 {\n",
       "  background-color: #89acfd;\n",
       "  color: #000000;\n",
       "}\n",
       "#T_7489e_row4_col7 {\n",
       "  background-color: #82a6fb;\n",
       "  color: #f1f1f1;\n",
       "}\n",
       "#T_7489e_row5_col7 {\n",
       "  background-color: #6e90f2;\n",
       "  color: #f1f1f1;\n",
       "}\n",
       "#T_7489e_row5_col8 {\n",
       "  background-color: #4e68d8;\n",
       "  color: #f1f1f1;\n",
       "}\n",
       "#T_7489e_row5_col9 {\n",
       "  background-color: #3f53c6;\n",
       "  color: #f1f1f1;\n",
       "}\n",
       "#T_7489e_row6_col4 {\n",
       "  background-color: #7da0f9;\n",
       "  color: #f1f1f1;\n",
       "}\n",
       "#T_7489e_row6_col9 {\n",
       "  background-color: #7b9ff9;\n",
       "  color: #f1f1f1;\n",
       "}\n",
       "#T_7489e_row7_col4 {\n",
       "  background-color: #80a3fa;\n",
       "  color: #f1f1f1;\n",
       "}\n",
       "#T_7489e_row9_col6 {\n",
       "  background-color: #86a9fc;\n",
       "  color: #f1f1f1;\n",
       "}\n",
       "#T_7489e_row9_col8 {\n",
       "  background-color: #3e51c5;\n",
       "  color: #f1f1f1;\n",
       "}\n",
       "</style>\n",
       "<table id=\"T_7489e\">\n",
       "  <thead>\n",
       "    <tr>\n",
       "      <th class=\"blank level0\" >&nbsp;</th>\n",
       "      <th id=\"T_7489e_level0_col0\" class=\"col_heading level0 col0\" >Age</th>\n",
       "      <th id=\"T_7489e_level0_col1\" class=\"col_heading level0 col1\" >Family_Size</th>\n",
       "      <th id=\"T_7489e_level0_col2\" class=\"col_heading level0 col2\" >Income</th>\n",
       "      <th id=\"T_7489e_level0_col3\" class=\"col_heading level0 col3\" >Expenditure</th>\n",
       "      <th id=\"T_7489e_level0_col4\" class=\"col_heading level0 col4\" >Use_Frequency</th>\n",
       "      <th id=\"T_7489e_level0_col5\" class=\"col_heading level0 col5\" >Loan_Amount</th>\n",
       "      <th id=\"T_7489e_level0_col6\" class=\"col_heading level0 col6\" >Overdue</th>\n",
       "      <th id=\"T_7489e_level0_col7\" class=\"col_heading level0 col7\" >Debt_Record</th>\n",
       "      <th id=\"T_7489e_level0_col8\" class=\"col_heading level0 col8\" >Returned_Cheque</th>\n",
       "      <th id=\"T_7489e_level0_col9\" class=\"col_heading level0 col9\" >Dishonour_of_Bill</th>\n",
       "    </tr>\n",
       "  </thead>\n",
       "  <tbody>\n",
       "    <tr>\n",
       "      <th id=\"T_7489e_level0_row0\" class=\"row_heading level0 row0\" >Age</th>\n",
       "      <td id=\"T_7489e_row0_col0\" class=\"data row0 col0\" >1.000000</td>\n",
       "      <td id=\"T_7489e_row0_col1\" class=\"data row0 col1\" >0.069688</td>\n",
       "      <td id=\"T_7489e_row0_col2\" class=\"data row0 col2\" >0.010690</td>\n",
       "      <td id=\"T_7489e_row0_col3\" class=\"data row0 col3\" >0.033160</td>\n",
       "      <td id=\"T_7489e_row0_col4\" class=\"data row0 col4\" >-0.068143</td>\n",
       "      <td id=\"T_7489e_row0_col5\" class=\"data row0 col5\" >0.052722</td>\n",
       "      <td id=\"T_7489e_row0_col6\" class=\"data row0 col6\" >-0.116430</td>\n",
       "      <td id=\"T_7489e_row0_col7\" class=\"data row0 col7\" >-0.078604</td>\n",
       "      <td id=\"T_7489e_row0_col8\" class=\"data row0 col8\" >0.077748</td>\n",
       "      <td id=\"T_7489e_row0_col9\" class=\"data row0 col9\" >0.004387</td>\n",
       "    </tr>\n",
       "    <tr>\n",
       "      <th id=\"T_7489e_level0_row1\" class=\"row_heading level0 row1\" >Family_Size</th>\n",
       "      <td id=\"T_7489e_row1_col0\" class=\"data row1 col0\" >0.069688</td>\n",
       "      <td id=\"T_7489e_row1_col1\" class=\"data row1 col1\" >1.000000</td>\n",
       "      <td id=\"T_7489e_row1_col2\" class=\"data row1 col2\" >-0.016036</td>\n",
       "      <td id=\"T_7489e_row1_col3\" class=\"data row1 col3\" >0.025626</td>\n",
       "      <td id=\"T_7489e_row1_col4\" class=\"data row1 col4\" >0.092089</td>\n",
       "      <td id=\"T_7489e_row1_col5\" class=\"data row1 col5\" >-0.058116</td>\n",
       "      <td id=\"T_7489e_row1_col6\" class=\"data row1 col6\" >-0.104173</td>\n",
       "      <td id=\"T_7489e_row1_col7\" class=\"data row1 col7\" >-0.073454</td>\n",
       "      <td id=\"T_7489e_row1_col8\" class=\"data row1 col8\" >0.094009</td>\n",
       "      <td id=\"T_7489e_row1_col9\" class=\"data row1 col9\" >-0.075100</td>\n",
       "    </tr>\n",
       "    <tr>\n",
       "      <th id=\"T_7489e_level0_row2\" class=\"row_heading level0 row2\" >Income</th>\n",
       "      <td id=\"T_7489e_row2_col0\" class=\"data row2 col0\" >0.010690</td>\n",
       "      <td id=\"T_7489e_row2_col1\" class=\"data row2 col1\" >-0.016036</td>\n",
       "      <td id=\"T_7489e_row2_col2\" class=\"data row2 col2\" >1.000000</td>\n",
       "      <td id=\"T_7489e_row2_col3\" class=\"data row2 col3\" >-0.003817</td>\n",
       "      <td id=\"T_7489e_row2_col4\" class=\"data row2 col4\" >0.050973</td>\n",
       "      <td id=\"T_7489e_row2_col5\" class=\"data row2 col5\" >0.064831</td>\n",
       "      <td id=\"T_7489e_row2_col6\" class=\"data row2 col6\" >0.050141</td>\n",
       "      <td id=\"T_7489e_row2_col7\" class=\"data row2 col7\" >0.039150</td>\n",
       "      <td id=\"T_7489e_row2_col8\" class=\"data row2 col8\" >0.000406</td>\n",
       "      <td id=\"T_7489e_row2_col9\" class=\"data row2 col9\" >-0.045124</td>\n",
       "    </tr>\n",
       "    <tr>\n",
       "      <th id=\"T_7489e_level0_row3\" class=\"row_heading level0 row3\" >Expenditure</th>\n",
       "      <td id=\"T_7489e_row3_col0\" class=\"data row3 col0\" >0.033160</td>\n",
       "      <td id=\"T_7489e_row3_col1\" class=\"data row3 col1\" >0.025626</td>\n",
       "      <td id=\"T_7489e_row3_col2\" class=\"data row3 col2\" >-0.003817</td>\n",
       "      <td id=\"T_7489e_row3_col3\" class=\"data row3 col3\" >1.000000</td>\n",
       "      <td id=\"T_7489e_row3_col4\" class=\"data row3 col4\" >0.020548</td>\n",
       "      <td id=\"T_7489e_row3_col5\" class=\"data row3 col5\" >0.125046</td>\n",
       "      <td id=\"T_7489e_row3_col6\" class=\"data row3 col6\" >0.039149</td>\n",
       "      <td id=\"T_7489e_row3_col7\" class=\"data row3 col7\" >0.019667</td>\n",
       "      <td id=\"T_7489e_row3_col8\" class=\"data row3 col8\" >-0.036220</td>\n",
       "      <td id=\"T_7489e_row3_col9\" class=\"data row3 col9\" >-0.037646</td>\n",
       "    </tr>\n",
       "    <tr>\n",
       "      <th id=\"T_7489e_level0_row4\" class=\"row_heading level0 row4\" >Use_Frequency</th>\n",
       "      <td id=\"T_7489e_row4_col0\" class=\"data row4 col0\" >-0.068143</td>\n",
       "      <td id=\"T_7489e_row4_col1\" class=\"data row4 col1\" >0.092089</td>\n",
       "      <td id=\"T_7489e_row4_col2\" class=\"data row4 col2\" >0.050973</td>\n",
       "      <td id=\"T_7489e_row4_col3\" class=\"data row4 col3\" >0.020548</td>\n",
       "      <td id=\"T_7489e_row4_col4\" class=\"data row4 col4\" >1.000000</td>\n",
       "      <td id=\"T_7489e_row4_col5\" class=\"data row4 col5\" >-0.006741</td>\n",
       "      <td id=\"T_7489e_row4_col6\" class=\"data row4 col6\" >0.151629</td>\n",
       "      <td id=\"T_7489e_row4_col7\" class=\"data row4 col7\" >0.160677</td>\n",
       "      <td id=\"T_7489e_row4_col8\" class=\"data row4 col8\" >-0.062622</td>\n",
       "      <td id=\"T_7489e_row4_col9\" class=\"data row4 col9\" >0.086316</td>\n",
       "    </tr>\n",
       "    <tr>\n",
       "      <th id=\"T_7489e_level0_row5\" class=\"row_heading level0 row5\" >Loan_Amount</th>\n",
       "      <td id=\"T_7489e_row5_col0\" class=\"data row5 col0\" >0.052722</td>\n",
       "      <td id=\"T_7489e_row5_col1\" class=\"data row5 col1\" >-0.058116</td>\n",
       "      <td id=\"T_7489e_row5_col2\" class=\"data row5 col2\" >0.064831</td>\n",
       "      <td id=\"T_7489e_row5_col3\" class=\"data row5 col3\" >0.125046</td>\n",
       "      <td id=\"T_7489e_row5_col4\" class=\"data row5 col4\" >-0.006741</td>\n",
       "      <td id=\"T_7489e_row5_col5\" class=\"data row5 col5\" >1.000000</td>\n",
       "      <td id=\"T_7489e_row5_col6\" class=\"data row5 col6\" >0.051552</td>\n",
       "      <td id=\"T_7489e_row5_col7\" class=\"data row5 col7\" >0.094891</td>\n",
       "      <td id=\"T_7489e_row5_col8\" class=\"data row5 col8\" >0.006162</td>\n",
       "      <td id=\"T_7489e_row5_col9\" class=\"data row5 col9\" >-0.057749</td>\n",
       "    </tr>\n",
       "    <tr>\n",
       "      <th id=\"T_7489e_level0_row6\" class=\"row_heading level0 row6\" >Overdue</th>\n",
       "      <td id=\"T_7489e_row6_col0\" class=\"data row6 col0\" >-0.116430</td>\n",
       "      <td id=\"T_7489e_row6_col1\" class=\"data row6 col1\" >-0.104173</td>\n",
       "      <td id=\"T_7489e_row6_col2\" class=\"data row6 col2\" >0.050141</td>\n",
       "      <td id=\"T_7489e_row6_col3\" class=\"data row6 col3\" >0.039149</td>\n",
       "      <td id=\"T_7489e_row6_col4\" class=\"data row6 col4\" >0.151629</td>\n",
       "      <td id=\"T_7489e_row6_col5\" class=\"data row6 col5\" >0.051552</td>\n",
       "      <td id=\"T_7489e_row6_col6\" class=\"data row6 col6\" >1.000000</td>\n",
       "      <td id=\"T_7489e_row6_col7\" class=\"data row6 col7\" >0.050553</td>\n",
       "      <td id=\"T_7489e_row6_col8\" class=\"data row6 col8\" >-0.054277</td>\n",
       "      <td id=\"T_7489e_row6_col9\" class=\"data row6 col9\" >0.142956</td>\n",
       "    </tr>\n",
       "    <tr>\n",
       "      <th id=\"T_7489e_level0_row7\" class=\"row_heading level0 row7\" >Debt_Record</th>\n",
       "      <td id=\"T_7489e_row7_col0\" class=\"data row7 col0\" >-0.078604</td>\n",
       "      <td id=\"T_7489e_row7_col1\" class=\"data row7 col1\" >-0.073454</td>\n",
       "      <td id=\"T_7489e_row7_col2\" class=\"data row7 col2\" >0.039150</td>\n",
       "      <td id=\"T_7489e_row7_col3\" class=\"data row7 col3\" >0.019667</td>\n",
       "      <td id=\"T_7489e_row7_col4\" class=\"data row7 col4\" >0.160677</td>\n",
       "      <td id=\"T_7489e_row7_col5\" class=\"data row7 col5\" >0.094891</td>\n",
       "      <td id=\"T_7489e_row7_col6\" class=\"data row7 col6\" >0.050553</td>\n",
       "      <td id=\"T_7489e_row7_col7\" class=\"data row7 col7\" >1.000000</td>\n",
       "      <td id=\"T_7489e_row7_col8\" class=\"data row7 col8\" >-0.026963</td>\n",
       "      <td id=\"T_7489e_row7_col9\" class=\"data row7 col9\" >0.067833</td>\n",
       "    </tr>\n",
       "    <tr>\n",
       "      <th id=\"T_7489e_level0_row8\" class=\"row_heading level0 row8\" >Returned_Cheque</th>\n",
       "      <td id=\"T_7489e_row8_col0\" class=\"data row8 col0\" >0.077748</td>\n",
       "      <td id=\"T_7489e_row8_col1\" class=\"data row8 col1\" >0.094009</td>\n",
       "      <td id=\"T_7489e_row8_col2\" class=\"data row8 col2\" >0.000406</td>\n",
       "      <td id=\"T_7489e_row8_col3\" class=\"data row8 col3\" >-0.036220</td>\n",
       "      <td id=\"T_7489e_row8_col4\" class=\"data row8 col4\" >-0.062622</td>\n",
       "      <td id=\"T_7489e_row8_col5\" class=\"data row8 col5\" >0.006162</td>\n",
       "      <td id=\"T_7489e_row8_col6\" class=\"data row8 col6\" >-0.054277</td>\n",
       "      <td id=\"T_7489e_row8_col7\" class=\"data row8 col7\" >-0.026963</td>\n",
       "      <td id=\"T_7489e_row8_col8\" class=\"data row8 col8\" >1.000000</td>\n",
       "      <td id=\"T_7489e_row8_col9\" class=\"data row8 col9\" >-0.049815</td>\n",
       "    </tr>\n",
       "    <tr>\n",
       "      <th id=\"T_7489e_level0_row9\" class=\"row_heading level0 row9\" >Dishonour_of_Bill</th>\n",
       "      <td id=\"T_7489e_row9_col0\" class=\"data row9 col0\" >0.004387</td>\n",
       "      <td id=\"T_7489e_row9_col1\" class=\"data row9 col1\" >-0.075100</td>\n",
       "      <td id=\"T_7489e_row9_col2\" class=\"data row9 col2\" >-0.045124</td>\n",
       "      <td id=\"T_7489e_row9_col3\" class=\"data row9 col3\" >-0.037646</td>\n",
       "      <td id=\"T_7489e_row9_col4\" class=\"data row9 col4\" >0.086316</td>\n",
       "      <td id=\"T_7489e_row9_col5\" class=\"data row9 col5\" >-0.057749</td>\n",
       "      <td id=\"T_7489e_row9_col6\" class=\"data row9 col6\" >0.142956</td>\n",
       "      <td id=\"T_7489e_row9_col7\" class=\"data row9 col7\" >0.067833</td>\n",
       "      <td id=\"T_7489e_row9_col8\" class=\"data row9 col8\" >-0.049815</td>\n",
       "      <td id=\"T_7489e_row9_col9\" class=\"data row9 col9\" >1.000000</td>\n",
       "    </tr>\n",
       "  </tbody>\n",
       "</table>\n"
      ],
      "text/plain": [
       "<pandas.io.formats.style.Styler at 0x20dbb0f44c0>"
      ]
     },
     "execution_count": 175,
     "metadata": {},
     "output_type": "execute_result"
    }
   ],
   "source": [
    "df1.corr().style.background_gradient(cmap=\"coolwarm\")"
   ]
  },
  {
   "cell_type": "markdown",
   "id": "7ff77755",
   "metadata": {},
   "source": [
    "**The previous matrix indicates the association (direction and strength) between variables. No assumption on dependence on each other.** "
   ]
  },
  {
   "cell_type": "markdown",
   "id": "534844c8",
   "metadata": {},
   "source": [
    "### 4.3 Univariate analysis"
   ]
  },
  {
   "cell_type": "markdown",
   "id": "0458d48b",
   "metadata": {},
   "source": [
    "#### 4.3.1 Loan_Amount"
   ]
  },
  {
   "cell_type": "markdown",
   "id": "a03f2e8b",
   "metadata": {},
   "source": [
    "Since we want to predict the Loan Amount, we assure that this feature is in normal distribution"
   ]
  },
  {
   "cell_type": "code",
   "execution_count": 176,
   "id": "62a81940",
   "metadata": {},
   "outputs": [
    {
     "data": {
      "text/plain": [
       "<seaborn.axisgrid.FacetGrid at 0x20dbb0f46d0>"
      ]
     },
     "execution_count": 176,
     "metadata": {},
     "output_type": "execute_result"
    },
    {
     "data": {
      "image/png": "[encoded data removed]",
      "text/plain": [
       "<Figure size 360x360 with 1 Axes>"
      ]
     },
     "metadata": {
      "needs_background": "light"
     },
     "output_type": "display_data"
    }
   ],
   "source": [
    "sns.displot(df1.Loan_Amount)"
   ]
  },
  {
   "cell_type": "markdown",
   "id": "a1e0c03d",
   "metadata": {},
   "source": [
    "On the above plot the distribution for Loan_Amount is Right Skewed, that is, there is a long tail on the right. Therefore, we decide to drop values over the percentile 95% which can represent outliers from the original dataset. We set percentile 0.95 as the maximum threshold. Values over this edge must be dropped"
   ]
  },
  {
   "cell_type": "code",
   "execution_count": 177,
   "id": "d431595f",
   "metadata": {},
   "outputs": [],
   "source": [
    "max_threshold = df1['Loan_Amount'].quantile(0.95)\n",
    "\n",
    "#find out the indexes of the data where Loan_Amount is greater than quantile 0.95. \n",
    "ind = df1.loc[df1.Loan_Amount > max_threshold].index\n",
    "\n",
    "#Once identified, we drop them\n",
    "df1.drop(ind, inplace = True)"
   ]
  },
  {
   "cell_type": "code",
   "execution_count": 178,
   "id": "1c7dc47c",
   "metadata": {},
   "outputs": [
    {
     "data": {
      "text/plain": [
       "<seaborn.axisgrid.FacetGrid at 0x20dbb17f670>"
      ]
     },
     "execution_count": 178,
     "metadata": {},
     "output_type": "execute_result"
    },
    {
     "data": {
      "image/png": "[encoded data removed]",
      "text/plain": [
       "<Figure size 360x360 with 1 Axes>"
      ]
     },
     "metadata": {
      "needs_background": "light"
     },
     "output_type": "display_data"
    }
   ],
   "source": [
    "sns.displot(df1.Loan_Amount, color = 'g', bins=20)"
   ]
  },
  {
   "cell_type": "markdown",
   "id": "27fab75e",
   "metadata": {},
   "source": [
    "We still observe some values on the left surpassing the average according to this plot. We assure to drop them as well, using quantile 0.10.\n",
    "\n",
    "We set quantile 0.10 as the minimum threshold. Values below this edge must be dropped."
   ]
  },
  {
   "cell_type": "code",
   "execution_count": 179,
   "id": "b4ed32fb",
   "metadata": {},
   "outputs": [],
   "source": [
    "min_threshold = df1['Loan_Amount'].quantile(0.10)\n",
    "min_threshold\n",
    "\n",
    "#find out the indexes of the data where Loan_Amount is lesser than quantile 0.10 \n",
    "ind2 = df1.loc[df1.Loan_Amount < min_threshold].index\n",
    "\n",
    "#Once identified, we drop them\n",
    "df1.drop(ind2, inplace = True)"
   ]
  },
  {
   "cell_type": "markdown",
   "id": "ee9d9283",
   "metadata": {},
   "source": [
    "**Distribution plot for Loan Amount feature (after removing outliers)**"
   ]
  },
  {
   "cell_type": "code",
   "execution_count": 180,
   "id": "7059a8a0",
   "metadata": {},
   "outputs": [
    {
     "data": {
      "text/plain": [
       "<AxesSubplot:xlabel='Loan_Amount', ylabel='Count'>"
      ]
     },
     "execution_count": 180,
     "metadata": {},
     "output_type": "execute_result"
    },
    {
     "data": {
      "image/png": "[encoded data removed]",
      "text/plain": [
       "<Figure size 432x288 with 1 Axes>"
      ]
     },
     "metadata": {
      "needs_background": "light"
     },
     "output_type": "display_data"
    }
   ],
   "source": [
    "sns.histplot(df1.Loan_Amount, kde=True)\n",
    "#Add a kernel density estimate to smooth the histogram, providing complementary information about the shape of the distribution"
   ]
  },
  {
   "cell_type": "markdown",
   "id": "d9194234",
   "metadata": {},
   "source": [
    "We can see that the Loan_Amount distribution (after we removed some outliers) is almost similar with the normal distribution.\n",
    "\n",
    "Based on domain knowledge, we want to see distribution plots from variables that can have an impact on Loan Amounts, such as income, expenditure, and age. The former is relevant to determine if the person is generating sufficient earnings to cover his(her) annual debt and interest payments. On the other hand, the latter feature is used by financial institutions to measure payment risk. For instance, the experience managing debts of younger populations may be lesser than the older. Therefore they probably fall into overdue payments if they don't know how to control expenditures, statement periods, and payment due dates."
   ]
  },
  {
   "cell_type": "markdown",
   "id": "e087f295",
   "metadata": {},
   "source": [
    "#### 4.3.2 Income"
   ]
  },
  {
   "cell_type": "code",
   "execution_count": 181,
   "id": "91f44ef2",
   "metadata": {},
   "outputs": [
    {
     "data": {
      "text/plain": [
       "<AxesSubplot:ylabel='Density'>"
      ]
     },
     "execution_count": 181,
     "metadata": {},
     "output_type": "execute_result"
    },
    {
     "data": {
      "image/png": "[encoded data removed]",
      "text/plain": [
       "<Figure size 432x288 with 1 Axes>"
      ]
     },
     "metadata": {
      "needs_background": "light"
     },
     "output_type": "display_data"
    }
   ],
   "source": [
    "df1['Income'].plot.kde()"
   ]
  },
  {
   "cell_type": "markdown",
   "id": "0a971f4d",
   "metadata": {},
   "source": [
    "On the above plot, the shape of frequency distribution is Right Skewed with a long tail on this side. By following the same logic using a threshold, we assure to remove outliers. We find out the indexes of the data where Income is greater than 200,000."
   ]
  },
  {
   "cell_type": "code",
   "execution_count": 182,
   "id": "58238c73",
   "metadata": {},
   "outputs": [],
   "source": [
    "ind_inc = df1.loc[df1.Income > 200000].index\n",
    "\n",
    "#Once identified, we drop them\n",
    "df1.drop(ind_inc, inplace = True)"
   ]
  },
  {
   "cell_type": "markdown",
   "id": "99b0583c",
   "metadata": {},
   "source": [
    "**Distribution plot for Income feature (after removing outliers)**"
   ]
  },
  {
   "cell_type": "code",
   "execution_count": 183,
   "id": "2c8356b8",
   "metadata": {},
   "outputs": [
    {
     "data": {
      "text/plain": [
       "<AxesSubplot:xlabel='Income', ylabel='Count'>"
      ]
     },
     "execution_count": 183,
     "metadata": {},
     "output_type": "execute_result"
    },
    {
     "data": {
      "image/png": "[encoded data removed]",
      "text/plain": [
       "<Figure size 432x288 with 1 Axes>"
      ]
     },
     "metadata": {
      "needs_background": "light"
     },
     "output_type": "display_data"
    }
   ],
   "source": [
    "sns.histplot(df1.Income, kde=True)"
   ]
  },
  {
   "cell_type": "markdown",
   "id": "fd9646bf",
   "metadata": {},
   "source": [
    "Now, the Income plot looks quite better following normal distribution, which is useful when building the model and Linear Regression"
   ]
  },
  {
   "cell_type": "markdown",
   "id": "837c773b",
   "metadata": {},
   "source": [
    "#### 4.3.3 Age"
   ]
  },
  {
   "cell_type": "markdown",
   "id": "ee046c49",
   "metadata": {},
   "source": [
    "**Distribution plot for Age feature**"
   ]
  },
  {
   "cell_type": "code",
   "execution_count": 184,
   "id": "e7e9aa7d",
   "metadata": {},
   "outputs": [
    {
     "data": {
      "text/plain": [
       "<AxesSubplot:xlabel='Age', ylabel='Count'>"
      ]
     },
     "execution_count": 184,
     "metadata": {},
     "output_type": "execute_result"
    },
    {
     "data": {
      "image/png": "[encoded data removed]",
      "text/plain": [
       "<Figure size 432x288 with 1 Axes>"
      ]
     },
     "metadata": {
      "needs_background": "light"
     },
     "output_type": "display_data"
    }
   ],
   "source": [
    "sns.histplot(df1.Age, kde=True)"
   ]
  },
  {
   "cell_type": "markdown",
   "id": "0b8df6b7",
   "metadata": {},
   "source": [
    "Unlike the previous feature, this one does not need alterations to remove outliers because of the bell shape distribution."
   ]
  },
  {
   "cell_type": "markdown",
   "id": "c56d9051",
   "metadata": {},
   "source": [
    "#### 4.3.4 Expenditure"
   ]
  },
  {
   "cell_type": "markdown",
   "id": "46cf0986",
   "metadata": {},
   "source": [
    "**Distribution plot for Expenditure feature**"
   ]
  },
  {
   "cell_type": "code",
   "execution_count": 185,
   "id": "e97b2e99",
   "metadata": {},
   "outputs": [
    {
     "data": {
      "text/plain": [
       "<seaborn.axisgrid.FacetGrid at 0x20dbb566be0>"
      ]
     },
     "execution_count": 185,
     "metadata": {},
     "output_type": "execute_result"
    },
    {
     "data": {
      "image/png": "[encoded data removed]",
      "text/plain": [
       "<Figure size 360x360 with 1 Axes>"
      ]
     },
     "metadata": {
      "needs_background": "light"
     },
     "output_type": "display_data"
    }
   ],
   "source": [
    "sns.displot(df1.Expenditure, kind=\"kde\", bw_adjust=2)"
   ]
  },
  {
   "cell_type": "markdown",
   "id": "409d9eb9",
   "metadata": {},
   "source": [
    "Same situation with Expenditure feature, which is important to determine Loan Amount"
   ]
  },
  {
   "cell_type": "markdown",
   "id": "7570fb73",
   "metadata": {},
   "source": [
    "#### 4.3.5 Loan_Category"
   ]
  },
  {
   "cell_type": "markdown",
   "id": "354f4020",
   "metadata": {},
   "source": [
    "How is the current distribution of Loans by category?"
   ]
  },
  {
   "cell_type": "code",
   "execution_count": 186,
   "id": "b0ee7d68",
   "metadata": {},
   "outputs": [
    {
     "data": {
      "text/plain": [
       "<AxesSubplot:>"
      ]
     },
     "execution_count": 186,
     "metadata": {},
     "output_type": "execute_result"
    },
    {
     "data": {
      "image/png": "[encoded data removed]",
      "text/plain": [
       "<Figure size 432x288 with 1 Axes>"
      ]
     },
     "metadata": {
      "needs_background": "light"
     },
     "output_type": "display_data"
    }
   ],
   "source": [
    "df1.Loan_Category.value_counts().plot(kind = 'bar', color = 'y')"
   ]
  },
  {
   "cell_type": "markdown",
   "id": "a3f4a139",
   "metadata": {},
   "source": [
    "Based on the graph,  most people used their credit lines for shopping in hypermarkets or luxury department stores.  Possibly, these customers use the credit line as a loan to get pricey goods (including appliances: washing machines, dryers, stoves, and so forth) because they cannot afford them with their own savings only.\n",
    "\n",
    "Secondly, perhaps most people utilize credit for valuable goods such as gold jewelry. \n",
    "\n",
    "The third most common loan is for restaurants, followed by housing. Within the former we can infer that some businessmen may use the credit line for meetings in expensive restaurants to close their deals. The forth one may refer to the mortgage. Mortgages help people finance the purchase of a house"
   ]
  },
  {
   "cell_type": "markdown",
   "id": "9fd186dc",
   "metadata": {},
   "source": [
    "#### 4.3.6 Occupation"
   ]
  },
  {
   "cell_type": "code",
   "execution_count": 187,
   "id": "0d2ffc6f",
   "metadata": {},
   "outputs": [
    {
     "data": {
      "text/plain": [
       "<seaborn.axisgrid.FacetGrid at 0x20dbb5a2910>"
      ]
     },
     "execution_count": 187,
     "metadata": {},
     "output_type": "execute_result"
    },
    {
     "data": {
      "image/png": "[encoded data removed]",
      "text/plain": [
       "<Figure size 360x360 with 1 Axes>"
      ]
     },
     "metadata": {
      "needs_background": "light"
     },
     "output_type": "display_data"
    }
   ],
   "source": [
    "occup_plot = sns.catplot(x=\"Occupation\", kind = \"count\", data = df1)\n",
    "occup_plot.set_xticklabels(rotation=30) #To rotate label text in seaborn plot, avoiding overlapped text\n",
    "                                        #alternatively we can use plt.xticks(rotation=45) "
   ]
  },
  {
   "cell_type": "markdown",
   "id": "8fb8647f",
   "metadata": {},
   "source": [
    "Grouping occupations by categories, how many people have a loan currently? If the loan issuer is looking for information to start a marketing campaign, it must be compulsory to determine which occupation they should focus on, to set the optimal loan amount with less risk, considering the current customer portfolio"
   ]
  },
  {
   "cell_type": "markdown",
   "id": "a4b34ca4",
   "metadata": {},
   "source": [
    "#### 4.3.7 Dishonour of Bill"
   ]
  },
  {
   "cell_type": "markdown",
   "id": "685cce44",
   "metadata": {},
   "source": [
    "How is the distribution for \"Dishonour of Bill\"?"
   ]
  },
  {
   "cell_type": "code",
   "execution_count": 188,
   "id": "bbea5b69",
   "metadata": {},
   "outputs": [
    {
     "data": {
      "text/plain": [
       "<AxesSubplot:>"
      ]
     },
     "execution_count": 188,
     "metadata": {},
     "output_type": "execute_result"
    },
    {
     "data": {
      "image/png": "[encoded data removed]",
      "text/plain": [
       "<Figure size 432x288 with 1 Axes>"
      ]
     },
     "metadata": {
      "needs_background": "light"
     },
     "output_type": "display_data"
    }
   ],
   "source": [
    "df1.Dishonour_of_Bill.value_counts().plot(kind = 'bar', color = 'g')"
   ]
  },
  {
   "cell_type": "markdown",
   "id": "a8e26047",
   "metadata": {},
   "source": [
    "It is widely agreed that lending is the principal business activity for most financial institutions and the loan portfolio is typically the largest asset and the predominate source of. Because of that, we need some parameters to measure the quality thereof. How to do it? One way can be through the \"dishonour of bill\" scale or overdues.\n",
    "Here, most of the customers are in the scale between 2 and 4 which is okay.\n",
    "\n",
    "So far, we could consider to drop educational from Loan_Category, management from Occupation, and 10 from Dishonour_of_Bill, because they may not influence the data. These values represent the shortest bars."
   ]
  },
  {
   "cell_type": "markdown",
   "id": "30bdd633",
   "metadata": {},
   "source": [
    "### 4.4 Multivariate analysis"
   ]
  },
  {
   "cell_type": "markdown",
   "id": "63e4ca07",
   "metadata": {},
   "source": [
    "We create some scatter plots to compare relationships between the target value Loan_Amount and the rest of the features, also known as independent variables."
   ]
  },
  {
   "cell_type": "markdown",
   "id": "22112e3f",
   "metadata": {},
   "source": [
    "#### 4.4.1 Loan_Amount vs Income"
   ]
  },
  {
   "cell_type": "code",
   "execution_count": 189,
   "id": "a4afa58e",
   "metadata": {},
   "outputs": [
    {
     "data": {
      "text/plain": [
       "<function matplotlib.pyplot.show(close=None, block=None)>"
      ]
     },
     "execution_count": 189,
     "metadata": {},
     "output_type": "execute_result"
    },
    {
     "data": {
      "image/png": "[encoded data removed]",
      "text/plain": [
       "<Figure size 432x288 with 1 Axes>"
      ]
     },
     "metadata": {
      "needs_background": "light"
     },
     "output_type": "display_data"
    }
   ],
   "source": [
    "plt.scatter(df1['Income'], df1['Loan_Amount'])\n",
    "plt.title(\"Income vs. Loan Amount\")\n",
    "plt.xlabel('Income')\n",
    "plt.ylabel('Loan Amount')\n",
    "plt.show"
   ]
  },
  {
   "cell_type": "markdown",
   "id": "d175b5ba",
   "metadata": {},
   "source": [
    "A reference line is difficult to detect. The relationship between these variables is weak. \n",
    "Nevertheless, we can identify that most of the observations group closer together within the range 30000-80000 (Income), and 0.4 - 1.0 (Loan Amount).  Thus, we should consider to remove some data that can influence the model. The correlation is reasonable compared to all the features pairs"
   ]
  },
  {
   "cell_type": "markdown",
   "id": "febb6209",
   "metadata": {},
   "source": [
    "#### 4.4.2 Loan_Amount vs Expenditure"
   ]
  },
  {
   "cell_type": "code",
   "execution_count": 190,
   "id": "5dd1334d",
   "metadata": {},
   "outputs": [
    {
     "data": {
      "text/plain": [
       "<function matplotlib.pyplot.show(close=None, block=None)>"
      ]
     },
     "execution_count": 190,
     "metadata": {},
     "output_type": "execute_result"
    },
    {
     "data": {
      "image/png": "[encoded data removed]",
      "text/plain": [
       "<Figure size 432x288 with 1 Axes>"
      ]
     },
     "metadata": {
      "needs_background": "light"
     },
     "output_type": "display_data"
    }
   ],
   "source": [
    "plt.scatter(df1['Expenditure'], df1['Loan_Amount'])\n",
    "plt.title(\"Expenditure vs. Loan Amount\")\n",
    "plt.xlabel('Expenditure')\n",
    "plt.ylabel('Loan Amount')\n",
    "plt.show"
   ]
  },
  {
   "cell_type": "markdown",
   "id": "c523e790",
   "metadata": {},
   "source": [
    "Similarly to the previous scatter plot, we observe that the linear correlation is not clearly defined. However, the graph indicates a moderate correlation, since its points are not clearly arranged in a linear fashion, but grouped within the range 15000-40000(Expenditure) and 0.2-1.0 (Loan Amount) "
   ]
  },
  {
   "cell_type": "markdown",
   "id": "e8ed6797",
   "metadata": {},
   "source": [
    "#### 4.4.3 Loan_Amount vs Dishonour_of_Bill"
   ]
  },
  {
   "cell_type": "code",
   "execution_count": 191,
   "id": "bcd4569c",
   "metadata": {},
   "outputs": [
    {
     "data": {
      "text/plain": [
       "<function matplotlib.pyplot.show(close=None, block=None)>"
      ]
     },
     "execution_count": 191,
     "metadata": {},
     "output_type": "execute_result"
    },
    {
     "data": {
      "image/png": "[encoded data removed]",
      "text/plain": [
       "<Figure size 432x288 with 1 Axes>"
      ]
     },
     "metadata": {
      "needs_background": "light"
     },
     "output_type": "display_data"
    }
   ],
   "source": [
    "plt.scatter(df1['Dishonour_of_Bill'], df1['Loan_Amount'])\n",
    "plt.title(\"Dishonour_of_Bill vs. Loan Amount\")\n",
    "plt.xlabel('Dishonour of Bill')\n",
    "plt.ylabel('Loan Amount')\n",
    "plt.show"
   ]
  },
  {
   "cell_type": "markdown",
   "id": "df508d5e",
   "metadata": {},
   "source": [
    "The above scatter plot looks completely random. We observe data points forming vertical lines, which indicates that the linear correlation is undefined. There is nothing going on that makes it look like it has a pattern of any kind. Correlation is far to be linear. "
   ]
  },
  {
   "cell_type": "markdown",
   "id": "c3aa2b58",
   "metadata": {},
   "source": [
    "## 5. Convert categorical data to Dummy variables"
   ]
  },
  {
   "cell_type": "code",
   "execution_count": 192,
   "id": "b4974e25",
   "metadata": {},
   "outputs": [
    {
     "name": "stdout",
     "output_type": "stream",
     "text": [
      "<class 'pandas.core.frame.DataFrame'>\n",
      "Int64Index: 401 entries, 0 to 499\n",
      "Data columns (total 14 columns):\n",
      " #   Column             Non-Null Count  Dtype  \n",
      "---  ------             --------------  -----  \n",
      " 0   Age                401 non-null    int64  \n",
      " 1   Gender             401 non-null    object \n",
      " 2   Occupation         401 non-null    object \n",
      " 3   Marital_Status     401 non-null    object \n",
      " 4   Family_Size        401 non-null    int64  \n",
      " 5   Income             401 non-null    float64\n",
      " 6   Expenditure        401 non-null    float64\n",
      " 7   Use_Frequency      401 non-null    int64  \n",
      " 8   Loan_Category      401 non-null    object \n",
      " 9   Loan_Amount        401 non-null    float64\n",
      " 10  Overdue            401 non-null    int64  \n",
      " 11  Debt_Record        401 non-null    float64\n",
      " 12  Returned_Cheque    401 non-null    int64  \n",
      " 13  Dishonour_of_Bill  401 non-null    int64  \n",
      "dtypes: float64(4), int64(6), object(4)\n",
      "memory usage: 47.0+ KB\n"
     ]
    }
   ],
   "source": [
    "df1.info()"
   ]
  },
  {
   "cell_type": "markdown",
   "id": "3fe42590",
   "metadata": {},
   "source": [
    "For categorical features we create dummy values, columns: Gender, Occupation, Marital_Status, Loan_Category"
   ]
  },
  {
   "cell_type": "code",
   "execution_count": 193,
   "id": "e950d0f5",
   "metadata": {},
   "outputs": [
    {
     "name": "stdout",
     "output_type": "stream",
     "text": [
      "<class 'pandas.core.frame.DataFrame'>\n",
      "Int64Index: 401 entries, 0 to 499\n",
      "Data columns (total 24 columns):\n",
      " #   Column                          Non-Null Count  Dtype  \n",
      "---  ------                          --------------  -----  \n",
      " 0   Age                             401 non-null    int64  \n",
      " 1   Family_Size                     401 non-null    int64  \n",
      " 2   Income                          401 non-null    float64\n",
      " 3   Expenditure                     401 non-null    float64\n",
      " 4   Use_Frequency                   401 non-null    int64  \n",
      " 5   Loan_Amount                     401 non-null    float64\n",
      " 6   Overdue                         401 non-null    int64  \n",
      " 7   Debt_Record                     401 non-null    float64\n",
      " 8   Returned_Cheque                 401 non-null    int64  \n",
      " 9   Dishonour_of_Bill               401 non-null    int64  \n",
      " 10  Gender_male                     401 non-null    uint8  \n",
      " 11  Occupation_communityserv        401 non-null    uint8  \n",
      " 12  Occupation_education            401 non-null    uint8  \n",
      " 13  Occupation_engineering          401 non-null    uint8  \n",
      " 14  Occupation_health               401 non-null    uint8  \n",
      " 15  Occupation_management           401 non-null    uint8  \n",
      " 16  Marital_Status_single           401 non-null    uint8  \n",
      " 17  Loan_Category_educational_loan  401 non-null    uint8  \n",
      " 18  Loan_Category_gold_loan         401 non-null    uint8  \n",
      " 19  Loan_Category_housing           401 non-null    uint8  \n",
      " 20  Loan_Category_other_business    401 non-null    uint8  \n",
      " 21  Loan_Category_restaurants       401 non-null    uint8  \n",
      " 22  Loan_Category_shopping          401 non-null    uint8  \n",
      " 23  Loan_Category_travelling        401 non-null    uint8  \n",
      "dtypes: float64(4), int64(6), uint8(14)\n",
      "memory usage: 39.9 KB\n"
     ]
    }
   ],
   "source": [
    "df2 = pd.get_dummies(df1, drop_first = True)\n",
    "df2.info() #to confirm updates"
   ]
  },
  {
   "cell_type": "markdown",
   "id": "96f64762",
   "metadata": {},
   "source": [
    "### 5.1 Update correlation matrix"
   ]
  },
  {
   "cell_type": "code",
   "execution_count": 194,
   "id": "1c575e8e",
   "metadata": {},
   "outputs": [
    {
     "data": {
      "text/html": [
       "<div>\n",
       "<style scoped>\n",
       "    .dataframe tbody tr th:only-of-type {\n",
       "        vertical-align: middle;\n",
       "    }\n",
       "\n",
       "    .dataframe tbody tr th {\n",
       "        vertical-align: top;\n",
       "    }\n",
       "\n",
       "    .dataframe thead th {\n",
       "        text-align: right;\n",
       "    }\n",
       "</style>\n",
       "<table border=\"1\" class=\"dataframe\">\n",
       "  <thead>\n",
       "    <tr style=\"text-align: right;\">\n",
       "      <th></th>\n",
       "      <th>Age</th>\n",
       "      <th>Family_Size</th>\n",
       "      <th>Income</th>\n",
       "      <th>Expenditure</th>\n",
       "      <th>Use_Frequency</th>\n",
       "      <th>Loan_Amount</th>\n",
       "      <th>Overdue</th>\n",
       "      <th>Debt_Record</th>\n",
       "      <th>Returned_Cheque</th>\n",
       "      <th>Dishonour_of_Bill</th>\n",
       "      <th>...</th>\n",
       "      <th>Occupation_health</th>\n",
       "      <th>Occupation_management</th>\n",
       "      <th>Marital_Status_single</th>\n",
       "      <th>Loan_Category_educational_loan</th>\n",
       "      <th>Loan_Category_gold_loan</th>\n",
       "      <th>Loan_Category_housing</th>\n",
       "      <th>Loan_Category_other_business</th>\n",
       "      <th>Loan_Category_restaurants</th>\n",
       "      <th>Loan_Category_shopping</th>\n",
       "      <th>Loan_Category_travelling</th>\n",
       "    </tr>\n",
       "  </thead>\n",
       "  <tbody>\n",
       "    <tr>\n",
       "      <th>Age</th>\n",
       "      <td>1.000000</td>\n",
       "      <td>0.037654</td>\n",
       "      <td>0.091089</td>\n",
       "      <td>0.079660</td>\n",
       "      <td>0.045596</td>\n",
       "      <td>0.041323</td>\n",
       "      <td>-0.012830</td>\n",
       "      <td>-0.003895</td>\n",
       "      <td>0.118401</td>\n",
       "      <td>0.023971</td>\n",
       "      <td>...</td>\n",
       "      <td>-0.093505</td>\n",
       "      <td>-0.024421</td>\n",
       "      <td>-0.171466</td>\n",
       "      <td>0.059221</td>\n",
       "      <td>-0.073388</td>\n",
       "      <td>0.003705</td>\n",
       "      <td>-0.001643</td>\n",
       "      <td>0.099134</td>\n",
       "      <td>0.058722</td>\n",
       "      <td>-0.040809</td>\n",
       "    </tr>\n",
       "    <tr>\n",
       "      <th>Family_Size</th>\n",
       "      <td>0.037654</td>\n",
       "      <td>1.000000</td>\n",
       "      <td>-0.082505</td>\n",
       "      <td>-0.035231</td>\n",
       "      <td>0.148381</td>\n",
       "      <td>0.005704</td>\n",
       "      <td>-0.034639</td>\n",
       "      <td>-0.054399</td>\n",
       "      <td>0.137505</td>\n",
       "      <td>-0.074750</td>\n",
       "      <td>...</td>\n",
       "      <td>0.042995</td>\n",
       "      <td>0.077010</td>\n",
       "      <td>-0.112918</td>\n",
       "      <td>-0.013047</td>\n",
       "      <td>-0.027876</td>\n",
       "      <td>-0.009853</td>\n",
       "      <td>-0.023601</td>\n",
       "      <td>-0.059402</td>\n",
       "      <td>0.060428</td>\n",
       "      <td>0.102479</td>\n",
       "    </tr>\n",
       "    <tr>\n",
       "      <th>Income</th>\n",
       "      <td>0.091089</td>\n",
       "      <td>-0.082505</td>\n",
       "      <td>1.000000</td>\n",
       "      <td>0.384877</td>\n",
       "      <td>-0.049002</td>\n",
       "      <td>0.184005</td>\n",
       "      <td>0.040805</td>\n",
       "      <td>0.080764</td>\n",
       "      <td>-0.030523</td>\n",
       "      <td>-0.029224</td>\n",
       "      <td>...</td>\n",
       "      <td>0.072484</td>\n",
       "      <td>0.026332</td>\n",
       "      <td>0.137684</td>\n",
       "      <td>0.058774</td>\n",
       "      <td>-0.069183</td>\n",
       "      <td>0.036037</td>\n",
       "      <td>0.141362</td>\n",
       "      <td>0.063687</td>\n",
       "      <td>-0.115482</td>\n",
       "      <td>-0.009711</td>\n",
       "    </tr>\n",
       "    <tr>\n",
       "      <th>Expenditure</th>\n",
       "      <td>0.079660</td>\n",
       "      <td>-0.035231</td>\n",
       "      <td>0.384877</td>\n",
       "      <td>1.000000</td>\n",
       "      <td>0.059031</td>\n",
       "      <td>0.215729</td>\n",
       "      <td>0.085764</td>\n",
       "      <td>0.017229</td>\n",
       "      <td>-0.015649</td>\n",
       "      <td>-0.059961</td>\n",
       "      <td>...</td>\n",
       "      <td>-0.011579</td>\n",
       "      <td>0.043369</td>\n",
       "      <td>0.054106</td>\n",
       "      <td>0.083181</td>\n",
       "      <td>-0.065014</td>\n",
       "      <td>0.046034</td>\n",
       "      <td>0.139057</td>\n",
       "      <td>0.011744</td>\n",
       "      <td>-0.053044</td>\n",
       "      <td>-0.047126</td>\n",
       "    </tr>\n",
       "    <tr>\n",
       "      <th>Use_Frequency</th>\n",
       "      <td>0.045596</td>\n",
       "      <td>0.148381</td>\n",
       "      <td>-0.049002</td>\n",
       "      <td>0.059031</td>\n",
       "      <td>1.000000</td>\n",
       "      <td>0.042356</td>\n",
       "      <td>0.069832</td>\n",
       "      <td>0.140010</td>\n",
       "      <td>-0.084191</td>\n",
       "      <td>0.050393</td>\n",
       "      <td>...</td>\n",
       "      <td>0.027935</td>\n",
       "      <td>0.025310</td>\n",
       "      <td>-0.135452</td>\n",
       "      <td>-0.037398</td>\n",
       "      <td>-0.120229</td>\n",
       "      <td>0.033323</td>\n",
       "      <td>0.017308</td>\n",
       "      <td>0.071144</td>\n",
       "      <td>0.064079</td>\n",
       "      <td>0.085211</td>\n",
       "    </tr>\n",
       "    <tr>\n",
       "      <th>Loan_Amount</th>\n",
       "      <td>0.041323</td>\n",
       "      <td>0.005704</td>\n",
       "      <td>0.184005</td>\n",
       "      <td>0.215729</td>\n",
       "      <td>0.042356</td>\n",
       "      <td>1.000000</td>\n",
       "      <td>0.050200</td>\n",
       "      <td>0.126297</td>\n",
       "      <td>0.099199</td>\n",
       "      <td>-0.031902</td>\n",
       "      <td>...</td>\n",
       "      <td>-0.016255</td>\n",
       "      <td>-0.035241</td>\n",
       "      <td>-0.062214</td>\n",
       "      <td>0.098001</td>\n",
       "      <td>0.120603</td>\n",
       "      <td>0.010187</td>\n",
       "      <td>0.062162</td>\n",
       "      <td>-0.103887</td>\n",
       "      <td>-0.124990</td>\n",
       "      <td>0.034670</td>\n",
       "    </tr>\n",
       "    <tr>\n",
       "      <th>Overdue</th>\n",
       "      <td>-0.012830</td>\n",
       "      <td>-0.034639</td>\n",
       "      <td>0.040805</td>\n",
       "      <td>0.085764</td>\n",
       "      <td>0.069832</td>\n",
       "      <td>0.050200</td>\n",
       "      <td>1.000000</td>\n",
       "      <td>-0.011048</td>\n",
       "      <td>-0.090683</td>\n",
       "      <td>0.142859</td>\n",
       "      <td>...</td>\n",
       "      <td>0.011047</td>\n",
       "      <td>-0.013365</td>\n",
       "      <td>0.013751</td>\n",
       "      <td>-0.027776</td>\n",
       "      <td>0.030237</td>\n",
       "      <td>0.019251</td>\n",
       "      <td>-0.019194</td>\n",
       "      <td>0.026710</td>\n",
       "      <td>0.012960</td>\n",
       "      <td>0.001343</td>\n",
       "    </tr>\n",
       "    <tr>\n",
       "      <th>Debt_Record</th>\n",
       "      <td>-0.003895</td>\n",
       "      <td>-0.054399</td>\n",
       "      <td>0.080764</td>\n",
       "      <td>0.017229</td>\n",
       "      <td>0.140010</td>\n",
       "      <td>0.126297</td>\n",
       "      <td>-0.011048</td>\n",
       "      <td>1.000000</td>\n",
       "      <td>0.001452</td>\n",
       "      <td>0.032884</td>\n",
       "      <td>...</td>\n",
       "      <td>0.058329</td>\n",
       "      <td>-0.044205</td>\n",
       "      <td>0.105120</td>\n",
       "      <td>-0.054146</td>\n",
       "      <td>-0.024982</td>\n",
       "      <td>-0.014902</td>\n",
       "      <td>-0.052976</td>\n",
       "      <td>0.041596</td>\n",
       "      <td>0.043712</td>\n",
       "      <td>0.026532</td>\n",
       "    </tr>\n",
       "    <tr>\n",
       "      <th>Returned_Cheque</th>\n",
       "      <td>0.118401</td>\n",
       "      <td>0.137505</td>\n",
       "      <td>-0.030523</td>\n",
       "      <td>-0.015649</td>\n",
       "      <td>-0.084191</td>\n",
       "      <td>0.099199</td>\n",
       "      <td>-0.090683</td>\n",
       "      <td>0.001452</td>\n",
       "      <td>1.000000</td>\n",
       "      <td>-0.078865</td>\n",
       "      <td>...</td>\n",
       "      <td>-0.008541</td>\n",
       "      <td>0.029011</td>\n",
       "      <td>-0.074266</td>\n",
       "      <td>0.087341</td>\n",
       "      <td>0.010160</td>\n",
       "      <td>-0.094163</td>\n",
       "      <td>-0.026575</td>\n",
       "      <td>0.009862</td>\n",
       "      <td>0.097006</td>\n",
       "      <td>-0.089196</td>\n",
       "    </tr>\n",
       "    <tr>\n",
       "      <th>Dishonour_of_Bill</th>\n",
       "      <td>0.023971</td>\n",
       "      <td>-0.074750</td>\n",
       "      <td>-0.029224</td>\n",
       "      <td>-0.059961</td>\n",
       "      <td>0.050393</td>\n",
       "      <td>-0.031902</td>\n",
       "      <td>0.142859</td>\n",
       "      <td>0.032884</td>\n",
       "      <td>-0.078865</td>\n",
       "      <td>1.000000</td>\n",
       "      <td>...</td>\n",
       "      <td>0.001182</td>\n",
       "      <td>-0.018564</td>\n",
       "      <td>0.082132</td>\n",
       "      <td>0.096534</td>\n",
       "      <td>-0.057314</td>\n",
       "      <td>0.013073</td>\n",
       "      <td>-0.043048</td>\n",
       "      <td>0.020886</td>\n",
       "      <td>-0.015338</td>\n",
       "      <td>-0.080111</td>\n",
       "    </tr>\n",
       "    <tr>\n",
       "      <th>Gender_male</th>\n",
       "      <td>-0.001869</td>\n",
       "      <td>0.116922</td>\n",
       "      <td>-0.115454</td>\n",
       "      <td>0.025108</td>\n",
       "      <td>0.051746</td>\n",
       "      <td>-0.060892</td>\n",
       "      <td>0.030574</td>\n",
       "      <td>-0.068976</td>\n",
       "      <td>-0.040268</td>\n",
       "      <td>-0.121232</td>\n",
       "      <td>...</td>\n",
       "      <td>-0.075102</td>\n",
       "      <td>0.038585</td>\n",
       "      <td>-0.130428</td>\n",
       "      <td>0.024233</td>\n",
       "      <td>-0.004907</td>\n",
       "      <td>-0.097269</td>\n",
       "      <td>0.074836</td>\n",
       "      <td>-0.026220</td>\n",
       "      <td>0.047013</td>\n",
       "      <td>0.017584</td>\n",
       "    </tr>\n",
       "    <tr>\n",
       "      <th>Occupation_communityserv</th>\n",
       "      <td>0.072225</td>\n",
       "      <td>0.030494</td>\n",
       "      <td>0.091691</td>\n",
       "      <td>0.021614</td>\n",
       "      <td>0.019420</td>\n",
       "      <td>0.027789</td>\n",
       "      <td>0.009529</td>\n",
       "      <td>0.070446</td>\n",
       "      <td>0.011259</td>\n",
       "      <td>-0.090846</td>\n",
       "      <td>...</td>\n",
       "      <td>-0.248201</td>\n",
       "      <td>-0.177025</td>\n",
       "      <td>0.170796</td>\n",
       "      <td>0.043483</td>\n",
       "      <td>-0.021494</td>\n",
       "      <td>-0.074419</td>\n",
       "      <td>0.061532</td>\n",
       "      <td>0.044255</td>\n",
       "      <td>-0.088760</td>\n",
       "      <td>-0.005144</td>\n",
       "    </tr>\n",
       "    <tr>\n",
       "      <th>Occupation_education</th>\n",
       "      <td>-0.049921</td>\n",
       "      <td>-0.012727</td>\n",
       "      <td>-0.099599</td>\n",
       "      <td>-0.113460</td>\n",
       "      <td>-0.082496</td>\n",
       "      <td>-0.091214</td>\n",
       "      <td>-0.012259</td>\n",
       "      <td>-0.045878</td>\n",
       "      <td>-0.012025</td>\n",
       "      <td>0.049481</td>\n",
       "      <td>...</td>\n",
       "      <td>-0.172129</td>\n",
       "      <td>-0.122768</td>\n",
       "      <td>-0.023102</td>\n",
       "      <td>0.052039</td>\n",
       "      <td>0.011660</td>\n",
       "      <td>-0.055317</td>\n",
       "      <td>-0.074757</td>\n",
       "      <td>-0.041152</td>\n",
       "      <td>0.005784</td>\n",
       "      <td>0.023840</td>\n",
       "    </tr>\n",
       "    <tr>\n",
       "      <th>Occupation_engineering</th>\n",
       "      <td>0.045848</td>\n",
       "      <td>-0.127385</td>\n",
       "      <td>0.009932</td>\n",
       "      <td>0.019888</td>\n",
       "      <td>0.030576</td>\n",
       "      <td>0.034812</td>\n",
       "      <td>0.051199</td>\n",
       "      <td>-0.007398</td>\n",
       "      <td>0.108915</td>\n",
       "      <td>0.058021</td>\n",
       "      <td>...</td>\n",
       "      <td>-0.203690</td>\n",
       "      <td>-0.145278</td>\n",
       "      <td>-0.067127</td>\n",
       "      <td>-0.041252</td>\n",
       "      <td>0.022229</td>\n",
       "      <td>-0.028253</td>\n",
       "      <td>-0.055656</td>\n",
       "      <td>0.069912</td>\n",
       "      <td>0.080786</td>\n",
       "      <td>-0.080887</td>\n",
       "    </tr>\n",
       "    <tr>\n",
       "      <th>Occupation_health</th>\n",
       "      <td>-0.093505</td>\n",
       "      <td>0.042995</td>\n",
       "      <td>0.072484</td>\n",
       "      <td>-0.011579</td>\n",
       "      <td>0.027935</td>\n",
       "      <td>-0.016255</td>\n",
       "      <td>0.011047</td>\n",
       "      <td>0.058329</td>\n",
       "      <td>-0.008541</td>\n",
       "      <td>0.001182</td>\n",
       "      <td>...</td>\n",
       "      <td>1.000000</td>\n",
       "      <td>-0.113375</td>\n",
       "      <td>0.046870</td>\n",
       "      <td>-0.081278</td>\n",
       "      <td>-0.059672</td>\n",
       "      <td>0.048502</td>\n",
       "      <td>0.098626</td>\n",
       "      <td>-0.081512</td>\n",
       "      <td>0.070959</td>\n",
       "      <td>0.045577</td>\n",
       "    </tr>\n",
       "    <tr>\n",
       "      <th>Occupation_management</th>\n",
       "      <td>-0.024421</td>\n",
       "      <td>0.077010</td>\n",
       "      <td>0.026332</td>\n",
       "      <td>0.043369</td>\n",
       "      <td>0.025310</td>\n",
       "      <td>-0.035241</td>\n",
       "      <td>-0.013365</td>\n",
       "      <td>-0.044205</td>\n",
       "      <td>0.029011</td>\n",
       "      <td>-0.018564</td>\n",
       "      <td>...</td>\n",
       "      <td>-0.113375</td>\n",
       "      <td>1.000000</td>\n",
       "      <td>-0.076810</td>\n",
       "      <td>-0.009541</td>\n",
       "      <td>0.027156</td>\n",
       "      <td>-0.032529</td>\n",
       "      <td>-0.075659</td>\n",
       "      <td>0.044757</td>\n",
       "      <td>-0.002205</td>\n",
       "      <td>0.082134</td>\n",
       "    </tr>\n",
       "    <tr>\n",
       "      <th>Marital_Status_single</th>\n",
       "      <td>-0.171466</td>\n",
       "      <td>-0.112918</td>\n",
       "      <td>0.137684</td>\n",
       "      <td>0.054106</td>\n",
       "      <td>-0.135452</td>\n",
       "      <td>-0.062214</td>\n",
       "      <td>0.013751</td>\n",
       "      <td>0.105120</td>\n",
       "      <td>-0.074266</td>\n",
       "      <td>0.082132</td>\n",
       "      <td>...</td>\n",
       "      <td>0.046870</td>\n",
       "      <td>-0.076810</td>\n",
       "      <td>1.000000</td>\n",
       "      <td>-0.060498</td>\n",
       "      <td>-0.051064</td>\n",
       "      <td>-0.019854</td>\n",
       "      <td>0.136270</td>\n",
       "      <td>0.061260</td>\n",
       "      <td>-0.102224</td>\n",
       "      <td>-0.108438</td>\n",
       "    </tr>\n",
       "    <tr>\n",
       "      <th>Loan_Category_educational_loan</th>\n",
       "      <td>0.059221</td>\n",
       "      <td>-0.013047</td>\n",
       "      <td>0.058774</td>\n",
       "      <td>0.083181</td>\n",
       "      <td>-0.037398</td>\n",
       "      <td>0.098001</td>\n",
       "      <td>-0.027776</td>\n",
       "      <td>-0.054146</td>\n",
       "      <td>0.087341</td>\n",
       "      <td>0.096534</td>\n",
       "      <td>...</td>\n",
       "      <td>-0.081278</td>\n",
       "      <td>-0.009541</td>\n",
       "      <td>-0.060498</td>\n",
       "      <td>1.000000</td>\n",
       "      <td>-0.090486</td>\n",
       "      <td>-0.082132</td>\n",
       "      <td>-0.075173</td>\n",
       "      <td>-0.083829</td>\n",
       "      <td>-0.092122</td>\n",
       "      <td>-0.071568</td>\n",
       "    </tr>\n",
       "    <tr>\n",
       "      <th>Loan_Category_gold_loan</th>\n",
       "      <td>-0.073388</td>\n",
       "      <td>-0.027876</td>\n",
       "      <td>-0.069183</td>\n",
       "      <td>-0.065014</td>\n",
       "      <td>-0.120229</td>\n",
       "      <td>0.120603</td>\n",
       "      <td>0.030237</td>\n",
       "      <td>-0.024982</td>\n",
       "      <td>0.010160</td>\n",
       "      <td>-0.057314</td>\n",
       "      <td>...</td>\n",
       "      <td>-0.059672</td>\n",
       "      <td>0.027156</td>\n",
       "      <td>-0.051064</td>\n",
       "      <td>-0.090486</td>\n",
       "      <td>1.000000</td>\n",
       "      <td>-0.178827</td>\n",
       "      <td>-0.163675</td>\n",
       "      <td>-0.182523</td>\n",
       "      <td>-0.200577</td>\n",
       "      <td>-0.155827</td>\n",
       "    </tr>\n",
       "    <tr>\n",
       "      <th>Loan_Category_housing</th>\n",
       "      <td>0.003705</td>\n",
       "      <td>-0.009853</td>\n",
       "      <td>0.036037</td>\n",
       "      <td>0.046034</td>\n",
       "      <td>0.033323</td>\n",
       "      <td>0.010187</td>\n",
       "      <td>0.019251</td>\n",
       "      <td>-0.014902</td>\n",
       "      <td>-0.094163</td>\n",
       "      <td>0.013073</td>\n",
       "      <td>...</td>\n",
       "      <td>0.048502</td>\n",
       "      <td>-0.032529</td>\n",
       "      <td>-0.019854</td>\n",
       "      <td>-0.082132</td>\n",
       "      <td>-0.178827</td>\n",
       "      <td>1.000000</td>\n",
       "      <td>-0.148565</td>\n",
       "      <td>-0.165673</td>\n",
       "      <td>-0.182061</td>\n",
       "      <td>-0.141441</td>\n",
       "    </tr>\n",
       "    <tr>\n",
       "      <th>Loan_Category_other_business</th>\n",
       "      <td>-0.001643</td>\n",
       "      <td>-0.023601</td>\n",
       "      <td>0.141362</td>\n",
       "      <td>0.139057</td>\n",
       "      <td>0.017308</td>\n",
       "      <td>0.062162</td>\n",
       "      <td>-0.019194</td>\n",
       "      <td>-0.052976</td>\n",
       "      <td>-0.026575</td>\n",
       "      <td>-0.043048</td>\n",
       "      <td>...</td>\n",
       "      <td>0.098626</td>\n",
       "      <td>-0.075659</td>\n",
       "      <td>0.136270</td>\n",
       "      <td>-0.075173</td>\n",
       "      <td>-0.163675</td>\n",
       "      <td>-0.148565</td>\n",
       "      <td>1.000000</td>\n",
       "      <td>-0.151635</td>\n",
       "      <td>-0.166635</td>\n",
       "      <td>-0.129457</td>\n",
       "    </tr>\n",
       "    <tr>\n",
       "      <th>Loan_Category_restaurants</th>\n",
       "      <td>0.099134</td>\n",
       "      <td>-0.059402</td>\n",
       "      <td>0.063687</td>\n",
       "      <td>0.011744</td>\n",
       "      <td>0.071144</td>\n",
       "      <td>-0.103887</td>\n",
       "      <td>0.026710</td>\n",
       "      <td>0.041596</td>\n",
       "      <td>0.009862</td>\n",
       "      <td>0.020886</td>\n",
       "      <td>...</td>\n",
       "      <td>-0.081512</td>\n",
       "      <td>0.044757</td>\n",
       "      <td>0.061260</td>\n",
       "      <td>-0.083829</td>\n",
       "      <td>-0.182523</td>\n",
       "      <td>-0.165673</td>\n",
       "      <td>-0.151635</td>\n",
       "      <td>1.000000</td>\n",
       "      <td>-0.185823</td>\n",
       "      <td>-0.144364</td>\n",
       "    </tr>\n",
       "    <tr>\n",
       "      <th>Loan_Category_shopping</th>\n",
       "      <td>0.058722</td>\n",
       "      <td>0.060428</td>\n",
       "      <td>-0.115482</td>\n",
       "      <td>-0.053044</td>\n",
       "      <td>0.064079</td>\n",
       "      <td>-0.124990</td>\n",
       "      <td>0.012960</td>\n",
       "      <td>0.043712</td>\n",
       "      <td>0.097006</td>\n",
       "      <td>-0.015338</td>\n",
       "      <td>...</td>\n",
       "      <td>0.070959</td>\n",
       "      <td>-0.002205</td>\n",
       "      <td>-0.102224</td>\n",
       "      <td>-0.092122</td>\n",
       "      <td>-0.200577</td>\n",
       "      <td>-0.182061</td>\n",
       "      <td>-0.166635</td>\n",
       "      <td>-0.185823</td>\n",
       "      <td>1.000000</td>\n",
       "      <td>-0.158644</td>\n",
       "    </tr>\n",
       "    <tr>\n",
       "      <th>Loan_Category_travelling</th>\n",
       "      <td>-0.040809</td>\n",
       "      <td>0.102479</td>\n",
       "      <td>-0.009711</td>\n",
       "      <td>-0.047126</td>\n",
       "      <td>0.085211</td>\n",
       "      <td>0.034670</td>\n",
       "      <td>0.001343</td>\n",
       "      <td>0.026532</td>\n",
       "      <td>-0.089196</td>\n",
       "      <td>-0.080111</td>\n",
       "      <td>...</td>\n",
       "      <td>0.045577</td>\n",
       "      <td>0.082134</td>\n",
       "      <td>-0.108438</td>\n",
       "      <td>-0.071568</td>\n",
       "      <td>-0.155827</td>\n",
       "      <td>-0.141441</td>\n",
       "      <td>-0.129457</td>\n",
       "      <td>-0.144364</td>\n",
       "      <td>-0.158644</td>\n",
       "      <td>1.000000</td>\n",
       "    </tr>\n",
       "  </tbody>\n",
       "</table>\n",
       "<p>24 rows × 24 columns</p>\n",
       "</div>"
      ],
      "text/plain": [
       "                                     Age  Family_Size    Income  Expenditure  \\\n",
       "Age                             1.000000     0.037654  0.091089     0.079660   \n",
       "Family_Size                     0.037654     1.000000 -0.082505    -0.035231   \n",
       "Income                          0.091089    -0.082505  1.000000     0.384877   \n",
       "Expenditure                     0.079660    -0.035231  0.384877     1.000000   \n",
       "Use_Frequency                   0.045596     0.148381 -0.049002     0.059031   \n",
       "Loan_Amount                     0.041323     0.005704  0.184005     0.215729   \n",
       "Overdue                        -0.012830    -0.034639  0.040805     0.085764   \n",
       "Debt_Record                    -0.003895    -0.054399  0.080764     0.017229   \n",
       "Returned_Cheque                 0.118401     0.137505 -0.030523    -0.015649   \n",
       "Dishonour_of_Bill               0.023971    -0.074750 -0.029224    -0.059961   \n",
       "Gender_male                    -0.001869     0.116922 -0.115454     0.025108   \n",
       "Occupation_communityserv        0.072225     0.030494  0.091691     0.021614   \n",
       "Occupation_education           -0.049921    -0.012727 -0.099599    -0.113460   \n",
       "Occupation_engineering          0.045848    -0.127385  0.009932     0.019888   \n",
       "Occupation_health              -0.093505     0.042995  0.072484    -0.011579   \n",
       "Occupation_management          -0.024421     0.077010  0.026332     0.043369   \n",
       "Marital_Status_single          -0.171466    -0.112918  0.137684     0.054106   \n",
       "Loan_Category_educational_loan  0.059221    -0.013047  0.058774     0.083181   \n",
       "Loan_Category_gold_loan        -0.073388    -0.027876 -0.069183    -0.065014   \n",
       "Loan_Category_housing           0.003705    -0.009853  0.036037     0.046034   \n",
       "Loan_Category_other_business   -0.001643    -0.023601  0.141362     0.139057   \n",
       "Loan_Category_restaurants       0.099134    -0.059402  0.063687     0.011744   \n",
       "Loan_Category_shopping          0.058722     0.060428 -0.115482    -0.053044   \n",
       "Loan_Category_travelling       -0.040809     0.102479 -0.009711    -0.047126   \n",
       "\n",
       "                                Use_Frequency  Loan_Amount   Overdue  \\\n",
       "Age                                  0.045596     0.041323 -0.012830   \n",
       "Family_Size                          0.148381     0.005704 -0.034639   \n",
       "Income                              -0.049002     0.184005  0.040805   \n",
       "Expenditure                          0.059031     0.215729  0.085764   \n",
       "Use_Frequency                        1.000000     0.042356  0.069832   \n",
       "Loan_Amount                          0.042356     1.000000  0.050200   \n",
       "Overdue                              0.069832     0.050200  1.000000   \n",
       "Debt_Record                          0.140010     0.126297 -0.011048   \n",
       "Returned_Cheque                     -0.084191     0.099199 -0.090683   \n",
       "Dishonour_of_Bill                    0.050393    -0.031902  0.142859   \n",
       "Gender_male                          0.051746    -0.060892  0.030574   \n",
       "Occupation_communityserv             0.019420     0.027789  0.009529   \n",
       "Occupation_education                -0.082496    -0.091214 -0.012259   \n",
       "Occupation_engineering               0.030576     0.034812  0.051199   \n",
       "Occupation_health                    0.027935    -0.016255  0.011047   \n",
       "Occupation_management                0.025310    -0.035241 -0.013365   \n",
       "Marital_Status_single               -0.135452    -0.062214  0.013751   \n",
       "Loan_Category_educational_loan      -0.037398     0.098001 -0.027776   \n",
       "Loan_Category_gold_loan             -0.120229     0.120603  0.030237   \n",
       "Loan_Category_housing                0.033323     0.010187  0.019251   \n",
       "Loan_Category_other_business         0.017308     0.062162 -0.019194   \n",
       "Loan_Category_restaurants            0.071144    -0.103887  0.026710   \n",
       "Loan_Category_shopping               0.064079    -0.124990  0.012960   \n",
       "Loan_Category_travelling             0.085211     0.034670  0.001343   \n",
       "\n",
       "                                Debt_Record  Returned_Cheque  \\\n",
       "Age                               -0.003895         0.118401   \n",
       "Family_Size                       -0.054399         0.137505   \n",
       "Income                             0.080764        -0.030523   \n",
       "Expenditure                        0.017229        -0.015649   \n",
       "Use_Frequency                      0.140010        -0.084191   \n",
       "Loan_Amount                        0.126297         0.099199   \n",
       "Overdue                           -0.011048        -0.090683   \n",
       "Debt_Record                        1.000000         0.001452   \n",
       "Returned_Cheque                    0.001452         1.000000   \n",
       "Dishonour_of_Bill                  0.032884        -0.078865   \n",
       "Gender_male                       -0.068976        -0.040268   \n",
       "Occupation_communityserv           0.070446         0.011259   \n",
       "Occupation_education              -0.045878        -0.012025   \n",
       "Occupation_engineering            -0.007398         0.108915   \n",
       "Occupation_health                  0.058329        -0.008541   \n",
       "Occupation_management             -0.044205         0.029011   \n",
       "Marital_Status_single              0.105120        -0.074266   \n",
       "Loan_Category_educational_loan    -0.054146         0.087341   \n",
       "Loan_Category_gold_loan           -0.024982         0.010160   \n",
       "Loan_Category_housing             -0.014902        -0.094163   \n",
       "Loan_Category_other_business      -0.052976        -0.026575   \n",
       "Loan_Category_restaurants          0.041596         0.009862   \n",
       "Loan_Category_shopping             0.043712         0.097006   \n",
       "Loan_Category_travelling           0.026532        -0.089196   \n",
       "\n",
       "                                Dishonour_of_Bill  ...  Occupation_health  \\\n",
       "Age                                      0.023971  ...          -0.093505   \n",
       "Family_Size                             -0.074750  ...           0.042995   \n",
       "Income                                  -0.029224  ...           0.072484   \n",
       "Expenditure                             -0.059961  ...          -0.011579   \n",
       "Use_Frequency                            0.050393  ...           0.027935   \n",
       "Loan_Amount                             -0.031902  ...          -0.016255   \n",
       "Overdue                                  0.142859  ...           0.011047   \n",
       "Debt_Record                              0.032884  ...           0.058329   \n",
       "Returned_Cheque                         -0.078865  ...          -0.008541   \n",
       "Dishonour_of_Bill                        1.000000  ...           0.001182   \n",
       "Gender_male                             -0.121232  ...          -0.075102   \n",
       "Occupation_communityserv                -0.090846  ...          -0.248201   \n",
       "Occupation_education                     0.049481  ...          -0.172129   \n",
       "Occupation_engineering                   0.058021  ...          -0.203690   \n",
       "Occupation_health                        0.001182  ...           1.000000   \n",
       "Occupation_management                   -0.018564  ...          -0.113375   \n",
       "Marital_Status_single                    0.082132  ...           0.046870   \n",
       "Loan_Category_educational_loan           0.096534  ...          -0.081278   \n",
       "Loan_Category_gold_loan                 -0.057314  ...          -0.059672   \n",
       "Loan_Category_housing                    0.013073  ...           0.048502   \n",
       "Loan_Category_other_business            -0.043048  ...           0.098626   \n",
       "Loan_Category_restaurants                0.020886  ...          -0.081512   \n",
       "Loan_Category_shopping                  -0.015338  ...           0.070959   \n",
       "Loan_Category_travelling                -0.080111  ...           0.045577   \n",
       "\n",
       "                                Occupation_management  Marital_Status_single  \\\n",
       "Age                                         -0.024421              -0.171466   \n",
       "Family_Size                                  0.077010              -0.112918   \n",
       "Income                                       0.026332               0.137684   \n",
       "Expenditure                                  0.043369               0.054106   \n",
       "Use_Frequency                                0.025310              -0.135452   \n",
       "Loan_Amount                                 -0.035241              -0.062214   \n",
       "Overdue                                     -0.013365               0.013751   \n",
       "Debt_Record                                 -0.044205               0.105120   \n",
       "Returned_Cheque                              0.029011              -0.074266   \n",
       "Dishonour_of_Bill                           -0.018564               0.082132   \n",
       "Gender_male                                  0.038585              -0.130428   \n",
       "Occupation_communityserv                    -0.177025               0.170796   \n",
       "Occupation_education                        -0.122768              -0.023102   \n",
       "Occupation_engineering                      -0.145278              -0.067127   \n",
       "Occupation_health                           -0.113375               0.046870   \n",
       "Occupation_management                        1.000000              -0.076810   \n",
       "Marital_Status_single                       -0.076810               1.000000   \n",
       "Loan_Category_educational_loan              -0.009541              -0.060498   \n",
       "Loan_Category_gold_loan                      0.027156              -0.051064   \n",
       "Loan_Category_housing                       -0.032529              -0.019854   \n",
       "Loan_Category_other_business                -0.075659               0.136270   \n",
       "Loan_Category_restaurants                    0.044757               0.061260   \n",
       "Loan_Category_shopping                      -0.002205              -0.102224   \n",
       "Loan_Category_travelling                     0.082134              -0.108438   \n",
       "\n",
       "                                Loan_Category_educational_loan  \\\n",
       "Age                                                   0.059221   \n",
       "Family_Size                                          -0.013047   \n",
       "Income                                                0.058774   \n",
       "Expenditure                                           0.083181   \n",
       "Use_Frequency                                        -0.037398   \n",
       "Loan_Amount                                           0.098001   \n",
       "Overdue                                              -0.027776   \n",
       "Debt_Record                                          -0.054146   \n",
       "Returned_Cheque                                       0.087341   \n",
       "Dishonour_of_Bill                                     0.096534   \n",
       "Gender_male                                           0.024233   \n",
       "Occupation_communityserv                              0.043483   \n",
       "Occupation_education                                  0.052039   \n",
       "Occupation_engineering                               -0.041252   \n",
       "Occupation_health                                    -0.081278   \n",
       "Occupation_management                                -0.009541   \n",
       "Marital_Status_single                                -0.060498   \n",
       "Loan_Category_educational_loan                        1.000000   \n",
       "Loan_Category_gold_loan                              -0.090486   \n",
       "Loan_Category_housing                                -0.082132   \n",
       "Loan_Category_other_business                         -0.075173   \n",
       "Loan_Category_restaurants                            -0.083829   \n",
       "Loan_Category_shopping                               -0.092122   \n",
       "Loan_Category_travelling                             -0.071568   \n",
       "\n",
       "                                Loan_Category_gold_loan  \\\n",
       "Age                                           -0.073388   \n",
       "Family_Size                                   -0.027876   \n",
       "Income                                        -0.069183   \n",
       "Expenditure                                   -0.065014   \n",
       "Use_Frequency                                 -0.120229   \n",
       "Loan_Amount                                    0.120603   \n",
       "Overdue                                        0.030237   \n",
       "Debt_Record                                   -0.024982   \n",
       "Returned_Cheque                                0.010160   \n",
       "Dishonour_of_Bill                             -0.057314   \n",
       "Gender_male                                   -0.004907   \n",
       "Occupation_communityserv                      -0.021494   \n",
       "Occupation_education                           0.011660   \n",
       "Occupation_engineering                         0.022229   \n",
       "Occupation_health                             -0.059672   \n",
       "Occupation_management                          0.027156   \n",
       "Marital_Status_single                         -0.051064   \n",
       "Loan_Category_educational_loan                -0.090486   \n",
       "Loan_Category_gold_loan                        1.000000   \n",
       "Loan_Category_housing                         -0.178827   \n",
       "Loan_Category_other_business                  -0.163675   \n",
       "Loan_Category_restaurants                     -0.182523   \n",
       "Loan_Category_shopping                        -0.200577   \n",
       "Loan_Category_travelling                      -0.155827   \n",
       "\n",
       "                                Loan_Category_housing  \\\n",
       "Age                                          0.003705   \n",
       "Family_Size                                 -0.009853   \n",
       "Income                                       0.036037   \n",
       "Expenditure                                  0.046034   \n",
       "Use_Frequency                                0.033323   \n",
       "Loan_Amount                                  0.010187   \n",
       "Overdue                                      0.019251   \n",
       "Debt_Record                                 -0.014902   \n",
       "Returned_Cheque                             -0.094163   \n",
       "Dishonour_of_Bill                            0.013073   \n",
       "Gender_male                                 -0.097269   \n",
       "Occupation_communityserv                    -0.074419   \n",
       "Occupation_education                        -0.055317   \n",
       "Occupation_engineering                      -0.028253   \n",
       "Occupation_health                            0.048502   \n",
       "Occupation_management                       -0.032529   \n",
       "Marital_Status_single                       -0.019854   \n",
       "Loan_Category_educational_loan              -0.082132   \n",
       "Loan_Category_gold_loan                     -0.178827   \n",
       "Loan_Category_housing                        1.000000   \n",
       "Loan_Category_other_business                -0.148565   \n",
       "Loan_Category_restaurants                   -0.165673   \n",
       "Loan_Category_shopping                      -0.182061   \n",
       "Loan_Category_travelling                    -0.141441   \n",
       "\n",
       "                                Loan_Category_other_business  \\\n",
       "Age                                                -0.001643   \n",
       "Family_Size                                        -0.023601   \n",
       "Income                                              0.141362   \n",
       "Expenditure                                         0.139057   \n",
       "Use_Frequency                                       0.017308   \n",
       "Loan_Amount                                         0.062162   \n",
       "Overdue                                            -0.019194   \n",
       "Debt_Record                                        -0.052976   \n",
       "Returned_Cheque                                    -0.026575   \n",
       "Dishonour_of_Bill                                  -0.043048   \n",
       "Gender_male                                         0.074836   \n",
       "Occupation_communityserv                            0.061532   \n",
       "Occupation_education                               -0.074757   \n",
       "Occupation_engineering                             -0.055656   \n",
       "Occupation_health                                   0.098626   \n",
       "Occupation_management                              -0.075659   \n",
       "Marital_Status_single                               0.136270   \n",
       "Loan_Category_educational_loan                     -0.075173   \n",
       "Loan_Category_gold_loan                            -0.163675   \n",
       "Loan_Category_housing                              -0.148565   \n",
       "Loan_Category_other_business                        1.000000   \n",
       "Loan_Category_restaurants                          -0.151635   \n",
       "Loan_Category_shopping                             -0.166635   \n",
       "Loan_Category_travelling                           -0.129457   \n",
       "\n",
       "                                Loan_Category_restaurants  \\\n",
       "Age                                              0.099134   \n",
       "Family_Size                                     -0.059402   \n",
       "Income                                           0.063687   \n",
       "Expenditure                                      0.011744   \n",
       "Use_Frequency                                    0.071144   \n",
       "Loan_Amount                                     -0.103887   \n",
       "Overdue                                          0.026710   \n",
       "Debt_Record                                      0.041596   \n",
       "Returned_Cheque                                  0.009862   \n",
       "Dishonour_of_Bill                                0.020886   \n",
       "Gender_male                                     -0.026220   \n",
       "Occupation_communityserv                         0.044255   \n",
       "Occupation_education                            -0.041152   \n",
       "Occupation_engineering                           0.069912   \n",
       "Occupation_health                               -0.081512   \n",
       "Occupation_management                            0.044757   \n",
       "Marital_Status_single                            0.061260   \n",
       "Loan_Category_educational_loan                  -0.083829   \n",
       "Loan_Category_gold_loan                         -0.182523   \n",
       "Loan_Category_housing                           -0.165673   \n",
       "Loan_Category_other_business                    -0.151635   \n",
       "Loan_Category_restaurants                        1.000000   \n",
       "Loan_Category_shopping                          -0.185823   \n",
       "Loan_Category_travelling                        -0.144364   \n",
       "\n",
       "                                Loan_Category_shopping  \\\n",
       "Age                                           0.058722   \n",
       "Family_Size                                   0.060428   \n",
       "Income                                       -0.115482   \n",
       "Expenditure                                  -0.053044   \n",
       "Use_Frequency                                 0.064079   \n",
       "Loan_Amount                                  -0.124990   \n",
       "Overdue                                       0.012960   \n",
       "Debt_Record                                   0.043712   \n",
       "Returned_Cheque                               0.097006   \n",
       "Dishonour_of_Bill                            -0.015338   \n",
       "Gender_male                                   0.047013   \n",
       "Occupation_communityserv                     -0.088760   \n",
       "Occupation_education                          0.005784   \n",
       "Occupation_engineering                        0.080786   \n",
       "Occupation_health                             0.070959   \n",
       "Occupation_management                        -0.002205   \n",
       "Marital_Status_single                        -0.102224   \n",
       "Loan_Category_educational_loan               -0.092122   \n",
       "Loan_Category_gold_loan                      -0.200577   \n",
       "Loan_Category_housing                        -0.182061   \n",
       "Loan_Category_other_business                 -0.166635   \n",
       "Loan_Category_restaurants                    -0.185823   \n",
       "Loan_Category_shopping                        1.000000   \n",
       "Loan_Category_travelling                     -0.158644   \n",
       "\n",
       "                                Loan_Category_travelling  \n",
       "Age                                            -0.040809  \n",
       "Family_Size                                     0.102479  \n",
       "Income                                         -0.009711  \n",
       "Expenditure                                    -0.047126  \n",
       "Use_Frequency                                   0.085211  \n",
       "Loan_Amount                                     0.034670  \n",
       "Overdue                                         0.001343  \n",
       "Debt_Record                                     0.026532  \n",
       "Returned_Cheque                                -0.089196  \n",
       "Dishonour_of_Bill                              -0.080111  \n",
       "Gender_male                                     0.017584  \n",
       "Occupation_communityserv                       -0.005144  \n",
       "Occupation_education                            0.023840  \n",
       "Occupation_engineering                         -0.080887  \n",
       "Occupation_health                               0.045577  \n",
       "Occupation_management                           0.082134  \n",
       "Marital_Status_single                          -0.108438  \n",
       "Loan_Category_educational_loan                 -0.071568  \n",
       "Loan_Category_gold_loan                        -0.155827  \n",
       "Loan_Category_housing                          -0.141441  \n",
       "Loan_Category_other_business                   -0.129457  \n",
       "Loan_Category_restaurants                      -0.144364  \n",
       "Loan_Category_shopping                         -0.158644  \n",
       "Loan_Category_travelling                        1.000000  \n",
       "\n",
       "[24 rows x 24 columns]"
      ]
     },
     "execution_count": 194,
     "metadata": {},
     "output_type": "execute_result"
    }
   ],
   "source": [
    "df2.corr()"
   ]
  },
  {
   "cell_type": "code",
   "execution_count": 195,
   "id": "bb0e1b1b",
   "metadata": {},
   "outputs": [
    {
     "data": {
      "text/plain": [
       "<AxesSubplot:>"
      ]
     },
     "execution_count": 195,
     "metadata": {},
     "output_type": "execute_result"
    },
    {
     "data": {
      "image/png": "[encoded data removed]",
      "text/plain": [
       "<Figure size 432x288 with 2 Axes>"
      ]
     },
     "metadata": {},
     "output_type": "display_data"
    }
   ],
   "source": [
    "cm = np.corrcoef(df2.values.T) #We transpose the data with 'T'\n",
    "\n",
    "sns.set(font_scale=1.2)\n",
    "sns.heatmap(cm,\n",
    "           cbar=True, #True, display colorbar\n",
    "           annot=False, #True, write the data value in each cell\n",
    "           square=True, #True, set the Axes aspect to “equal” so each cell will be square-shaped.\n",
    "           yticklabels=df2.columns,\n",
    "           xticklabels=df2.columns,\n",
    "           cmap=\"vlag\",\n",
    "           )"
   ]
  },
  {
   "cell_type": "markdown",
   "id": "c597e410",
   "metadata": {},
   "source": [
    "### 5.2 Save the prepared dataset"
   ]
  },
  {
   "cell_type": "code",
   "execution_count": 196,
   "id": "f7cdfc54",
   "metadata": {},
   "outputs": [],
   "source": [
    "df2.reset_index(drop = True, inplace = True)"
   ]
  },
  {
   "cell_type": "code",
   "execution_count": 197,
   "id": "32e0b62f",
   "metadata": {},
   "outputs": [
    {
     "name": "stdout",
     "output_type": "stream",
     "text": [
      "Write CSV:\n",
      "      Age  Family_Size   Income  Expenditure  Use_Frequency  Loan_Amount  \\\n",
      "0     30            4  50000.0      22199.0              6    1000000.0   \n",
      "1     29            5  45767.0      12787.0              3     600000.0   \n",
      "2     34            4  43521.0      11999.0              3     200000.0   \n",
      "3     39            6  46619.0      18675.0              4    1209867.0   \n",
      "4     24            3  45008.0      17454.0              4     399435.0   \n",
      "..   ...          ...      ...          ...            ...          ...   \n",
      "396   53            4  75210.0      26027.0              7     740375.0   \n",
      "397   32            3  45060.0      24989.0              6     400085.0   \n",
      "398   45            6  35838.0      19788.0              6    1182282.0   \n",
      "399   50            3  35938.0      21048.0              6     330589.0   \n",
      "400   46            2  85088.0      44256.0              5     347254.0   \n",
      "\n",
      "     Overdue  Debt_Record  Returned_Cheque  Dishonour_of_Bill  ...  \\\n",
      "0          5      42898.0                6                  9  ...   \n",
      "1          7      11000.0                0                  4  ...   \n",
      "2          2      43898.0                1                  2  ...   \n",
      "3          8      29999.0                6                  8  ...   \n",
      "4          9      51987.0                4                  7  ...   \n",
      "..       ...          ...              ...                ...  ...   \n",
      "396        7      35419.0                2                  4  ...   \n",
      "397        6      41436.0                4                  9  ...   \n",
      "398        6      37338.0                9                  3  ...   \n",
      "399        8      46120.0                4                  8  ...   \n",
      "400        9      37966.0                1                  5  ...   \n",
      "\n",
      "     Occupation_health  Occupation_management  Marital_Status_single  \\\n",
      "0                    0                      1                      1   \n",
      "1                    0                      0                      0   \n",
      "2                    0                      0                      1   \n",
      "3                    0                      0                      0   \n",
      "4                    0                      0                      1   \n",
      "..                 ...                    ...                    ...   \n",
      "396                  0                      0                      1   \n",
      "397                  1                      0                      1   \n",
      "398                  0                      0                      0   \n",
      "399                  0                      0                      0   \n",
      "400                  0                      0                      0   \n",
      "\n",
      "     Loan_Category_educational_loan  Loan_Category_gold_loan  \\\n",
      "0                                 0                        0   \n",
      "1                                 0                        1   \n",
      "2                                 0                        0   \n",
      "3                                 0                        0   \n",
      "4                                 0                        0   \n",
      "..                              ...                      ...   \n",
      "396                               0                        0   \n",
      "397                               0                        0   \n",
      "398                               0                        0   \n",
      "399                               0                        0   \n",
      "400                               0                        0   \n",
      "\n",
      "     Loan_Category_housing  Loan_Category_other_business  \\\n",
      "0                        1                             0   \n",
      "1                        0                             0   \n",
      "2                        0                             0   \n",
      "3                        1                             0   \n",
      "4                        0                             0   \n",
      "..                     ...                           ...   \n",
      "396                      1                             0   \n",
      "397                      0                             0   \n",
      "398                      0                             1   \n",
      "399                      0                             0   \n",
      "400                      1                             0   \n",
      "\n",
      "     Loan_Category_restaurants  Loan_Category_shopping  \\\n",
      "0                            0                       0   \n",
      "1                            0                       0   \n",
      "2                            0                       0   \n",
      "3                            0                       0   \n",
      "4                            0                       0   \n",
      "..                         ...                     ...   \n",
      "396                          0                       0   \n",
      "397                          0                       0   \n",
      "398                          0                       0   \n",
      "399                          1                       0   \n",
      "400                          0                       0   \n",
      "\n",
      "     Loan_Category_travelling  \n",
      "0                           0  \n",
      "1                           0  \n",
      "2                           0  \n",
      "3                           0  \n",
      "4                           0  \n",
      "..                        ...  \n",
      "396                         0  \n",
      "397                         1  \n",
      "398                         0  \n",
      "399                         0  \n",
      "400                         0  \n",
      "\n",
      "[401 rows x 24 columns]\n"
     ]
    }
   ],
   "source": [
    "df2.to_csv('df_prepared.csv', index = False)\n",
    "print(\"Write CSV:\\n\",df2)"
   ]
  },
  {
   "cell_type": "markdown",
   "id": "fd44715a",
   "metadata": {},
   "source": [
    "## 6. Hypothesis Definition"
   ]
  },
  {
   "cell_type": "markdown",
   "id": "9c3913ab",
   "metadata": {},
   "source": [
    "- Null Hypothesis H0: \tThere is NO linear relationship between the loan amount and the selected features. \n",
    "- Alternate Hypothesis H1: There is a linear relationship between the loan amount and the selected features. "
   ]
  },
  {
   "cell_type": "markdown",
   "id": "5bee4fb6",
   "metadata": {},
   "source": [
    "## 7. Split the Data"
   ]
  },
  {
   "cell_type": "markdown",
   "id": "aae3e0a4",
   "metadata": {},
   "source": [
    "**Before start Machine Learning algorithms, we assign the Loan_Amount field to a new variable called 'target'.**\n",
    "\n",
    "**Moreover, we create another variable called 'features', excluding the Loan_Amount field.**"
   ]
  },
  {
   "cell_type": "code",
   "execution_count": 198,
   "id": "e2f526bc",
   "metadata": {},
   "outputs": [],
   "source": [
    "target = df2.Loan_Amount #Dependent variable Y\n",
    "features = df2.drop('Loan_Amount', axis = 1) #Independent variables X"
   ]
  },
  {
   "cell_type": "markdown",
   "id": "70592ea8",
   "metadata": {},
   "source": [
    "## 8. Feature Selection Methods"
   ]
  },
  {
   "cell_type": "markdown",
   "id": "12d7e42b",
   "metadata": {},
   "source": [
    "### 8.1 Correlation Based Selection"
   ]
  },
  {
   "cell_type": "markdown",
   "id": "9c057cbc",
   "metadata": {},
   "source": [
    "We look for features that have a strong association with Loan_Amount because we want to predict that measure. \n",
    "Instead of looking at each intersection or single value from the correlation table, we sort the absolute correlation values in descending order. To perform Correlation Based as feature selection, we choose features over a specific threshold. We save the newly chosen features as a new dataframe."
   ]
  },
  {
   "cell_type": "code",
   "execution_count": 199,
   "id": "899a4713",
   "metadata": {},
   "outputs": [
    {
     "data": {
      "text/plain": [
       "Expenditure                       0.215729\n",
       "Income                            0.184005\n",
       "Debt_Record                       0.126297\n",
       "Loan_Category_gold_loan           0.120603\n",
       "Returned_Cheque                   0.099199\n",
       "Loan_Category_educational_loan    0.098001\n",
       "Occupation_education              0.091214\n",
       "Loan_Category_restaurants         0.103887\n",
       "Loan_Category_shopping            0.124990\n",
       "Name: Loan_Amount, dtype: float64"
      ]
     },
     "execution_count": 199,
     "metadata": {},
     "output_type": "execute_result"
    }
   ],
   "source": [
    "# Correlation coefficient, features association with Loan_Amount\n",
    "corr = df2.corr()['Loan_Amount'].sort_values(ascending=False)[1:] #We ignore correlation of variable with itself\n",
    "#corr\n",
    "\n",
    "# Get the absolute values\n",
    "abs_corr = abs(corr)\n",
    "#abs_corr\n",
    "\n",
    "# Set a random threshold to select the features\n",
    "corr_thres = 0.09\n",
    "relevant_features = abs_corr[abs_corr > corr_thres]\n",
    "relevant_features"
   ]
  },
  {
   "cell_type": "code",
   "execution_count": 200,
   "id": "ff053550",
   "metadata": {},
   "outputs": [
    {
     "name": "stdout",
     "output_type": "stream",
     "text": [
      "(401, 9)\n"
     ]
    },
    {
     "data": {
      "text/html": [
       "<div>\n",
       "<style scoped>\n",
       "    .dataframe tbody tr th:only-of-type {\n",
       "        vertical-align: middle;\n",
       "    }\n",
       "\n",
       "    .dataframe tbody tr th {\n",
       "        vertical-align: top;\n",
       "    }\n",
       "\n",
       "    .dataframe thead th {\n",
       "        text-align: right;\n",
       "    }\n",
       "</style>\n",
       "<table border=\"1\" class=\"dataframe\">\n",
       "  <thead>\n",
       "    <tr style=\"text-align: right;\">\n",
       "      <th></th>\n",
       "      <th>Expenditure</th>\n",
       "      <th>Income</th>\n",
       "      <th>Debt_Record</th>\n",
       "      <th>Loan_Category_gold_loan</th>\n",
       "      <th>Returned_Cheque</th>\n",
       "      <th>Loan_Category_educational_loan</th>\n",
       "      <th>Occupation_education</th>\n",
       "      <th>Loan_Category_restaurants</th>\n",
       "      <th>Loan_Category_shopping</th>\n",
       "    </tr>\n",
       "  </thead>\n",
       "  <tbody>\n",
       "    <tr>\n",
       "      <th>0</th>\n",
       "      <td>22199.0</td>\n",
       "      <td>50000.0</td>\n",
       "      <td>42898.0</td>\n",
       "      <td>0</td>\n",
       "      <td>6</td>\n",
       "      <td>0</td>\n",
       "      <td>0</td>\n",
       "      <td>0</td>\n",
       "      <td>0</td>\n",
       "    </tr>\n",
       "    <tr>\n",
       "      <th>1</th>\n",
       "      <td>12787.0</td>\n",
       "      <td>45767.0</td>\n",
       "      <td>11000.0</td>\n",
       "      <td>1</td>\n",
       "      <td>0</td>\n",
       "      <td>0</td>\n",
       "      <td>1</td>\n",
       "      <td>0</td>\n",
       "      <td>0</td>\n",
       "    </tr>\n",
       "    <tr>\n",
       "      <th>2</th>\n",
       "      <td>11999.0</td>\n",
       "      <td>43521.0</td>\n",
       "      <td>43898.0</td>\n",
       "      <td>0</td>\n",
       "      <td>1</td>\n",
       "      <td>0</td>\n",
       "      <td>0</td>\n",
       "      <td>0</td>\n",
       "      <td>0</td>\n",
       "    </tr>\n",
       "  </tbody>\n",
       "</table>\n",
       "</div>"
      ],
      "text/plain": [
       "   Expenditure   Income  Debt_Record  Loan_Category_gold_loan  \\\n",
       "0      22199.0  50000.0      42898.0                        0   \n",
       "1      12787.0  45767.0      11000.0                        1   \n",
       "2      11999.0  43521.0      43898.0                        0   \n",
       "\n",
       "   Returned_Cheque  Loan_Category_educational_loan  Occupation_education  \\\n",
       "0                6                               0                     0   \n",
       "1                0                               0                     1   \n",
       "2                1                               0                     0   \n",
       "\n",
       "   Loan_Category_restaurants  Loan_Category_shopping  \n",
       "0                          0                       0  \n",
       "1                          0                       0  \n",
       "2                          0                       0  "
      ]
     },
     "execution_count": 200,
     "metadata": {},
     "output_type": "execute_result"
    }
   ],
   "source": [
    "#New dataframe using Correlation Based Selection\n",
    "df_corr = df2[relevant_features.index]\n",
    "\n",
    "print(df_corr.shape)\n",
    "df_corr.head(3)"
   ]
  },
  {
   "cell_type": "markdown",
   "id": "2516c4c2",
   "metadata": {},
   "source": [
    "### 8.2 Variance Threshold Selection"
   ]
  },
  {
   "cell_type": "markdown",
   "id": "59399ed4",
   "metadata": {},
   "source": [
    "Another alternative for feature selection is the variance threshold method. We use the threshold value of 0.15. We save the selected features into a new dataframe"
   ]
  },
  {
   "cell_type": "code",
   "execution_count": 201,
   "id": "a94d1a79",
   "metadata": {},
   "outputs": [
    {
     "data": {
      "text/html": [
       "<div>\n",
       "<style scoped>\n",
       "    .dataframe tbody tr th:only-of-type {\n",
       "        vertical-align: middle;\n",
       "    }\n",
       "\n",
       "    .dataframe tbody tr th {\n",
       "        vertical-align: top;\n",
       "    }\n",
       "\n",
       "    .dataframe thead th {\n",
       "        text-align: right;\n",
       "    }\n",
       "</style>\n",
       "<table border=\"1\" class=\"dataframe\">\n",
       "  <thead>\n",
       "    <tr style=\"text-align: right;\">\n",
       "      <th></th>\n",
       "      <th>Age</th>\n",
       "      <th>Family_Size</th>\n",
       "      <th>Income</th>\n",
       "      <th>Expenditure</th>\n",
       "      <th>Use_Frequency</th>\n",
       "      <th>Overdue</th>\n",
       "      <th>Debt_Record</th>\n",
       "      <th>Returned_Cheque</th>\n",
       "      <th>Dishonour_of_Bill</th>\n",
       "      <th>Gender_male</th>\n",
       "      <th>...</th>\n",
       "      <th>Occupation_health</th>\n",
       "      <th>Occupation_management</th>\n",
       "      <th>Marital_Status_single</th>\n",
       "      <th>Loan_Category_educational_loan</th>\n",
       "      <th>Loan_Category_gold_loan</th>\n",
       "      <th>Loan_Category_housing</th>\n",
       "      <th>Loan_Category_other_business</th>\n",
       "      <th>Loan_Category_restaurants</th>\n",
       "      <th>Loan_Category_shopping</th>\n",
       "      <th>Loan_Category_travelling</th>\n",
       "    </tr>\n",
       "  </thead>\n",
       "  <tbody>\n",
       "    <tr>\n",
       "      <th>Variance</th>\n",
       "      <td>100.597633</td>\n",
       "      <td>2.497882</td>\n",
       "      <td>291223752.332946</td>\n",
       "      <td>113455788.466404</td>\n",
       "      <td>4.325744</td>\n",
       "      <td>6.12225</td>\n",
       "      <td>524118545.124533</td>\n",
       "      <td>8.248929</td>\n",
       "      <td>7.578796</td>\n",
       "      <td>0.245633</td>\n",
       "      <td>...</td>\n",
       "      <td>0.118345</td>\n",
       "      <td>0.069216</td>\n",
       "      <td>0.219961</td>\n",
       "      <td>0.038308</td>\n",
       "      <td>0.137499</td>\n",
       "      <td>0.120149</td>\n",
       "      <td>0.105372</td>\n",
       "      <td>0.123718</td>\n",
       "      <td>0.14082</td>\n",
       "      <td>0.097686</td>\n",
       "    </tr>\n",
       "    <tr>\n",
       "      <th>select_status</th>\n",
       "      <td>True</td>\n",
       "      <td>True</td>\n",
       "      <td>True</td>\n",
       "      <td>True</td>\n",
       "      <td>True</td>\n",
       "      <td>True</td>\n",
       "      <td>True</td>\n",
       "      <td>True</td>\n",
       "      <td>True</td>\n",
       "      <td>True</td>\n",
       "      <td>...</td>\n",
       "      <td>False</td>\n",
       "      <td>False</td>\n",
       "      <td>True</td>\n",
       "      <td>False</td>\n",
       "      <td>False</td>\n",
       "      <td>False</td>\n",
       "      <td>False</td>\n",
       "      <td>False</td>\n",
       "      <td>False</td>\n",
       "      <td>False</td>\n",
       "    </tr>\n",
       "  </tbody>\n",
       "</table>\n",
       "<p>2 rows × 23 columns</p>\n",
       "</div>"
      ],
      "text/plain": [
       "                      Age Family_Size            Income       Expenditure  \\\n",
       "Variance       100.597633    2.497882  291223752.332946  113455788.466404   \n",
       "select_status        True        True              True              True   \n",
       "\n",
       "              Use_Frequency  Overdue       Debt_Record Returned_Cheque  \\\n",
       "Variance           4.325744  6.12225  524118545.124533        8.248929   \n",
       "select_status          True     True              True            True   \n",
       "\n",
       "              Dishonour_of_Bill Gender_male  ... Occupation_health  \\\n",
       "Variance               7.578796    0.245633  ...          0.118345   \n",
       "select_status              True        True  ...             False   \n",
       "\n",
       "              Occupation_management Marital_Status_single  \\\n",
       "Variance                   0.069216              0.219961   \n",
       "select_status                 False                  True   \n",
       "\n",
       "              Loan_Category_educational_loan Loan_Category_gold_loan  \\\n",
       "Variance                            0.038308                0.137499   \n",
       "select_status                          False                   False   \n",
       "\n",
       "              Loan_Category_housing Loan_Category_other_business  \\\n",
       "Variance                   0.120149                     0.105372   \n",
       "select_status                 False                        False   \n",
       "\n",
       "              Loan_Category_restaurants Loan_Category_shopping  \\\n",
       "Variance                       0.123718                0.14082   \n",
       "select_status                     False                  False   \n",
       "\n",
       "              Loan_Category_travelling  \n",
       "Variance                      0.097686  \n",
       "select_status                    False  \n",
       "\n",
       "[2 rows x 23 columns]"
      ]
     },
     "execution_count": 201,
     "metadata": {},
     "output_type": "execute_result"
    }
   ],
   "source": [
    "vt = VarianceThreshold(threshold=0.15)\n",
    "vt.fit(features) #fit finds the features with variance equals to 0.15 \n",
    "pd.DataFrame({'Variance': vt.variances_, 'select_status': vt.get_support()}, index=features.columns).T"
   ]
  },
  {
   "cell_type": "code",
   "execution_count": 202,
   "id": "48176e52",
   "metadata": {},
   "outputs": [
    {
     "name": "stdout",
     "output_type": "stream",
     "text": [
      "(401, 13)\n"
     ]
    },
    {
     "data": {
      "text/html": [
       "<div>\n",
       "<style scoped>\n",
       "    .dataframe tbody tr th:only-of-type {\n",
       "        vertical-align: middle;\n",
       "    }\n",
       "\n",
       "    .dataframe tbody tr th {\n",
       "        vertical-align: top;\n",
       "    }\n",
       "\n",
       "    .dataframe thead th {\n",
       "        text-align: right;\n",
       "    }\n",
       "</style>\n",
       "<table border=\"1\" class=\"dataframe\">\n",
       "  <thead>\n",
       "    <tr style=\"text-align: right;\">\n",
       "      <th></th>\n",
       "      <th>Age</th>\n",
       "      <th>Family_Size</th>\n",
       "      <th>Income</th>\n",
       "      <th>Expenditure</th>\n",
       "      <th>Use_Frequency</th>\n",
       "      <th>Overdue</th>\n",
       "      <th>Debt_Record</th>\n",
       "      <th>Returned_Cheque</th>\n",
       "      <th>Dishonour_of_Bill</th>\n",
       "      <th>Gender_male</th>\n",
       "      <th>Occupation_communityserv</th>\n",
       "      <th>Occupation_engineering</th>\n",
       "      <th>Marital_Status_single</th>\n",
       "    </tr>\n",
       "  </thead>\n",
       "  <tbody>\n",
       "    <tr>\n",
       "      <th>0</th>\n",
       "      <td>30</td>\n",
       "      <td>4</td>\n",
       "      <td>50000.0</td>\n",
       "      <td>22199.0</td>\n",
       "      <td>6</td>\n",
       "      <td>5</td>\n",
       "      <td>42898.0</td>\n",
       "      <td>6</td>\n",
       "      <td>9</td>\n",
       "      <td>1</td>\n",
       "      <td>0</td>\n",
       "      <td>0</td>\n",
       "      <td>1</td>\n",
       "    </tr>\n",
       "    <tr>\n",
       "      <th>1</th>\n",
       "      <td>29</td>\n",
       "      <td>5</td>\n",
       "      <td>45767.0</td>\n",
       "      <td>12787.0</td>\n",
       "      <td>3</td>\n",
       "      <td>7</td>\n",
       "      <td>11000.0</td>\n",
       "      <td>0</td>\n",
       "      <td>4</td>\n",
       "      <td>1</td>\n",
       "      <td>0</td>\n",
       "      <td>0</td>\n",
       "      <td>0</td>\n",
       "    </tr>\n",
       "    <tr>\n",
       "      <th>2</th>\n",
       "      <td>34</td>\n",
       "      <td>4</td>\n",
       "      <td>43521.0</td>\n",
       "      <td>11999.0</td>\n",
       "      <td>3</td>\n",
       "      <td>2</td>\n",
       "      <td>43898.0</td>\n",
       "      <td>1</td>\n",
       "      <td>2</td>\n",
       "      <td>1</td>\n",
       "      <td>1</td>\n",
       "      <td>0</td>\n",
       "      <td>1</td>\n",
       "    </tr>\n",
       "  </tbody>\n",
       "</table>\n",
       "</div>"
      ],
      "text/plain": [
       "   Age  Family_Size   Income  Expenditure  Use_Frequency  Overdue  \\\n",
       "0   30            4  50000.0      22199.0              6        5   \n",
       "1   29            5  45767.0      12787.0              3        7   \n",
       "2   34            4  43521.0      11999.0              3        2   \n",
       "\n",
       "   Debt_Record  Returned_Cheque  Dishonour_of_Bill  Gender_male  \\\n",
       "0      42898.0                6                  9            1   \n",
       "1      11000.0                0                  4            1   \n",
       "2      43898.0                1                  2            1   \n",
       "\n",
       "   Occupation_communityserv  Occupation_engineering  Marital_Status_single  \n",
       "0                         0                       0                      1  \n",
       "1                         0                       0                      0  \n",
       "2                         1                       0                      1  "
      ]
     },
     "execution_count": 202,
     "metadata": {},
     "output_type": "execute_result"
    }
   ],
   "source": [
    "#New dataframe using Variance Threshold Selection\n",
    "df_vt = features.iloc[:,vt.get_support()]\n",
    "\n",
    "print(df_vt.shape)\n",
    "df_vt.head(3)"
   ]
  },
  {
   "cell_type": "markdown",
   "id": "1eee5f07",
   "metadata": {},
   "source": [
    "### 8.3 K-Best Method"
   ]
  },
  {
   "cell_type": "markdown",
   "id": "ceacee63",
   "metadata": {},
   "source": [
    "We may use the select K-best method to select the features as well, picking fourteen of them. Once we obtain the features, we save the newly chosen features as a new dataframe."
   ]
  },
  {
   "cell_type": "code",
   "execution_count": 203,
   "id": "eb086d81",
   "metadata": {},
   "outputs": [
    {
     "name": "stdout",
     "output_type": "stream",
     "text": [
      "(401, 14)\n"
     ]
    },
    {
     "data": {
      "text/html": [
       "<div>\n",
       "<style scoped>\n",
       "    .dataframe tbody tr th:only-of-type {\n",
       "        vertical-align: middle;\n",
       "    }\n",
       "\n",
       "    .dataframe tbody tr th {\n",
       "        vertical-align: top;\n",
       "    }\n",
       "\n",
       "    .dataframe thead th {\n",
       "        text-align: right;\n",
       "    }\n",
       "</style>\n",
       "<table border=\"1\" class=\"dataframe\">\n",
       "  <thead>\n",
       "    <tr style=\"text-align: right;\">\n",
       "      <th></th>\n",
       "      <th>Age</th>\n",
       "      <th>Income</th>\n",
       "      <th>Expenditure</th>\n",
       "      <th>Overdue</th>\n",
       "      <th>Debt_Record</th>\n",
       "      <th>Returned_Cheque</th>\n",
       "      <th>Gender_male</th>\n",
       "      <th>Occupation_communityserv</th>\n",
       "      <th>Occupation_education</th>\n",
       "      <th>Marital_Status_single</th>\n",
       "      <th>Loan_Category_gold_loan</th>\n",
       "      <th>Loan_Category_other_business</th>\n",
       "      <th>Loan_Category_restaurants</th>\n",
       "      <th>Loan_Category_shopping</th>\n",
       "    </tr>\n",
       "  </thead>\n",
       "  <tbody>\n",
       "    <tr>\n",
       "      <th>0</th>\n",
       "      <td>30</td>\n",
       "      <td>50000.0</td>\n",
       "      <td>22199.0</td>\n",
       "      <td>5</td>\n",
       "      <td>42898.0</td>\n",
       "      <td>6</td>\n",
       "      <td>1</td>\n",
       "      <td>0</td>\n",
       "      <td>0</td>\n",
       "      <td>1</td>\n",
       "      <td>0</td>\n",
       "      <td>0</td>\n",
       "      <td>0</td>\n",
       "      <td>0</td>\n",
       "    </tr>\n",
       "    <tr>\n",
       "      <th>1</th>\n",
       "      <td>29</td>\n",
       "      <td>45767.0</td>\n",
       "      <td>12787.0</td>\n",
       "      <td>7</td>\n",
       "      <td>11000.0</td>\n",
       "      <td>0</td>\n",
       "      <td>1</td>\n",
       "      <td>0</td>\n",
       "      <td>1</td>\n",
       "      <td>0</td>\n",
       "      <td>1</td>\n",
       "      <td>0</td>\n",
       "      <td>0</td>\n",
       "      <td>0</td>\n",
       "    </tr>\n",
       "    <tr>\n",
       "      <th>2</th>\n",
       "      <td>34</td>\n",
       "      <td>43521.0</td>\n",
       "      <td>11999.0</td>\n",
       "      <td>2</td>\n",
       "      <td>43898.0</td>\n",
       "      <td>1</td>\n",
       "      <td>1</td>\n",
       "      <td>1</td>\n",
       "      <td>0</td>\n",
       "      <td>1</td>\n",
       "      <td>0</td>\n",
       "      <td>0</td>\n",
       "      <td>0</td>\n",
       "      <td>0</td>\n",
       "    </tr>\n",
       "  </tbody>\n",
       "</table>\n",
       "</div>"
      ],
      "text/plain": [
       "   Age   Income  Expenditure  Overdue  Debt_Record  Returned_Cheque  \\\n",
       "0   30  50000.0      22199.0        5      42898.0                6   \n",
       "1   29  45767.0      12787.0        7      11000.0                0   \n",
       "2   34  43521.0      11999.0        2      43898.0                1   \n",
       "\n",
       "   Gender_male  Occupation_communityserv  Occupation_education  \\\n",
       "0            1                         0                     0   \n",
       "1            1                         0                     1   \n",
       "2            1                         1                     0   \n",
       "\n",
       "   Marital_Status_single  Loan_Category_gold_loan  \\\n",
       "0                      1                        0   \n",
       "1                      0                        1   \n",
       "2                      1                        0   \n",
       "\n",
       "   Loan_Category_other_business  Loan_Category_restaurants  \\\n",
       "0                             0                          0   \n",
       "1                             0                          0   \n",
       "2                             0                          0   \n",
       "\n",
       "   Loan_Category_shopping  \n",
       "0                       0  \n",
       "1                       0  \n",
       "2                       0  "
      ]
     },
     "execution_count": 203,
     "metadata": {},
     "output_type": "execute_result"
    }
   ],
   "source": [
    "xtrain, xtest, ytrain, ytest = train_test_split(features, target, test_size=0.25, random_state=42)\n",
    "kbest = SelectKBest(score_func = f_regression, k=14) # k select 14 features\n",
    "kbest.fit_transform(xtrain, ytrain) #fit_transform is for training\n",
    "\n",
    "df_kbest = features.iloc[:,kbest.get_support()] #for feature selection we use get_support\n",
    "\n",
    "print(df_kbest.shape)\n",
    "df_kbest.head(3)"
   ]
  },
  {
   "cell_type": "markdown",
   "id": "a9342ba6",
   "metadata": {},
   "source": [
    "**Unlike project proposal, we include two more feature selection methods to compare results**"
   ]
  },
  {
   "cell_type": "markdown",
   "id": "ada34e47",
   "metadata": {},
   "source": [
    "### 8.4 SelectFromModel with Random Forest as the estimator"
   ]
  },
  {
   "cell_type": "code",
   "execution_count": 204,
   "id": "fb609f2a",
   "metadata": {},
   "outputs": [],
   "source": [
    "sfm = SelectFromModel(estimator=RandomForestClassifier(n_estimators=200, max_leaf_nodes=8))"
   ]
  },
  {
   "cell_type": "code",
   "execution_count": 205,
   "id": "0bb08af3",
   "metadata": {},
   "outputs": [],
   "source": [
    "rand_for = SelectFromModel(estimator=RandomForestClassifier(n_estimators=200, max_leaf_nodes=8)).fit(features, target)"
   ]
  },
  {
   "cell_type": "code",
   "execution_count": 206,
   "id": "850ff9c8",
   "metadata": {},
   "outputs": [
    {
     "name": "stdout",
     "output_type": "stream",
     "text": [
      "[ True False  True  True  True  True  True  True  True False False False\n",
      " False False False False False False False False False False False]\n"
     ]
    }
   ],
   "source": [
    "#False = insignificant feature; True = significant fearture\n",
    "print(rand_for.get_support())"
   ]
  },
  {
   "cell_type": "code",
   "execution_count": 207,
   "id": "311d5f05",
   "metadata": {},
   "outputs": [
    {
     "name": "stdout",
     "output_type": "stream",
     "text": [
      "(401, 8)\n"
     ]
    },
    {
     "data": {
      "text/html": [
       "<div>\n",
       "<style scoped>\n",
       "    .dataframe tbody tr th:only-of-type {\n",
       "        vertical-align: middle;\n",
       "    }\n",
       "\n",
       "    .dataframe tbody tr th {\n",
       "        vertical-align: top;\n",
       "    }\n",
       "\n",
       "    .dataframe thead th {\n",
       "        text-align: right;\n",
       "    }\n",
       "</style>\n",
       "<table border=\"1\" class=\"dataframe\">\n",
       "  <thead>\n",
       "    <tr style=\"text-align: right;\">\n",
       "      <th></th>\n",
       "      <th>Age</th>\n",
       "      <th>Income</th>\n",
       "      <th>Expenditure</th>\n",
       "      <th>Use_Frequency</th>\n",
       "      <th>Overdue</th>\n",
       "      <th>Debt_Record</th>\n",
       "      <th>Returned_Cheque</th>\n",
       "      <th>Dishonour_of_Bill</th>\n",
       "    </tr>\n",
       "  </thead>\n",
       "  <tbody>\n",
       "    <tr>\n",
       "      <th>0</th>\n",
       "      <td>30</td>\n",
       "      <td>50000.0</td>\n",
       "      <td>22199.0</td>\n",
       "      <td>6</td>\n",
       "      <td>5</td>\n",
       "      <td>42898.0</td>\n",
       "      <td>6</td>\n",
       "      <td>9</td>\n",
       "    </tr>\n",
       "    <tr>\n",
       "      <th>1</th>\n",
       "      <td>29</td>\n",
       "      <td>45767.0</td>\n",
       "      <td>12787.0</td>\n",
       "      <td>3</td>\n",
       "      <td>7</td>\n",
       "      <td>11000.0</td>\n",
       "      <td>0</td>\n",
       "      <td>4</td>\n",
       "    </tr>\n",
       "    <tr>\n",
       "      <th>2</th>\n",
       "      <td>34</td>\n",
       "      <td>43521.0</td>\n",
       "      <td>11999.0</td>\n",
       "      <td>3</td>\n",
       "      <td>2</td>\n",
       "      <td>43898.0</td>\n",
       "      <td>1</td>\n",
       "      <td>2</td>\n",
       "    </tr>\n",
       "  </tbody>\n",
       "</table>\n",
       "</div>"
      ],
      "text/plain": [
       "   Age   Income  Expenditure  Use_Frequency  Overdue  Debt_Record  \\\n",
       "0   30  50000.0      22199.0              6        5      42898.0   \n",
       "1   29  45767.0      12787.0              3        7      11000.0   \n",
       "2   34  43521.0      11999.0              3        2      43898.0   \n",
       "\n",
       "   Returned_Cheque  Dishonour_of_Bill  \n",
       "0                6                  9  \n",
       "1                0                  4  \n",
       "2                1                  2  "
      ]
     },
     "execution_count": 207,
     "metadata": {},
     "output_type": "execute_result"
    }
   ],
   "source": [
    "df_rf = features.iloc[:,rand_for.get_support()]\n",
    "\n",
    "print(df_rf.shape)\n",
    "df_rf.head(3)"
   ]
  },
  {
   "cell_type": "markdown",
   "id": "c7298d26",
   "metadata": {},
   "source": [
    "### 8.5 Generalized Linear Model (Binomial)"
   ]
  },
  {
   "cell_type": "code",
   "execution_count": 208,
   "id": "35beee33",
   "metadata": {},
   "outputs": [],
   "source": [
    "glm_model = sm.GLM(target, features, family=sm.families.Binomial()) \n",
    "result = glm_model.fit(fit_intercept=True)\n",
    "#print(result.summary2()) "
   ]
  },
  {
   "cell_type": "markdown",
   "id": "00bfd8ff",
   "metadata": {},
   "source": [
    "Features selection whose absolute **coefficient value** is **greater/equal to 0.1**"
   ]
  },
  {
   "cell_type": "code",
   "execution_count": 209,
   "id": "bb1bbaaa",
   "metadata": {},
   "outputs": [
    {
     "name": "stdout",
     "output_type": "stream",
     "text": [
      "(401, 23)\n"
     ]
    },
    {
     "data": {
      "text/html": [
       "<div>\n",
       "<style scoped>\n",
       "    .dataframe tbody tr th:only-of-type {\n",
       "        vertical-align: middle;\n",
       "    }\n",
       "\n",
       "    .dataframe tbody tr th {\n",
       "        vertical-align: top;\n",
       "    }\n",
       "\n",
       "    .dataframe thead th {\n",
       "        text-align: right;\n",
       "    }\n",
       "</style>\n",
       "<table border=\"1\" class=\"dataframe\">\n",
       "  <thead>\n",
       "    <tr style=\"text-align: right;\">\n",
       "      <th></th>\n",
       "      <th>Age</th>\n",
       "      <th>Family_Size</th>\n",
       "      <th>Income</th>\n",
       "      <th>Expenditure</th>\n",
       "      <th>Use_Frequency</th>\n",
       "      <th>Overdue</th>\n",
       "      <th>Debt_Record</th>\n",
       "      <th>Returned_Cheque</th>\n",
       "      <th>Dishonour_of_Bill</th>\n",
       "      <th>Gender_male</th>\n",
       "      <th>...</th>\n",
       "      <th>Occupation_health</th>\n",
       "      <th>Occupation_management</th>\n",
       "      <th>Marital_Status_single</th>\n",
       "      <th>Loan_Category_educational_loan</th>\n",
       "      <th>Loan_Category_gold_loan</th>\n",
       "      <th>Loan_Category_housing</th>\n",
       "      <th>Loan_Category_other_business</th>\n",
       "      <th>Loan_Category_restaurants</th>\n",
       "      <th>Loan_Category_shopping</th>\n",
       "      <th>Loan_Category_travelling</th>\n",
       "    </tr>\n",
       "  </thead>\n",
       "  <tbody>\n",
       "    <tr>\n",
       "      <th>0</th>\n",
       "      <td>30</td>\n",
       "      <td>4</td>\n",
       "      <td>50000.0</td>\n",
       "      <td>22199.0</td>\n",
       "      <td>6</td>\n",
       "      <td>5</td>\n",
       "      <td>42898.0</td>\n",
       "      <td>6</td>\n",
       "      <td>9</td>\n",
       "      <td>1</td>\n",
       "      <td>...</td>\n",
       "      <td>0</td>\n",
       "      <td>1</td>\n",
       "      <td>1</td>\n",
       "      <td>0</td>\n",
       "      <td>0</td>\n",
       "      <td>1</td>\n",
       "      <td>0</td>\n",
       "      <td>0</td>\n",
       "      <td>0</td>\n",
       "      <td>0</td>\n",
       "    </tr>\n",
       "    <tr>\n",
       "      <th>1</th>\n",
       "      <td>29</td>\n",
       "      <td>5</td>\n",
       "      <td>45767.0</td>\n",
       "      <td>12787.0</td>\n",
       "      <td>3</td>\n",
       "      <td>7</td>\n",
       "      <td>11000.0</td>\n",
       "      <td>0</td>\n",
       "      <td>4</td>\n",
       "      <td>1</td>\n",
       "      <td>...</td>\n",
       "      <td>0</td>\n",
       "      <td>0</td>\n",
       "      <td>0</td>\n",
       "      <td>0</td>\n",
       "      <td>1</td>\n",
       "      <td>0</td>\n",
       "      <td>0</td>\n",
       "      <td>0</td>\n",
       "      <td>0</td>\n",
       "      <td>0</td>\n",
       "    </tr>\n",
       "    <tr>\n",
       "      <th>2</th>\n",
       "      <td>34</td>\n",
       "      <td>4</td>\n",
       "      <td>43521.0</td>\n",
       "      <td>11999.0</td>\n",
       "      <td>3</td>\n",
       "      <td>2</td>\n",
       "      <td>43898.0</td>\n",
       "      <td>1</td>\n",
       "      <td>2</td>\n",
       "      <td>1</td>\n",
       "      <td>...</td>\n",
       "      <td>0</td>\n",
       "      <td>0</td>\n",
       "      <td>1</td>\n",
       "      <td>0</td>\n",
       "      <td>0</td>\n",
       "      <td>0</td>\n",
       "      <td>0</td>\n",
       "      <td>0</td>\n",
       "      <td>0</td>\n",
       "      <td>0</td>\n",
       "    </tr>\n",
       "  </tbody>\n",
       "</table>\n",
       "<p>3 rows × 23 columns</p>\n",
       "</div>"
      ],
      "text/plain": [
       "   Age  Family_Size   Income  Expenditure  Use_Frequency  Overdue  \\\n",
       "0   30            4  50000.0      22199.0              6        5   \n",
       "1   29            5  45767.0      12787.0              3        7   \n",
       "2   34            4  43521.0      11999.0              3        2   \n",
       "\n",
       "   Debt_Record  Returned_Cheque  Dishonour_of_Bill  Gender_male  ...  \\\n",
       "0      42898.0                6                  9            1  ...   \n",
       "1      11000.0                0                  4            1  ...   \n",
       "2      43898.0                1                  2            1  ...   \n",
       "\n",
       "   Occupation_health  Occupation_management  Marital_Status_single  \\\n",
       "0                  0                      1                      1   \n",
       "1                  0                      0                      0   \n",
       "2                  0                      0                      1   \n",
       "\n",
       "   Loan_Category_educational_loan  Loan_Category_gold_loan  \\\n",
       "0                               0                        0   \n",
       "1                               0                        1   \n",
       "2                               0                        0   \n",
       "\n",
       "   Loan_Category_housing  Loan_Category_other_business  \\\n",
       "0                      1                             0   \n",
       "1                      0                             0   \n",
       "2                      0                             0   \n",
       "\n",
       "   Loan_Category_restaurants  Loan_Category_shopping  Loan_Category_travelling  \n",
       "0                          0                       0                         0  \n",
       "1                          0                       0                         0  \n",
       "2                          0                       0                         0  \n",
       "\n",
       "[3 rows x 23 columns]"
      ]
     },
     "execution_count": 209,
     "metadata": {},
     "output_type": "execute_result"
    }
   ],
   "source": [
    "result.params >= 0.1 \n",
    "df_glm = features.loc[:, abs(result.params) >= 0.1]\n",
    "\n",
    "print(df_glm.shape)\n",
    "df_glm.head(3)"
   ]
  },
  {
   "cell_type": "markdown",
   "id": "4f3561d3",
   "metadata": {},
   "source": [
    "## 9. Feature Scaling"
   ]
  },
  {
   "cell_type": "code",
   "execution_count": 210,
   "id": "b4a07cc0",
   "metadata": {},
   "outputs": [],
   "source": [
    "rs = RobustScaler()"
   ]
  },
  {
   "cell_type": "markdown",
   "id": "f8b06de1",
   "metadata": {},
   "source": [
    "We create a function to simplify scaling applied to the previous feature selection methods"
   ]
  },
  {
   "cell_type": "code",
   "execution_count": 211,
   "id": "e76e77e5",
   "metadata": {},
   "outputs": [],
   "source": [
    "#function for feature scale \n",
    "def scale_function (x):\n",
    "    scaled_features = rs.fit_transform(x) #fit finds the features \n",
    "    scale = pd.DataFrame(scaled_features, columns = x.columns)  \n",
    "    return scale"
   ]
  },
  {
   "cell_type": "code",
   "execution_count": 212,
   "id": "1f8caaa2",
   "metadata": {},
   "outputs": [],
   "source": [
    "scaled_corr = scale_function (df_corr)\n",
    "scaled_vt = scale_function (df_vt)\n",
    "scaled_kbest = scale_function (df_kbest)\n",
    "scaled_rf = scale_function (df_rf)\n",
    "scaled_glm = scale_function (df_glm)"
   ]
  },
  {
   "cell_type": "markdown",
   "id": "b83b624c",
   "metadata": {},
   "source": [
    "## 10. Linear Regression Model with Feature Selection and Scaling"
   ]
  },
  {
   "cell_type": "markdown",
   "id": "b261ea62",
   "metadata": {},
   "source": [
    "**We create some empty placeholder lists to store the experiments' result.**"
   ]
  },
  {
   "cell_type": "code",
   "execution_count": 213,
   "id": "6ff70266",
   "metadata": {},
   "outputs": [],
   "source": [
    "#Feature Selection Method (Name)\n",
    "feat_sel = []\n",
    "\n",
    "#We skip Feature Transformation. The reason will be explained further \n",
    "# transf_list = []\n",
    "\n",
    "#Scaling Method (Name)\n",
    "scal_list = []\n",
    "\n",
    "#Scores lists\n",
    "r2_list = []\n",
    "rmse_list = []"
   ]
  },
  {
   "cell_type": "markdown",
   "id": "72ad0597",
   "metadata": {},
   "source": [
    "We create a Linear Regression function to simplify the models with different combinations including feature selection and scaling method"
   ]
  },
  {
   "cell_type": "code",
   "execution_count": 214,
   "id": "62a6f5b8",
   "metadata": {},
   "outputs": [],
   "source": [
    "lr_model = LinearRegression()"
   ]
  },
  {
   "cell_type": "code",
   "execution_count": 215,
   "id": "47bf1ada",
   "metadata": {},
   "outputs": [],
   "source": [
    "def LinearReg_function (method):\n",
    "    xtrain, xtest, ytrain, ytest = train_test_split(method, target, test_size = 0.25, random_state = 42)\n",
    "                                                        #method: Independent variables (features) = X\n",
    "                                                        #target: Dependent variable (Loan_Amount) = Y\n",
    "    #Fit the model\n",
    "    lr_model.fit(xtrain, ytrain) \n",
    "    #Get the predictions for the test dataset\n",
    "    ypred = lr_model.predict(xtest)\n",
    "    \n",
    "    #R-Squared\n",
    "    r2 = lr_model.score(xtest, ytest) #element [0]\n",
    "    #RSME\n",
    "    rmse = mean_squared_error(ytest, ypred, squared = False) #element [1]     \n",
    "    \n",
    "    return r2, rmse"
   ]
  },
  {
   "cell_type": "markdown",
   "id": "f0825b3d",
   "metadata": {},
   "source": [
    "### 10.1 Linear Regression model with Correlation Based Selected features"
   ]
  },
  {
   "cell_type": "code",
   "execution_count": 216,
   "id": "2964c2c8",
   "metadata": {},
   "outputs": [],
   "source": [
    "LRcorr = LinearReg_function(df_corr)\n",
    "R2_corr = LRcorr[0] #Specify index 0 from the Linear Regression function to get the R2 value\n",
    "RMSE_corr = LRcorr[1] #Specify index 1 from the Linear Regression function to get the RMSE value\n",
    "\n",
    "#Append information to the corresponding list\n",
    "feat_sel.append(\"Correlation Based\")\n",
    "#transf_list.append(\"None\")\n",
    "scal_list.append(\"None\")\n",
    "r2_list.append(R2_corr)\n",
    "rmse_list.append(RMSE_corr)"
   ]
  },
  {
   "cell_type": "markdown",
   "id": "b9fd84ff",
   "metadata": {},
   "source": [
    "### 10.2 Linear Regression model with Correlation based selected features and Robust Scaler method"
   ]
  },
  {
   "cell_type": "code",
   "execution_count": 217,
   "id": "0a8e4f1e",
   "metadata": {},
   "outputs": [],
   "source": [
    "LRscaled_corr = LinearReg_function(scaled_corr)\n",
    "R2_scaled_corr = LRscaled_corr[0] \n",
    "RMSE_scaled_corr = LRscaled_corr[1] \n",
    "\n",
    "#Append information to the corresponding list\n",
    "feat_sel.append(\"Correlation Based\")\n",
    "#transf_list.append(\"None\")\n",
    "scal_list.append(\"RobustScaler\")\n",
    "r2_list.append(R2_scaled_corr)\n",
    "rmse_list.append(RMSE_scaled_corr)"
   ]
  },
  {
   "cell_type": "markdown",
   "id": "c7beef98",
   "metadata": {},
   "source": [
    "### 10.3 Linear Regression model with Variance Threshold Selection"
   ]
  },
  {
   "cell_type": "code",
   "execution_count": 218,
   "id": "c3a9a7b8",
   "metadata": {},
   "outputs": [],
   "source": [
    "LRvt = LinearReg_function(df_vt)\n",
    "R2_vt = LRvt[0] \n",
    "RMSE_vt = LRvt[1] \n",
    "\n",
    "#Append information to the corresponding list\n",
    "feat_sel.append(\"VT\")\n",
    "#transf_list.append(\"None\")\n",
    "scal_list.append(\"None\")\n",
    "r2_list.append(R2_vt)\n",
    "rmse_list.append(RMSE_vt)"
   ]
  },
  {
   "cell_type": "markdown",
   "id": "d746f67c",
   "metadata": {},
   "source": [
    "### 10.4 Linear Regression model with Variance Threshold Selection and Robust Scaler method"
   ]
  },
  {
   "cell_type": "code",
   "execution_count": 219,
   "id": "4a9795c1",
   "metadata": {},
   "outputs": [],
   "source": [
    "LRscaled_vt = LinearReg_function(scaled_vt)\n",
    "R2_scaled_vt = LRscaled_vt[0] \n",
    "RMSE_scaled_vt = LRscaled_vt[1] \n",
    "\n",
    "#Append information to the corresponding list\n",
    "feat_sel.append(\"VT\")\n",
    "#transf_list.append(\"None\")\n",
    "scal_list.append(\"RobustScaler\")\n",
    "r2_list.append(R2_scaled_vt)\n",
    "rmse_list.append(RMSE_scaled_vt)"
   ]
  },
  {
   "cell_type": "markdown",
   "id": "4d2a9b96",
   "metadata": {},
   "source": [
    "### 10.5 Linear Regression model with KBest Selection"
   ]
  },
  {
   "cell_type": "code",
   "execution_count": 220,
   "id": "f5821063",
   "metadata": {},
   "outputs": [],
   "source": [
    "LRkbest = LinearReg_function(df_kbest)\n",
    "R2_kbest = LRkbest[0] \n",
    "RMSE_kbest = LRkbest[1] \n",
    "\n",
    "#Append information to the corresponding list\n",
    "feat_sel.append(\"SelectKBest\")\n",
    "#transf_list.append(\"None\")\n",
    "scal_list.append(\"None\")\n",
    "r2_list.append(R2_kbest)\n",
    "rmse_list.append(RMSE_kbest)"
   ]
  },
  {
   "cell_type": "markdown",
   "id": "77fc6e25",
   "metadata": {},
   "source": [
    "### 10.6 Linear Regression model with KBest Selection and Robust Scaler method"
   ]
  },
  {
   "cell_type": "code",
   "execution_count": 221,
   "id": "0375b07a",
   "metadata": {},
   "outputs": [],
   "source": [
    "LRscaled_kbest = LinearReg_function(scaled_kbest)\n",
    "R2_scaled_kbest = LRscaled_kbest[0] \n",
    "RMSE_scaled_kbest = LRscaled_kbest[1] \n",
    "\n",
    "#Append information to the corresponding list\n",
    "feat_sel.append(\"SelectKBest\")\n",
    "#transf_list.append(\"None\")\n",
    "scal_list.append(\"RobustScaler\")\n",
    "r2_list.append(R2_scaled_kbest)\n",
    "rmse_list.append(RMSE_scaled_kbest)"
   ]
  },
  {
   "cell_type": "markdown",
   "id": "c37626d3",
   "metadata": {},
   "source": [
    "### 10.7 Linear Regression model with RandomForest"
   ]
  },
  {
   "cell_type": "code",
   "execution_count": 222,
   "id": "5f9290b9",
   "metadata": {},
   "outputs": [],
   "source": [
    "LRrf = LinearReg_function(df_rf)\n",
    "R2_rf = LRrf[0] \n",
    "RMSE_rf = LRrf[1] \n",
    "\n",
    "#Append information to the corresponding list\n",
    "feat_sel.append(\"SelectFromModel/RandomForest\")\n",
    "#transf_list.append(\"None\")\n",
    "scal_list.append(\"None\")\n",
    "r2_list.append(R2_rf)\n",
    "rmse_list.append(RMSE_rf)"
   ]
  },
  {
   "cell_type": "markdown",
   "id": "b8b27a19",
   "metadata": {},
   "source": [
    "### 10.8 Linear Regression model with RandomForest and Robust Scaler method"
   ]
  },
  {
   "cell_type": "code",
   "execution_count": 223,
   "id": "d908cb5d",
   "metadata": {},
   "outputs": [],
   "source": [
    "LRscaled_rf = LinearReg_function(scaled_rf)\n",
    "R2_scaled_rf = LRscaled_rf[0] \n",
    "RMSE_scaled_rf = LRscaled_rf[1] \n",
    "\n",
    "#Append information to the corresponding list\n",
    "feat_sel.append(\"SelectFromModel/RandomForest\")\n",
    "#transf_list.append(\"None\")\n",
    "scal_list.append(\"RobustScaler\")\n",
    "r2_list.append(R2_scaled_rf)\n",
    "rmse_list.append(RMSE_scaled_rf)"
   ]
  },
  {
   "cell_type": "markdown",
   "id": "557262e3",
   "metadata": {},
   "source": [
    "### 10.9 Linear Regression model with Generalized Linear Model"
   ]
  },
  {
   "cell_type": "code",
   "execution_count": 224,
   "id": "14b0d468",
   "metadata": {},
   "outputs": [],
   "source": [
    "LRglm = LinearReg_function(df_glm)\n",
    "R2_glm = LRglm[0] \n",
    "RMSE_glm = LRglm[1] \n",
    "\n",
    "#Append information to the corresponding list\n",
    "feat_sel.append(\"GeneralizedLinearModel\")\n",
    "#transf_list.append(\"None\")\n",
    "scal_list.append(\"None\")\n",
    "r2_list.append(R2_glm)\n",
    "rmse_list.append(RMSE_glm)"
   ]
  },
  {
   "cell_type": "markdown",
   "id": "aeb6f1e4",
   "metadata": {},
   "source": [
    "### 10.10 Linear Regression model with Generalized Linear Model and Robust Scaler method"
   ]
  },
  {
   "cell_type": "code",
   "execution_count": 225,
   "id": "dd321bd9",
   "metadata": {},
   "outputs": [],
   "source": [
    "LRscaled_glm = LinearReg_function(scaled_glm)\n",
    "R2_scaled_glm = LRscaled_glm[0] \n",
    "RMSE_scaled_glm = LRscaled_glm[1] \n",
    "\n",
    "#Append information to the corresponding list\n",
    "feat_sel.append(\"GeneralizedLinearModel\")\n",
    "#transf_list.append(\"None\")\n",
    "scal_list.append(\"RobustScaler\")\n",
    "r2_list.append(R2_scaled_glm)\n",
    "rmse_list.append(RMSE_scaled_glm)"
   ]
  },
  {
   "cell_type": "markdown",
   "id": "43e829e0",
   "metadata": {},
   "source": [
    "### 10.11 Linear Regression Model with Lasso"
   ]
  },
  {
   "cell_type": "markdown",
   "id": "e43865ee",
   "metadata": {},
   "source": [
    "We utilize all the independent variables (features) to choose the alpha value for the Lasso model, using the ratio for training and test (75/25) and the random state value (42). Then, we evaluate the model by calculating the RMSE and R2 metrics for each alpha value. Once these calculations are executed, we use the sort_values() function to arrange the RMSE result in ascending order, and R2 in descending order, to retrieve the alpha value with the min RMSE and the max R2. Finally, we append the information to the corresponding lists"
   ]
  },
  {
   "cell_type": "code",
   "execution_count": 226,
   "id": "a385cf77",
   "metadata": {},
   "outputs": [],
   "source": [
    "X_train, X_test, Y_train, Y_test = train_test_split(features, target, test_size = 0.25, random_state = 42)"
   ]
  },
  {
   "cell_type": "markdown",
   "id": "f4411408",
   "metadata": {},
   "source": [
    "We randomly alterate the values of alpha, the number of alphas being tested, and the number iteration of the Lasso, to get a better result"
   ]
  },
  {
   "cell_type": "code",
   "execution_count": 227,
   "id": "3800162c",
   "metadata": {},
   "outputs": [
    {
     "data": {
      "text/plain": [
       "array([1.   , 0.889, 0.778, 0.667, 0.556, 0.445, 0.334, 0.223, 0.112,\n",
       "       0.001])"
      ]
     },
     "execution_count": 227,
     "metadata": {},
     "output_type": "execute_result"
    }
   ],
   "source": [
    "alphas_lasso = np.linspace(1, 0.001, 10) #two first values correspond to the range of values for alpha\n",
    "                                        #whereas the third one is the number of alphas being tested\n",
    "alphas_lasso"
   ]
  },
  {
   "cell_type": "code",
   "execution_count": 228,
   "id": "7df92b18",
   "metadata": {},
   "outputs": [
    {
     "data": {
      "text/html": [
       "<div>\n",
       "<style scoped>\n",
       "    .dataframe tbody tr th:only-of-type {\n",
       "        vertical-align: middle;\n",
       "    }\n",
       "\n",
       "    .dataframe tbody tr th {\n",
       "        vertical-align: top;\n",
       "    }\n",
       "\n",
       "    .dataframe thead th {\n",
       "        text-align: right;\n",
       "    }\n",
       "</style>\n",
       "<table border=\"1\" class=\"dataframe\">\n",
       "  <thead>\n",
       "    <tr style=\"text-align: right;\">\n",
       "      <th></th>\n",
       "      <th>Alpha</th>\n",
       "      <th>RMSE</th>\n",
       "      <th>R2</th>\n",
       "    </tr>\n",
       "  </thead>\n",
       "  <tbody>\n",
       "    <tr>\n",
       "      <th>0</th>\n",
       "      <td>1.000</td>\n",
       "      <td>376274.270345</td>\n",
       "      <td>0.163187</td>\n",
       "    </tr>\n",
       "    <tr>\n",
       "      <th>1</th>\n",
       "      <td>0.889</td>\n",
       "      <td>376274.146735</td>\n",
       "      <td>0.163187</td>\n",
       "    </tr>\n",
       "    <tr>\n",
       "      <th>2</th>\n",
       "      <td>0.778</td>\n",
       "      <td>376274.023131</td>\n",
       "      <td>0.163187</td>\n",
       "    </tr>\n",
       "    <tr>\n",
       "      <th>3</th>\n",
       "      <td>0.667</td>\n",
       "      <td>376273.899532</td>\n",
       "      <td>0.163187</td>\n",
       "    </tr>\n",
       "    <tr>\n",
       "      <th>4</th>\n",
       "      <td>0.556</td>\n",
       "      <td>376273.775938</td>\n",
       "      <td>0.163187</td>\n",
       "    </tr>\n",
       "    <tr>\n",
       "      <th>5</th>\n",
       "      <td>0.445</td>\n",
       "      <td>376273.652350</td>\n",
       "      <td>0.163187</td>\n",
       "    </tr>\n",
       "    <tr>\n",
       "      <th>6</th>\n",
       "      <td>0.334</td>\n",
       "      <td>376273.528768</td>\n",
       "      <td>0.163187</td>\n",
       "    </tr>\n",
       "    <tr>\n",
       "      <th>7</th>\n",
       "      <td>0.223</td>\n",
       "      <td>376273.405191</td>\n",
       "      <td>0.163187</td>\n",
       "    </tr>\n",
       "    <tr>\n",
       "      <th>8</th>\n",
       "      <td>0.112</td>\n",
       "      <td>376273.281620</td>\n",
       "      <td>0.163187</td>\n",
       "    </tr>\n",
       "    <tr>\n",
       "      <th>9</th>\n",
       "      <td>0.001</td>\n",
       "      <td>376273.158054</td>\n",
       "      <td>0.163187</td>\n",
       "    </tr>\n",
       "  </tbody>\n",
       "</table>\n",
       "</div>"
      ],
      "text/plain": [
       "   Alpha           RMSE        R2\n",
       "0  1.000  376274.270345  0.163187\n",
       "1  0.889  376274.146735  0.163187\n",
       "2  0.778  376274.023131  0.163187\n",
       "3  0.667  376273.899532  0.163187\n",
       "4  0.556  376273.775938  0.163187\n",
       "5  0.445  376273.652350  0.163187\n",
       "6  0.334  376273.528768  0.163187\n",
       "7  0.223  376273.405191  0.163187\n",
       "8  0.112  376273.281620  0.163187\n",
       "9  0.001  376273.158054  0.163187"
      ]
     },
     "execution_count": 228,
     "metadata": {},
     "output_type": "execute_result"
    }
   ],
   "source": [
    "rmse_lassoList = []\n",
    "r2_lassoList = []\n",
    "model_lassoList = []\n",
    "\n",
    "for a in alphas_lasso:\n",
    "    lasso = Lasso(alpha = a, max_iter=500) #iterations\n",
    "    lasso.fit(X_train, Y_train)\n",
    "    pred_lasso = lasso.predict(X_test)\n",
    "    \n",
    "    #R Squared values\n",
    "    r2_lassoList.append(lasso.score(X_train, Y_train))\n",
    "    \n",
    "    #RMSE values\n",
    "    rmse_lasso = mean_squared_error(Y_test, pred_lasso)**0.5;  \n",
    "    rmse_lassoList.append(rmse_lasso)\n",
    "    \n",
    "    model_lassoList.append(lasso) \n",
    "    #print(\"Alpha\", a, \"RMSE\", rmse_lasso)\n",
    "    \n",
    "lasso_df = pd.DataFrame(zip(alphas_lasso, rmse_lassoList, r2_lassoList), columns=['Alpha','RMSE',\"R2\"])\n",
    "lasso_df"
   ]
  },
  {
   "cell_type": "markdown",
   "id": "53a9704f",
   "metadata": {},
   "source": [
    "Set a variable to display a frame with alpha with the min RMSE and the max R2"
   ]
  },
  {
   "cell_type": "code",
   "execution_count": 229,
   "id": "751ea3ce",
   "metadata": {},
   "outputs": [
    {
     "data": {
      "text/html": [
       "<div>\n",
       "<style scoped>\n",
       "    .dataframe tbody tr th:only-of-type {\n",
       "        vertical-align: middle;\n",
       "    }\n",
       "\n",
       "    .dataframe tbody tr th {\n",
       "        vertical-align: top;\n",
       "    }\n",
       "\n",
       "    .dataframe thead th {\n",
       "        text-align: right;\n",
       "    }\n",
       "</style>\n",
       "<table border=\"1\" class=\"dataframe\">\n",
       "  <thead>\n",
       "    <tr style=\"text-align: right;\">\n",
       "      <th></th>\n",
       "      <th>Alpha</th>\n",
       "      <th>RMSE</th>\n",
       "      <th>R2</th>\n",
       "    </tr>\n",
       "  </thead>\n",
       "  <tbody>\n",
       "    <tr>\n",
       "      <th>9</th>\n",
       "      <td>0.001</td>\n",
       "      <td>376273.158054</td>\n",
       "      <td>0.163187</td>\n",
       "    </tr>\n",
       "  </tbody>\n",
       "</table>\n",
       "</div>"
      ],
      "text/plain": [
       "   Alpha           RMSE        R2\n",
       "9  0.001  376273.158054  0.163187"
      ]
     },
     "execution_count": 229,
     "metadata": {},
     "output_type": "execute_result"
    }
   ],
   "source": [
    "best_alpha_lasso = lasso_df.sort_values(by=['RMSE', 'R2'], ascending=[True, False]).head(1) \n",
    "                                                                    #head(1) to display the first row that corresponds to\n",
    "                                                                    #the alpha with the min RMSE and the max R2\n",
    "best_alpha_lasso.head()"
   ]
  },
  {
   "cell_type": "markdown",
   "id": "698a2297",
   "metadata": {},
   "source": [
    "According to the previous frame we select the desired values. We use iat to get the value at specified row/column pair. E.g. Row [0] Column [1]"
   ]
  },
  {
   "cell_type": "code",
   "execution_count": 230,
   "id": "232d3a80",
   "metadata": {},
   "outputs": [],
   "source": [
    "a_lasso = best_alpha_lasso.iat[0,0] #retrieves the alpha\n",
    "rmse_lasso = best_alpha_lasso.iat[0,1] \n",
    "r2_lasso = best_alpha_lasso.iat[0,2]"
   ]
  },
  {
   "cell_type": "markdown",
   "id": "11e1f26b",
   "metadata": {},
   "source": [
    "We add the values to the corresponding lists"
   ]
  },
  {
   "cell_type": "code",
   "execution_count": 231,
   "id": "04b909c2",
   "metadata": {},
   "outputs": [],
   "source": [
    "feat_sel.append(\"Lasso, alpha = \" + str(a_lasso.round(decimals = 3)))\n",
    "                                    #because .append only accepts one value, we transform alpha into a string and round\n",
    "                                    #decimals to three\n",
    "                                    #Ref. https://datatofish.com/round-values-pandas-dataframe/\n",
    "#transf_list.append(\"None\")\n",
    "scal_list.append(\"None\")\n",
    "r2_list.append(r2_lasso)\n",
    "rmse_list.append(rmse_lasso)"
   ]
  },
  {
   "cell_type": "markdown",
   "id": "147ae30a",
   "metadata": {},
   "source": [
    "### 10.12 Linear Regression Model with Ridge"
   ]
  },
  {
   "cell_type": "markdown",
   "id": "2eb116a7",
   "metadata": {},
   "source": [
    "We use the same ratio for training and test (75/25) and the same random state value (42) from Lasso calculation. We randomly alterate the values of alpha, the number of alphas being tested, and the number iteration of the Ridge, to get a better result"
   ]
  },
  {
   "cell_type": "code",
   "execution_count": 232,
   "id": "0da2c252",
   "metadata": {},
   "outputs": [
    {
     "data": {
      "text/plain": [
       "array([ 1. ,  0.5,  0. , -0.5, -1. ])"
      ]
     },
     "execution_count": 232,
     "metadata": {},
     "output_type": "execute_result"
    }
   ],
   "source": [
    "alphas_ridge = np.linspace(1, -1, 5) #two first values correspond to the range of values for alpha\n",
    "                                        #whereas the third one is the number of alphas being tested\n",
    "alphas_ridge"
   ]
  },
  {
   "cell_type": "code",
   "execution_count": 233,
   "id": "35a959a8",
   "metadata": {},
   "outputs": [
    {
     "data": {
      "text/html": [
       "<div>\n",
       "<style scoped>\n",
       "    .dataframe tbody tr th:only-of-type {\n",
       "        vertical-align: middle;\n",
       "    }\n",
       "\n",
       "    .dataframe tbody tr th {\n",
       "        vertical-align: top;\n",
       "    }\n",
       "\n",
       "    .dataframe thead th {\n",
       "        text-align: right;\n",
       "    }\n",
       "</style>\n",
       "<table border=\"1\" class=\"dataframe\">\n",
       "  <thead>\n",
       "    <tr style=\"text-align: right;\">\n",
       "      <th></th>\n",
       "      <th>Alpha</th>\n",
       "      <th>RMSE</th>\n",
       "      <th>R2</th>\n",
       "    </tr>\n",
       "  </thead>\n",
       "  <tbody>\n",
       "    <tr>\n",
       "      <th>0</th>\n",
       "      <td>1.0</td>\n",
       "      <td>376131.606607</td>\n",
       "      <td>0.163134</td>\n",
       "    </tr>\n",
       "    <tr>\n",
       "      <th>1</th>\n",
       "      <td>0.5</td>\n",
       "      <td>376208.196745</td>\n",
       "      <td>0.163173</td>\n",
       "    </tr>\n",
       "    <tr>\n",
       "      <th>2</th>\n",
       "      <td>0.0</td>\n",
       "      <td>376273.156941</td>\n",
       "      <td>0.163187</td>\n",
       "    </tr>\n",
       "    <tr>\n",
       "      <th>3</th>\n",
       "      <td>-0.5</td>\n",
       "      <td>376322.740065</td>\n",
       "      <td>0.163171</td>\n",
       "    </tr>\n",
       "    <tr>\n",
       "      <th>4</th>\n",
       "      <td>-1.0</td>\n",
       "      <td>376352.679673</td>\n",
       "      <td>0.163118</td>\n",
       "    </tr>\n",
       "  </tbody>\n",
       "</table>\n",
       "</div>"
      ],
      "text/plain": [
       "   Alpha           RMSE        R2\n",
       "0    1.0  376131.606607  0.163134\n",
       "1    0.5  376208.196745  0.163173\n",
       "2    0.0  376273.156941  0.163187\n",
       "3   -0.5  376322.740065  0.163171\n",
       "4   -1.0  376352.679673  0.163118"
      ]
     },
     "execution_count": 233,
     "metadata": {},
     "output_type": "execute_result"
    }
   ],
   "source": [
    "rmse_ridgeList = []\n",
    "r2_ridgeList = []\n",
    "model_ridgeList = []\n",
    "\n",
    "for a in alphas_ridge:\n",
    "    ridge = Ridge(alpha = a, max_iter=1000) #iterations\n",
    "    ridge.fit(X_train, Y_train)\n",
    "    pred_ridge = ridge.predict(X_test) #predict\n",
    "    \n",
    "    #R squared values\n",
    "    r2_ridgeList.append(ridge.score(X_train, Y_train))\n",
    "    \n",
    "    #RMSE values\n",
    "    rmse_ridge = mean_squared_error(Y_test, pred_ridge)**0.5; #**means exponentiation\n",
    "    rmse_ridgeList.append(rmse_ridge)\n",
    "    \n",
    "    model_ridgeList.append(ridge)\n",
    "    #print(\"Alpha\",a,\"RMSE\",rmse)\n",
    "    \n",
    "ridge_result = np.vstack((alphas_ridge, rmse_ridgeList, r2_ridgeList)).T #instead of using zip\n",
    "ridge_df = pd.DataFrame(ridge_result, columns=['Alpha', 'RMSE', \"R2\"])\n",
    "ridge_df"
   ]
  },
  {
   "cell_type": "markdown",
   "id": "94e65bcc",
   "metadata": {},
   "source": [
    "Set a variable to display a frame with alpha with the min RMSE and the max R2"
   ]
  },
  {
   "cell_type": "code",
   "execution_count": 234,
   "id": "e526c0af",
   "metadata": {},
   "outputs": [
    {
     "data": {
      "text/html": [
       "<div>\n",
       "<style scoped>\n",
       "    .dataframe tbody tr th:only-of-type {\n",
       "        vertical-align: middle;\n",
       "    }\n",
       "\n",
       "    .dataframe tbody tr th {\n",
       "        vertical-align: top;\n",
       "    }\n",
       "\n",
       "    .dataframe thead th {\n",
       "        text-align: right;\n",
       "    }\n",
       "</style>\n",
       "<table border=\"1\" class=\"dataframe\">\n",
       "  <thead>\n",
       "    <tr style=\"text-align: right;\">\n",
       "      <th></th>\n",
       "      <th>Alpha</th>\n",
       "      <th>RMSE</th>\n",
       "      <th>R2</th>\n",
       "    </tr>\n",
       "  </thead>\n",
       "  <tbody>\n",
       "    <tr>\n",
       "      <th>0</th>\n",
       "      <td>1.0</td>\n",
       "      <td>376131.606607</td>\n",
       "      <td>0.163134</td>\n",
       "    </tr>\n",
       "  </tbody>\n",
       "</table>\n",
       "</div>"
      ],
      "text/plain": [
       "   Alpha           RMSE        R2\n",
       "0    1.0  376131.606607  0.163134"
      ]
     },
     "execution_count": 234,
     "metadata": {},
     "output_type": "execute_result"
    }
   ],
   "source": [
    "best_alpha_ridge = ridge_df.sort_values(by=['RMSE', 'R2'], ascending=[True, False]).head(1) \n",
    "                                                                    #head(1) to display the first row that corresponds to\n",
    "                                                                    #the alpha with the min RMSE and the max R2\n",
    "best_alpha_ridge.head()"
   ]
  },
  {
   "cell_type": "markdown",
   "id": "e2301c1b",
   "metadata": {},
   "source": [
    "According to the previous frame we select the desired values. We use iat to get the value at specified row/column pair. E.g. Row [0] Column [1]"
   ]
  },
  {
   "cell_type": "code",
   "execution_count": 235,
   "id": "8459fc71",
   "metadata": {},
   "outputs": [],
   "source": [
    "a_ridge = best_alpha_ridge.iat[0,0] #retrieves the alpha\n",
    "rmse_ridge = best_alpha_ridge.iat[0,1] \n",
    "r2_ridge = best_alpha_ridge.iat[0,2]"
   ]
  },
  {
   "cell_type": "markdown",
   "id": "3ed8b802",
   "metadata": {},
   "source": [
    "We add the values to the corresponding lists"
   ]
  },
  {
   "cell_type": "code",
   "execution_count": 236,
   "id": "4fbd46c3",
   "metadata": {},
   "outputs": [],
   "source": [
    "feat_sel.append(\"Ridge, alpha = \" + str(a_ridge.round(decimals = 3)))\n",
    "                                    #because .append only accepts one value, we transform alpha into a string and round\n",
    "                                    #decimals to three\n",
    "                                    #Ref. https://datatofish.com/round-values-pandas-dataframe/\n",
    "#transf_list.append(\"None\")\n",
    "scal_list.append(\"None\")\n",
    "r2_list.append(r2_ridge)\n",
    "rmse_list.append(rmse_ridge)"
   ]
  },
  {
   "cell_type": "markdown",
   "id": "9a0c0974",
   "metadata": {},
   "source": [
    "### 10.13 Summary analysis - Linear Regression Model combinations"
   ]
  },
  {
   "cell_type": "markdown",
   "id": "c729bec1",
   "metadata": {},
   "source": [
    "We create a dataframe by combining all the data included in the lists from step 10 using zip functions. So far we have 12 different models. Lasso and Ridge rows include alpha that gives the smallest RMSE for each one."
   ]
  },
  {
   "cell_type": "code",
   "execution_count": 237,
   "id": "ef8ee374",
   "metadata": {},
   "outputs": [
    {
     "data": {
      "text/html": [
       "<div>\n",
       "<style scoped>\n",
       "    .dataframe tbody tr th:only-of-type {\n",
       "        vertical-align: middle;\n",
       "    }\n",
       "\n",
       "    .dataframe tbody tr th {\n",
       "        vertical-align: top;\n",
       "    }\n",
       "\n",
       "    .dataframe thead th {\n",
       "        text-align: right;\n",
       "    }\n",
       "</style>\n",
       "<table border=\"1\" class=\"dataframe\">\n",
       "  <thead>\n",
       "    <tr style=\"text-align: right;\">\n",
       "      <th></th>\n",
       "      <th>Feature Selection</th>\n",
       "      <th>Feature Scaling</th>\n",
       "      <th>R2</th>\n",
       "      <th>RMSE</th>\n",
       "    </tr>\n",
       "  </thead>\n",
       "  <tbody>\n",
       "    <tr>\n",
       "      <th>0</th>\n",
       "      <td>Correlation Based</td>\n",
       "      <td>None</td>\n",
       "      <td>0.117957</td>\n",
       "      <td>362263.673607</td>\n",
       "    </tr>\n",
       "    <tr>\n",
       "      <th>1</th>\n",
       "      <td>Correlation Based</td>\n",
       "      <td>RobustScaler</td>\n",
       "      <td>0.117957</td>\n",
       "      <td>362263.673607</td>\n",
       "    </tr>\n",
       "    <tr>\n",
       "      <th>2</th>\n",
       "      <td>VT</td>\n",
       "      <td>None</td>\n",
       "      <td>0.062553</td>\n",
       "      <td>373467.979319</td>\n",
       "    </tr>\n",
       "    <tr>\n",
       "      <th>3</th>\n",
       "      <td>VT</td>\n",
       "      <td>RobustScaler</td>\n",
       "      <td>0.062553</td>\n",
       "      <td>373467.979319</td>\n",
       "    </tr>\n",
       "    <tr>\n",
       "      <th>4</th>\n",
       "      <td>SelectKBest</td>\n",
       "      <td>None</td>\n",
       "      <td>0.044613</td>\n",
       "      <td>377024.526641</td>\n",
       "    </tr>\n",
       "    <tr>\n",
       "      <th>5</th>\n",
       "      <td>SelectKBest</td>\n",
       "      <td>RobustScaler</td>\n",
       "      <td>0.044613</td>\n",
       "      <td>377024.526641</td>\n",
       "    </tr>\n",
       "    <tr>\n",
       "      <th>6</th>\n",
       "      <td>SelectFromModel/RandomForest</td>\n",
       "      <td>None</td>\n",
       "      <td>0.065327</td>\n",
       "      <td>372914.867666</td>\n",
       "    </tr>\n",
       "    <tr>\n",
       "      <th>7</th>\n",
       "      <td>SelectFromModel/RandomForest</td>\n",
       "      <td>RobustScaler</td>\n",
       "      <td>0.065327</td>\n",
       "      <td>372914.867666</td>\n",
       "    </tr>\n",
       "    <tr>\n",
       "      <th>8</th>\n",
       "      <td>GeneralizedLinearModel</td>\n",
       "      <td>None</td>\n",
       "      <td>0.048417</td>\n",
       "      <td>376273.156941</td>\n",
       "    </tr>\n",
       "    <tr>\n",
       "      <th>9</th>\n",
       "      <td>GeneralizedLinearModel</td>\n",
       "      <td>RobustScaler</td>\n",
       "      <td>0.048417</td>\n",
       "      <td>376273.156941</td>\n",
       "    </tr>\n",
       "    <tr>\n",
       "      <th>10</th>\n",
       "      <td>Lasso, alpha = 0.001</td>\n",
       "      <td>None</td>\n",
       "      <td>0.163187</td>\n",
       "      <td>376273.158054</td>\n",
       "    </tr>\n",
       "    <tr>\n",
       "      <th>11</th>\n",
       "      <td>Ridge, alpha = 1.0</td>\n",
       "      <td>None</td>\n",
       "      <td>0.163134</td>\n",
       "      <td>376131.606607</td>\n",
       "    </tr>\n",
       "  </tbody>\n",
       "</table>\n",
       "</div>"
      ],
      "text/plain": [
       "               Feature Selection Feature Scaling        R2           RMSE\n",
       "0              Correlation Based            None  0.117957  362263.673607\n",
       "1              Correlation Based    RobustScaler  0.117957  362263.673607\n",
       "2                             VT            None  0.062553  373467.979319\n",
       "3                             VT    RobustScaler  0.062553  373467.979319\n",
       "4                    SelectKBest            None  0.044613  377024.526641\n",
       "5                    SelectKBest    RobustScaler  0.044613  377024.526641\n",
       "6   SelectFromModel/RandomForest            None  0.065327  372914.867666\n",
       "7   SelectFromModel/RandomForest    RobustScaler  0.065327  372914.867666\n",
       "8         GeneralizedLinearModel            None  0.048417  376273.156941\n",
       "9         GeneralizedLinearModel    RobustScaler  0.048417  376273.156941\n",
       "10          Lasso, alpha = 0.001            None  0.163187  376273.158054\n",
       "11            Ridge, alpha = 1.0            None  0.163134  376131.606607"
      ]
     },
     "execution_count": 237,
     "metadata": {},
     "output_type": "execute_result"
    }
   ],
   "source": [
    "model_list = pd.DataFrame(zip(feat_sel, scal_list, r2_list, rmse_list), \n",
    "                        columns=['Feature Selection', 'Feature Scaling',\n",
    "                                 'R2','RMSE'])\n",
    "model_list"
   ]
  },
  {
   "cell_type": "markdown",
   "id": "c0dc4eed",
   "metadata": {},
   "source": [
    "Based on the above summary table, we select the best linear model to make the prediction"
   ]
  },
  {
   "cell_type": "code",
   "execution_count": 238,
   "id": "f2bd49ec",
   "metadata": {},
   "outputs": [
    {
     "data": {
      "text/html": [
       "<div>\n",
       "<style scoped>\n",
       "    .dataframe tbody tr th:only-of-type {\n",
       "        vertical-align: middle;\n",
       "    }\n",
       "\n",
       "    .dataframe tbody tr th {\n",
       "        vertical-align: top;\n",
       "    }\n",
       "\n",
       "    .dataframe thead th {\n",
       "        text-align: right;\n",
       "    }\n",
       "</style>\n",
       "<table border=\"1\" class=\"dataframe\">\n",
       "  <thead>\n",
       "    <tr style=\"text-align: right;\">\n",
       "      <th></th>\n",
       "      <th>Feature Selection</th>\n",
       "      <th>Feature Scaling</th>\n",
       "      <th>R2</th>\n",
       "      <th>RMSE</th>\n",
       "    </tr>\n",
       "  </thead>\n",
       "  <tbody>\n",
       "    <tr>\n",
       "      <th>1</th>\n",
       "      <td>Correlation Based</td>\n",
       "      <td>RobustScaler</td>\n",
       "      <td>0.117957</td>\n",
       "      <td>362263.673607</td>\n",
       "    </tr>\n",
       "    <tr>\n",
       "      <th>0</th>\n",
       "      <td>Correlation Based</td>\n",
       "      <td>None</td>\n",
       "      <td>0.117957</td>\n",
       "      <td>362263.673607</td>\n",
       "    </tr>\n",
       "    <tr>\n",
       "      <th>7</th>\n",
       "      <td>SelectFromModel/RandomForest</td>\n",
       "      <td>RobustScaler</td>\n",
       "      <td>0.065327</td>\n",
       "      <td>372914.867666</td>\n",
       "    </tr>\n",
       "    <tr>\n",
       "      <th>6</th>\n",
       "      <td>SelectFromModel/RandomForest</td>\n",
       "      <td>None</td>\n",
       "      <td>0.065327</td>\n",
       "      <td>372914.867666</td>\n",
       "    </tr>\n",
       "    <tr>\n",
       "      <th>3</th>\n",
       "      <td>VT</td>\n",
       "      <td>RobustScaler</td>\n",
       "      <td>0.062553</td>\n",
       "      <td>373467.979319</td>\n",
       "    </tr>\n",
       "    <tr>\n",
       "      <th>2</th>\n",
       "      <td>VT</td>\n",
       "      <td>None</td>\n",
       "      <td>0.062553</td>\n",
       "      <td>373467.979319</td>\n",
       "    </tr>\n",
       "    <tr>\n",
       "      <th>11</th>\n",
       "      <td>Ridge, alpha = 1.0</td>\n",
       "      <td>None</td>\n",
       "      <td>0.163134</td>\n",
       "      <td>376131.606607</td>\n",
       "    </tr>\n",
       "    <tr>\n",
       "      <th>9</th>\n",
       "      <td>GeneralizedLinearModel</td>\n",
       "      <td>RobustScaler</td>\n",
       "      <td>0.048417</td>\n",
       "      <td>376273.156941</td>\n",
       "    </tr>\n",
       "    <tr>\n",
       "      <th>8</th>\n",
       "      <td>GeneralizedLinearModel</td>\n",
       "      <td>None</td>\n",
       "      <td>0.048417</td>\n",
       "      <td>376273.156941</td>\n",
       "    </tr>\n",
       "    <tr>\n",
       "      <th>10</th>\n",
       "      <td>Lasso, alpha = 0.001</td>\n",
       "      <td>None</td>\n",
       "      <td>0.163187</td>\n",
       "      <td>376273.158054</td>\n",
       "    </tr>\n",
       "    <tr>\n",
       "      <th>5</th>\n",
       "      <td>SelectKBest</td>\n",
       "      <td>RobustScaler</td>\n",
       "      <td>0.044613</td>\n",
       "      <td>377024.526641</td>\n",
       "    </tr>\n",
       "    <tr>\n",
       "      <th>4</th>\n",
       "      <td>SelectKBest</td>\n",
       "      <td>None</td>\n",
       "      <td>0.044613</td>\n",
       "      <td>377024.526641</td>\n",
       "    </tr>\n",
       "  </tbody>\n",
       "</table>\n",
       "</div>"
      ],
      "text/plain": [
       "               Feature Selection Feature Scaling        R2           RMSE\n",
       "1              Correlation Based    RobustScaler  0.117957  362263.673607\n",
       "0              Correlation Based            None  0.117957  362263.673607\n",
       "7   SelectFromModel/RandomForest    RobustScaler  0.065327  372914.867666\n",
       "6   SelectFromModel/RandomForest            None  0.065327  372914.867666\n",
       "3                             VT    RobustScaler  0.062553  373467.979319\n",
       "2                             VT            None  0.062553  373467.979319\n",
       "11            Ridge, alpha = 1.0            None  0.163134  376131.606607\n",
       "9         GeneralizedLinearModel    RobustScaler  0.048417  376273.156941\n",
       "8         GeneralizedLinearModel            None  0.048417  376273.156941\n",
       "10          Lasso, alpha = 0.001            None  0.163187  376273.158054\n",
       "5                    SelectKBest    RobustScaler  0.044613  377024.526641\n",
       "4                    SelectKBest            None  0.044613  377024.526641"
      ]
     },
     "execution_count": 238,
     "metadata": {},
     "output_type": "execute_result"
    }
   ],
   "source": [
    "sort_model_list = model_list.sort_values(by=['RMSE', 'R2'], ascending=[True, False])\n",
    "sort_model_list"
   ]
  },
  {
   "cell_type": "markdown",
   "id": "8b62ac45",
   "metadata": {},
   "source": [
    "Although the previous process is useful to determine different combinations to get the best Linear Regression model with some functions, different feature selection methods, and Robust Scaling, we also implement a Pipeline to get higher accuracy with different regressors. Certainly there is no difference between the methods with and without feature scaling. However, we will consider it to perform the following procedure, including several regressors and using SelectFromModel feature selection with RandomForest as the estimator. This latter method provides a more rapid performance than using a \"manual\" selection, as we did in the Correlation Based approach. To recall, values of R2 depend on the magnitude of the value, and we cannot state whether those scores indicate that the model is predicting correctly or not. To understand the performance of the model, we will plot values predicted by the best model and values from the original Loan_Amount. In addition, we do not include polynomial transformation (degree 2) because of the negative values for R2. A negative R2 means that the model fitted the data extremely bad. Since R2 compares the fit of the model with that of the null hypothesis(a horizontal line), then R2 is negative when the model fits worse than a horizontal line. Moreover, we do not see any difference by changing the polynomial transformation to degree 1 either. Thus, we remove it from the calculations."
   ]
  },
  {
   "cell_type": "markdown",
   "id": "7700ade0",
   "metadata": {},
   "source": [
    "## 11. Perform Other Linear Regression Models"
   ]
  },
  {
   "cell_type": "markdown",
   "id": "9a022019",
   "metadata": {},
   "source": [
    "**We create some empty placeholder lists to store the experiments' result including the corresponding R2 and RMSE scores**"
   ]
  },
  {
   "cell_type": "code",
   "execution_count": 239,
   "id": "1bb714e5",
   "metadata": {},
   "outputs": [],
   "source": [
    "#Regressors' list\n",
    "reg_list = []\n",
    "\n",
    "#Regressors' names list\n",
    "names = []\n",
    "\n",
    "#Metrics lists\n",
    "r2 = []\n",
    "rmse = []"
   ]
  },
  {
   "cell_type": "markdown",
   "id": "199e97d7",
   "metadata": {},
   "source": [
    "### 11.1 Simple Linear Regression"
   ]
  },
  {
   "cell_type": "code",
   "execution_count": 240,
   "id": "86f6f8df",
   "metadata": {},
   "outputs": [],
   "source": [
    "reg_list.append(lr_model) #from section 10\n",
    "names.append(lr_model.__class__.__name__)"
   ]
  },
  {
   "cell_type": "markdown",
   "id": "b5078843",
   "metadata": {},
   "source": [
    "### 11.2 Decision tree regressor"
   ]
  },
  {
   "cell_type": "code",
   "execution_count": 241,
   "id": "19240208",
   "metadata": {},
   "outputs": [],
   "source": [
    "dt_model = DecisionTreeRegressor(max_depth=3)\n",
    "reg_list.append(dt_model)\n",
    "names.append(dt_model.__class__.__name__)"
   ]
  },
  {
   "cell_type": "markdown",
   "id": "fd9ae8d5",
   "metadata": {},
   "source": [
    "### 11.3 Gradient boosting regressor"
   ]
  },
  {
   "cell_type": "code",
   "execution_count": 242,
   "id": "5b899ac2",
   "metadata": {},
   "outputs": [],
   "source": [
    "gr_model = GradientBoostingRegressor()\n",
    "reg_list.append(gr_model)\n",
    "names.append(gr_model.__class__.__name__)"
   ]
  },
  {
   "cell_type": "markdown",
   "id": "05809459",
   "metadata": {},
   "source": [
    "### 11.4 Random forest regressor"
   ]
  },
  {
   "cell_type": "code",
   "execution_count": 243,
   "id": "ed901cc1",
   "metadata": {},
   "outputs": [],
   "source": [
    "rf_model = RandomForestRegressor(n_estimators=100, max_depth=3)\n",
    "reg_list.append(rf_model)\n",
    "names.append(rf_model.__class__.__name__)"
   ]
  },
  {
   "cell_type": "markdown",
   "id": "86c20fca",
   "metadata": {},
   "source": [
    "### 11.5 Ada boost regressor"
   ]
  },
  {
   "cell_type": "code",
   "execution_count": 244,
   "id": "884b839a",
   "metadata": {},
   "outputs": [],
   "source": [
    "ada_model = AdaBoostRegressor(n_estimators=100) #if you add more estimators that doesnt good you will have a better result\n",
    "reg_list.append(ada_model)\n",
    "names.append(ada_model.__class__.__name__)"
   ]
  },
  {
   "cell_type": "markdown",
   "id": "7afcd8a0",
   "metadata": {},
   "source": [
    "### 11.6 XGBoost regressor"
   ]
  },
  {
   "cell_type": "code",
   "execution_count": 245,
   "id": "9fc9beef",
   "metadata": {},
   "outputs": [],
   "source": [
    "xg_model = XGBRegressor(n_estimators=100)\n",
    "reg_list.append(xg_model)\n",
    "names.append(xg_model.__class__.__name__)"
   ]
  },
  {
   "cell_type": "markdown",
   "id": "0929db3b",
   "metadata": {},
   "source": [
    "## 12. Pipeline"
   ]
  },
  {
   "cell_type": "code",
   "execution_count": 265,
   "id": "68b44244",
   "metadata": {},
   "outputs": [],
   "source": [
    "for model in reg_list:\n",
    "    pipe = Pipeline (steps=\n",
    "    [('featSel', sfm ),('scaler', rs),('regressor', model)] \n",
    "    )\n",
    "    pipe.fit(X_train, Y_train)\n",
    "    y_pred = pipe.predict(X_test)\n",
    "    r2.append(pipe.score(X_test, Y_test))\n",
    "    rmse.append(mean_squared_error(Y_test, y_pred, squared=False)) "
   ]
  },
  {
   "cell_type": "markdown",
   "id": "d52dd94d",
   "metadata": {},
   "source": [
    "## 13. Create a data frame to display Linear Regression results"
   ]
  },
  {
   "cell_type": "code",
   "execution_count": 247,
   "id": "c304205d",
   "metadata": {},
   "outputs": [
    {
     "data": {
      "text/html": [
       "<div>\n",
       "<style scoped>\n",
       "    .dataframe tbody tr th:only-of-type {\n",
       "        vertical-align: middle;\n",
       "    }\n",
       "\n",
       "    .dataframe tbody tr th {\n",
       "        vertical-align: top;\n",
       "    }\n",
       "\n",
       "    .dataframe thead th {\n",
       "        text-align: right;\n",
       "    }\n",
       "</style>\n",
       "<table border=\"1\" class=\"dataframe\">\n",
       "  <thead>\n",
       "    <tr style=\"text-align: right;\">\n",
       "      <th></th>\n",
       "      <th>Regressors</th>\n",
       "      <th>R2 score</th>\n",
       "      <th>RMSE</th>\n",
       "    </tr>\n",
       "  </thead>\n",
       "  <tbody>\n",
       "    <tr>\n",
       "      <th>0</th>\n",
       "      <td>LinearRegression</td>\n",
       "      <td>0.061664</td>\n",
       "      <td>373644.972418</td>\n",
       "    </tr>\n",
       "    <tr>\n",
       "      <th>1</th>\n",
       "      <td>DecisionTreeRegressor</td>\n",
       "      <td>0.134517</td>\n",
       "      <td>358846.977026</td>\n",
       "    </tr>\n",
       "    <tr>\n",
       "      <th>2</th>\n",
       "      <td>GradientBoostingRegressor</td>\n",
       "      <td>0.170511</td>\n",
       "      <td>351305.771353</td>\n",
       "    </tr>\n",
       "    <tr>\n",
       "      <th>3</th>\n",
       "      <td>RandomForestRegressor</td>\n",
       "      <td>0.159599</td>\n",
       "      <td>353608.926259</td>\n",
       "    </tr>\n",
       "    <tr>\n",
       "      <th>4</th>\n",
       "      <td>AdaBoostRegressor</td>\n",
       "      <td>0.048273</td>\n",
       "      <td>376301.731038</td>\n",
       "    </tr>\n",
       "    <tr>\n",
       "      <th>5</th>\n",
       "      <td>XGBRegressor</td>\n",
       "      <td>0.026573</td>\n",
       "      <td>380567.483940</td>\n",
       "    </tr>\n",
       "  </tbody>\n",
       "</table>\n",
       "</div>"
      ],
      "text/plain": [
       "                  Regressors  R2 score           RMSE\n",
       "0           LinearRegression  0.061664  373644.972418\n",
       "1      DecisionTreeRegressor  0.134517  358846.977026\n",
       "2  GradientBoostingRegressor  0.170511  351305.771353\n",
       "3      RandomForestRegressor  0.159599  353608.926259\n",
       "4          AdaBoostRegressor  0.048273  376301.731038\n",
       "5               XGBRegressor  0.026573  380567.483940"
      ]
     },
     "execution_count": 247,
     "metadata": {},
     "output_type": "execute_result"
    }
   ],
   "source": [
    "res_df = pd.DataFrame(zip(names, r2, rmse), columns=['Regressors', 'R2 score', 'RMSE'])\n",
    "res_df"
   ]
  },
  {
   "cell_type": "markdown",
   "id": "2aa753cd",
   "metadata": {},
   "source": [
    "### 13.1 Find the model with the min RMSE and the max R2."
   ]
  },
  {
   "cell_type": "markdown",
   "id": "c818e75a",
   "metadata": {},
   "source": [
    "        We sort the previous data frame to find the model with the min RMSE and the max R2"
   ]
  },
  {
   "cell_type": "code",
   "execution_count": 248,
   "id": "96982f08",
   "metadata": {},
   "outputs": [
    {
     "data": {
      "text/html": [
       "<div>\n",
       "<style scoped>\n",
       "    .dataframe tbody tr th:only-of-type {\n",
       "        vertical-align: middle;\n",
       "    }\n",
       "\n",
       "    .dataframe tbody tr th {\n",
       "        vertical-align: top;\n",
       "    }\n",
       "\n",
       "    .dataframe thead th {\n",
       "        text-align: right;\n",
       "    }\n",
       "</style>\n",
       "<table border=\"1\" class=\"dataframe\">\n",
       "  <thead>\n",
       "    <tr style=\"text-align: right;\">\n",
       "      <th></th>\n",
       "      <th>Regressors</th>\n",
       "      <th>R2 score</th>\n",
       "      <th>RMSE</th>\n",
       "    </tr>\n",
       "  </thead>\n",
       "  <tbody>\n",
       "    <tr>\n",
       "      <th>2</th>\n",
       "      <td>GradientBoostingRegressor</td>\n",
       "      <td>0.170511</td>\n",
       "      <td>351305.771353</td>\n",
       "    </tr>\n",
       "    <tr>\n",
       "      <th>3</th>\n",
       "      <td>RandomForestRegressor</td>\n",
       "      <td>0.159599</td>\n",
       "      <td>353608.926259</td>\n",
       "    </tr>\n",
       "    <tr>\n",
       "      <th>1</th>\n",
       "      <td>DecisionTreeRegressor</td>\n",
       "      <td>0.134517</td>\n",
       "      <td>358846.977026</td>\n",
       "    </tr>\n",
       "    <tr>\n",
       "      <th>0</th>\n",
       "      <td>LinearRegression</td>\n",
       "      <td>0.061664</td>\n",
       "      <td>373644.972418</td>\n",
       "    </tr>\n",
       "    <tr>\n",
       "      <th>4</th>\n",
       "      <td>AdaBoostRegressor</td>\n",
       "      <td>0.048273</td>\n",
       "      <td>376301.731038</td>\n",
       "    </tr>\n",
       "    <tr>\n",
       "      <th>5</th>\n",
       "      <td>XGBRegressor</td>\n",
       "      <td>0.026573</td>\n",
       "      <td>380567.483940</td>\n",
       "    </tr>\n",
       "  </tbody>\n",
       "</table>\n",
       "</div>"
      ],
      "text/plain": [
       "                  Regressors  R2 score           RMSE\n",
       "2  GradientBoostingRegressor  0.170511  351305.771353\n",
       "3      RandomForestRegressor  0.159599  353608.926259\n",
       "1      DecisionTreeRegressor  0.134517  358846.977026\n",
       "0           LinearRegression  0.061664  373644.972418\n",
       "4          AdaBoostRegressor  0.048273  376301.731038\n",
       "5               XGBRegressor  0.026573  380567.483940"
      ]
     },
     "execution_count": 248,
     "metadata": {},
     "output_type": "execute_result"
    }
   ],
   "source": [
    "sort_res_df = res_df.sort_values(by=['RMSE', 'R2 score'], ascending = [True, False])\n",
    "sort_res_df"
   ]
  },
  {
   "cell_type": "markdown",
   "id": "f79c2e56",
   "metadata": {},
   "source": [
    "## 14. Best Model Selection"
   ]
  },
  {
   "cell_type": "markdown",
   "id": "5a32110e",
   "metadata": {},
   "source": [
    "According to the above-mentioned data frame, the model to consider is GradientBoostingRegressor regarding SelectFromModel with RandomForest as the feature selection method with RobustScaler to standardize thereof."
   ]
  },
  {
   "cell_type": "markdown",
   "id": "7edf5f77",
   "metadata": {},
   "source": [
    "*Alternatively, we fit the model using training set once again to depict performance model later on*"
   ]
  },
  {
   "cell_type": "markdown",
   "id": "5b50d7cc",
   "metadata": {},
   "source": [
    "### 14.1 Apply Random Forest Classifier"
   ]
  },
  {
   "cell_type": "markdown",
   "id": "66d95bbc",
   "metadata": {},
   "source": [
    "We may use the data frame created on section 8 bullet point 8.4, which are the selected features based on SelectFromModel with RandomForest. Following the steps from the Pipeline, we standardize the data with RobustScaler function"
   ]
  },
  {
   "cell_type": "code",
   "execution_count": 249,
   "id": "fa2da28c",
   "metadata": {},
   "outputs": [
    {
     "data": {
      "text/html": [
       "<div>\n",
       "<style scoped>\n",
       "    .dataframe tbody tr th:only-of-type {\n",
       "        vertical-align: middle;\n",
       "    }\n",
       "\n",
       "    .dataframe tbody tr th {\n",
       "        vertical-align: top;\n",
       "    }\n",
       "\n",
       "    .dataframe thead th {\n",
       "        text-align: right;\n",
       "    }\n",
       "</style>\n",
       "<table border=\"1\" class=\"dataframe\">\n",
       "  <thead>\n",
       "    <tr style=\"text-align: right;\">\n",
       "      <th></th>\n",
       "      <th>Age</th>\n",
       "      <th>Income</th>\n",
       "      <th>Expenditure</th>\n",
       "      <th>Use_Frequency</th>\n",
       "      <th>Overdue</th>\n",
       "      <th>Debt_Record</th>\n",
       "      <th>Returned_Cheque</th>\n",
       "      <th>Dishonour_of_Bill</th>\n",
       "    </tr>\n",
       "  </thead>\n",
       "  <tbody>\n",
       "    <tr>\n",
       "      <th>0</th>\n",
       "      <td>30</td>\n",
       "      <td>50000.0</td>\n",
       "      <td>22199.0</td>\n",
       "      <td>6</td>\n",
       "      <td>5</td>\n",
       "      <td>42898.0</td>\n",
       "      <td>6</td>\n",
       "      <td>9</td>\n",
       "    </tr>\n",
       "    <tr>\n",
       "      <th>1</th>\n",
       "      <td>29</td>\n",
       "      <td>45767.0</td>\n",
       "      <td>12787.0</td>\n",
       "      <td>3</td>\n",
       "      <td>7</td>\n",
       "      <td>11000.0</td>\n",
       "      <td>0</td>\n",
       "      <td>4</td>\n",
       "    </tr>\n",
       "    <tr>\n",
       "      <th>2</th>\n",
       "      <td>34</td>\n",
       "      <td>43521.0</td>\n",
       "      <td>11999.0</td>\n",
       "      <td>3</td>\n",
       "      <td>2</td>\n",
       "      <td>43898.0</td>\n",
       "      <td>1</td>\n",
       "      <td>2</td>\n",
       "    </tr>\n",
       "  </tbody>\n",
       "</table>\n",
       "</div>"
      ],
      "text/plain": [
       "   Age   Income  Expenditure  Use_Frequency  Overdue  Debt_Record  \\\n",
       "0   30  50000.0      22199.0              6        5      42898.0   \n",
       "1   29  45767.0      12787.0              3        7      11000.0   \n",
       "2   34  43521.0      11999.0              3        2      43898.0   \n",
       "\n",
       "   Returned_Cheque  Dishonour_of_Bill  \n",
       "0                6                  9  \n",
       "1                0                  4  \n",
       "2                1                  2  "
      ]
     },
     "execution_count": 249,
     "metadata": {},
     "output_type": "execute_result"
    }
   ],
   "source": [
    "df_rf.head(3) #selected features using SelectFromModel with Random Forest Classifier method"
   ]
  },
  {
   "cell_type": "markdown",
   "id": "ebf8d719",
   "metadata": {},
   "source": [
    "### 14.2 Apply Feature Scaling: RobustScaler"
   ]
  },
  {
   "cell_type": "code",
   "execution_count": 250,
   "id": "e53b0e70",
   "metadata": {},
   "outputs": [
    {
     "data": {
      "text/html": [
       "<div>\n",
       "<style scoped>\n",
       "    .dataframe tbody tr th:only-of-type {\n",
       "        vertical-align: middle;\n",
       "    }\n",
       "\n",
       "    .dataframe tbody tr th {\n",
       "        vertical-align: top;\n",
       "    }\n",
       "\n",
       "    .dataframe thead th {\n",
       "        text-align: right;\n",
       "    }\n",
       "</style>\n",
       "<table border=\"1\" class=\"dataframe\">\n",
       "  <thead>\n",
       "    <tr style=\"text-align: right;\">\n",
       "      <th></th>\n",
       "      <th>Age</th>\n",
       "      <th>Income</th>\n",
       "      <th>Expenditure</th>\n",
       "      <th>Use_Frequency</th>\n",
       "      <th>Overdue</th>\n",
       "      <th>Debt_Record</th>\n",
       "      <th>Returned_Cheque</th>\n",
       "      <th>Dishonour_of_Bill</th>\n",
       "    </tr>\n",
       "  </thead>\n",
       "  <tbody>\n",
       "    <tr>\n",
       "      <th>0</th>\n",
       "      <td>-0.611111</td>\n",
       "      <td>-0.213637</td>\n",
       "      <td>-0.220565</td>\n",
       "      <td>0.333333</td>\n",
       "      <td>0.00</td>\n",
       "      <td>0.129726</td>\n",
       "      <td>0.4</td>\n",
       "      <td>1.0</td>\n",
       "    </tr>\n",
       "    <tr>\n",
       "      <th>1</th>\n",
       "      <td>-0.666667</td>\n",
       "      <td>-0.364358</td>\n",
       "      <td>-0.879807</td>\n",
       "      <td>-0.666667</td>\n",
       "      <td>0.50</td>\n",
       "      <td>-0.726826</td>\n",
       "      <td>-0.8</td>\n",
       "      <td>0.0</td>\n",
       "    </tr>\n",
       "    <tr>\n",
       "      <th>2</th>\n",
       "      <td>-0.388889</td>\n",
       "      <td>-0.444330</td>\n",
       "      <td>-0.935000</td>\n",
       "      <td>-0.666667</td>\n",
       "      <td>-0.75</td>\n",
       "      <td>0.156579</td>\n",
       "      <td>-0.6</td>\n",
       "      <td>-0.4</td>\n",
       "    </tr>\n",
       "    <tr>\n",
       "      <th>3</th>\n",
       "      <td>-0.111111</td>\n",
       "      <td>-0.334022</td>\n",
       "      <td>-0.467395</td>\n",
       "      <td>-0.333333</td>\n",
       "      <td>0.75</td>\n",
       "      <td>-0.216649</td>\n",
       "      <td>0.4</td>\n",
       "      <td>0.8</td>\n",
       "    </tr>\n",
       "    <tr>\n",
       "      <th>4</th>\n",
       "      <td>-0.944444</td>\n",
       "      <td>-0.391383</td>\n",
       "      <td>-0.552917</td>\n",
       "      <td>-0.333333</td>\n",
       "      <td>1.00</td>\n",
       "      <td>0.373792</td>\n",
       "      <td>0.0</td>\n",
       "      <td>0.6</td>\n",
       "    </tr>\n",
       "  </tbody>\n",
       "</table>\n",
       "</div>"
      ],
      "text/plain": [
       "        Age    Income  Expenditure  Use_Frequency  Overdue  Debt_Record  \\\n",
       "0 -0.611111 -0.213637    -0.220565       0.333333     0.00     0.129726   \n",
       "1 -0.666667 -0.364358    -0.879807      -0.666667     0.50    -0.726826   \n",
       "2 -0.388889 -0.444330    -0.935000      -0.666667    -0.75     0.156579   \n",
       "3 -0.111111 -0.334022    -0.467395      -0.333333     0.75    -0.216649   \n",
       "4 -0.944444 -0.391383    -0.552917      -0.333333     1.00     0.373792   \n",
       "\n",
       "   Returned_Cheque  Dishonour_of_Bill  \n",
       "0              0.4                1.0  \n",
       "1             -0.8                0.0  \n",
       "2             -0.6               -0.4  \n",
       "3              0.4                0.8  \n",
       "4              0.0                0.6  "
      ]
     },
     "execution_count": 250,
     "metadata": {},
     "output_type": "execute_result"
    }
   ],
   "source": [
    "scaled_feat = rs.fit_transform(df_rf)\n",
    "\n",
    "#Remake the df\n",
    "scaled_df = pd.DataFrame(scaled_feat, columns=df_rf.columns)\n",
    "scaled_df.head()"
   ]
  },
  {
   "cell_type": "markdown",
   "id": "762be873",
   "metadata": {},
   "source": [
    "### 14.3 Split data, then fit the best model and get predictions"
   ]
  },
  {
   "cell_type": "code",
   "execution_count": 251,
   "id": "d4b79d08",
   "metadata": {},
   "outputs": [],
   "source": [
    "#bm means best model\n",
    "X_train_bm, X_test_bm, Y_train_bm, Y_test_bm = train_test_split(scaled_df, target, test_size = 0.25, random_state = 42)\n",
    "                                                                #Here scaled_df represents the features/independent variables\n",
    "                                                                #target is the dependent variable"
   ]
  },
  {
   "cell_type": "code",
   "execution_count": 252,
   "id": "ba2f876c",
   "metadata": {},
   "outputs": [],
   "source": [
    "best_model = GradientBoostingRegressor()\n",
    "best_model.fit(X_train_bm, Y_train_bm)\n",
    "\n",
    "#Predictions\n",
    "y_pred_bm = best_model.predict(X_test_bm)"
   ]
  },
  {
   "cell_type": "markdown",
   "id": "4ea54ae9",
   "metadata": {},
   "source": [
    "## 15. Performance of the Best Model"
   ]
  },
  {
   "cell_type": "markdown",
   "id": "ac75139a",
   "metadata": {},
   "source": [
    "To estimate the model performance we plot the predicted Loan_Amount values by our Machine Learning model and Loan_Amount values from the original data frame"
   ]
  },
  {
   "cell_type": "code",
   "execution_count": 253,
   "id": "d139dc77",
   "metadata": {},
   "outputs": [
    {
     "data": {
      "image/png": "[encoded data removed]",
      "text/plain": [
       "<Figure size 432x288 with 1 Axes>"
      ]
     },
     "metadata": {},
     "output_type": "display_data"
    }
   ],
   "source": [
    "plt.scatter(Y_test_bm, y_pred_bm, alpha=0.7, color='b')\n",
    "plt.xlabel(\"Actual Loan Amount\")\n",
    "plt.ylabel(\"Predicted Loan Amount\")\n",
    "plt.title(\"GradientBoostingRegressor\")\n",
    "plt.show()"
   ]
  },
  {
   "cell_type": "markdown",
   "id": "f65298e8",
   "metadata": {},
   "source": [
    "**Conclusion: Unlike the predictions from the Simple Linear Regression Model, the values predicted by our Machine Learning Model using GradientBoostingRegressor are closer to the original Loan_Amount values. Clearly, there is higher accuracy in the performed methodology. This model is predicting correctly.**"
   ]
  },
  {
   "cell_type": "markdown",
   "id": "9d1fc524",
   "metadata": {},
   "source": [
    "We may find higher accuracy than the simple linear regression. With GradientBoostingRegressor, we combine multiple simple models (weak learners) into a single composite model. Simple models (also known as weak learners) are added one at a time, while keeping existing trees in the model unchanged. Repeating this step again and again improves the overall model prediction. As we combine more and more simple models, the complete final model becomes a stronger predictor. This model minimize the loss by using Decision Trees as the weak learners."
   ]
  },
  {
   "cell_type": "markdown",
   "id": "fbce82bb",
   "metadata": {},
   "source": [
    "## 16. Out of Sample Prediction"
   ]
  },
  {
   "cell_type": "markdown",
   "id": "a5328e73",
   "metadata": {},
   "source": [
    "**Selected Features**"
   ]
  },
  {
   "cell_type": "code",
   "execution_count": 254,
   "id": "29ea85c4",
   "metadata": {},
   "outputs": [],
   "source": [
    "X_bm = df_rf # X (independent variables/features) from the bm (best model)"
   ]
  },
  {
   "cell_type": "markdown",
   "id": "ad4b6b93",
   "metadata": {},
   "source": [
    "**Predicted values**"
   ]
  },
  {
   "cell_type": "code",
   "execution_count": 255,
   "id": "d4a9eef6",
   "metadata": {},
   "outputs": [
    {
     "data": {
      "text/plain": [
       "array([1133348.29720956,  815158.93324173,  740650.62900178,\n",
       "        996985.18591917,  712512.83384001,  565533.55713818,\n",
       "        788281.44568097,  677318.01883492,  850503.26067949,\n",
       "        607198.21715302, 1186879.90697909,  704876.99003144,\n",
       "        222592.17027229,  266102.53077141,  452272.60406449,\n",
       "       1487695.62140138,  887244.616629  ,  795074.29963142,\n",
       "       1006432.98064991, 1048058.13536382,  690514.5370725 ,\n",
       "        542470.53916722,  763622.92547382,  801826.87537241,\n",
       "        664768.30083328,  594830.83399959, 1001487.98614787,\n",
       "        672431.77346092,  891628.92387907,  918439.91483758,\n",
       "        741038.65444823,  932819.31891708,  693010.72581996,\n",
       "        442752.91123073,  891484.26735509,  581819.27975817,\n",
       "        894729.72470672,  861796.28295331,  745292.57549851,\n",
       "        798975.84210441, 1026579.19527995,  222592.17027229,\n",
       "        566789.02285534,  772560.05309096,  820203.40986308,\n",
       "       1620531.28834459,  521237.94022539,  696161.50728256,\n",
       "       1487695.62140138,  751762.15658997,  442752.91123073,\n",
       "        727015.53982023,  847304.53039968,  807921.31082299,\n",
       "        772768.51114288,  610321.78564195, 1026028.13580458,\n",
       "        644387.85658224,  743799.55151237,  824147.06896495,\n",
       "        898160.31700821,  657962.25902315,  881205.12104596,\n",
       "        603578.98359286,  739554.92170384,  769166.102823  ,\n",
       "        715213.96968186,  537368.99123927,  862878.26193404,\n",
       "        571328.52285878,  701255.97180629,  843276.4669488 ,\n",
       "        804567.02758388,  815513.22065512,  829472.26465122,\n",
       "        854869.18543231, 1187729.42061896,  808535.79911371,\n",
       "       1303952.9371311 ,  751687.11337502,  799334.88700077,\n",
       "        820203.40986308, 1077305.85801783, 1058867.6483028 ,\n",
       "        874257.76760371,  799453.02081398,  904140.86363901,\n",
       "        807629.75484309,  517068.96249978,  818189.38059943,\n",
       "        755057.64845046,  767020.56399246,  411839.65020154,\n",
       "        884094.79325498,  943007.33828257, 1240695.0401324 ,\n",
       "        973455.29874111,  662314.14222806,  672845.37488271,\n",
       "        610772.5871107 ,  773411.36717349])"
      ]
     },
     "execution_count": 255,
     "metadata": {},
     "output_type": "execute_result"
    }
   ],
   "source": [
    "y_pred_bm"
   ]
  },
  {
   "cell_type": "markdown",
   "id": "a23b0b08",
   "metadata": {},
   "source": [
    "### 16.1 Create a synthetic dataset to validate the model"
   ]
  },
  {
   "cell_type": "markdown",
   "id": "031fcdc3",
   "metadata": {},
   "source": [
    "We may create a synthetic dataset containing three rows of data points that has the same columns set as the one that gives the best linear regression. We use describe() function to pick some arbitrary values: mean, 25% percentile, and 75% percentile."
   ]
  },
  {
   "cell_type": "code",
   "execution_count": 256,
   "id": "7716d748",
   "metadata": {},
   "outputs": [
    {
     "data": {
      "text/html": [
       "<div>\n",
       "<style scoped>\n",
       "    .dataframe tbody tr th:only-of-type {\n",
       "        vertical-align: middle;\n",
       "    }\n",
       "\n",
       "    .dataframe tbody tr th {\n",
       "        vertical-align: top;\n",
       "    }\n",
       "\n",
       "    .dataframe thead th {\n",
       "        text-align: right;\n",
       "    }\n",
       "</style>\n",
       "<table border=\"1\" class=\"dataframe\">\n",
       "  <thead>\n",
       "    <tr style=\"text-align: right;\">\n",
       "      <th></th>\n",
       "      <th>Age</th>\n",
       "      <th>Income</th>\n",
       "      <th>Expenditure</th>\n",
       "      <th>Use_Frequency</th>\n",
       "      <th>Overdue</th>\n",
       "      <th>Debt_Record</th>\n",
       "      <th>Returned_Cheque</th>\n",
       "      <th>Dishonour_of_Bill</th>\n",
       "    </tr>\n",
       "  </thead>\n",
       "  <tbody>\n",
       "    <tr>\n",
       "      <th>count</th>\n",
       "      <td>401.000000</td>\n",
       "      <td>401.000000</td>\n",
       "      <td>401.000000</td>\n",
       "      <td>401.000000</td>\n",
       "      <td>401.000000</td>\n",
       "      <td>401.000000</td>\n",
       "      <td>401.000000</td>\n",
       "      <td>401.000000</td>\n",
       "    </tr>\n",
       "    <tr>\n",
       "      <th>mean</th>\n",
       "      <td>40.461347</td>\n",
       "      <td>58358.965087</td>\n",
       "      <td>26690.172649</td>\n",
       "      <td>5.381546</td>\n",
       "      <td>5.149626</td>\n",
       "      <td>42478.012469</td>\n",
       "      <td>4.206983</td>\n",
       "      <td>4.446384</td>\n",
       "    </tr>\n",
       "    <tr>\n",
       "      <th>std</th>\n",
       "      <td>10.042367</td>\n",
       "      <td>17086.597429</td>\n",
       "      <td>10664.868866</td>\n",
       "      <td>2.082441</td>\n",
       "      <td>2.477409</td>\n",
       "      <td>22922.234653</td>\n",
       "      <td>2.875683</td>\n",
       "      <td>2.756400</td>\n",
       "    </tr>\n",
       "    <tr>\n",
       "      <th>min</th>\n",
       "      <td>24.000000</td>\n",
       "      <td>28366.000000</td>\n",
       "      <td>3447.123451</td>\n",
       "      <td>2.000000</td>\n",
       "      <td>1.000000</td>\n",
       "      <td>0.000000</td>\n",
       "      <td>0.000000</td>\n",
       "      <td>0.000000</td>\n",
       "    </tr>\n",
       "    <tr>\n",
       "      <th>25%</th>\n",
       "      <td>31.000000</td>\n",
       "      <td>45008.000000</td>\n",
       "      <td>19187.000000</td>\n",
       "      <td>4.000000</td>\n",
       "      <td>3.000000</td>\n",
       "      <td>21270.000000</td>\n",
       "      <td>2.000000</td>\n",
       "      <td>2.000000</td>\n",
       "    </tr>\n",
       "    <tr>\n",
       "      <th>50%</th>\n",
       "      <td>41.000000</td>\n",
       "      <td>56000.000000</td>\n",
       "      <td>25348.000000</td>\n",
       "      <td>5.000000</td>\n",
       "      <td>5.000000</td>\n",
       "      <td>38067.000000</td>\n",
       "      <td>4.000000</td>\n",
       "      <td>4.000000</td>\n",
       "    </tr>\n",
       "    <tr>\n",
       "      <th>75%</th>\n",
       "      <td>49.000000</td>\n",
       "      <td>73093.000000</td>\n",
       "      <td>33464.000000</td>\n",
       "      <td>7.000000</td>\n",
       "      <td>7.000000</td>\n",
       "      <td>58510.000000</td>\n",
       "      <td>7.000000</td>\n",
       "      <td>7.000000</td>\n",
       "    </tr>\n",
       "    <tr>\n",
       "      <th>max</th>\n",
       "      <td>60.000000</td>\n",
       "      <td>96681.000000</td>\n",
       "      <td>53086.000000</td>\n",
       "      <td>9.000000</td>\n",
       "      <td>9.000000</td>\n",
       "      <td>90000.000000</td>\n",
       "      <td>9.000000</td>\n",
       "      <td>10.000000</td>\n",
       "    </tr>\n",
       "  </tbody>\n",
       "</table>\n",
       "</div>"
      ],
      "text/plain": [
       "              Age        Income   Expenditure  Use_Frequency     Overdue  \\\n",
       "count  401.000000    401.000000    401.000000     401.000000  401.000000   \n",
       "mean    40.461347  58358.965087  26690.172649       5.381546    5.149626   \n",
       "std     10.042367  17086.597429  10664.868866       2.082441    2.477409   \n",
       "min     24.000000  28366.000000   3447.123451       2.000000    1.000000   \n",
       "25%     31.000000  45008.000000  19187.000000       4.000000    3.000000   \n",
       "50%     41.000000  56000.000000  25348.000000       5.000000    5.000000   \n",
       "75%     49.000000  73093.000000  33464.000000       7.000000    7.000000   \n",
       "max     60.000000  96681.000000  53086.000000       9.000000    9.000000   \n",
       "\n",
       "        Debt_Record  Returned_Cheque  Dishonour_of_Bill  \n",
       "count    401.000000       401.000000         401.000000  \n",
       "mean   42478.012469         4.206983           4.446384  \n",
       "std    22922.234653         2.875683           2.756400  \n",
       "min        0.000000         0.000000           0.000000  \n",
       "25%    21270.000000         2.000000           2.000000  \n",
       "50%    38067.000000         4.000000           4.000000  \n",
       "75%    58510.000000         7.000000           7.000000  \n",
       "max    90000.000000         9.000000          10.000000  "
      ]
     },
     "execution_count": 256,
     "metadata": {},
     "output_type": "execute_result"
    }
   ],
   "source": [
    "draft_df = pd.DataFrame(X_bm.describe()) #X_bm consider the features based on the highest accuracy from the\n",
    "                                            #corresponding method \n",
    "draft_df"
   ]
  },
  {
   "cell_type": "code",
   "execution_count": 257,
   "id": "bd8c8503",
   "metadata": {},
   "outputs": [
    {
     "data": {
      "text/html": [
       "<div>\n",
       "<style scoped>\n",
       "    .dataframe tbody tr th:only-of-type {\n",
       "        vertical-align: middle;\n",
       "    }\n",
       "\n",
       "    .dataframe tbody tr th {\n",
       "        vertical-align: top;\n",
       "    }\n",
       "\n",
       "    .dataframe thead th {\n",
       "        text-align: right;\n",
       "    }\n",
       "</style>\n",
       "<table border=\"1\" class=\"dataframe\">\n",
       "  <thead>\n",
       "    <tr style=\"text-align: right;\">\n",
       "      <th></th>\n",
       "      <th>Age</th>\n",
       "      <th>Income</th>\n",
       "      <th>Expenditure</th>\n",
       "      <th>Use_Frequency</th>\n",
       "      <th>Overdue</th>\n",
       "      <th>Debt_Record</th>\n",
       "      <th>Returned_Cheque</th>\n",
       "      <th>Dishonour_of_Bill</th>\n",
       "    </tr>\n",
       "  </thead>\n",
       "  <tbody>\n",
       "    <tr>\n",
       "      <th>0</th>\n",
       "      <td>40.0</td>\n",
       "      <td>58359.0</td>\n",
       "      <td>26690.0</td>\n",
       "      <td>5.0</td>\n",
       "      <td>5.0</td>\n",
       "      <td>42478.0</td>\n",
       "      <td>4.0</td>\n",
       "      <td>4.0</td>\n",
       "    </tr>\n",
       "    <tr>\n",
       "      <th>1</th>\n",
       "      <td>31.0</td>\n",
       "      <td>45008.0</td>\n",
       "      <td>19187.0</td>\n",
       "      <td>4.0</td>\n",
       "      <td>3.0</td>\n",
       "      <td>21270.0</td>\n",
       "      <td>2.0</td>\n",
       "      <td>2.0</td>\n",
       "    </tr>\n",
       "    <tr>\n",
       "      <th>2</th>\n",
       "      <td>49.0</td>\n",
       "      <td>73093.0</td>\n",
       "      <td>33464.0</td>\n",
       "      <td>7.0</td>\n",
       "      <td>7.0</td>\n",
       "      <td>58510.0</td>\n",
       "      <td>7.0</td>\n",
       "      <td>7.0</td>\n",
       "    </tr>\n",
       "  </tbody>\n",
       "</table>\n",
       "</div>"
      ],
      "text/plain": [
       "    Age   Income  Expenditure  Use_Frequency  Overdue  Debt_Record  \\\n",
       "0  40.0  58359.0      26690.0            5.0      5.0      42478.0   \n",
       "1  31.0  45008.0      19187.0            4.0      3.0      21270.0   \n",
       "2  49.0  73093.0      33464.0            7.0      7.0      58510.0   \n",
       "\n",
       "   Returned_Cheque  Dishonour_of_Bill  \n",
       "0              4.0                4.0  \n",
       "1              2.0                2.0  \n",
       "2              7.0                7.0  "
      ]
     },
     "execution_count": 257,
     "metadata": {},
     "output_type": "execute_result"
    }
   ],
   "source": [
    "random_values= pd.DataFrame(draft_df.loc[['mean','25%','75%'], :].values, columns = X_bm.columns).round()\n",
    "random_values"
   ]
  },
  {
   "cell_type": "markdown",
   "id": "c7d85ec2",
   "metadata": {},
   "source": [
    "### 16.2 Transform and Scale synthetic dataset if needed"
   ]
  },
  {
   "cell_type": "code",
   "execution_count": 258,
   "id": "6791fd4c",
   "metadata": {},
   "outputs": [
    {
     "data": {
      "text/html": [
       "<div>\n",
       "<style scoped>\n",
       "    .dataframe tbody tr th:only-of-type {\n",
       "        vertical-align: middle;\n",
       "    }\n",
       "\n",
       "    .dataframe tbody tr th {\n",
       "        vertical-align: top;\n",
       "    }\n",
       "\n",
       "    .dataframe thead th {\n",
       "        text-align: right;\n",
       "    }\n",
       "</style>\n",
       "<table border=\"1\" class=\"dataframe\">\n",
       "  <thead>\n",
       "    <tr style=\"text-align: right;\">\n",
       "      <th></th>\n",
       "      <th>Age</th>\n",
       "      <th>Income</th>\n",
       "      <th>Expenditure</th>\n",
       "      <th>Use_Frequency</th>\n",
       "      <th>Overdue</th>\n",
       "      <th>Debt_Record</th>\n",
       "      <th>Returned_Cheque</th>\n",
       "      <th>Dishonour_of_Bill</th>\n",
       "    </tr>\n",
       "  </thead>\n",
       "  <tbody>\n",
       "    <tr>\n",
       "      <th>0</th>\n",
       "      <td>0.0</td>\n",
       "      <td>0.000000</td>\n",
       "      <td>0.000000</td>\n",
       "      <td>0.000000</td>\n",
       "      <td>0.0</td>\n",
       "      <td>0.00000</td>\n",
       "      <td>0.0</td>\n",
       "      <td>0.0</td>\n",
       "    </tr>\n",
       "    <tr>\n",
       "      <th>1</th>\n",
       "      <td>-1.0</td>\n",
       "      <td>-0.950757</td>\n",
       "      <td>-1.051061</td>\n",
       "      <td>-0.666667</td>\n",
       "      <td>-1.0</td>\n",
       "      <td>-1.13899</td>\n",
       "      <td>-0.8</td>\n",
       "      <td>-0.8</td>\n",
       "    </tr>\n",
       "    <tr>\n",
       "      <th>2</th>\n",
       "      <td>1.0</td>\n",
       "      <td>1.049243</td>\n",
       "      <td>0.948939</td>\n",
       "      <td>1.333333</td>\n",
       "      <td>1.0</td>\n",
       "      <td>0.86101</td>\n",
       "      <td>1.2</td>\n",
       "      <td>1.2</td>\n",
       "    </tr>\n",
       "  </tbody>\n",
       "</table>\n",
       "</div>"
      ],
      "text/plain": [
       "   Age    Income  Expenditure  Use_Frequency  Overdue  Debt_Record  \\\n",
       "0  0.0  0.000000     0.000000       0.000000      0.0      0.00000   \n",
       "1 -1.0 -0.950757    -1.051061      -0.666667     -1.0     -1.13899   \n",
       "2  1.0  1.049243     0.948939       1.333333      1.0      0.86101   \n",
       "\n",
       "   Returned_Cheque  Dishonour_of_Bill  \n",
       "0              0.0                0.0  \n",
       "1             -0.8               -0.8  \n",
       "2              1.2                1.2  "
      ]
     },
     "execution_count": 258,
     "metadata": {},
     "output_type": "execute_result"
    }
   ],
   "source": [
    "scaled_sample = rs.fit_transform(random_values)\n",
    "\n",
    "#Remake the df\n",
    "synthetic_df = pd.DataFrame(scaled_sample, columns = random_values.columns)\n",
    "synthetic_df"
   ]
  },
  {
   "cell_type": "markdown",
   "id": "64b95104",
   "metadata": {},
   "source": [
    "### 16.3 Use the linear model selected to make predictions"
   ]
  },
  {
   "cell_type": "code",
   "execution_count": 259,
   "id": "e641a313",
   "metadata": {},
   "outputs": [
    {
     "data": {
      "text/plain": [
       "array([548867.34362882, 329133.90822726, 570624.68575177])"
      ]
     },
     "execution_count": 259,
     "metadata": {},
     "output_type": "execute_result"
    }
   ],
   "source": [
    "y_pred_sample = best_model.predict(synthetic_df)\n",
    "y_pred_sample"
   ]
  },
  {
   "cell_type": "markdown",
   "id": "9ff5152c",
   "metadata": {},
   "source": [
    "Alternatively we can reshape the previous results array"
   ]
  },
  {
   "cell_type": "code",
   "execution_count": 260,
   "id": "74a2aa55",
   "metadata": {},
   "outputs": [
    {
     "data": {
      "text/plain": [
       "array([[548867.34362882],\n",
       "       [329133.90822726],\n",
       "       [570624.68575177]])"
      ]
     },
     "execution_count": 260,
     "metadata": {},
     "output_type": "execute_result"
    }
   ],
   "source": [
    "yhat = y_pred_sample.reshape(-1, 1)\n",
    "yhat"
   ]
  },
  {
   "cell_type": "code",
   "execution_count": 261,
   "id": "3d927efe",
   "metadata": {},
   "outputs": [
    {
     "data": {
      "text/html": [
       "<div>\n",
       "<style scoped>\n",
       "    .dataframe tbody tr th:only-of-type {\n",
       "        vertical-align: middle;\n",
       "    }\n",
       "\n",
       "    .dataframe tbody tr th {\n",
       "        vertical-align: top;\n",
       "    }\n",
       "\n",
       "    .dataframe thead th {\n",
       "        text-align: right;\n",
       "    }\n",
       "</style>\n",
       "<table border=\"1\" class=\"dataframe\">\n",
       "  <thead>\n",
       "    <tr style=\"text-align: right;\">\n",
       "      <th></th>\n",
       "      <th>Predictions</th>\n",
       "    </tr>\n",
       "  </thead>\n",
       "  <tbody>\n",
       "    <tr>\n",
       "      <th>0</th>\n",
       "      <td>548867.343629</td>\n",
       "    </tr>\n",
       "    <tr>\n",
       "      <th>1</th>\n",
       "      <td>329133.908227</td>\n",
       "    </tr>\n",
       "    <tr>\n",
       "      <th>2</th>\n",
       "      <td>570624.685752</td>\n",
       "    </tr>\n",
       "  </tbody>\n",
       "</table>\n",
       "</div>"
      ],
      "text/plain": [
       "     Predictions\n",
       "0  548867.343629\n",
       "1  329133.908227\n",
       "2  570624.685752"
      ]
     },
     "execution_count": 261,
     "metadata": {},
     "output_type": "execute_result"
    }
   ],
   "source": [
    "predictions = pd.DataFrame(yhat, columns = ['Predictions'])\n",
    "predictions"
   ]
  },
  {
   "cell_type": "markdown",
   "id": "c7238280",
   "metadata": {},
   "source": [
    "**Example 1 (First row)**\n",
    "\n",
    "What is the expected loan amount for an individual with the following characteristics: \n",
    "\n",
    "Age: 40 years old, \n",
    "\n",
    "[Avg] Income: $58,360.00, \n",
    "\n",
    "[Avg] Expenditure: $26,690.00, \n",
    "\n",
    "Frequency credit card use: 5 (over 9), \n",
    "\n",
    "Historical payment delay: 5 (over 9), \n",
    "\n",
    "[Avg] required payment: $42,478.00, \n",
    "\n",
    "the prospective customer has had 4 returned cheques, \n",
    "\n",
    "and Dishonor of Bill of 4 (client fails to make the payment bill up to the fourth month).\n"
   ]
  },
  {
   "cell_type": "code",
   "execution_count": 262,
   "id": "b7a4fbd8",
   "metadata": {},
   "outputs": [
    {
     "data": {
      "text/html": [
       "<div>\n",
       "<style scoped>\n",
       "    .dataframe tbody tr th:only-of-type {\n",
       "        vertical-align: middle;\n",
       "    }\n",
       "\n",
       "    .dataframe tbody tr th {\n",
       "        vertical-align: top;\n",
       "    }\n",
       "\n",
       "    .dataframe thead th {\n",
       "        text-align: right;\n",
       "    }\n",
       "</style>\n",
       "<table border=\"1\" class=\"dataframe\">\n",
       "  <thead>\n",
       "    <tr style=\"text-align: right;\">\n",
       "      <th></th>\n",
       "      <th>Age</th>\n",
       "      <th>Income</th>\n",
       "      <th>Expenditure</th>\n",
       "      <th>Use_Frequency</th>\n",
       "      <th>Overdue</th>\n",
       "      <th>Debt_Record</th>\n",
       "      <th>Returned_Cheque</th>\n",
       "      <th>Dishonour_of_Bill</th>\n",
       "      <th>Predictions</th>\n",
       "    </tr>\n",
       "  </thead>\n",
       "  <tbody>\n",
       "    <tr>\n",
       "      <th>0</th>\n",
       "      <td>40.0</td>\n",
       "      <td>58359.0</td>\n",
       "      <td>26690.0</td>\n",
       "      <td>5.0</td>\n",
       "      <td>5.0</td>\n",
       "      <td>42478.0</td>\n",
       "      <td>4.0</td>\n",
       "      <td>4.0</td>\n",
       "      <td>548867.343629</td>\n",
       "    </tr>\n",
       "    <tr>\n",
       "      <th>1</th>\n",
       "      <td>31.0</td>\n",
       "      <td>45008.0</td>\n",
       "      <td>19187.0</td>\n",
       "      <td>4.0</td>\n",
       "      <td>3.0</td>\n",
       "      <td>21270.0</td>\n",
       "      <td>2.0</td>\n",
       "      <td>2.0</td>\n",
       "      <td>329133.908227</td>\n",
       "    </tr>\n",
       "    <tr>\n",
       "      <th>2</th>\n",
       "      <td>49.0</td>\n",
       "      <td>73093.0</td>\n",
       "      <td>33464.0</td>\n",
       "      <td>7.0</td>\n",
       "      <td>7.0</td>\n",
       "      <td>58510.0</td>\n",
       "      <td>7.0</td>\n",
       "      <td>7.0</td>\n",
       "      <td>570624.685752</td>\n",
       "    </tr>\n",
       "  </tbody>\n",
       "</table>\n",
       "</div>"
      ],
      "text/plain": [
       "    Age   Income  Expenditure  Use_Frequency  Overdue  Debt_Record  \\\n",
       "0  40.0  58359.0      26690.0            5.0      5.0      42478.0   \n",
       "1  31.0  45008.0      19187.0            4.0      3.0      21270.0   \n",
       "2  49.0  73093.0      33464.0            7.0      7.0      58510.0   \n",
       "\n",
       "   Returned_Cheque  Dishonour_of_Bill    Predictions  \n",
       "0              4.0                4.0  548867.343629  \n",
       "1              2.0                2.0  329133.908227  \n",
       "2              7.0                7.0  570624.685752  "
      ]
     },
     "execution_count": 262,
     "metadata": {},
     "output_type": "execute_result"
    }
   ],
   "source": [
    "df_pred = pd.concat([random_values,predictions], axis=1)\n",
    "df_pred"
   ]
  },
  {
   "cell_type": "markdown",
   "id": "ec37b71c",
   "metadata": {},
   "source": [
    "*Predicted Loan Amount:* \t\n",
    "\n",
    "#### $548,800.00"
   ]
  },
  {
   "cell_type": "markdown",
   "id": "1ad6ac2f",
   "metadata": {},
   "source": [
    "Possibly, we can improve the accuracy by adding more features and reiterating the model regarding the steps of the current workflow, and increasing the sample."
   ]
  }
 ],
 "metadata": {
  "kernelspec": {
   "display_name": "Python 3 (ipykernel)",
   "language": "python",
   "name": "python3"
  },
  "language_info": {
   "codemirror_mode": {
    "name": "ipython",
    "version": 3
   },
   "file_extension": ".py",
   "mimetype": "text/x-python",
   "name": "python",
   "nbconvert_exporter": "python",
   "pygments_lexer": "ipython3",
   "version": "3.9.12"
  }
 },
 "nbformat": 4,
 "nbformat_minor": 5
}
