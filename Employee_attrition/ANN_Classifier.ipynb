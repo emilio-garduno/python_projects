{
 "cells": [
  {
   "cell_type": "markdown",
   "id": "9410ad62",
   "metadata": {},
   "source": [
    "# ANN Classifier\n",
    "## By Luis Emilio Garduno Garcia"
   ]
  },
  {
   "cell_type": "markdown",
   "id": "ba087f5f",
   "metadata": {},
   "source": [
    "**References:**\n",
    "- https://www.javatpoint.com/how-to-sort-tuple-in-python\n",
    "- https://favtutor.com/blogs/remove-duplicates-from-list-python\n",
    "- https://datascience.stackexchange.com/questions/36049/how-to-adjust-the-hyperparameters-of-mlp-classifier-to-get-more-perfect-performa\n",
    "- https://stackoverflow.com/questions/73006227/a-question-about-mlp-what-does-this-line-mean\n",
    "- https://databricks.com/notebooks/churn/4-hyperparameter-tuning.html\n",
    "- https://python-course.eu/machine-learning/neural-networks-with-scikit.php"
   ]
  },
  {
   "cell_type": "markdown",
   "id": "b638e3e8",
   "metadata": {},
   "source": [
    "## 1. Library import and data loading"
   ]
  },
  {
   "cell_type": "code",
   "execution_count": 1,
   "id": "fd7cef2d",
   "metadata": {},
   "outputs": [],
   "source": [
    "import pandas as pd \n",
    "import numpy as np \n",
    "import itertools\n",
    "import seaborn as sns\n",
    "import matplotlib.pyplot as plt \n",
    "\n",
    "%matplotlib inline\n",
    "\n",
    "from sklearn.model_selection import train_test_split\n",
    "from sklearn.preprocessing import MinMaxScaler, StandardScaler, RobustScaler \n",
    "from sklearn.pipeline import Pipeline\n",
    "from sklearn.neural_network import MLPClassifier\n",
    "\n",
    "from sklearn.metrics import accuracy_score\n",
    "from sklearn.model_selection import GridSearchCV\n",
    "\n",
    "from sklearn.metrics import classification_report\n",
    "from sklearn.metrics import confusion_matrix"
   ]
  },
  {
   "cell_type": "markdown",
   "id": "cfa4a692",
   "metadata": {},
   "source": [
    "## 2. Get the data"
   ]
  },
  {
   "cell_type": "markdown",
   "id": "acfe9883",
   "metadata": {},
   "source": [
    "**We may use 'emp_attrition_prepared' file from Clustering_PCA (section 5.3.1), because it contains a pre-processed data frame including the dummies, useful for further analysis.**  \n",
    "\n",
    "Glimpse of the dataset using head() function displaying only 3 rows"
   ]
  },
  {
   "cell_type": "code",
   "execution_count": 2,
   "id": "517015ad",
   "metadata": {},
   "outputs": [
    {
     "data": {
      "text/html": [
       "<div>\n",
       "<style scoped>\n",
       "    .dataframe tbody tr th:only-of-type {\n",
       "        vertical-align: middle;\n",
       "    }\n",
       "\n",
       "    .dataframe tbody tr th {\n",
       "        vertical-align: top;\n",
       "    }\n",
       "\n",
       "    .dataframe thead th {\n",
       "        text-align: right;\n",
       "    }\n",
       "</style>\n",
       "<table border=\"1\" class=\"dataframe\">\n",
       "  <thead>\n",
       "    <tr style=\"text-align: right;\">\n",
       "      <th></th>\n",
       "      <th>Age</th>\n",
       "      <th>DailyRate</th>\n",
       "      <th>DistanceFromHome</th>\n",
       "      <th>Education</th>\n",
       "      <th>EnvironmentSatisfaction</th>\n",
       "      <th>HourlyRate</th>\n",
       "      <th>JobInvolvement</th>\n",
       "      <th>JobLevel</th>\n",
       "      <th>JobSatisfaction</th>\n",
       "      <th>MonthlyIncome</th>\n",
       "      <th>...</th>\n",
       "      <th>JobRole_Manager</th>\n",
       "      <th>JobRole_Manufacturing_Director</th>\n",
       "      <th>JobRole_Research_Director</th>\n",
       "      <th>JobRole_Research_Scientist</th>\n",
       "      <th>JobRole_Sales_Executive</th>\n",
       "      <th>JobRole_Sales_Representative</th>\n",
       "      <th>MaritalStatus_Married</th>\n",
       "      <th>MaritalStatus_Single</th>\n",
       "      <th>OverTime_Yes</th>\n",
       "      <th>Attrition_Yes</th>\n",
       "    </tr>\n",
       "  </thead>\n",
       "  <tbody>\n",
       "    <tr>\n",
       "      <th>0</th>\n",
       "      <td>41</td>\n",
       "      <td>1102</td>\n",
       "      <td>1</td>\n",
       "      <td>2</td>\n",
       "      <td>2</td>\n",
       "      <td>94</td>\n",
       "      <td>3</td>\n",
       "      <td>2</td>\n",
       "      <td>4</td>\n",
       "      <td>5993</td>\n",
       "      <td>...</td>\n",
       "      <td>0</td>\n",
       "      <td>0</td>\n",
       "      <td>0</td>\n",
       "      <td>0</td>\n",
       "      <td>1</td>\n",
       "      <td>0</td>\n",
       "      <td>0</td>\n",
       "      <td>1</td>\n",
       "      <td>1</td>\n",
       "      <td>1</td>\n",
       "    </tr>\n",
       "    <tr>\n",
       "      <th>1</th>\n",
       "      <td>49</td>\n",
       "      <td>279</td>\n",
       "      <td>8</td>\n",
       "      <td>1</td>\n",
       "      <td>3</td>\n",
       "      <td>61</td>\n",
       "      <td>2</td>\n",
       "      <td>2</td>\n",
       "      <td>2</td>\n",
       "      <td>5130</td>\n",
       "      <td>...</td>\n",
       "      <td>0</td>\n",
       "      <td>0</td>\n",
       "      <td>0</td>\n",
       "      <td>1</td>\n",
       "      <td>0</td>\n",
       "      <td>0</td>\n",
       "      <td>1</td>\n",
       "      <td>0</td>\n",
       "      <td>0</td>\n",
       "      <td>0</td>\n",
       "    </tr>\n",
       "    <tr>\n",
       "      <th>2</th>\n",
       "      <td>37</td>\n",
       "      <td>1373</td>\n",
       "      <td>2</td>\n",
       "      <td>2</td>\n",
       "      <td>4</td>\n",
       "      <td>92</td>\n",
       "      <td>2</td>\n",
       "      <td>1</td>\n",
       "      <td>3</td>\n",
       "      <td>2090</td>\n",
       "      <td>...</td>\n",
       "      <td>0</td>\n",
       "      <td>0</td>\n",
       "      <td>0</td>\n",
       "      <td>0</td>\n",
       "      <td>0</td>\n",
       "      <td>0</td>\n",
       "      <td>0</td>\n",
       "      <td>1</td>\n",
       "      <td>1</td>\n",
       "      <td>1</td>\n",
       "    </tr>\n",
       "  </tbody>\n",
       "</table>\n",
       "<p>3 rows × 44 columns</p>\n",
       "</div>"
      ],
      "text/plain": [
       "   Age  DailyRate  DistanceFromHome  Education  EnvironmentSatisfaction  \\\n",
       "0   41       1102                 1          2                        2   \n",
       "1   49        279                 8          1                        3   \n",
       "2   37       1373                 2          2                        4   \n",
       "\n",
       "   HourlyRate  JobInvolvement  JobLevel  JobSatisfaction  MonthlyIncome  ...  \\\n",
       "0          94               3         2                4           5993  ...   \n",
       "1          61               2         2                2           5130  ...   \n",
       "2          92               2         1                3           2090  ...   \n",
       "\n",
       "   JobRole_Manager  JobRole_Manufacturing_Director  JobRole_Research_Director  \\\n",
       "0                0                               0                          0   \n",
       "1                0                               0                          0   \n",
       "2                0                               0                          0   \n",
       "\n",
       "   JobRole_Research_Scientist  JobRole_Sales_Executive  \\\n",
       "0                           0                        1   \n",
       "1                           1                        0   \n",
       "2                           0                        0   \n",
       "\n",
       "   JobRole_Sales_Representative  MaritalStatus_Married  MaritalStatus_Single  \\\n",
       "0                             0                      0                     1   \n",
       "1                             0                      1                     0   \n",
       "2                             0                      0                     1   \n",
       "\n",
       "   OverTime_Yes  Attrition_Yes  \n",
       "0             1              1  \n",
       "1             0              0  \n",
       "2             1              1  \n",
       "\n",
       "[3 rows x 44 columns]"
      ]
     },
     "execution_count": 2,
     "metadata": {},
     "output_type": "execute_result"
    }
   ],
   "source": [
    "df = pd.read_csv('emp_attrition_prepared.csv')\n",
    "df.head(3)"
   ]
  },
  {
   "cell_type": "code",
   "execution_count": 3,
   "id": "66872f89",
   "metadata": {},
   "outputs": [
    {
     "name": "stdout",
     "output_type": "stream",
     "text": [
      "<class 'pandas.core.frame.DataFrame'>\n",
      "RangeIndex: 1470 entries, 0 to 1469\n",
      "Data columns (total 44 columns):\n",
      " #   Column                             Non-Null Count  Dtype\n",
      "---  ------                             --------------  -----\n",
      " 0   Age                                1470 non-null   int64\n",
      " 1   DailyRate                          1470 non-null   int64\n",
      " 2   DistanceFromHome                   1470 non-null   int64\n",
      " 3   Education                          1470 non-null   int64\n",
      " 4   EnvironmentSatisfaction            1470 non-null   int64\n",
      " 5   HourlyRate                         1470 non-null   int64\n",
      " 6   JobInvolvement                     1470 non-null   int64\n",
      " 7   JobLevel                           1470 non-null   int64\n",
      " 8   JobSatisfaction                    1470 non-null   int64\n",
      " 9   MonthlyIncome                      1470 non-null   int64\n",
      " 10  NumCompaniesWorked                 1470 non-null   int64\n",
      " 11  PercentSalaryHike                  1470 non-null   int64\n",
      " 12  PerformanceRating                  1470 non-null   int64\n",
      " 13  RelationshipSatisfaction           1470 non-null   int64\n",
      " 14  StockOptionLevel                   1470 non-null   int64\n",
      " 15  TotalWorkingYears                  1470 non-null   int64\n",
      " 16  TrainingTimesLastYear              1470 non-null   int64\n",
      " 17  WorkLifeBalance                    1470 non-null   int64\n",
      " 18  YearsAtCompany                     1470 non-null   int64\n",
      " 19  YearsInCurrentRole                 1470 non-null   int64\n",
      " 20  YearsSinceLastPromotion            1470 non-null   int64\n",
      " 21  YearsWithCurrManager               1470 non-null   int64\n",
      " 22  BusinessTravel_Travel_Frequently   1470 non-null   int64\n",
      " 23  BusinessTravel_Travel_Rarely       1470 non-null   int64\n",
      " 24  Department_Research_&_Development  1470 non-null   int64\n",
      " 25  Department_Sales                   1470 non-null   int64\n",
      " 26  EducationField_Life_Sciences       1470 non-null   int64\n",
      " 27  EducationField_Marketing           1470 non-null   int64\n",
      " 28  EducationField_Medical             1470 non-null   int64\n",
      " 29  EducationField_Other               1470 non-null   int64\n",
      " 30  EducationField_Technical_Degree    1470 non-null   int64\n",
      " 31  Gender_Male                        1470 non-null   int64\n",
      " 32  JobRole_Human_Resources            1470 non-null   int64\n",
      " 33  JobRole_Laboratory_Technician      1470 non-null   int64\n",
      " 34  JobRole_Manager                    1470 non-null   int64\n",
      " 35  JobRole_Manufacturing_Director     1470 non-null   int64\n",
      " 36  JobRole_Research_Director          1470 non-null   int64\n",
      " 37  JobRole_Research_Scientist         1470 non-null   int64\n",
      " 38  JobRole_Sales_Executive            1470 non-null   int64\n",
      " 39  JobRole_Sales_Representative       1470 non-null   int64\n",
      " 40  MaritalStatus_Married              1470 non-null   int64\n",
      " 41  MaritalStatus_Single               1470 non-null   int64\n",
      " 42  OverTime_Yes                       1470 non-null   int64\n",
      " 43  Attrition_Yes                      1470 non-null   int64\n",
      "dtypes: int64(44)\n",
      "memory usage: 505.4 KB\n"
     ]
    }
   ],
   "source": [
    "df.info() #to confirm the proper dataframe"
   ]
  },
  {
   "cell_type": "markdown",
   "id": "7829941e",
   "metadata": {},
   "source": [
    "## 3. Split the data"
   ]
  },
  {
   "cell_type": "markdown",
   "id": "8ef5684a",
   "metadata": {},
   "source": [
    "Before start Machine Learning algorithms, we assign the Attrition_Yes field to a new variable called 'target'.\n",
    "\n",
    "Moreover, we create another variable called 'features', excluding the Attrition_Yes field."
   ]
  },
  {
   "cell_type": "code",
   "execution_count": 4,
   "id": "bb5e9d01",
   "metadata": {},
   "outputs": [],
   "source": [
    "target = df['Attrition_Yes'] #Dependent variable Y\n",
    "features = df.drop(['Attrition_Yes'], axis = 1) #Independent variables X"
   ]
  },
  {
   "cell_type": "code",
   "execution_count": 5,
   "id": "76a7a6c8",
   "metadata": {},
   "outputs": [],
   "source": [
    "X_train, X_test, y_train, y_test = train_test_split(features, target, test_size=0.25, random_state=42)"
   ]
  },
  {
   "cell_type": "markdown",
   "id": "cd8808fb",
   "metadata": {},
   "source": [
    "## 4. Implement a pipeline by using a scaler method and MLP Classifier"
   ]
  },
  {
   "cell_type": "markdown",
   "id": "cd19acf6",
   "metadata": {},
   "source": [
    "### 4.1 Define all the possible Hidden Layer combinations for the MLP Classifier"
   ]
  },
  {
   "cell_type": "code",
   "execution_count": 6,
   "id": "563d55df",
   "metadata": {},
   "outputs": [],
   "source": [
    "listLayers = [ [2,5,10], [0,2,5,10], [0,2,5,10] ]\n",
    "hlc = [] #hlc: hidden layer combination\n",
    "\n",
    "for i in itertools.product(*listLayers):\n",
    "    hlc.append(i)\n",
    "#hlc"
   ]
  },
  {
   "cell_type": "markdown",
   "id": "0f3aeeb9",
   "metadata": {},
   "source": [
    "Assure the amount of neurons in each layer:\n",
    "    - The number of neurons/perceptrons in the third layer is smaller or equal that the ones on the second layer. \n",
    "    - The number of neurons in the second layer must be smaller than or equal to the ones in the first layer\n",
    "    - And so forth.\n",
    "To perform this task, we sort the values from highest to lowest"
   ]
  },
  {
   "cell_type": "code",
   "execution_count": 7,
   "id": "fcf33952",
   "metadata": {},
   "outputs": [],
   "source": [
    "hlc = [sorted(item, reverse=True) for item in hlc]\n",
    "#hlc"
   ]
  },
  {
   "cell_type": "markdown",
   "id": "97b63dbc",
   "metadata": {},
   "source": [
    "We remove duplicates to keep unique possible hidden layers combinations"
   ]
  },
  {
   "cell_type": "code",
   "execution_count": 8,
   "id": "08be295c",
   "metadata": {},
   "outputs": [
    {
     "data": {
      "text/plain": [
       "[[2, 0, 0],\n",
       " [2, 2, 0],\n",
       " [5, 2, 0],\n",
       " [10, 2, 0],\n",
       " [2, 2, 2],\n",
       " [5, 2, 2],\n",
       " [10, 2, 2],\n",
       " [5, 5, 2],\n",
       " [10, 5, 2],\n",
       " [10, 10, 2],\n",
       " [5, 0, 0],\n",
       " [5, 5, 0],\n",
       " [10, 5, 0],\n",
       " [5, 5, 5],\n",
       " [10, 5, 5],\n",
       " [10, 10, 5],\n",
       " [10, 0, 0],\n",
       " [10, 10, 0],\n",
       " [10, 10, 10]]"
      ]
     },
     "execution_count": 8,
     "metadata": {},
     "output_type": "execute_result"
    }
   ],
   "source": [
    "result = []\n",
    "[result.append(x) for x in hlc if x not in result]\n",
    "result"
   ]
  },
  {
   "cell_type": "markdown",
   "id": "222e29d7",
   "metadata": {},
   "source": [
    "Zero within a hidden layer means that there is no 2nd, 3rd layer.\n",
    "To perform this task, we remove number zero from each combination"
   ]
  },
  {
   "cell_type": "code",
   "execution_count": 9,
   "id": "65d7aad2",
   "metadata": {},
   "outputs": [],
   "source": [
    "cleaned = [tuple(n for n in sublist if n != 0) for sublist in result]\n",
    "#cleaned"
   ]
  },
  {
   "cell_type": "markdown",
   "id": "c18e26e5",
   "metadata": {},
   "source": [
    "We will use each combination (number of neurons by hidden layer) as one of the parameters for MLPClassifier. Thus, we transform the list of tuples to Series"
   ]
  },
  {
   "cell_type": "code",
   "execution_count": 10,
   "id": "e7acdfc3",
   "metadata": {},
   "outputs": [
    {
     "data": {
      "text/plain": [
       "0             (2,)\n",
       "1           (2, 2)\n",
       "2           (5, 2)\n",
       "3          (10, 2)\n",
       "4        (2, 2, 2)\n",
       "5        (5, 2, 2)\n",
       "6       (10, 2, 2)\n",
       "7        (5, 5, 2)\n",
       "8       (10, 5, 2)\n",
       "9      (10, 10, 2)\n",
       "10            (5,)\n",
       "11          (5, 5)\n",
       "12         (10, 5)\n",
       "13       (5, 5, 5)\n",
       "14      (10, 5, 5)\n",
       "15     (10, 10, 5)\n",
       "16           (10,)\n",
       "17        (10, 10)\n",
       "18    (10, 10, 10)\n",
       "Name: sizes, dtype: object"
      ]
     },
     "execution_count": 10,
     "metadata": {},
     "output_type": "execute_result"
    }
   ],
   "source": [
    "hl_sizes = pd.Series(cleaned, name='sizes') #hl_sizes: hidden layer sizes\n",
    "hl_sizes"
   ]
  },
  {
   "cell_type": "markdown",
   "id": "3dd7229e",
   "metadata": {},
   "source": [
    "**We create an empty placeholder list to store the experiments' result.**"
   ]
  },
  {
   "cell_type": "code",
   "execution_count": 11,
   "id": "6576b55f",
   "metadata": {},
   "outputs": [],
   "source": [
    "score = []"
   ]
  },
  {
   "cell_type": "markdown",
   "id": "9691673e",
   "metadata": {},
   "source": [
    "### 4.2 Define the pipeline. \n",
    "### We may include GridSearch method to find the best parameter later on"
   ]
  },
  {
   "cell_type": "code",
   "execution_count": 13,
   "id": "9bc24637",
   "metadata": {},
   "outputs": [
    {
     "name": "stderr",
     "output_type": "stream",
     "text": [
      "D:\\Programs\\Anaconda3\\lib\\site-packages\\sklearn\\neural_network\\_multilayer_perceptron.py:692: ConvergenceWarning: Stochastic Optimizer: Maximum iterations (100) reached and the optimization hasn't converged yet.\n",
      "  warnings.warn(\n",
      "D:\\Programs\\Anaconda3\\lib\\site-packages\\sklearn\\neural_network\\_multilayer_perceptron.py:692: ConvergenceWarning: Stochastic Optimizer: Maximum iterations (100) reached and the optimization hasn't converged yet.\n",
      "  warnings.warn(\n",
      "D:\\Programs\\Anaconda3\\lib\\site-packages\\sklearn\\neural_network\\_multilayer_perceptron.py:692: ConvergenceWarning: Stochastic Optimizer: Maximum iterations (100) reached and the optimization hasn't converged yet.\n",
      "  warnings.warn(\n",
      "D:\\Programs\\Anaconda3\\lib\\site-packages\\sklearn\\neural_network\\_multilayer_perceptron.py:692: ConvergenceWarning: Stochastic Optimizer: Maximum iterations (100) reached and the optimization hasn't converged yet.\n",
      "  warnings.warn(\n",
      "D:\\Programs\\Anaconda3\\lib\\site-packages\\sklearn\\neural_network\\_multilayer_perceptron.py:692: ConvergenceWarning: Stochastic Optimizer: Maximum iterations (100) reached and the optimization hasn't converged yet.\n",
      "  warnings.warn(\n",
      "D:\\Programs\\Anaconda3\\lib\\site-packages\\sklearn\\neural_network\\_multilayer_perceptron.py:692: ConvergenceWarning: Stochastic Optimizer: Maximum iterations (100) reached and the optimization hasn't converged yet.\n",
      "  warnings.warn(\n",
      "D:\\Programs\\Anaconda3\\lib\\site-packages\\sklearn\\neural_network\\_multilayer_perceptron.py:692: ConvergenceWarning: Stochastic Optimizer: Maximum iterations (100) reached and the optimization hasn't converged yet.\n",
      "  warnings.warn(\n",
      "D:\\Programs\\Anaconda3\\lib\\site-packages\\sklearn\\neural_network\\_multilayer_perceptron.py:692: ConvergenceWarning: Stochastic Optimizer: Maximum iterations (100) reached and the optimization hasn't converged yet.\n",
      "  warnings.warn(\n",
      "D:\\Programs\\Anaconda3\\lib\\site-packages\\sklearn\\neural_network\\_multilayer_perceptron.py:692: ConvergenceWarning: Stochastic Optimizer: Maximum iterations (100) reached and the optimization hasn't converged yet.\n",
      "  warnings.warn(\n",
      "D:\\Programs\\Anaconda3\\lib\\site-packages\\sklearn\\neural_network\\_multilayer_perceptron.py:692: ConvergenceWarning: Stochastic Optimizer: Maximum iterations (100) reached and the optimization hasn't converged yet.\n",
      "  warnings.warn(\n",
      "D:\\Programs\\Anaconda3\\lib\\site-packages\\sklearn\\neural_network\\_multilayer_perceptron.py:692: ConvergenceWarning: Stochastic Optimizer: Maximum iterations (100) reached and the optimization hasn't converged yet.\n",
      "  warnings.warn(\n",
      "D:\\Programs\\Anaconda3\\lib\\site-packages\\sklearn\\neural_network\\_multilayer_perceptron.py:692: ConvergenceWarning: Stochastic Optimizer: Maximum iterations (100) reached and the optimization hasn't converged yet.\n",
      "  warnings.warn(\n",
      "D:\\Programs\\Anaconda3\\lib\\site-packages\\sklearn\\neural_network\\_multilayer_perceptron.py:692: ConvergenceWarning: Stochastic Optimizer: Maximum iterations (100) reached and the optimization hasn't converged yet.\n",
      "  warnings.warn(\n",
      "D:\\Programs\\Anaconda3\\lib\\site-packages\\sklearn\\neural_network\\_multilayer_perceptron.py:692: ConvergenceWarning: Stochastic Optimizer: Maximum iterations (100) reached and the optimization hasn't converged yet.\n",
      "  warnings.warn(\n",
      "D:\\Programs\\Anaconda3\\lib\\site-packages\\sklearn\\neural_network\\_multilayer_perceptron.py:692: ConvergenceWarning: Stochastic Optimizer: Maximum iterations (100) reached and the optimization hasn't converged yet.\n",
      "  warnings.warn(\n",
      "D:\\Programs\\Anaconda3\\lib\\site-packages\\sklearn\\neural_network\\_multilayer_perceptron.py:692: ConvergenceWarning: Stochastic Optimizer: Maximum iterations (100) reached and the optimization hasn't converged yet.\n",
      "  warnings.warn(\n",
      "D:\\Programs\\Anaconda3\\lib\\site-packages\\sklearn\\neural_network\\_multilayer_perceptron.py:692: ConvergenceWarning: Stochastic Optimizer: Maximum iterations (100) reached and the optimization hasn't converged yet.\n",
      "  warnings.warn(\n",
      "D:\\Programs\\Anaconda3\\lib\\site-packages\\sklearn\\neural_network\\_multilayer_perceptron.py:692: ConvergenceWarning: Stochastic Optimizer: Maximum iterations (100) reached and the optimization hasn't converged yet.\n",
      "  warnings.warn(\n",
      "D:\\Programs\\Anaconda3\\lib\\site-packages\\sklearn\\neural_network\\_multilayer_perceptron.py:692: ConvergenceWarning: Stochastic Optimizer: Maximum iterations (100) reached and the optimization hasn't converged yet.\n",
      "  warnings.warn(\n"
     ]
    }
   ],
   "source": [
    "for i in range(len(hl_sizes)): #iterate (i) up to length of previous series where we store each hidden layer combination \n",
    "    pipe = Pipeline (\n",
    "    [('scaler', RobustScaler()),('classifier', MLPClassifier(\n",
    "                                                learning_rate='adaptive',\n",
    "                                                max_iter=100,    \n",
    "                                                hidden_layer_sizes=hl_sizes[i]\n",
    "                                                            ) \n",
    "                                )\n",
    "    ])\n",
    "    pipe.fit(X_train, y_train)\n",
    "    score.append(pipe.score(X_test,y_test)) #append each score to the corresponding empty list\n",
    "    \n",
    "    #Set the grid parameters, needed to perform GridSearchCV\n",
    "    grid_parameters = {\n",
    "                        'hidden_layer_sizes': [hl_sizes[i]],\n",
    "                        'learning_rate': ['adaptive'],\n",
    "                        'max_iter': [100]\n",
    "    }\n",
    "    clf = GridSearchCV(MLPClassifier(), grid_parameters, cv=5, scoring='accuracy') #clf: classifier"
   ]
  },
  {
   "cell_type": "markdown",
   "id": "4ec82059",
   "metadata": {},
   "source": [
    "## 5. Create a data frame to display results"
   ]
  },
  {
   "cell_type": "code",
   "execution_count": 31,
   "id": "10724d83",
   "metadata": {},
   "outputs": [
    {
     "data": {
      "text/html": [
       "<div>\n",
       "<style scoped>\n",
       "    .dataframe tbody tr th:only-of-type {\n",
       "        vertical-align: middle;\n",
       "    }\n",
       "\n",
       "    .dataframe tbody tr th {\n",
       "        vertical-align: top;\n",
       "    }\n",
       "\n",
       "    .dataframe thead th {\n",
       "        text-align: right;\n",
       "    }\n",
       "</style>\n",
       "<table border=\"1\" class=\"dataframe\">\n",
       "  <thead>\n",
       "    <tr style=\"text-align: right;\">\n",
       "      <th></th>\n",
       "      <th>ANN Hidden Layer</th>\n",
       "      <th>Score</th>\n",
       "    </tr>\n",
       "  </thead>\n",
       "  <tbody>\n",
       "    <tr>\n",
       "      <th>0</th>\n",
       "      <td>(2,)</td>\n",
       "      <td>0.866848</td>\n",
       "    </tr>\n",
       "    <tr>\n",
       "      <th>1</th>\n",
       "      <td>(2, 2)</td>\n",
       "      <td>0.869565</td>\n",
       "    </tr>\n",
       "    <tr>\n",
       "      <th>2</th>\n",
       "      <td>(5, 2)</td>\n",
       "      <td>0.880435</td>\n",
       "    </tr>\n",
       "    <tr>\n",
       "      <th>3</th>\n",
       "      <td>(10, 2)</td>\n",
       "      <td>0.877717</td>\n",
       "    </tr>\n",
       "    <tr>\n",
       "      <th>4</th>\n",
       "      <td>(2, 2, 2)</td>\n",
       "      <td>0.130435</td>\n",
       "    </tr>\n",
       "    <tr>\n",
       "      <th>5</th>\n",
       "      <td>(5, 2, 2)</td>\n",
       "      <td>0.869565</td>\n",
       "    </tr>\n",
       "    <tr>\n",
       "      <th>6</th>\n",
       "      <td>(10, 2, 2)</td>\n",
       "      <td>0.130435</td>\n",
       "    </tr>\n",
       "    <tr>\n",
       "      <th>7</th>\n",
       "      <td>(5, 5, 2)</td>\n",
       "      <td>0.869565</td>\n",
       "    </tr>\n",
       "    <tr>\n",
       "      <th>8</th>\n",
       "      <td>(10, 5, 2)</td>\n",
       "      <td>0.869565</td>\n",
       "    </tr>\n",
       "    <tr>\n",
       "      <th>9</th>\n",
       "      <td>(10, 10, 2)</td>\n",
       "      <td>0.869565</td>\n",
       "    </tr>\n",
       "    <tr>\n",
       "      <th>10</th>\n",
       "      <td>(5,)</td>\n",
       "      <td>0.894022</td>\n",
       "    </tr>\n",
       "    <tr>\n",
       "      <th>11</th>\n",
       "      <td>(5, 5)</td>\n",
       "      <td>0.891304</td>\n",
       "    </tr>\n",
       "    <tr>\n",
       "      <th>12</th>\n",
       "      <td>(10, 5)</td>\n",
       "      <td>0.894022</td>\n",
       "    </tr>\n",
       "    <tr>\n",
       "      <th>13</th>\n",
       "      <td>(5, 5, 5)</td>\n",
       "      <td>0.869565</td>\n",
       "    </tr>\n",
       "    <tr>\n",
       "      <th>14</th>\n",
       "      <td>(10, 5, 5)</td>\n",
       "      <td>0.891304</td>\n",
       "    </tr>\n",
       "    <tr>\n",
       "      <th>15</th>\n",
       "      <td>(10, 10, 5)</td>\n",
       "      <td>0.875000</td>\n",
       "    </tr>\n",
       "    <tr>\n",
       "      <th>16</th>\n",
       "      <td>(10,)</td>\n",
       "      <td>0.877717</td>\n",
       "    </tr>\n",
       "    <tr>\n",
       "      <th>17</th>\n",
       "      <td>(10, 10)</td>\n",
       "      <td>0.885870</td>\n",
       "    </tr>\n",
       "    <tr>\n",
       "      <th>18</th>\n",
       "      <td>(10, 10, 10)</td>\n",
       "      <td>0.869565</td>\n",
       "    </tr>\n",
       "  </tbody>\n",
       "</table>\n",
       "</div>"
      ],
      "text/plain": [
       "   ANN Hidden Layer     Score\n",
       "0              (2,)  0.866848\n",
       "1            (2, 2)  0.869565\n",
       "2            (5, 2)  0.880435\n",
       "3           (10, 2)  0.877717\n",
       "4         (2, 2, 2)  0.130435\n",
       "5         (5, 2, 2)  0.869565\n",
       "6        (10, 2, 2)  0.130435\n",
       "7         (5, 5, 2)  0.869565\n",
       "8        (10, 5, 2)  0.869565\n",
       "9       (10, 10, 2)  0.869565\n",
       "10             (5,)  0.894022\n",
       "11           (5, 5)  0.891304\n",
       "12          (10, 5)  0.894022\n",
       "13        (5, 5, 5)  0.869565\n",
       "14       (10, 5, 5)  0.891304\n",
       "15      (10, 10, 5)  0.875000\n",
       "16            (10,)  0.877717\n",
       "17         (10, 10)  0.885870\n",
       "18     (10, 10, 10)  0.869565"
      ]
     },
     "execution_count": 31,
     "metadata": {},
     "output_type": "execute_result"
    }
   ],
   "source": [
    "res_df = pd.DataFrame(zip(hl_sizes,score), columns=['ANN Hidden Layer','Score']) #zip hidden layer sizes from Series \n",
    "                                                                                #bullet point 4.1 and score list from pipeline\n",
    "res_df"
   ]
  },
  {
   "cell_type": "markdown",
   "id": "7723795e",
   "metadata": {},
   "source": [
    "## 6. Select the ANN architecture that gives the best score (validation accuracy) and best parameters"
   ]
  },
  {
   "cell_type": "markdown",
   "id": "e446077b",
   "metadata": {},
   "source": [
    "### 6.1 Best method performance"
   ]
  },
  {
   "cell_type": "code",
   "execution_count": 32,
   "id": "ea803673",
   "metadata": {},
   "outputs": [
    {
     "name": "stderr",
     "output_type": "stream",
     "text": [
      "D:\\Programs\\Anaconda3\\lib\\site-packages\\sklearn\\neural_network\\_multilayer_perceptron.py:692: ConvergenceWarning: Stochastic Optimizer: Maximum iterations (100) reached and the optimization hasn't converged yet.\n",
      "  warnings.warn(\n"
     ]
    },
    {
     "name": "stdout",
     "output_type": "stream",
     "text": [
      "Best parameters set found on development set: {'hidden_layer_sizes': (10, 10, 10), 'learning_rate': 'adaptive', 'max_iter': 100}\n",
      "\n",
      "Best method validation accuracy: 0.8293994241053065\n"
     ]
    }
   ],
   "source": [
    "clf.fit(X_train, y_train)\n",
    "print(\"Best parameters set found on development set:\", clf.best_params_)\n",
    "print(\"\\nBest method validation accuracy:\", clf.best_score_)"
   ]
  },
  {
   "cell_type": "markdown",
   "id": "7ff9ecd1",
   "metadata": {},
   "source": [
    "### 6.2 Get the best estimator"
   ]
  },
  {
   "cell_type": "code",
   "execution_count": 33,
   "id": "6caaf142",
   "metadata": {},
   "outputs": [
    {
     "data": {
      "text/plain": [
       "MLPClassifier(hidden_layer_sizes=(10, 10, 10), learning_rate='adaptive',\n",
       "              max_iter=100)"
      ]
     },
     "execution_count": 33,
     "metadata": {},
     "output_type": "execute_result"
    }
   ],
   "source": [
    "gs_best = clf.best_estimator_ #gs: grid search\n",
    "gs_best"
   ]
  },
  {
   "cell_type": "markdown",
   "id": "4356517b",
   "metadata": {},
   "source": [
    "## 7. Performance metrics"
   ]
  },
  {
   "cell_type": "markdown",
   "id": "9f4342e4",
   "metadata": {},
   "source": [
    "### 7.1 Classification Report - Precision and Recall"
   ]
  },
  {
   "cell_type": "code",
   "execution_count": 34,
   "id": "7366e569",
   "metadata": {},
   "outputs": [
    {
     "name": "stdout",
     "output_type": "stream",
     "text": [
      "\n",
      "\n",
      "Tuned Model Stats:\n",
      "              precision    recall  f1-score   support\n",
      "\n",
      "     class 0       0.87      0.97      0.92       320\n",
      "     class 1       0.20      0.04      0.07        48\n",
      "\n",
      "    accuracy                           0.85       368\n",
      "   macro avg       0.54      0.51      0.49       368\n",
      "weighted avg       0.78      0.85      0.81       368\n",
      "\n"
     ]
    }
   ],
   "source": [
    "tuned_y_pred = gs_best.predict(X_test) \n",
    "print('\\n\\nTuned Model Stats:')\n",
    "print(classification_report(y_test, tuned_y_pred, target_names=['class 0', 'class 1']))"
   ]
  },
  {
   "cell_type": "markdown",
   "id": "70412272",
   "metadata": {},
   "source": [
    "### 7.2 Confusion Matrix"
   ]
  },
  {
   "cell_type": "code",
   "execution_count": 35,
   "id": "3be41e5d",
   "metadata": {},
   "outputs": [
    {
     "name": "stdout",
     "output_type": "stream",
     "text": [
      "[[312   8]\n",
      " [ 46   2]]\n"
     ]
    }
   ],
   "source": [
    "conf_matrix = confusion_matrix(y_test, tuned_y_pred)\n",
    "print(conf_matrix)"
   ]
  },
  {
   "cell_type": "markdown",
   "id": "4dc5d939",
   "metadata": {},
   "source": [
    "#### 7.2.1 Seaborn heatmap for the confusion matrix"
   ]
  },
  {
   "cell_type": "code",
   "execution_count": 36,
   "id": "51292750",
   "metadata": {},
   "outputs": [
    {
     "data": {
      "text/plain": [
       "<AxesSubplot:xlabel='Predicted', ylabel='Actual'>"
      ]
     },
     "execution_count": 36,
     "metadata": {},
     "output_type": "execute_result"
    },
    {
     "data": {
      "image/png": "[encoded data removed]",
      "text/plain": [
       "<Figure size 288x288 with 1 Axes>"
      ]
     },
     "metadata": {
      "needs_background": "light"
     },
     "output_type": "display_data"
    }
   ],
   "source": [
    "df_cm = pd.DataFrame(conf_matrix, columns=np.unique(y_test), index = np.unique(y_test))\n",
    "df_cm.index.name = 'Actual'\n",
    "df_cm.columns.name = 'Predicted'\n",
    "plt.figure(figsize = (4,4))\n",
    "sns.set(font_scale = 1.2) # for label size\n",
    "sns.heatmap(df_cm, annot=True, annot_kws={\"size\": 14}, cbar=False, vmax = 20, #vmax from confusion matrix\n",
    "            square = True, cmap=\"Greens\", fmt='g') #fmt to remove scientific notation"
   ]
  }
 ],
 "metadata": {
  "kernelspec": {
   "display_name": "Python 3 (ipykernel)",
   "language": "python",
   "name": "python3"
  },
  "language_info": {
   "codemirror_mode": {
    "name": "ipython",
    "version": 3
   },
   "file_extension": ".py",
   "mimetype": "text/x-python",
   "name": "python",
   "nbconvert_exporter": "python",
   "pygments_lexer": "ipython3",
   "version": "3.9.12"
  }
 },
 "nbformat": 4,
 "nbformat_minor": 5
}
