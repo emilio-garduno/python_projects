{
 "cells": [
  {
   "cell_type": "markdown",
   "id": "8cf0589c",
   "metadata": {},
   "source": [
    "# Clustering and PCA\n",
    "## By Luis Emilio Garduno Garcia"
   ]
  },
  {
   "cell_type": "markdown",
   "id": "544be2d2",
   "metadata": {},
   "source": [
    "**References:**\n",
    "- https://towardsdatascience.com/k-means-clustering-algorithm-applications-evaluation-methods-and-drawbacks-aa03e644b48a"
   ]
  },
  {
   "cell_type": "markdown",
   "id": "e5e3f5f7",
   "metadata": {},
   "source": [
    "## 1. Library import and data loading"
   ]
  },
  {
   "cell_type": "code",
   "execution_count": 32,
   "id": "51d7ef57",
   "metadata": {},
   "outputs": [],
   "source": [
    "import pandas as pd \n",
    "import numpy as np \n",
    "import seaborn as sns\n",
    "import matplotlib.pyplot as plt \n",
    "\n",
    "%matplotlib inline\n",
    "\n",
    "from sklearn.preprocessing import MinMaxScaler, StandardScaler, RobustScaler \n",
    "from sklearn.cluster import KMeans \n",
    "from kneed import KneeLocator \n",
    "\n",
    "from sklearn.pipeline import Pipeline\n",
    "from sklearn.decomposition import PCA \n",
    "from sklearn.cluster import AgglomerativeClustering\n",
    "from sklearn.cluster import Birch\n",
    "from sklearn.cluster import SpectralClustering\n",
    "\n",
    "from sklearn.metrics import silhouette_score, calinski_harabasz_score, davies_bouldin_score"
   ]
  },
  {
   "cell_type": "markdown",
   "id": "ed4c3346",
   "metadata": {},
   "source": [
    "## 2. Get the data"
   ]
  },
  {
   "cell_type": "markdown",
   "id": "7f9fb8dc",
   "metadata": {},
   "source": [
    "Glimpse of the dataset using df.head() function displaying only 3 rows"
   ]
  },
  {
   "cell_type": "code",
   "execution_count": 33,
   "id": "95811b00",
   "metadata": {},
   "outputs": [
    {
     "data": {
      "text/html": [
       "<div>\n",
       "<style scoped>\n",
       "    .dataframe tbody tr th:only-of-type {\n",
       "        vertical-align: middle;\n",
       "    }\n",
       "\n",
       "    .dataframe tbody tr th {\n",
       "        vertical-align: top;\n",
       "    }\n",
       "\n",
       "    .dataframe thead th {\n",
       "        text-align: right;\n",
       "    }\n",
       "</style>\n",
       "<table border=\"1\" class=\"dataframe\">\n",
       "  <thead>\n",
       "    <tr style=\"text-align: right;\">\n",
       "      <th></th>\n",
       "      <th>Age</th>\n",
       "      <th>BusinessTravel</th>\n",
       "      <th>DailyRate</th>\n",
       "      <th>Department</th>\n",
       "      <th>DistanceFromHome</th>\n",
       "      <th>Education</th>\n",
       "      <th>EducationField</th>\n",
       "      <th>EnvironmentSatisfaction</th>\n",
       "      <th>Gender</th>\n",
       "      <th>HourlyRate</th>\n",
       "      <th>...</th>\n",
       "      <th>RelationshipSatisfaction</th>\n",
       "      <th>StockOptionLevel</th>\n",
       "      <th>TotalWorkingYears</th>\n",
       "      <th>TrainingTimesLastYear</th>\n",
       "      <th>WorkLifeBalance</th>\n",
       "      <th>YearsAtCompany</th>\n",
       "      <th>YearsInCurrentRole</th>\n",
       "      <th>YearsSinceLastPromotion</th>\n",
       "      <th>YearsWithCurrManager</th>\n",
       "      <th>Attrition</th>\n",
       "    </tr>\n",
       "  </thead>\n",
       "  <tbody>\n",
       "    <tr>\n",
       "      <th>0</th>\n",
       "      <td>41</td>\n",
       "      <td>Travel_Rarely</td>\n",
       "      <td>1102</td>\n",
       "      <td>Sales</td>\n",
       "      <td>1</td>\n",
       "      <td>2</td>\n",
       "      <td>Life Sciences</td>\n",
       "      <td>2</td>\n",
       "      <td>Female</td>\n",
       "      <td>94</td>\n",
       "      <td>...</td>\n",
       "      <td>1</td>\n",
       "      <td>0</td>\n",
       "      <td>8</td>\n",
       "      <td>0</td>\n",
       "      <td>1</td>\n",
       "      <td>6</td>\n",
       "      <td>4</td>\n",
       "      <td>0</td>\n",
       "      <td>5</td>\n",
       "      <td>Yes</td>\n",
       "    </tr>\n",
       "    <tr>\n",
       "      <th>1</th>\n",
       "      <td>49</td>\n",
       "      <td>Travel_Frequently</td>\n",
       "      <td>279</td>\n",
       "      <td>Research &amp; Development</td>\n",
       "      <td>8</td>\n",
       "      <td>1</td>\n",
       "      <td>Life Sciences</td>\n",
       "      <td>3</td>\n",
       "      <td>Male</td>\n",
       "      <td>61</td>\n",
       "      <td>...</td>\n",
       "      <td>4</td>\n",
       "      <td>1</td>\n",
       "      <td>10</td>\n",
       "      <td>3</td>\n",
       "      <td>3</td>\n",
       "      <td>10</td>\n",
       "      <td>7</td>\n",
       "      <td>1</td>\n",
       "      <td>7</td>\n",
       "      <td>No</td>\n",
       "    </tr>\n",
       "    <tr>\n",
       "      <th>2</th>\n",
       "      <td>37</td>\n",
       "      <td>Travel_Rarely</td>\n",
       "      <td>1373</td>\n",
       "      <td>Research &amp; Development</td>\n",
       "      <td>2</td>\n",
       "      <td>2</td>\n",
       "      <td>Other</td>\n",
       "      <td>4</td>\n",
       "      <td>Male</td>\n",
       "      <td>92</td>\n",
       "      <td>...</td>\n",
       "      <td>2</td>\n",
       "      <td>0</td>\n",
       "      <td>7</td>\n",
       "      <td>3</td>\n",
       "      <td>3</td>\n",
       "      <td>0</td>\n",
       "      <td>0</td>\n",
       "      <td>0</td>\n",
       "      <td>0</td>\n",
       "      <td>Yes</td>\n",
       "    </tr>\n",
       "  </tbody>\n",
       "</table>\n",
       "<p>3 rows × 31 columns</p>\n",
       "</div>"
      ],
      "text/plain": [
       "   Age     BusinessTravel  DailyRate              Department  \\\n",
       "0   41      Travel_Rarely       1102                   Sales   \n",
       "1   49  Travel_Frequently        279  Research & Development   \n",
       "2   37      Travel_Rarely       1373  Research & Development   \n",
       "\n",
       "   DistanceFromHome  Education EducationField  EnvironmentSatisfaction  \\\n",
       "0                 1          2  Life Sciences                        2   \n",
       "1                 8          1  Life Sciences                        3   \n",
       "2                 2          2          Other                        4   \n",
       "\n",
       "   Gender  HourlyRate  ...  RelationshipSatisfaction  StockOptionLevel  \\\n",
       "0  Female          94  ...                         1                 0   \n",
       "1    Male          61  ...                         4                 1   \n",
       "2    Male          92  ...                         2                 0   \n",
       "\n",
       "  TotalWorkingYears  TrainingTimesLastYear WorkLifeBalance  YearsAtCompany  \\\n",
       "0                 8                      0               1               6   \n",
       "1                10                      3               3              10   \n",
       "2                 7                      3               3               0   \n",
       "\n",
       "   YearsInCurrentRole YearsSinceLastPromotion YearsWithCurrManager  Attrition  \n",
       "0                   4                       0                    5        Yes  \n",
       "1                   7                       1                    7         No  \n",
       "2                   0                       0                    0        Yes  \n",
       "\n",
       "[3 rows x 31 columns]"
      ]
     },
     "execution_count": 33,
     "metadata": {},
     "output_type": "execute_result"
    }
   ],
   "source": [
    "df = pd.read_csv('employee.csv')\n",
    "df.head(3)"
   ]
  },
  {
   "cell_type": "markdown",
   "id": "1c64e6eb",
   "metadata": {},
   "source": [
    "## 3. Check the datatype"
   ]
  },
  {
   "cell_type": "markdown",
   "id": "7fa530c2",
   "metadata": {},
   "source": [
    "Get the information about the dataset. "
   ]
  },
  {
   "cell_type": "code",
   "execution_count": 34,
   "id": "38c7f30a",
   "metadata": {},
   "outputs": [
    {
     "name": "stdout",
     "output_type": "stream",
     "text": [
      "<class 'pandas.core.frame.DataFrame'>\n",
      "RangeIndex: 1470 entries, 0 to 1469\n",
      "Data columns (total 31 columns):\n",
      " #   Column                    Non-Null Count  Dtype \n",
      "---  ------                    --------------  ----- \n",
      " 0   Age                       1470 non-null   int64 \n",
      " 1   BusinessTravel            1470 non-null   object\n",
      " 2   DailyRate                 1470 non-null   int64 \n",
      " 3   Department                1470 non-null   object\n",
      " 4   DistanceFromHome          1470 non-null   int64 \n",
      " 5   Education                 1470 non-null   int64 \n",
      " 6   EducationField            1470 non-null   object\n",
      " 7   EnvironmentSatisfaction   1470 non-null   int64 \n",
      " 8   Gender                    1470 non-null   object\n",
      " 9   HourlyRate                1470 non-null   int64 \n",
      " 10  JobInvolvement            1470 non-null   int64 \n",
      " 11  JobLevel                  1470 non-null   int64 \n",
      " 12  JobRole                   1470 non-null   object\n",
      " 13  JobSatisfaction           1470 non-null   int64 \n",
      " 14  MaritalStatus             1470 non-null   object\n",
      " 15  MonthlyIncome             1470 non-null   int64 \n",
      " 16  NumCompaniesWorked        1470 non-null   int64 \n",
      " 17  Over18                    1470 non-null   object\n",
      " 18  OverTime                  1470 non-null   object\n",
      " 19  PercentSalaryHike         1470 non-null   int64 \n",
      " 20  PerformanceRating         1470 non-null   int64 \n",
      " 21  RelationshipSatisfaction  1470 non-null   int64 \n",
      " 22  StockOptionLevel          1470 non-null   int64 \n",
      " 23  TotalWorkingYears         1470 non-null   int64 \n",
      " 24  TrainingTimesLastYear     1470 non-null   int64 \n",
      " 25  WorkLifeBalance           1470 non-null   int64 \n",
      " 26  YearsAtCompany            1470 non-null   int64 \n",
      " 27  YearsInCurrentRole        1470 non-null   int64 \n",
      " 28  YearsSinceLastPromotion   1470 non-null   int64 \n",
      " 29  YearsWithCurrManager      1470 non-null   int64 \n",
      " 30  Attrition                 1470 non-null   object\n",
      "dtypes: int64(22), object(9)\n",
      "memory usage: 356.1+ KB\n"
     ]
    }
   ],
   "source": [
    "df.info()"
   ]
  },
  {
   "cell_type": "markdown",
   "id": "33c0ebaf",
   "metadata": {},
   "source": [
    "## 4. Check if there are Null Values"
   ]
  },
  {
   "cell_type": "markdown",
   "id": "3f5b5ac7",
   "metadata": {},
   "source": [
    "We can use 'isnull()' and 'sum()' functions, to determine how many null values does the dataset have."
   ]
  },
  {
   "cell_type": "code",
   "execution_count": 35,
   "id": "105faf61",
   "metadata": {},
   "outputs": [
    {
     "data": {
      "text/plain": [
       "Age                         0\n",
       "BusinessTravel              0\n",
       "DailyRate                   0\n",
       "Department                  0\n",
       "DistanceFromHome            0\n",
       "Education                   0\n",
       "EducationField              0\n",
       "EnvironmentSatisfaction     0\n",
       "Gender                      0\n",
       "HourlyRate                  0\n",
       "JobInvolvement              0\n",
       "JobLevel                    0\n",
       "JobRole                     0\n",
       "JobSatisfaction             0\n",
       "MaritalStatus               0\n",
       "MonthlyIncome               0\n",
       "NumCompaniesWorked          0\n",
       "Over18                      0\n",
       "OverTime                    0\n",
       "PercentSalaryHike           0\n",
       "PerformanceRating           0\n",
       "RelationshipSatisfaction    0\n",
       "StockOptionLevel            0\n",
       "TotalWorkingYears           0\n",
       "TrainingTimesLastYear       0\n",
       "WorkLifeBalance             0\n",
       "YearsAtCompany              0\n",
       "YearsInCurrentRole          0\n",
       "YearsSinceLastPromotion     0\n",
       "YearsWithCurrManager        0\n",
       "Attrition                   0\n",
       "dtype: int64"
      ]
     },
     "execution_count": 35,
     "metadata": {},
     "output_type": "execute_result"
    }
   ],
   "source": [
    "df.isnull().sum()"
   ]
  },
  {
   "cell_type": "markdown",
   "id": "4150f028",
   "metadata": {},
   "source": [
    "## 5. Pre-process the Data"
   ]
  },
  {
   "cell_type": "markdown",
   "id": "7e423002",
   "metadata": {},
   "source": [
    "### 5.1 We remove white spaces from the whole data frame (leading and trailing characters) and replace them with underscores"
   ]
  },
  {
   "cell_type": "markdown",
   "id": "571c8459",
   "metadata": {},
   "source": [
    "First, we strip white spaces"
   ]
  },
  {
   "cell_type": "code",
   "execution_count": 36,
   "id": "bccb8b56",
   "metadata": {},
   "outputs": [],
   "source": [
    "def strip_function(x):\n",
    "    r = []\n",
    "    for y in x:\n",
    "        if isinstance (y, str): #isinstance function returns True if the specified object is of the specified type, otherwise False\n",
    "            y = y.strip()\n",
    "            \n",
    "        r.append(y)\n",
    "    return pd.Series(r)\n",
    "\n",
    "df = df.apply(strip_function)"
   ]
  },
  {
   "cell_type": "markdown",
   "id": "a52a905e",
   "metadata": {},
   "source": [
    "### 5.2 Then, we replace the white spaces to \"_\""
   ]
  },
  {
   "cell_type": "code",
   "execution_count": 37,
   "id": "28a44739",
   "metadata": {},
   "outputs": [
    {
     "data": {
      "text/html": [
       "<div>\n",
       "<style scoped>\n",
       "    .dataframe tbody tr th:only-of-type {\n",
       "        vertical-align: middle;\n",
       "    }\n",
       "\n",
       "    .dataframe tbody tr th {\n",
       "        vertical-align: top;\n",
       "    }\n",
       "\n",
       "    .dataframe thead th {\n",
       "        text-align: right;\n",
       "    }\n",
       "</style>\n",
       "<table border=\"1\" class=\"dataframe\">\n",
       "  <thead>\n",
       "    <tr style=\"text-align: right;\">\n",
       "      <th></th>\n",
       "      <th>Age</th>\n",
       "      <th>BusinessTravel</th>\n",
       "      <th>DailyRate</th>\n",
       "      <th>Department</th>\n",
       "      <th>DistanceFromHome</th>\n",
       "      <th>Education</th>\n",
       "      <th>EducationField</th>\n",
       "      <th>EnvironmentSatisfaction</th>\n",
       "      <th>Gender</th>\n",
       "      <th>HourlyRate</th>\n",
       "      <th>...</th>\n",
       "      <th>RelationshipSatisfaction</th>\n",
       "      <th>StockOptionLevel</th>\n",
       "      <th>TotalWorkingYears</th>\n",
       "      <th>TrainingTimesLastYear</th>\n",
       "      <th>WorkLifeBalance</th>\n",
       "      <th>YearsAtCompany</th>\n",
       "      <th>YearsInCurrentRole</th>\n",
       "      <th>YearsSinceLastPromotion</th>\n",
       "      <th>YearsWithCurrManager</th>\n",
       "      <th>Attrition</th>\n",
       "    </tr>\n",
       "  </thead>\n",
       "  <tbody>\n",
       "    <tr>\n",
       "      <th>0</th>\n",
       "      <td>41</td>\n",
       "      <td>Travel_Rarely</td>\n",
       "      <td>1102</td>\n",
       "      <td>Sales</td>\n",
       "      <td>1</td>\n",
       "      <td>2</td>\n",
       "      <td>Life_Sciences</td>\n",
       "      <td>2</td>\n",
       "      <td>Female</td>\n",
       "      <td>94</td>\n",
       "      <td>...</td>\n",
       "      <td>1</td>\n",
       "      <td>0</td>\n",
       "      <td>8</td>\n",
       "      <td>0</td>\n",
       "      <td>1</td>\n",
       "      <td>6</td>\n",
       "      <td>4</td>\n",
       "      <td>0</td>\n",
       "      <td>5</td>\n",
       "      <td>Yes</td>\n",
       "    </tr>\n",
       "    <tr>\n",
       "      <th>1</th>\n",
       "      <td>49</td>\n",
       "      <td>Travel_Frequently</td>\n",
       "      <td>279</td>\n",
       "      <td>Research_&amp;_Development</td>\n",
       "      <td>8</td>\n",
       "      <td>1</td>\n",
       "      <td>Life_Sciences</td>\n",
       "      <td>3</td>\n",
       "      <td>Male</td>\n",
       "      <td>61</td>\n",
       "      <td>...</td>\n",
       "      <td>4</td>\n",
       "      <td>1</td>\n",
       "      <td>10</td>\n",
       "      <td>3</td>\n",
       "      <td>3</td>\n",
       "      <td>10</td>\n",
       "      <td>7</td>\n",
       "      <td>1</td>\n",
       "      <td>7</td>\n",
       "      <td>No</td>\n",
       "    </tr>\n",
       "    <tr>\n",
       "      <th>2</th>\n",
       "      <td>37</td>\n",
       "      <td>Travel_Rarely</td>\n",
       "      <td>1373</td>\n",
       "      <td>Research_&amp;_Development</td>\n",
       "      <td>2</td>\n",
       "      <td>2</td>\n",
       "      <td>Other</td>\n",
       "      <td>4</td>\n",
       "      <td>Male</td>\n",
       "      <td>92</td>\n",
       "      <td>...</td>\n",
       "      <td>2</td>\n",
       "      <td>0</td>\n",
       "      <td>7</td>\n",
       "      <td>3</td>\n",
       "      <td>3</td>\n",
       "      <td>0</td>\n",
       "      <td>0</td>\n",
       "      <td>0</td>\n",
       "      <td>0</td>\n",
       "      <td>Yes</td>\n",
       "    </tr>\n",
       "  </tbody>\n",
       "</table>\n",
       "<p>3 rows × 31 columns</p>\n",
       "</div>"
      ],
      "text/plain": [
       "   Age     BusinessTravel  DailyRate              Department  \\\n",
       "0   41      Travel_Rarely       1102                   Sales   \n",
       "1   49  Travel_Frequently        279  Research_&_Development   \n",
       "2   37      Travel_Rarely       1373  Research_&_Development   \n",
       "\n",
       "   DistanceFromHome  Education EducationField  EnvironmentSatisfaction  \\\n",
       "0                 1          2  Life_Sciences                        2   \n",
       "1                 8          1  Life_Sciences                        3   \n",
       "2                 2          2          Other                        4   \n",
       "\n",
       "   Gender  HourlyRate  ...  RelationshipSatisfaction  StockOptionLevel  \\\n",
       "0  Female          94  ...                         1                 0   \n",
       "1    Male          61  ...                         4                 1   \n",
       "2    Male          92  ...                         2                 0   \n",
       "\n",
       "  TotalWorkingYears  TrainingTimesLastYear WorkLifeBalance  YearsAtCompany  \\\n",
       "0                 8                      0               1               6   \n",
       "1                10                      3               3              10   \n",
       "2                 7                      3               3               0   \n",
       "\n",
       "   YearsInCurrentRole YearsSinceLastPromotion YearsWithCurrManager  Attrition  \n",
       "0                   4                       0                    5        Yes  \n",
       "1                   7                       1                    7         No  \n",
       "2                   0                       0                    0        Yes  \n",
       "\n",
       "[3 rows x 31 columns]"
      ]
     },
     "execution_count": 37,
     "metadata": {},
     "output_type": "execute_result"
    }
   ],
   "source": [
    "df = df.apply(lambda x: x.str.replace(\" \",\"_\") if x.dtype == \"object\" else x)\n",
    "df.head(3)"
   ]
  },
  {
   "cell_type": "markdown",
   "id": "3f48c3b6",
   "metadata": {},
   "source": [
    "### 5.3 Convert categorical data to Dummy variables"
   ]
  },
  {
   "cell_type": "markdown",
   "id": "4bae523c",
   "metadata": {},
   "source": [
    "We use get_dummies function to create the dummies only for the categorical columns"
   ]
  },
  {
   "cell_type": "code",
   "execution_count": 38,
   "id": "19a414ac",
   "metadata": {},
   "outputs": [
    {
     "name": "stdout",
     "output_type": "stream",
     "text": [
      "<class 'pandas.core.frame.DataFrame'>\n",
      "RangeIndex: 1470 entries, 0 to 1469\n",
      "Data columns (total 44 columns):\n",
      " #   Column                             Non-Null Count  Dtype\n",
      "---  ------                             --------------  -----\n",
      " 0   Age                                1470 non-null   int64\n",
      " 1   DailyRate                          1470 non-null   int64\n",
      " 2   DistanceFromHome                   1470 non-null   int64\n",
      " 3   Education                          1470 non-null   int64\n",
      " 4   EnvironmentSatisfaction            1470 non-null   int64\n",
      " 5   HourlyRate                         1470 non-null   int64\n",
      " 6   JobInvolvement                     1470 non-null   int64\n",
      " 7   JobLevel                           1470 non-null   int64\n",
      " 8   JobSatisfaction                    1470 non-null   int64\n",
      " 9   MonthlyIncome                      1470 non-null   int64\n",
      " 10  NumCompaniesWorked                 1470 non-null   int64\n",
      " 11  PercentSalaryHike                  1470 non-null   int64\n",
      " 12  PerformanceRating                  1470 non-null   int64\n",
      " 13  RelationshipSatisfaction           1470 non-null   int64\n",
      " 14  StockOptionLevel                   1470 non-null   int64\n",
      " 15  TotalWorkingYears                  1470 non-null   int64\n",
      " 16  TrainingTimesLastYear              1470 non-null   int64\n",
      " 17  WorkLifeBalance                    1470 non-null   int64\n",
      " 18  YearsAtCompany                     1470 non-null   int64\n",
      " 19  YearsInCurrentRole                 1470 non-null   int64\n",
      " 20  YearsSinceLastPromotion            1470 non-null   int64\n",
      " 21  YearsWithCurrManager               1470 non-null   int64\n",
      " 22  BusinessTravel_Travel_Frequently   1470 non-null   uint8\n",
      " 23  BusinessTravel_Travel_Rarely       1470 non-null   uint8\n",
      " 24  Department_Research_&_Development  1470 non-null   uint8\n",
      " 25  Department_Sales                   1470 non-null   uint8\n",
      " 26  EducationField_Life_Sciences       1470 non-null   uint8\n",
      " 27  EducationField_Marketing           1470 non-null   uint8\n",
      " 28  EducationField_Medical             1470 non-null   uint8\n",
      " 29  EducationField_Other               1470 non-null   uint8\n",
      " 30  EducationField_Technical_Degree    1470 non-null   uint8\n",
      " 31  Gender_Male                        1470 non-null   uint8\n",
      " 32  JobRole_Human_Resources            1470 non-null   uint8\n",
      " 33  JobRole_Laboratory_Technician      1470 non-null   uint8\n",
      " 34  JobRole_Manager                    1470 non-null   uint8\n",
      " 35  JobRole_Manufacturing_Director     1470 non-null   uint8\n",
      " 36  JobRole_Research_Director          1470 non-null   uint8\n",
      " 37  JobRole_Research_Scientist         1470 non-null   uint8\n",
      " 38  JobRole_Sales_Executive            1470 non-null   uint8\n",
      " 39  JobRole_Sales_Representative       1470 non-null   uint8\n",
      " 40  MaritalStatus_Married              1470 non-null   uint8\n",
      " 41  MaritalStatus_Single               1470 non-null   uint8\n",
      " 42  OverTime_Yes                       1470 non-null   uint8\n",
      " 43  Attrition_Yes                      1470 non-null   uint8\n",
      "dtypes: int64(22), uint8(22)\n",
      "memory usage: 284.4 KB\n"
     ]
    }
   ],
   "source": [
    "df1 = pd.get_dummies(df, drop_first = True) #drop first category to avoid matrix singularity\n",
    "df1.info() #to confirm updates"
   ]
  },
  {
   "cell_type": "code",
   "execution_count": 39,
   "id": "8dc14465",
   "metadata": {},
   "outputs": [
    {
     "data": {
      "text/html": [
       "<div>\n",
       "<style scoped>\n",
       "    .dataframe tbody tr th:only-of-type {\n",
       "        vertical-align: middle;\n",
       "    }\n",
       "\n",
       "    .dataframe tbody tr th {\n",
       "        vertical-align: top;\n",
       "    }\n",
       "\n",
       "    .dataframe thead th {\n",
       "        text-align: right;\n",
       "    }\n",
       "</style>\n",
       "<table border=\"1\" class=\"dataframe\">\n",
       "  <thead>\n",
       "    <tr style=\"text-align: right;\">\n",
       "      <th></th>\n",
       "      <th>Age</th>\n",
       "      <th>DailyRate</th>\n",
       "      <th>DistanceFromHome</th>\n",
       "      <th>Education</th>\n",
       "      <th>EnvironmentSatisfaction</th>\n",
       "      <th>HourlyRate</th>\n",
       "      <th>JobInvolvement</th>\n",
       "      <th>JobLevel</th>\n",
       "      <th>JobSatisfaction</th>\n",
       "      <th>MonthlyIncome</th>\n",
       "      <th>...</th>\n",
       "      <th>JobRole_Manager</th>\n",
       "      <th>JobRole_Manufacturing_Director</th>\n",
       "      <th>JobRole_Research_Director</th>\n",
       "      <th>JobRole_Research_Scientist</th>\n",
       "      <th>JobRole_Sales_Executive</th>\n",
       "      <th>JobRole_Sales_Representative</th>\n",
       "      <th>MaritalStatus_Married</th>\n",
       "      <th>MaritalStatus_Single</th>\n",
       "      <th>OverTime_Yes</th>\n",
       "      <th>Attrition_Yes</th>\n",
       "    </tr>\n",
       "  </thead>\n",
       "  <tbody>\n",
       "    <tr>\n",
       "      <th>0</th>\n",
       "      <td>41</td>\n",
       "      <td>1102</td>\n",
       "      <td>1</td>\n",
       "      <td>2</td>\n",
       "      <td>2</td>\n",
       "      <td>94</td>\n",
       "      <td>3</td>\n",
       "      <td>2</td>\n",
       "      <td>4</td>\n",
       "      <td>5993</td>\n",
       "      <td>...</td>\n",
       "      <td>0</td>\n",
       "      <td>0</td>\n",
       "      <td>0</td>\n",
       "      <td>0</td>\n",
       "      <td>1</td>\n",
       "      <td>0</td>\n",
       "      <td>0</td>\n",
       "      <td>1</td>\n",
       "      <td>1</td>\n",
       "      <td>1</td>\n",
       "    </tr>\n",
       "    <tr>\n",
       "      <th>1</th>\n",
       "      <td>49</td>\n",
       "      <td>279</td>\n",
       "      <td>8</td>\n",
       "      <td>1</td>\n",
       "      <td>3</td>\n",
       "      <td>61</td>\n",
       "      <td>2</td>\n",
       "      <td>2</td>\n",
       "      <td>2</td>\n",
       "      <td>5130</td>\n",
       "      <td>...</td>\n",
       "      <td>0</td>\n",
       "      <td>0</td>\n",
       "      <td>0</td>\n",
       "      <td>1</td>\n",
       "      <td>0</td>\n",
       "      <td>0</td>\n",
       "      <td>1</td>\n",
       "      <td>0</td>\n",
       "      <td>0</td>\n",
       "      <td>0</td>\n",
       "    </tr>\n",
       "    <tr>\n",
       "      <th>2</th>\n",
       "      <td>37</td>\n",
       "      <td>1373</td>\n",
       "      <td>2</td>\n",
       "      <td>2</td>\n",
       "      <td>4</td>\n",
       "      <td>92</td>\n",
       "      <td>2</td>\n",
       "      <td>1</td>\n",
       "      <td>3</td>\n",
       "      <td>2090</td>\n",
       "      <td>...</td>\n",
       "      <td>0</td>\n",
       "      <td>0</td>\n",
       "      <td>0</td>\n",
       "      <td>0</td>\n",
       "      <td>0</td>\n",
       "      <td>0</td>\n",
       "      <td>0</td>\n",
       "      <td>1</td>\n",
       "      <td>1</td>\n",
       "      <td>1</td>\n",
       "    </tr>\n",
       "  </tbody>\n",
       "</table>\n",
       "<p>3 rows × 44 columns</p>\n",
       "</div>"
      ],
      "text/plain": [
       "   Age  DailyRate  DistanceFromHome  Education  EnvironmentSatisfaction  \\\n",
       "0   41       1102                 1          2                        2   \n",
       "1   49        279                 8          1                        3   \n",
       "2   37       1373                 2          2                        4   \n",
       "\n",
       "   HourlyRate  JobInvolvement  JobLevel  JobSatisfaction  MonthlyIncome  ...  \\\n",
       "0          94               3         2                4           5993  ...   \n",
       "1          61               2         2                2           5130  ...   \n",
       "2          92               2         1                3           2090  ...   \n",
       "\n",
       "   JobRole_Manager  JobRole_Manufacturing_Director  JobRole_Research_Director  \\\n",
       "0                0                               0                          0   \n",
       "1                0                               0                          0   \n",
       "2                0                               0                          0   \n",
       "\n",
       "   JobRole_Research_Scientist  JobRole_Sales_Executive  \\\n",
       "0                           0                        1   \n",
       "1                           1                        0   \n",
       "2                           0                        0   \n",
       "\n",
       "   JobRole_Sales_Representative  MaritalStatus_Married  MaritalStatus_Single  \\\n",
       "0                             0                      0                     1   \n",
       "1                             0                      1                     0   \n",
       "2                             0                      0                     1   \n",
       "\n",
       "   OverTime_Yes  Attrition_Yes  \n",
       "0             1              1  \n",
       "1             0              0  \n",
       "2             1              1  \n",
       "\n",
       "[3 rows x 44 columns]"
      ]
     },
     "execution_count": 39,
     "metadata": {},
     "output_type": "execute_result"
    }
   ],
   "source": [
    "df1.head(3)"
   ]
  },
  {
   "cell_type": "markdown",
   "id": "906a4926",
   "metadata": {},
   "source": [
    "#### 5.3.1 Save the dataframe into for further use"
   ]
  },
  {
   "cell_type": "markdown",
   "id": "a436f201",
   "metadata": {},
   "source": [
    "Assure to set the parameter index=False"
   ]
  },
  {
   "cell_type": "code",
   "execution_count": 40,
   "id": "ed6f2a80",
   "metadata": {},
   "outputs": [
    {
     "name": "stdout",
     "output_type": "stream",
     "text": [
      "New data frame has been saved as: Lab05A_prepared\n"
     ]
    }
   ],
   "source": [
    "df1.to_csv('emp_attrition_prepared.csv', index = False)\n",
    "print(\"New data frame has been saved as: emp_attrition_prepared\")"
   ]
  },
  {
   "cell_type": "markdown",
   "id": "4165ab9a",
   "metadata": {},
   "source": [
    "### 5.4 Scale the dataset"
   ]
  },
  {
   "cell_type": "markdown",
   "id": "24a4f2f2",
   "metadata": {},
   "source": [
    "*Since clustering algorithms including kmeans use distance-based measurements to determine the similarity between data points, it’s recommended to standardize (scale) the data to have a mean of zero and a standard deviation of one since almost always the features in any dataset would have different units of measurements*"
   ]
  },
  {
   "cell_type": "markdown",
   "id": "d782dd9e",
   "metadata": {},
   "source": [
    "We may use RobustScaler as feature scaling method"
   ]
  },
  {
   "cell_type": "code",
   "execution_count": 41,
   "id": "0eba5df0",
   "metadata": {},
   "outputs": [],
   "source": [
    "rs = RobustScaler()\n",
    "scaled_data = rs.fit_transform(df1)"
   ]
  },
  {
   "cell_type": "markdown",
   "id": "bc08d30e",
   "metadata": {},
   "source": [
    "We make a new data frame with scaled data to keep the data frame after the feature selection if we need it later on"
   ]
  },
  {
   "cell_type": "code",
   "execution_count": 42,
   "id": "cd880140",
   "metadata": {},
   "outputs": [
    {
     "data": {
      "text/html": [
       "<div>\n",
       "<style scoped>\n",
       "    .dataframe tbody tr th:only-of-type {\n",
       "        vertical-align: middle;\n",
       "    }\n",
       "\n",
       "    .dataframe tbody tr th {\n",
       "        vertical-align: top;\n",
       "    }\n",
       "\n",
       "    .dataframe thead th {\n",
       "        text-align: right;\n",
       "    }\n",
       "</style>\n",
       "<table border=\"1\" class=\"dataframe\">\n",
       "  <thead>\n",
       "    <tr style=\"text-align: right;\">\n",
       "      <th></th>\n",
       "      <th>Age</th>\n",
       "      <th>DailyRate</th>\n",
       "      <th>DistanceFromHome</th>\n",
       "      <th>Education</th>\n",
       "      <th>EnvironmentSatisfaction</th>\n",
       "      <th>HourlyRate</th>\n",
       "      <th>JobInvolvement</th>\n",
       "      <th>JobLevel</th>\n",
       "      <th>JobSatisfaction</th>\n",
       "      <th>MonthlyIncome</th>\n",
       "      <th>...</th>\n",
       "      <th>JobRole_Manager</th>\n",
       "      <th>JobRole_Manufacturing_Director</th>\n",
       "      <th>JobRole_Research_Director</th>\n",
       "      <th>JobRole_Research_Scientist</th>\n",
       "      <th>JobRole_Sales_Executive</th>\n",
       "      <th>JobRole_Sales_Representative</th>\n",
       "      <th>MaritalStatus_Married</th>\n",
       "      <th>MaritalStatus_Single</th>\n",
       "      <th>OverTime_Yes</th>\n",
       "      <th>Attrition_Yes</th>\n",
       "    </tr>\n",
       "  </thead>\n",
       "  <tbody>\n",
       "    <tr>\n",
       "      <th>0</th>\n",
       "      <td>0.384615</td>\n",
       "      <td>0.433526</td>\n",
       "      <td>-0.500000</td>\n",
       "      <td>-0.5</td>\n",
       "      <td>-0.5</td>\n",
       "      <td>0.783217</td>\n",
       "      <td>0.0</td>\n",
       "      <td>0.0</td>\n",
       "      <td>0.5</td>\n",
       "      <td>0.196416</td>\n",
       "      <td>...</td>\n",
       "      <td>0.0</td>\n",
       "      <td>0.0</td>\n",
       "      <td>0.0</td>\n",
       "      <td>0.0</td>\n",
       "      <td>1.0</td>\n",
       "      <td>0.0</td>\n",
       "      <td>0.0</td>\n",
       "      <td>1.0</td>\n",
       "      <td>1.0</td>\n",
       "      <td>1.0</td>\n",
       "    </tr>\n",
       "    <tr>\n",
       "      <th>1</th>\n",
       "      <td>1.000000</td>\n",
       "      <td>-0.755780</td>\n",
       "      <td>0.083333</td>\n",
       "      <td>-1.0</td>\n",
       "      <td>0.0</td>\n",
       "      <td>-0.139860</td>\n",
       "      <td>-1.0</td>\n",
       "      <td>0.0</td>\n",
       "      <td>-0.5</td>\n",
       "      <td>0.038588</td>\n",
       "      <td>...</td>\n",
       "      <td>0.0</td>\n",
       "      <td>0.0</td>\n",
       "      <td>0.0</td>\n",
       "      <td>1.0</td>\n",
       "      <td>0.0</td>\n",
       "      <td>0.0</td>\n",
       "      <td>1.0</td>\n",
       "      <td>0.0</td>\n",
       "      <td>0.0</td>\n",
       "      <td>0.0</td>\n",
       "    </tr>\n",
       "    <tr>\n",
       "      <th>2</th>\n",
       "      <td>0.076923</td>\n",
       "      <td>0.825145</td>\n",
       "      <td>-0.416667</td>\n",
       "      <td>-0.5</td>\n",
       "      <td>0.5</td>\n",
       "      <td>0.727273</td>\n",
       "      <td>-1.0</td>\n",
       "      <td>-0.5</td>\n",
       "      <td>0.0</td>\n",
       "      <td>-0.517374</td>\n",
       "      <td>...</td>\n",
       "      <td>0.0</td>\n",
       "      <td>0.0</td>\n",
       "      <td>0.0</td>\n",
       "      <td>0.0</td>\n",
       "      <td>0.0</td>\n",
       "      <td>0.0</td>\n",
       "      <td>0.0</td>\n",
       "      <td>1.0</td>\n",
       "      <td>1.0</td>\n",
       "      <td>1.0</td>\n",
       "    </tr>\n",
       "  </tbody>\n",
       "</table>\n",
       "<p>3 rows × 44 columns</p>\n",
       "</div>"
      ],
      "text/plain": [
       "        Age  DailyRate  DistanceFromHome  Education  EnvironmentSatisfaction  \\\n",
       "0  0.384615   0.433526         -0.500000       -0.5                     -0.5   \n",
       "1  1.000000  -0.755780          0.083333       -1.0                      0.0   \n",
       "2  0.076923   0.825145         -0.416667       -0.5                      0.5   \n",
       "\n",
       "   HourlyRate  JobInvolvement  JobLevel  JobSatisfaction  MonthlyIncome  ...  \\\n",
       "0    0.783217             0.0       0.0              0.5       0.196416  ...   \n",
       "1   -0.139860            -1.0       0.0             -0.5       0.038588  ...   \n",
       "2    0.727273            -1.0      -0.5              0.0      -0.517374  ...   \n",
       "\n",
       "   JobRole_Manager  JobRole_Manufacturing_Director  JobRole_Research_Director  \\\n",
       "0              0.0                             0.0                        0.0   \n",
       "1              0.0                             0.0                        0.0   \n",
       "2              0.0                             0.0                        0.0   \n",
       "\n",
       "   JobRole_Research_Scientist  JobRole_Sales_Executive  \\\n",
       "0                         0.0                      1.0   \n",
       "1                         1.0                      0.0   \n",
       "2                         0.0                      0.0   \n",
       "\n",
       "   JobRole_Sales_Representative  MaritalStatus_Married  MaritalStatus_Single  \\\n",
       "0                           0.0                    0.0                   1.0   \n",
       "1                           0.0                    1.0                   0.0   \n",
       "2                           0.0                    0.0                   1.0   \n",
       "\n",
       "   OverTime_Yes  Attrition_Yes  \n",
       "0           1.0            1.0  \n",
       "1           0.0            0.0  \n",
       "2           1.0            1.0  \n",
       "\n",
       "[3 rows x 44 columns]"
      ]
     },
     "execution_count": 42,
     "metadata": {},
     "output_type": "execute_result"
    }
   ],
   "source": [
    "final_df = pd.DataFrame(scaled_data, columns = df1.columns)\n",
    "final_df.head(3)"
   ]
  },
  {
   "cell_type": "markdown",
   "id": "804c619c",
   "metadata": {},
   "source": [
    "## 6. Determine the number of clusters using Elbow Method"
   ]
  },
  {
   "cell_type": "markdown",
   "id": "879920cc",
   "metadata": {},
   "source": [
    "### 6.1 Define function to compute withinness sum of squares (wss)"
   ]
  },
  {
   "cell_type": "code",
   "execution_count": 43,
   "id": "ef46efcc",
   "metadata": {},
   "outputs": [],
   "source": [
    "def calculate_wcss(data):\n",
    "    wcss = []\n",
    "    for n in range(1, 9):\n",
    "        km = KMeans(n_clusters=n, random_state=0) \n",
    "        km.fit(X=data)\n",
    "        wcss.append(km.inertia_)\n",
    "    \n",
    "    return wcss"
   ]
  },
  {
   "cell_type": "markdown",
   "id": "fc0b5f01",
   "metadata": {},
   "source": [
    "### 6.2 Call the function to compute WSS"
   ]
  },
  {
   "cell_type": "code",
   "execution_count": 44,
   "id": "ef21e762",
   "metadata": {},
   "outputs": [
    {
     "data": {
      "text/plain": [
       "[23044.579641723238,\n",
       " 19819.243169538524,\n",
       " 18524.921110476913,\n",
       " 17634.320950302717,\n",
       " 16795.067379786542,\n",
       " 16275.727761977885,\n",
       " 15932.400291809634,\n",
       " 15617.345663060616]"
      ]
     },
     "execution_count": 44,
     "metadata": {},
     "output_type": "execute_result"
    }
   ],
   "source": [
    "WCSS = calculate_wcss(final_df)\n",
    "WCSS"
   ]
  },
  {
   "cell_type": "markdown",
   "id": "209d9c42",
   "metadata": {},
   "source": [
    "### 6.3 Elbow Method (Screen Plot)"
   ]
  },
  {
   "cell_type": "code",
   "execution_count": 45,
   "id": "04cc0f34",
   "metadata": {},
   "outputs": [
    {
     "data": {
      "image/png": "[encoded data removed]",
      "text/plain": [
       "<Figure size 432x288 with 1 Axes>"
      ]
     },
     "metadata": {
      "needs_background": "light"
     },
     "output_type": "display_data"
    }
   ],
   "source": [
    "plt.plot(range(1,9), WCSS, '-bo') #range is defined according to the previous output, 8 values from WSS \n",
    "                                    #factors or principal components in the analysis\n",
    "plt.xlabel('Number of Cluster K')\n",
    "plt.ylabel('Sum of Square distances')\n",
    "plt.title('Elbow method to define optimal K')\n",
    "plt.show()"
   ]
  },
  {
   "cell_type": "markdown",
   "id": "61152c3c",
   "metadata": {},
   "source": [
    "We locate the 'elbow' where the decrease in the error for the consequent parameter settings is rather small or becoming more flat. It may be 3 or 4"
   ]
  },
  {
   "cell_type": "markdown",
   "id": "19483806",
   "metadata": {},
   "source": [
    "#### 6.3.1 Find the location of the 'Knee' (Elbow)"
   ]
  },
  {
   "cell_type": "code",
   "execution_count": 46,
   "id": "f2902636",
   "metadata": {},
   "outputs": [
    {
     "data": {
      "text/plain": [
       "3"
      ]
     },
     "execution_count": 46,
     "metadata": {},
     "output_type": "execute_result"
    }
   ],
   "source": [
    "knee = KneeLocator(range(1,9), WCSS, curve='convex', direction='decreasing')\n",
    "knee.elbow"
   ]
  },
  {
   "cell_type": "markdown",
   "id": "49305637",
   "metadata": {},
   "source": [
    "Based on the previous results, **the optimal number of clusters is 3**"
   ]
  },
  {
   "cell_type": "markdown",
   "id": "c9214a50",
   "metadata": {},
   "source": [
    "# 7. PCA (Principal Component Analysis)"
   ]
  },
  {
   "cell_type": "markdown",
   "id": "98877fa6",
   "metadata": {},
   "source": [
    "Because the PCA method requires that data be numeric and standardized, we may use a preprocessor pipeline to scale the data and perform PCA. Thereafter, we may use a second pipeline to combine different clustering algorithms and the former pipeline to predict and evaluate data."
   ]
  },
  {
   "cell_type": "markdown",
   "id": "a2016e05",
   "metadata": {},
   "source": [
    "## 7.1 Preprocessor Pipeline"
   ]
  },
  {
   "cell_type": "code",
   "execution_count": 47,
   "id": "509c5e5f",
   "metadata": {},
   "outputs": [],
   "source": [
    "preprocessor = Pipeline(\n",
    "    [(\"scaler\", RobustScaler()), \n",
    "     (\"pca\", PCA(n_components=2, random_state=42)),\n",
    "    ])"
   ]
  },
  {
   "cell_type": "markdown",
   "id": "f8b5059a",
   "metadata": {},
   "source": [
    "## 7.2 Clustering Algorithms Selection"
   ]
  },
  {
   "cell_type": "markdown",
   "id": "0bbeab54",
   "metadata": {},
   "source": [
    "- We create some empty placeholder lists to store the experiments' result."
   ]
  },
  {
   "cell_type": "code",
   "execution_count": 48,
   "id": "cd0e2223",
   "metadata": {},
   "outputs": [],
   "source": [
    "clust_alg = []\n",
    "names = []\n",
    "\n",
    "#Silhouette Score\n",
    "sh_score_list = []\n",
    "#Carlinszky Harabaz Score\n",
    "ch_score_list = []\n",
    "#Davies Bouldin Score\n",
    "db_score_list = []"
   ]
  },
  {
   "cell_type": "markdown",
   "id": "7f8abf9f",
   "metadata": {},
   "source": [
    "- Based on the results from bullet point 6.3.1, we set **n_clusters = 3 as a parameter of the clustering algorithms**"
   ]
  },
  {
   "cell_type": "markdown",
   "id": "21004399",
   "metadata": {},
   "source": [
    "### 7.2.1 Agglomerative Clustering"
   ]
  },
  {
   "cell_type": "code",
   "execution_count": 49,
   "id": "5b925897",
   "metadata": {},
   "outputs": [],
   "source": [
    "agglo = AgglomerativeClustering(n_clusters=3, affinity='euclidean', linkage='ward')\n",
    "clust_alg.append(agglo)\n",
    "names.append(agglo.__class__.__name__)"
   ]
  },
  {
   "cell_type": "markdown",
   "id": "d0d95851",
   "metadata": {},
   "source": [
    "### 7.2.2 K-means"
   ]
  },
  {
   "cell_type": "code",
   "execution_count": 50,
   "id": "96a3d485",
   "metadata": {},
   "outputs": [],
   "source": [
    "kmeans = KMeans(n_clusters=3, init=\"k-means++\", max_iter=500, random_state=42)\n",
    "clust_alg.append(kmeans)\n",
    "names.append(kmeans.__class__.__name__)"
   ]
  },
  {
   "cell_type": "markdown",
   "id": "cdb0420a",
   "metadata": {},
   "source": [
    "### 7.2.3 Birch"
   ]
  },
  {
   "cell_type": "code",
   "execution_count": 51,
   "id": "dda75857",
   "metadata": {},
   "outputs": [],
   "source": [
    "birch = Birch(n_clusters=3)\n",
    "clust_alg.append(birch)\n",
    "names.append(birch.__class__.__name__)"
   ]
  },
  {
   "cell_type": "markdown",
   "id": "f3fe2d6b",
   "metadata": {},
   "source": [
    "### 7.2.4 Spectral Clustering"
   ]
  },
  {
   "cell_type": "code",
   "execution_count": 52,
   "id": "bbf6c57a",
   "metadata": {},
   "outputs": [],
   "source": [
    "spectral = SpectralClustering(n_clusters=3, n_init=100, assign_labels=\"kmeans\") \n",
    "                                                        #assign_labels can be: kmeans(default), discretize or cluster_qr \n",
    "#k-means is a popular choice, but it can be sensitive to initialization\n",
    "#discretization is another approach which is less sensitive to random initialization \n",
    "#The cluster_qr method directly extract clusters from eigenvectors in spectral clustering\n",
    "\n",
    "clust_alg.append(spectral)\n",
    "names.append(spectral.__class__.__name__)"
   ]
  },
  {
   "cell_type": "markdown",
   "id": "60b9fc25",
   "metadata": {},
   "source": [
    "## 7.3 Combine and implement a pipeline by using the preprocessor pipeline and the clustering algorithms from section 7.2 \n",
    "### Then, evaluate the clustering performance (Silhouette score, Carlinszky Harabaz score, and Davies Bouldin score)"
   ]
  },
  {
   "cell_type": "markdown",
   "id": "b753eb06",
   "metadata": {},
   "source": [
    "We may set a Loop to implement the combined pipeline (Preprocessor & Clusterer)"
   ]
  },
  {
   "cell_type": "code",
   "execution_count": 53,
   "id": "d69d6b98",
   "metadata": {},
   "outputs": [],
   "source": [
    "for ca in clust_alg: #where ca is each cluster algorithm, and clust_alg the list where we store each algorithm\n",
    "    pipe = Pipeline (\n",
    "    [(\"preprocessor\", preprocessor), ('clusterer', ca)]\n",
    "                    )\n",
    "    cluster = pipe.fit_predict(final_df) #fit and predict\n",
    "    sh_score = silhouette_score(final_df, cluster, metric='euclidean');\n",
    "    ch_score = calinski_harabasz_score(final_df, cluster)\n",
    "    db_score = davies_bouldin_score(final_df, cluster)\n",
    "    \n",
    "    sh_score_list.append(sh_score)\n",
    "    ch_score_list.append(ch_score)\n",
    "    db_score_list.append(db_score)"
   ]
  },
  {
   "cell_type": "markdown",
   "id": "16e89975",
   "metadata": {},
   "source": [
    "### 7.3.1 Create a dataframe to combine the result. "
   ]
  },
  {
   "cell_type": "code",
   "execution_count": 54,
   "id": "16bb3ce8",
   "metadata": {},
   "outputs": [],
   "source": [
    "results_df = pd.DataFrame(zip(names, sh_score_list, ch_score_list, db_score_list), columns=['Clustering', 'Silhouette'\n",
    "                                                                                            ,'Carlinsky Har.', 'Davies B.'])\n"
   ]
  },
  {
   "cell_type": "code",
   "execution_count": 55,
   "id": "a6bfab32",
   "metadata": {},
   "outputs": [
    {
     "data": {
      "text/html": [
       "<div>\n",
       "<style scoped>\n",
       "    .dataframe tbody tr th:only-of-type {\n",
       "        vertical-align: middle;\n",
       "    }\n",
       "\n",
       "    .dataframe tbody tr th {\n",
       "        vertical-align: top;\n",
       "    }\n",
       "\n",
       "    .dataframe thead th {\n",
       "        text-align: right;\n",
       "    }\n",
       "</style>\n",
       "<table border=\"1\" class=\"dataframe\">\n",
       "  <thead>\n",
       "    <tr style=\"text-align: right;\">\n",
       "      <th></th>\n",
       "      <th>Clustering</th>\n",
       "      <th>Silhouette</th>\n",
       "      <th>Carlinsky Har.</th>\n",
       "      <th>Davies B.</th>\n",
       "    </tr>\n",
       "  </thead>\n",
       "  <tbody>\n",
       "    <tr>\n",
       "      <th>0</th>\n",
       "      <td>AgglomerativeClustering</td>\n",
       "      <td>0.117742</td>\n",
       "      <td>167.409484</td>\n",
       "      <td>2.324057</td>\n",
       "    </tr>\n",
       "    <tr>\n",
       "      <th>1</th>\n",
       "      <td>KMeans</td>\n",
       "      <td>0.107596</td>\n",
       "      <td>178.827019</td>\n",
       "      <td>2.388895</td>\n",
       "    </tr>\n",
       "    <tr>\n",
       "      <th>2</th>\n",
       "      <td>Birch</td>\n",
       "      <td>0.112100</td>\n",
       "      <td>150.380947</td>\n",
       "      <td>2.085305</td>\n",
       "    </tr>\n",
       "    <tr>\n",
       "      <th>3</th>\n",
       "      <td>SpectralClustering</td>\n",
       "      <td>0.120038</td>\n",
       "      <td>138.023529</td>\n",
       "      <td>2.062317</td>\n",
       "    </tr>\n",
       "  </tbody>\n",
       "</table>\n",
       "</div>"
      ],
      "text/plain": [
       "                Clustering  Silhouette  Carlinsky Har.  Davies B.\n",
       "0  AgglomerativeClustering    0.117742      167.409484   2.324057\n",
       "1                   KMeans    0.107596      178.827019   2.388895\n",
       "2                    Birch    0.112100      150.380947   2.085305\n",
       "3       SpectralClustering    0.120038      138.023529   2.062317"
      ]
     },
     "execution_count": 55,
     "metadata": {},
     "output_type": "execute_result"
    }
   ],
   "source": [
    "results_df"
   ]
  },
  {
   "cell_type": "markdown",
   "id": "01a80d64",
   "metadata": {},
   "source": [
    "Higher values of the Silhouette Coefficient and the Calinski-Harabasz Index, and lower values of the Davies-Bouldin Index indicate the effectiveness of the ensemble clustering technique for the given dataset. **Therefore, we may use SpectralClustering method**"
   ]
  },
  {
   "cell_type": "markdown",
   "id": "3491651c",
   "metadata": {},
   "source": [
    "## 7.4 Best pipe selection"
   ]
  },
  {
   "cell_type": "markdown",
   "id": "7da939a3",
   "metadata": {},
   "source": [
    "According to the previous results, we select Spectral Clustering method regarding PCA (to 2 components) with RobustScaler to standardize the original data frame."
   ]
  },
  {
   "cell_type": "markdown",
   "id": "c802bd23",
   "metadata": {},
   "source": [
    "Because of PCA needs to work on normalized data, we may use scaled data frame from section 5, bullet point 5.4.\n",
    "\n",
    "**Check whether the normalized data has a mean of zero and a standard deviation of one.**"
   ]
  },
  {
   "cell_type": "code",
   "execution_count": 56,
   "id": "3848c9d1",
   "metadata": {},
   "outputs": [
    {
     "data": {
      "text/plain": [
       "(0.08395980625707292, 0.6328908887980955)"
      ]
     },
     "execution_count": 56,
     "metadata": {},
     "output_type": "execute_result"
    }
   ],
   "source": [
    "np.mean(scaled_data),np.std(scaled_data)"
   ]
  },
  {
   "cell_type": "markdown",
   "id": "a1eba9e3",
   "metadata": {},
   "source": [
    "### 7.4.1 Identify clusters based on the selected algorithm: SpectralClustering"
   ]
  },
  {
   "cell_type": "code",
   "execution_count": 57,
   "id": "6aeb9821",
   "metadata": {},
   "outputs": [
    {
     "name": "stdout",
     "output_type": "stream",
     "text": [
      "[2 2 2 ... 2 2 2]\n"
     ]
    }
   ],
   "source": [
    "sc = SpectralClustering(n_clusters=3, n_init=100, assign_labels=\"kmeans\")\n",
    "cluster_sc = sc.fit_predict(final_df)\n",
    "print(cluster_sc)"
   ]
  },
  {
   "cell_type": "markdown",
   "id": "d5784079",
   "metadata": {},
   "source": [
    "### 7.4.2 Cluster centers"
   ]
  },
  {
   "cell_type": "markdown",
   "id": "354348ae",
   "metadata": {},
   "source": [
    "#### 7.4.2.1 Create a new data frame"
   ]
  },
  {
   "cell_type": "code",
   "execution_count": 58,
   "id": "5d42586a",
   "metadata": {},
   "outputs": [],
   "source": [
    "final_df_sc = final_df.copy()"
   ]
  },
  {
   "cell_type": "markdown",
   "id": "26db7c49",
   "metadata": {},
   "source": [
    "#### 7.4.2.2 Append cluster numbers/labels to dataset "
   ]
  },
  {
   "cell_type": "code",
   "execution_count": 59,
   "id": "49ba11a0",
   "metadata": {},
   "outputs": [],
   "source": [
    "final_df_sc[\"Cluster\"] = cluster_sc #from bullet point 7.4.1"
   ]
  },
  {
   "cell_type": "markdown",
   "id": "76c74870",
   "metadata": {},
   "source": [
    "#### 7.4.2.3 Group by cluster to display centroids "
   ]
  },
  {
   "cell_type": "code",
   "execution_count": 60,
   "id": "33de6b7a",
   "metadata": {},
   "outputs": [
    {
     "data": {
      "text/html": [
       "<div>\n",
       "<style scoped>\n",
       "    .dataframe tbody tr th:only-of-type {\n",
       "        vertical-align: middle;\n",
       "    }\n",
       "\n",
       "    .dataframe tbody tr th {\n",
       "        vertical-align: top;\n",
       "    }\n",
       "\n",
       "    .dataframe thead th {\n",
       "        text-align: right;\n",
       "    }\n",
       "</style>\n",
       "<table border=\"1\" class=\"dataframe\">\n",
       "  <thead>\n",
       "    <tr style=\"text-align: right;\">\n",
       "      <th></th>\n",
       "      <th>Age</th>\n",
       "      <th>DailyRate</th>\n",
       "      <th>DistanceFromHome</th>\n",
       "      <th>Education</th>\n",
       "      <th>EnvironmentSatisfaction</th>\n",
       "      <th>HourlyRate</th>\n",
       "      <th>JobInvolvement</th>\n",
       "      <th>JobLevel</th>\n",
       "      <th>JobSatisfaction</th>\n",
       "      <th>MonthlyIncome</th>\n",
       "      <th>...</th>\n",
       "      <th>JobRole_Manager</th>\n",
       "      <th>JobRole_Manufacturing_Director</th>\n",
       "      <th>JobRole_Research_Director</th>\n",
       "      <th>JobRole_Research_Scientist</th>\n",
       "      <th>JobRole_Sales_Executive</th>\n",
       "      <th>JobRole_Sales_Representative</th>\n",
       "      <th>MaritalStatus_Married</th>\n",
       "      <th>MaritalStatus_Single</th>\n",
       "      <th>OverTime_Yes</th>\n",
       "      <th>Attrition_Yes</th>\n",
       "    </tr>\n",
       "    <tr>\n",
       "      <th>Cluster</th>\n",
       "      <th></th>\n",
       "      <th></th>\n",
       "      <th></th>\n",
       "      <th></th>\n",
       "      <th></th>\n",
       "      <th></th>\n",
       "      <th></th>\n",
       "      <th></th>\n",
       "      <th></th>\n",
       "      <th></th>\n",
       "      <th></th>\n",
       "      <th></th>\n",
       "      <th></th>\n",
       "      <th></th>\n",
       "      <th></th>\n",
       "      <th></th>\n",
       "      <th></th>\n",
       "      <th></th>\n",
       "      <th></th>\n",
       "      <th></th>\n",
       "      <th></th>\n",
       "    </tr>\n",
       "  </thead>\n",
       "  <tbody>\n",
       "    <tr>\n",
       "      <th>0</th>\n",
       "      <td>0.965</td>\n",
       "      <td>-0.039</td>\n",
       "      <td>0.08</td>\n",
       "      <td>0.035</td>\n",
       "      <td>-0.088</td>\n",
       "      <td>-0.031</td>\n",
       "      <td>-0.268</td>\n",
       "      <td>1.137</td>\n",
       "      <td>-0.144</td>\n",
       "      <td>2.128</td>\n",
       "      <td>...</td>\n",
       "      <td>0.500</td>\n",
       "      <td>0.070</td>\n",
       "      <td>0.310</td>\n",
       "      <td>0.000</td>\n",
       "      <td>0.028</td>\n",
       "      <td>0.000</td>\n",
       "      <td>0.542</td>\n",
       "      <td>0.232</td>\n",
       "      <td>0.282</td>\n",
       "      <td>0.049</td>\n",
       "    </tr>\n",
       "    <tr>\n",
       "      <th>1</th>\n",
       "      <td>0.837</td>\n",
       "      <td>0.030</td>\n",
       "      <td>-0.15</td>\n",
       "      <td>0.040</td>\n",
       "      <td>-0.220</td>\n",
       "      <td>-0.183</td>\n",
       "      <td>-0.320</td>\n",
       "      <td>1.200</td>\n",
       "      <td>-0.180</td>\n",
       "      <td>2.169</td>\n",
       "      <td>...</td>\n",
       "      <td>0.680</td>\n",
       "      <td>0.040</td>\n",
       "      <td>0.160</td>\n",
       "      <td>0.000</td>\n",
       "      <td>0.080</td>\n",
       "      <td>0.000</td>\n",
       "      <td>0.520</td>\n",
       "      <td>0.200</td>\n",
       "      <td>0.320</td>\n",
       "      <td>0.120</td>\n",
       "    </tr>\n",
       "    <tr>\n",
       "      <th>2</th>\n",
       "      <td>-0.041</td>\n",
       "      <td>0.004</td>\n",
       "      <td>0.20</td>\n",
       "      <td>-0.054</td>\n",
       "      <td>-0.143</td>\n",
       "      <td>0.003</td>\n",
       "      <td>-0.269</td>\n",
       "      <td>-0.111</td>\n",
       "      <td>-0.134</td>\n",
       "      <td>0.053</td>\n",
       "      <td>...</td>\n",
       "      <td>0.011</td>\n",
       "      <td>0.103</td>\n",
       "      <td>0.025</td>\n",
       "      <td>0.224</td>\n",
       "      <td>0.246</td>\n",
       "      <td>0.064</td>\n",
       "      <td>0.447</td>\n",
       "      <td>0.332</td>\n",
       "      <td>0.282</td>\n",
       "      <td>0.174</td>\n",
       "    </tr>\n",
       "  </tbody>\n",
       "</table>\n",
       "<p>3 rows × 44 columns</p>\n",
       "</div>"
      ],
      "text/plain": [
       "           Age  DailyRate  DistanceFromHome  Education  \\\n",
       "Cluster                                                  \n",
       "0        0.965     -0.039              0.08      0.035   \n",
       "1        0.837      0.030             -0.15      0.040   \n",
       "2       -0.041      0.004              0.20     -0.054   \n",
       "\n",
       "         EnvironmentSatisfaction  HourlyRate  JobInvolvement  JobLevel  \\\n",
       "Cluster                                                                  \n",
       "0                         -0.088      -0.031          -0.268     1.137   \n",
       "1                         -0.220      -0.183          -0.320     1.200   \n",
       "2                         -0.143       0.003          -0.269    -0.111   \n",
       "\n",
       "         JobSatisfaction  MonthlyIncome  ...  JobRole_Manager  \\\n",
       "Cluster                                  ...                    \n",
       "0                 -0.144          2.128  ...            0.500   \n",
       "1                 -0.180          2.169  ...            0.680   \n",
       "2                 -0.134          0.053  ...            0.011   \n",
       "\n",
       "         JobRole_Manufacturing_Director  JobRole_Research_Director  \\\n",
       "Cluster                                                              \n",
       "0                                 0.070                      0.310   \n",
       "1                                 0.040                      0.160   \n",
       "2                                 0.103                      0.025   \n",
       "\n",
       "         JobRole_Research_Scientist  JobRole_Sales_Executive  \\\n",
       "Cluster                                                        \n",
       "0                             0.000                    0.028   \n",
       "1                             0.000                    0.080   \n",
       "2                             0.224                    0.246   \n",
       "\n",
       "         JobRole_Sales_Representative  MaritalStatus_Married  \\\n",
       "Cluster                                                        \n",
       "0                               0.000                  0.542   \n",
       "1                               0.000                  0.520   \n",
       "2                               0.064                  0.447   \n",
       "\n",
       "         MaritalStatus_Single  OverTime_Yes  Attrition_Yes  \n",
       "Cluster                                                     \n",
       "0                       0.232         0.282          0.049  \n",
       "1                       0.200         0.320          0.120  \n",
       "2                       0.332         0.282          0.174  \n",
       "\n",
       "[3 rows x 44 columns]"
      ]
     },
     "execution_count": 60,
     "metadata": {},
     "output_type": "execute_result"
    }
   ],
   "source": [
    "df_sc = pd.DataFrame(final_df_sc.groupby(\"Cluster\").mean().round(3))\n",
    "df_sc"
   ]
  },
  {
   "cell_type": "markdown",
   "id": "33a8d555",
   "metadata": {},
   "source": [
    "## 7.5 Create a new data frame including:"
   ]
  },
  {
   "cell_type": "markdown",
   "id": "2c45fed2",
   "metadata": {},
   "source": [
    "- **Result of PCA**\n",
    "- **Scaler**\n",
    "- **Best clustering result**\n",
    "\n",
    "       First two can be obtained from preprocessor pipe, the latter from section 7.4"
   ]
  },
  {
   "cell_type": "code",
   "execution_count": 61,
   "id": "c933b2ba",
   "metadata": {},
   "outputs": [
    {
     "name": "stdout",
     "output_type": "stream",
     "text": [
      "      component_1  component_2  predicted_cluster\n",
      "0       -0.452952    -3.012586                  2\n",
      "1        0.368476     0.254343                  2\n",
      "2       -2.119009     0.002378                  2\n",
      "3       -0.464056     0.249311                  2\n",
      "4       -1.397265     0.086000                  2\n",
      "...           ...          ...                ...\n",
      "1465    -0.738157     0.098300                  2\n",
      "1466     0.397947     2.182890                  2\n",
      "1467    -0.946216    -2.789909                  2\n",
      "1468     0.589048     0.227751                  2\n",
      "1469    -1.082170     0.249594                  2\n",
      "\n",
      "[1470 rows x 3 columns]\n"
     ]
    }
   ],
   "source": [
    "pca_df = pd.DataFrame(\n",
    "    pipe[\"preprocessor\"].fit_transform(final_df),\n",
    "    columns = [\"component_1\",\"component_2\"], \n",
    ")\n",
    "\n",
    "pca_df[\"predicted_cluster\"] = sc.labels_ #sc from bullet point 7.4.1\n",
    "print(pca_df)"
   ]
  },
  {
   "cell_type": "markdown",
   "id": "7f1d1362",
   "metadata": {},
   "source": [
    "## 7.6 Plot the result of the Clustering Algorithm"
   ]
  },
  {
   "cell_type": "code",
   "execution_count": 62,
   "id": "2ed71535",
   "metadata": {},
   "outputs": [
    {
     "data": {
      "image/png": "[encoded data removed]",
      "text/plain": [
       "<Figure size 432x432 with 1 Axes>"
      ]
     },
     "metadata": {
      "needs_background": "light"
     },
     "output_type": "display_data"
    }
   ],
   "source": [
    "plt.style.use(\"seaborn-paper\")\n",
    "plt.figure(figsize=(6, 6))\n",
    "\n",
    "scat = sns.scatterplot(        \n",
    "    data=pca_df, \n",
    "    x=\"component_1\", \n",
    "    y=\"component_2\",\n",
    "    hue=\"predicted_cluster\",\n",
    "    s=50, #size\n",
    "    palette=\"tab10\",\n",
    ")\n",
    "   \n",
    "scat.set_title(\"Clustering Results\", fontsize = 22)\n",
    "scat.set_xlabel(\"Component 1\", fontsize = 15)\n",
    "scat.set_ylabel(\"Component 2\", fontsize = 15)\n",
    "\n",
    "plt.legend(bbox_to_anchor=(1.05, 1), loc=2, borderaxespad=0.0)\n",
    "\n",
    "plt.show()"
   ]
  }
 ],
 "metadata": {
  "kernelspec": {
   "display_name": "Python 3 (ipykernel)",
   "language": "python",
   "name": "python3"
  },
  "language_info": {
   "codemirror_mode": {
    "name": "ipython",
    "version": 3
   },
   "file_extension": ".py",
   "mimetype": "text/x-python",
   "name": "python",
   "nbconvert_exporter": "python",
   "pygments_lexer": "ipython3",
   "version": "3.9.12"
  }
 },
 "nbformat": 4,
 "nbformat_minor": 5
}
