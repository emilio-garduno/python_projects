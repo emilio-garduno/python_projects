{
 "cells": [
  {
   "cell_type": "markdown",
   "id": "1458a6d9",
   "metadata": {},
   "source": [
    "# Luis Emilio Garduno Garcia\n",
    "# Student ID: 300352335\n",
    "# Lab 05. \n",
    "## Part B: ANN Classifier"
   ]
  },
  {
   "cell_type": "markdown",
   "id": "e148d100",
   "metadata": {},
   "source": [
    "**References:**\n",
    "- "
   ]
  },
  {
   "cell_type": "markdown",
   "id": "aff97689",
   "metadata": {},
   "source": [
    "## 1. Library import and data loading"
   ]
  },
  {
   "cell_type": "code",
   "execution_count": 31,
   "id": "ac132eb0",
   "metadata": {},
   "outputs": [],
   "source": [
    "import pandas as pd \n",
    "import numpy as np \n",
    "import seaborn as sns\n",
    "import matplotlib.pyplot as plt \n",
    "\n",
    "%matplotlib inline\n",
    "\n",
    "from sklearn.model_selection import train_test_split\n",
    "from sklearn.pipeline import Pipeline\n",
    "from sklearn.preprocessing import MinMaxScaler, StandardScaler, RobustScaler \n",
    "from sklearn.neural_network import MLPRegressor\n",
    "from sklearn.metrics import accuracy_score\n",
    "\n",
    "\n",
    "from sklearn.model_selection import GridSearchCV\n",
    "from sklearn.metrics import mean_squared_error"
   ]
  },
  {
   "cell_type": "markdown",
   "id": "5df67aca",
   "metadata": {},
   "source": [
    "## 2. Get the data"
   ]
  },
  {
   "cell_type": "markdown",
   "id": "7152553e",
   "metadata": {},
   "source": [
    "**We may use 'Lab05A_prepared' file from the Lab 5. Part A (section 5.3.1), because it contains a pre-processed data frame including the dummies, useful for further analysis.**  \n",
    "\n",
    "Glimpse of the dataset using head() function displaying only 3 rows"
   ]
  },
  {
   "cell_type": "code",
   "execution_count": 12,
   "id": "153c26e8",
   "metadata": {},
   "outputs": [
    {
     "data": {
      "text/html": [
       "<div>\n",
       "<style scoped>\n",
       "    .dataframe tbody tr th:only-of-type {\n",
       "        vertical-align: middle;\n",
       "    }\n",
       "\n",
       "    .dataframe tbody tr th {\n",
       "        vertical-align: top;\n",
       "    }\n",
       "\n",
       "    .dataframe thead th {\n",
       "        text-align: right;\n",
       "    }\n",
       "</style>\n",
       "<table border=\"1\" class=\"dataframe\">\n",
       "  <thead>\n",
       "    <tr style=\"text-align: right;\">\n",
       "      <th></th>\n",
       "      <th>Age</th>\n",
       "      <th>DailyRate</th>\n",
       "      <th>DistanceFromHome</th>\n",
       "      <th>Education</th>\n",
       "      <th>EnvironmentSatisfaction</th>\n",
       "      <th>HourlyRate</th>\n",
       "      <th>JobInvolvement</th>\n",
       "      <th>JobLevel</th>\n",
       "      <th>JobSatisfaction</th>\n",
       "      <th>MonthlyIncome</th>\n",
       "      <th>...</th>\n",
       "      <th>JobRole_Manager</th>\n",
       "      <th>JobRole_Manufacturing_Director</th>\n",
       "      <th>JobRole_Research_Director</th>\n",
       "      <th>JobRole_Research_Scientist</th>\n",
       "      <th>JobRole_Sales_Executive</th>\n",
       "      <th>JobRole_Sales_Representative</th>\n",
       "      <th>MaritalStatus_Married</th>\n",
       "      <th>MaritalStatus_Single</th>\n",
       "      <th>OverTime_Yes</th>\n",
       "      <th>Attrition_Yes</th>\n",
       "    </tr>\n",
       "  </thead>\n",
       "  <tbody>\n",
       "    <tr>\n",
       "      <th>0</th>\n",
       "      <td>41</td>\n",
       "      <td>1102</td>\n",
       "      <td>1</td>\n",
       "      <td>2</td>\n",
       "      <td>2</td>\n",
       "      <td>94</td>\n",
       "      <td>3</td>\n",
       "      <td>2</td>\n",
       "      <td>4</td>\n",
       "      <td>5993</td>\n",
       "      <td>...</td>\n",
       "      <td>0</td>\n",
       "      <td>0</td>\n",
       "      <td>0</td>\n",
       "      <td>0</td>\n",
       "      <td>1</td>\n",
       "      <td>0</td>\n",
       "      <td>0</td>\n",
       "      <td>1</td>\n",
       "      <td>1</td>\n",
       "      <td>1</td>\n",
       "    </tr>\n",
       "    <tr>\n",
       "      <th>1</th>\n",
       "      <td>49</td>\n",
       "      <td>279</td>\n",
       "      <td>8</td>\n",
       "      <td>1</td>\n",
       "      <td>3</td>\n",
       "      <td>61</td>\n",
       "      <td>2</td>\n",
       "      <td>2</td>\n",
       "      <td>2</td>\n",
       "      <td>5130</td>\n",
       "      <td>...</td>\n",
       "      <td>0</td>\n",
       "      <td>0</td>\n",
       "      <td>0</td>\n",
       "      <td>1</td>\n",
       "      <td>0</td>\n",
       "      <td>0</td>\n",
       "      <td>1</td>\n",
       "      <td>0</td>\n",
       "      <td>0</td>\n",
       "      <td>0</td>\n",
       "    </tr>\n",
       "    <tr>\n",
       "      <th>2</th>\n",
       "      <td>37</td>\n",
       "      <td>1373</td>\n",
       "      <td>2</td>\n",
       "      <td>2</td>\n",
       "      <td>4</td>\n",
       "      <td>92</td>\n",
       "      <td>2</td>\n",
       "      <td>1</td>\n",
       "      <td>3</td>\n",
       "      <td>2090</td>\n",
       "      <td>...</td>\n",
       "      <td>0</td>\n",
       "      <td>0</td>\n",
       "      <td>0</td>\n",
       "      <td>0</td>\n",
       "      <td>0</td>\n",
       "      <td>0</td>\n",
       "      <td>0</td>\n",
       "      <td>1</td>\n",
       "      <td>1</td>\n",
       "      <td>1</td>\n",
       "    </tr>\n",
       "  </tbody>\n",
       "</table>\n",
       "<p>3 rows × 44 columns</p>\n",
       "</div>"
      ],
      "text/plain": [
       "   Age  DailyRate  DistanceFromHome  Education  EnvironmentSatisfaction  \\\n",
       "0   41       1102                 1          2                        2   \n",
       "1   49        279                 8          1                        3   \n",
       "2   37       1373                 2          2                        4   \n",
       "\n",
       "   HourlyRate  JobInvolvement  JobLevel  JobSatisfaction  MonthlyIncome  ...  \\\n",
       "0          94               3         2                4           5993  ...   \n",
       "1          61               2         2                2           5130  ...   \n",
       "2          92               2         1                3           2090  ...   \n",
       "\n",
       "   JobRole_Manager  JobRole_Manufacturing_Director  JobRole_Research_Director  \\\n",
       "0                0                               0                          0   \n",
       "1                0                               0                          0   \n",
       "2                0                               0                          0   \n",
       "\n",
       "   JobRole_Research_Scientist  JobRole_Sales_Executive  \\\n",
       "0                           0                        1   \n",
       "1                           1                        0   \n",
       "2                           0                        0   \n",
       "\n",
       "   JobRole_Sales_Representative  MaritalStatus_Married  MaritalStatus_Single  \\\n",
       "0                             0                      0                     1   \n",
       "1                             0                      1                     0   \n",
       "2                             0                      0                     1   \n",
       "\n",
       "   OverTime_Yes  Attrition_Yes  \n",
       "0             1              1  \n",
       "1             0              0  \n",
       "2             1              1  \n",
       "\n",
       "[3 rows x 44 columns]"
      ]
     },
     "execution_count": 12,
     "metadata": {},
     "output_type": "execute_result"
    }
   ],
   "source": [
    "df = pd.read_csv('Lab05A_prepared.csv')\n",
    "df.head(3)"
   ]
  },
  {
   "cell_type": "code",
   "execution_count": 13,
   "id": "498d9141",
   "metadata": {},
   "outputs": [
    {
     "name": "stdout",
     "output_type": "stream",
     "text": [
      "<class 'pandas.core.frame.DataFrame'>\n",
      "RangeIndex: 1470 entries, 0 to 1469\n",
      "Data columns (total 44 columns):\n",
      " #   Column                             Non-Null Count  Dtype\n",
      "---  ------                             --------------  -----\n",
      " 0   Age                                1470 non-null   int64\n",
      " 1   DailyRate                          1470 non-null   int64\n",
      " 2   DistanceFromHome                   1470 non-null   int64\n",
      " 3   Education                          1470 non-null   int64\n",
      " 4   EnvironmentSatisfaction            1470 non-null   int64\n",
      " 5   HourlyRate                         1470 non-null   int64\n",
      " 6   JobInvolvement                     1470 non-null   int64\n",
      " 7   JobLevel                           1470 non-null   int64\n",
      " 8   JobSatisfaction                    1470 non-null   int64\n",
      " 9   MonthlyIncome                      1470 non-null   int64\n",
      " 10  NumCompaniesWorked                 1470 non-null   int64\n",
      " 11  PercentSalaryHike                  1470 non-null   int64\n",
      " 12  PerformanceRating                  1470 non-null   int64\n",
      " 13  RelationshipSatisfaction           1470 non-null   int64\n",
      " 14  StockOptionLevel                   1470 non-null   int64\n",
      " 15  TotalWorkingYears                  1470 non-null   int64\n",
      " 16  TrainingTimesLastYear              1470 non-null   int64\n",
      " 17  WorkLifeBalance                    1470 non-null   int64\n",
      " 18  YearsAtCompany                     1470 non-null   int64\n",
      " 19  YearsInCurrentRole                 1470 non-null   int64\n",
      " 20  YearsSinceLastPromotion            1470 non-null   int64\n",
      " 21  YearsWithCurrManager               1470 non-null   int64\n",
      " 22  BusinessTravel_Travel_Frequently   1470 non-null   int64\n",
      " 23  BusinessTravel_Travel_Rarely       1470 non-null   int64\n",
      " 24  Department_Research_&_Development  1470 non-null   int64\n",
      " 25  Department_Sales                   1470 non-null   int64\n",
      " 26  EducationField_Life_Sciences       1470 non-null   int64\n",
      " 27  EducationField_Marketing           1470 non-null   int64\n",
      " 28  EducationField_Medical             1470 non-null   int64\n",
      " 29  EducationField_Other               1470 non-null   int64\n",
      " 30  EducationField_Technical_Degree    1470 non-null   int64\n",
      " 31  Gender_Male                        1470 non-null   int64\n",
      " 32  JobRole_Human_Resources            1470 non-null   int64\n",
      " 33  JobRole_Laboratory_Technician      1470 non-null   int64\n",
      " 34  JobRole_Manager                    1470 non-null   int64\n",
      " 35  JobRole_Manufacturing_Director     1470 non-null   int64\n",
      " 36  JobRole_Research_Director          1470 non-null   int64\n",
      " 37  JobRole_Research_Scientist         1470 non-null   int64\n",
      " 38  JobRole_Sales_Executive            1470 non-null   int64\n",
      " 39  JobRole_Sales_Representative       1470 non-null   int64\n",
      " 40  MaritalStatus_Married              1470 non-null   int64\n",
      " 41  MaritalStatus_Single               1470 non-null   int64\n",
      " 42  OverTime_Yes                       1470 non-null   int64\n",
      " 43  Attrition_Yes                      1470 non-null   int64\n",
      "dtypes: int64(44)\n",
      "memory usage: 505.4 KB\n"
     ]
    }
   ],
   "source": [
    "df.info() #to confirm the proper dataframe"
   ]
  },
  {
   "cell_type": "markdown",
   "id": "6459b1cc",
   "metadata": {},
   "source": [
    "## 3. Split the data"
   ]
  },
  {
   "cell_type": "markdown",
   "id": "5b6a45e7",
   "metadata": {},
   "source": [
    "**Before start Machine Learning algorithms, we assign the Attrition_Yes field to a new variable called 'target'.**\n",
    "\n",
    "**Moreover, we create another variable called 'features', excluding the Attrition_Yes field.**"
   ]
  },
  {
   "cell_type": "code",
   "execution_count": 14,
   "id": "1f5136dc",
   "metadata": {},
   "outputs": [],
   "source": [
    "target = df['Attrition_Yes'] #Dependent variable Y\n",
    "features = df.drop(['Attrition_Yes'], axis = 1) #Independent variables X"
   ]
  },
  {
   "cell_type": "code",
   "execution_count": 15,
   "id": "e2ced191",
   "metadata": {},
   "outputs": [],
   "source": [
    "X_train, X_test, y_train, y_test = train_test_split(features, target, test_size=0.25, random_state=42)"
   ]
  },
  {
   "cell_type": "markdown",
   "id": "66d8bb2e",
   "metadata": {},
   "source": [
    "## 4. Implement a Pipeline by using a scaler method and MLP classifier"
   ]
  },
  {
   "cell_type": "markdown",
   "id": "5cc096a7",
   "metadata": {},
   "source": [
    "**We create some empty placeholder lists to store the experiments' result.**"
   ]
  },
  {
   "cell_type": "code",
   "execution_count": 18,
   "id": "156a23f5",
   "metadata": {},
   "outputs": [],
   "source": [
    "ann_classifiers = []\n",
    "score = []\n",
    "names = []"
   ]
  },
  {
   "cell_type": "code",
   "execution_count": 19,
   "id": "8971627f",
   "metadata": {},
   "outputs": [],
   "source": [
    "### 4.1 Scaler Method"
   ]
  },
  {
   "cell_type": "code",
   "execution_count": 20,
   "id": "c17920f3",
   "metadata": {},
   "outputs": [],
   "source": [
    "# scaler = StandardScaler()\n",
    "# scaled_features = scaler.fit_transform(features)"
   ]
  },
  {
   "cell_type": "markdown",
   "id": "06a68a51",
   "metadata": {},
   "source": [
    "### 4.2 Layer"
   ]
  },
  {
   "cell_type": "code",
   "execution_count": null,
   "id": "b3c9ae2e",
   "metadata": {},
   "outputs": [],
   "source": [
    "mlp = MLPRegressor() \n",
    "# ann_classifiers.append(ann1)"
   ]
  },
  {
   "cell_type": "code",
   "execution_count": null,
   "id": "13fb8649",
   "metadata": {},
   "outputs": [],
   "source": []
  },
  {
   "cell_type": "code",
   "execution_count": null,
   "id": "f144d93b",
   "metadata": {},
   "outputs": [],
   "source": [
    "for i in range(len(clf.coefs_)):\n",
    "    number_neurons_in_layer = clf.coefs_[i].shape[1]\n",
    "    for j in range(number_neurons_in_layer):\n",
    "        weights = clf.coefs_[i][:,j]\n",
    "        print(i, j, weights, end=\", \")\n",
    "        print()\n",
    "    print()"
   ]
  },
  {
   "cell_type": "markdown",
   "id": "e9d90f0b",
   "metadata": {},
   "source": [
    "### 4.3 Pipeline"
   ]
  },
  {
   "cell_type": "code",
   "execution_count": 36,
   "id": "3eed8431",
   "metadata": {},
   "outputs": [
    {
     "ename": "TypeError",
     "evalue": "'<=' not supported between instances of 'str' and 'float'",
     "output_type": "error",
     "traceback": [
      "\u001b[1;31m---------------------------------------------------------------------------\u001b[0m",
      "\u001b[1;31mTypeError\u001b[0m                                 Traceback (most recent call last)",
      "Input \u001b[1;32mIn [36]\u001b[0m, in \u001b[0;36m<cell line: 3>\u001b[1;34m()\u001b[0m\n\u001b[0;32m      3\u001b[0m \u001b[38;5;28;01mfor\u001b[39;00m c \u001b[38;5;129;01min\u001b[39;00m ann_classifiers:\n\u001b[0;32m      4\u001b[0m     pipe \u001b[38;5;241m=\u001b[39m Pipeline (\n\u001b[0;32m      5\u001b[0m     [(\u001b[38;5;124m'\u001b[39m\u001b[38;5;124mscaler\u001b[39m\u001b[38;5;124m'\u001b[39m, RobustScaler()),(\u001b[38;5;124m'\u001b[39m\u001b[38;5;124mclassifier\u001b[39m\u001b[38;5;124m'\u001b[39m, mlp)] \n\u001b[0;32m      6\u001b[0m     )\n\u001b[1;32m----> 7\u001b[0m     \u001b[43mpipe\u001b[49m\u001b[38;5;241;43m.\u001b[39;49m\u001b[43mfit\u001b[49m\u001b[43m(\u001b[49m\u001b[43mX_train\u001b[49m\u001b[43m,\u001b[49m\u001b[43m \u001b[49m\u001b[43my_train\u001b[49m\u001b[43m)\u001b[49m\n\u001b[0;32m      8\u001b[0m     score\u001b[38;5;241m.\u001b[39mappend(pipe\u001b[38;5;241m.\u001b[39mscore(X_test, y_test))\n",
      "File \u001b[1;32mD:\\Programs\\Anaconda3\\lib\\site-packages\\sklearn\\pipeline.py:394\u001b[0m, in \u001b[0;36mPipeline.fit\u001b[1;34m(self, X, y, **fit_params)\u001b[0m\n\u001b[0;32m    392\u001b[0m     \u001b[38;5;28;01mif\u001b[39;00m \u001b[38;5;28mself\u001b[39m\u001b[38;5;241m.\u001b[39m_final_estimator \u001b[38;5;241m!=\u001b[39m \u001b[38;5;124m\"\u001b[39m\u001b[38;5;124mpassthrough\u001b[39m\u001b[38;5;124m\"\u001b[39m:\n\u001b[0;32m    393\u001b[0m         fit_params_last_step \u001b[38;5;241m=\u001b[39m fit_params_steps[\u001b[38;5;28mself\u001b[39m\u001b[38;5;241m.\u001b[39msteps[\u001b[38;5;241m-\u001b[39m\u001b[38;5;241m1\u001b[39m][\u001b[38;5;241m0\u001b[39m]]\n\u001b[1;32m--> 394\u001b[0m         \u001b[38;5;28mself\u001b[39m\u001b[38;5;241m.\u001b[39m_final_estimator\u001b[38;5;241m.\u001b[39mfit(Xt, y, \u001b[38;5;241m*\u001b[39m\u001b[38;5;241m*\u001b[39mfit_params_last_step)\n\u001b[0;32m    396\u001b[0m \u001b[38;5;28;01mreturn\u001b[39;00m \u001b[38;5;28mself\u001b[39m\n",
      "File \u001b[1;32mD:\\Programs\\Anaconda3\\lib\\site-packages\\sklearn\\neural_network\\_multilayer_perceptron.py:752\u001b[0m, in \u001b[0;36mBaseMultilayerPerceptron.fit\u001b[1;34m(self, X, y)\u001b[0m\n\u001b[0;32m    735\u001b[0m \u001b[38;5;28;01mdef\u001b[39;00m \u001b[38;5;21mfit\u001b[39m(\u001b[38;5;28mself\u001b[39m, X, y):\n\u001b[0;32m    736\u001b[0m     \u001b[38;5;124;03m\"\"\"Fit the model to data matrix X and target(s) y.\u001b[39;00m\n\u001b[0;32m    737\u001b[0m \n\u001b[0;32m    738\u001b[0m \u001b[38;5;124;03m    Parameters\u001b[39;00m\n\u001b[1;32m   (...)\u001b[0m\n\u001b[0;32m    750\u001b[0m \u001b[38;5;124;03m        Returns a trained MLP model.\u001b[39;00m\n\u001b[0;32m    751\u001b[0m \u001b[38;5;124;03m    \"\"\"\u001b[39;00m\n\u001b[1;32m--> 752\u001b[0m     \u001b[38;5;28;01mreturn\u001b[39;00m \u001b[38;5;28;43mself\u001b[39;49m\u001b[38;5;241;43m.\u001b[39;49m\u001b[43m_fit\u001b[49m\u001b[43m(\u001b[49m\u001b[43mX\u001b[49m\u001b[43m,\u001b[49m\u001b[43m \u001b[49m\u001b[43my\u001b[49m\u001b[43m,\u001b[49m\u001b[43m \u001b[49m\u001b[43mincremental\u001b[49m\u001b[38;5;241;43m=\u001b[39;49m\u001b[38;5;28;43;01mFalse\u001b[39;49;00m\u001b[43m)\u001b[49m\n",
      "File \u001b[1;32mD:\\Programs\\Anaconda3\\lib\\site-packages\\sklearn\\neural_network\\_multilayer_perceptron.py:384\u001b[0m, in \u001b[0;36mBaseMultilayerPerceptron._fit\u001b[1;34m(self, X, y, incremental)\u001b[0m\n\u001b[0;32m    381\u001b[0m hidden_layer_sizes \u001b[38;5;241m=\u001b[39m \u001b[38;5;28mlist\u001b[39m(hidden_layer_sizes)\n\u001b[0;32m    383\u001b[0m \u001b[38;5;66;03m# Validate input parameters.\u001b[39;00m\n\u001b[1;32m--> 384\u001b[0m \u001b[38;5;28;43mself\u001b[39;49m\u001b[38;5;241;43m.\u001b[39;49m\u001b[43m_validate_hyperparameters\u001b[49m\u001b[43m(\u001b[49m\u001b[43m)\u001b[49m\n\u001b[0;32m    385\u001b[0m \u001b[38;5;28;01mif\u001b[39;00m np\u001b[38;5;241m.\u001b[39many(np\u001b[38;5;241m.\u001b[39marray(hidden_layer_sizes) \u001b[38;5;241m<\u001b[39m\u001b[38;5;241m=\u001b[39m \u001b[38;5;241m0\u001b[39m):\n\u001b[0;32m    386\u001b[0m     \u001b[38;5;28;01mraise\u001b[39;00m \u001b[38;5;167;01mValueError\u001b[39;00m(\n\u001b[0;32m    387\u001b[0m         \u001b[38;5;124m\"\u001b[39m\u001b[38;5;124mhidden_layer_sizes must be > 0, got \u001b[39m\u001b[38;5;132;01m%s\u001b[39;00m\u001b[38;5;124m.\u001b[39m\u001b[38;5;124m\"\u001b[39m \u001b[38;5;241m%\u001b[39m hidden_layer_sizes\n\u001b[0;32m    388\u001b[0m     )\n",
      "File \u001b[1;32mD:\\Programs\\Anaconda3\\lib\\site-packages\\sklearn\\neural_network\\_multilayer_perceptron.py:458\u001b[0m, in \u001b[0;36mBaseMultilayerPerceptron._validate_hyperparameters\u001b[1;34m(self)\u001b[0m\n\u001b[0;32m    454\u001b[0m \u001b[38;5;28;01mif\u001b[39;00m \u001b[38;5;28mself\u001b[39m\u001b[38;5;241m.\u001b[39malpha \u001b[38;5;241m<\u001b[39m \u001b[38;5;241m0.0\u001b[39m:\n\u001b[0;32m    455\u001b[0m     \u001b[38;5;28;01mraise\u001b[39;00m \u001b[38;5;167;01mValueError\u001b[39;00m(\u001b[38;5;124m\"\u001b[39m\u001b[38;5;124malpha must be >= 0, got \u001b[39m\u001b[38;5;132;01m%s\u001b[39;00m\u001b[38;5;124m.\u001b[39m\u001b[38;5;124m\"\u001b[39m \u001b[38;5;241m%\u001b[39m \u001b[38;5;28mself\u001b[39m\u001b[38;5;241m.\u001b[39malpha)\n\u001b[0;32m    456\u001b[0m \u001b[38;5;28;01mif\u001b[39;00m (\n\u001b[0;32m    457\u001b[0m     \u001b[38;5;28mself\u001b[39m\u001b[38;5;241m.\u001b[39mlearning_rate \u001b[38;5;129;01min\u001b[39;00m [\u001b[38;5;124m\"\u001b[39m\u001b[38;5;124mconstant\u001b[39m\u001b[38;5;124m\"\u001b[39m, \u001b[38;5;124m\"\u001b[39m\u001b[38;5;124minvscaling\u001b[39m\u001b[38;5;124m\"\u001b[39m, \u001b[38;5;124m\"\u001b[39m\u001b[38;5;124madaptive\u001b[39m\u001b[38;5;124m\"\u001b[39m]\n\u001b[1;32m--> 458\u001b[0m     \u001b[38;5;129;01mand\u001b[39;00m \u001b[38;5;28;43mself\u001b[39;49m\u001b[38;5;241;43m.\u001b[39;49m\u001b[43mlearning_rate_init\u001b[49m\u001b[43m \u001b[49m\u001b[38;5;241;43m<\u001b[39;49m\u001b[38;5;241;43m=\u001b[39;49m\u001b[43m \u001b[49m\u001b[38;5;241;43m0.0\u001b[39;49m\n\u001b[0;32m    459\u001b[0m ):\n\u001b[0;32m    460\u001b[0m     \u001b[38;5;28;01mraise\u001b[39;00m \u001b[38;5;167;01mValueError\u001b[39;00m(\n\u001b[0;32m    461\u001b[0m         \u001b[38;5;124m\"\u001b[39m\u001b[38;5;124mlearning_rate_init must be > 0, got \u001b[39m\u001b[38;5;132;01m%s\u001b[39;00m\u001b[38;5;124m.\u001b[39m\u001b[38;5;124m\"\u001b[39m \u001b[38;5;241m%\u001b[39m \u001b[38;5;28mself\u001b[39m\u001b[38;5;241m.\u001b[39mlearning_rate\n\u001b[0;32m    462\u001b[0m     )\n\u001b[0;32m    463\u001b[0m \u001b[38;5;28;01mif\u001b[39;00m \u001b[38;5;28mself\u001b[39m\u001b[38;5;241m.\u001b[39mmomentum \u001b[38;5;241m>\u001b[39m \u001b[38;5;241m1\u001b[39m \u001b[38;5;129;01mor\u001b[39;00m \u001b[38;5;28mself\u001b[39m\u001b[38;5;241m.\u001b[39mmomentum \u001b[38;5;241m<\u001b[39m \u001b[38;5;241m0\u001b[39m:\n",
      "\u001b[1;31mTypeError\u001b[0m: '<=' not supported between instances of 'str' and 'float'"
     ]
    }
   ],
   "source": [
    "#Loop:\n",
    "\n",
    "for c in ann_classifiers:\n",
    "    pipe = Pipeline (\n",
    "    [('scaler', RobustScaler()),('classifier', mlp)] \n",
    "    )\n",
    "    pipe.fit(X_train, y_train)\n",
    "    score.append(pipe.score(X_test, y_test))\n",
    "    "
   ]
  },
  {
   "cell_type": "code",
   "execution_count": null,
   "id": "7df644ea",
   "metadata": {},
   "outputs": [],
   "source": [
    "\n",
    "param_grid = {\n",
    "    'hidden_layer_sizes': [(2,5,10), (0,2,5,10), (0,2,5,10)],\n",
    "    'activation': ['tanh', 'relu'],\n",
    "    'solver': ['sgd', 'adam'],\n",
    "    'alpha': [0.0001, 0.05],\n",
    "    'learning_rate': ['adaptive'],\n",
    "    'max_iter': [10000000000]\n",
    "}\n",
    "\n",
    "grid = GridSearchCV(mlp, param_grid, n_jobs= -1, cv=5)\n",
    "grid.fit(X_train, y_train)\n",
    "\n",
    "print(grid.best_params_)\n",
    "\n",
    "#https://stackoverflow.com/questions/72607254/neural-network-mlpregressor\n",
    "#https://datascience.stackexchange.com/questions/36049/how-to-adjust-the-hyperparameters-of-mlp-classifier-to-get-more-perfect-performa"
   ]
  },
  {
   "cell_type": "code",
   "execution_count": 30,
   "id": "2aed844c",
   "metadata": {},
   "outputs": [],
   "source": [
    "\n",
    "param_grid = {'hidden_layer_sizes': [(100,), (50,100,), (50,75,100,)],\n",
    "              'activation': ['tanh','relu','lbfgs'],\n",
    "              'solver': ['sgd', 'adam'],\n",
    "              'learning_rate': ['constant','adaptive','invscaling'],\n",
    "              'alpha': [0.0001, 0.05],\n",
    "              'max_iter': [10000000000],\n",
    "              'early_stopping': [False],\n",
    "              'warm_start': [False]}\n",
    "GS = GridSearchCV(mlp, param_grid=param_grid,n_jobs= -1,cv=5, scoring='r2')\n",
    "                 \n",
    "                  \n",
    "GS.fit(X_train, y_train)\n",
    "\n",
    "print(GS.best_params_)\n",
    "\n",
    "#TypeError: '<=' not supported between instances of 'str' and 'float' \n",
    "\n",
    "#https://stackoverflow.com/questions/73006227/a-question-about-mlp-what-does-this-line-mean"
   ]
  },
  {
   "cell_type": "code",
   "execution_count": null,
   "id": "0c1c5eaf",
   "metadata": {},
   "outputs": [],
   "source": [
    "#SOLUTION\n",
    "#https://python-course.eu/machine-learning/neural-networks-with-scikit.php"
   ]
  }
 ],
 "metadata": {
  "kernelspec": {
   "display_name": "Python 3 (ipykernel)",
   "language": "python",
   "name": "python3"
  },
  "language_info": {
   "codemirror_mode": {
    "name": "ipython",
    "version": 3
   },
   "file_extension": ".py",
   "mimetype": "text/x-python",
   "name": "python",
   "nbconvert_exporter": "python",
   "pygments_lexer": "ipython3",
   "version": "3.9.12"
  }
 },
 "nbformat": 4,
 "nbformat_minor": 5
}
