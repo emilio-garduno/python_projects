{
 "cells": [
  {
   "cell_type": "code",
   "execution_count": 98,
   "id": "2cc76547",
   "metadata": {},
   "outputs": [],
   "source": [
    "import itertools\n",
    "listLayers = [ [2,5,10], [0,2,5,10], [0,2,5,10] ]\n",
    "data = []\n",
    "\n",
    "for t in itertools.product(*listLayers):\n",
    "    data.append(t)"
   ]
  },
  {
   "cell_type": "code",
   "execution_count": 99,
   "id": "45054be9",
   "metadata": {},
   "outputs": [
    {
     "data": {
      "text/plain": [
       "[(2, 0, 0),\n",
       " (2, 0, 2),\n",
       " (2, 0, 5),\n",
       " (2, 0, 10),\n",
       " (2, 2, 0),\n",
       " (2, 2, 2),\n",
       " (2, 2, 5),\n",
       " (2, 2, 10),\n",
       " (2, 5, 0),\n",
       " (2, 5, 2),\n",
       " (2, 5, 5),\n",
       " (2, 5, 10),\n",
       " (2, 10, 0),\n",
       " (2, 10, 2),\n",
       " (2, 10, 5),\n",
       " (2, 10, 10),\n",
       " (5, 0, 0),\n",
       " (5, 0, 2),\n",
       " (5, 0, 5),\n",
       " (5, 0, 10),\n",
       " (5, 2, 0),\n",
       " (5, 2, 2),\n",
       " (5, 2, 5),\n",
       " (5, 2, 10),\n",
       " (5, 5, 0),\n",
       " (5, 5, 2),\n",
       " (5, 5, 5),\n",
       " (5, 5, 10),\n",
       " (5, 10, 0),\n",
       " (5, 10, 2),\n",
       " (5, 10, 5),\n",
       " (5, 10, 10),\n",
       " (10, 0, 0),\n",
       " (10, 0, 2),\n",
       " (10, 0, 5),\n",
       " (10, 0, 10),\n",
       " (10, 2, 0),\n",
       " (10, 2, 2),\n",
       " (10, 2, 5),\n",
       " (10, 2, 10),\n",
       " (10, 5, 0),\n",
       " (10, 5, 2),\n",
       " (10, 5, 5),\n",
       " (10, 5, 10),\n",
       " (10, 10, 0),\n",
       " (10, 10, 2),\n",
       " (10, 10, 5),\n",
       " (10, 10, 10)]"
      ]
     },
     "execution_count": 99,
     "metadata": {},
     "output_type": "execute_result"
    }
   ],
   "source": [
    "data"
   ]
  },
  {
   "cell_type": "code",
   "execution_count": 100,
   "id": "cc6eaec0",
   "metadata": {},
   "outputs": [
    {
     "data": {
      "text/plain": [
       "[[2, 0, 0],\n",
       " [2, 2, 0],\n",
       " [5, 2, 0],\n",
       " [10, 2, 0],\n",
       " [2, 2, 0],\n",
       " [2, 2, 2],\n",
       " [5, 2, 2],\n",
       " [10, 2, 2],\n",
       " [5, 2, 0],\n",
       " [5, 2, 2],\n",
       " [5, 5, 2],\n",
       " [10, 5, 2],\n",
       " [10, 2, 0],\n",
       " [10, 2, 2],\n",
       " [10, 5, 2],\n",
       " [10, 10, 2],\n",
       " [5, 0, 0],\n",
       " [5, 2, 0],\n",
       " [5, 5, 0],\n",
       " [10, 5, 0],\n",
       " [5, 2, 0],\n",
       " [5, 2, 2],\n",
       " [5, 5, 2],\n",
       " [10, 5, 2],\n",
       " [5, 5, 0],\n",
       " [5, 5, 2],\n",
       " [5, 5, 5],\n",
       " [10, 5, 5],\n",
       " [10, 5, 0],\n",
       " [10, 5, 2],\n",
       " [10, 5, 5],\n",
       " [10, 10, 5],\n",
       " [10, 0, 0],\n",
       " [10, 2, 0],\n",
       " [10, 5, 0],\n",
       " [10, 10, 0],\n",
       " [10, 2, 0],\n",
       " [10, 2, 2],\n",
       " [10, 5, 2],\n",
       " [10, 10, 2],\n",
       " [10, 5, 0],\n",
       " [10, 5, 2],\n",
       " [10, 5, 5],\n",
       " [10, 10, 5],\n",
       " [10, 10, 0],\n",
       " [10, 10, 2],\n",
       " [10, 10, 5],\n",
       " [10, 10, 10]]"
      ]
     },
     "execution_count": 100,
     "metadata": {},
     "output_type": "execute_result"
    }
   ],
   "source": [
    "data = [sorted(item, reverse=True) for item in data]\n",
    "data"
   ]
  },
  {
   "cell_type": "code",
   "execution_count": 101,
   "id": "b7cbfece",
   "metadata": {},
   "outputs": [
    {
     "data": {
      "text/plain": [
       "[[2, 0, 0],\n",
       " [2, 2, 0],\n",
       " [5, 2, 0],\n",
       " [10, 2, 0],\n",
       " [2, 2, 2],\n",
       " [5, 2, 2],\n",
       " [10, 2, 2],\n",
       " [5, 5, 2],\n",
       " [10, 5, 2],\n",
       " [10, 10, 2],\n",
       " [5, 0, 0],\n",
       " [5, 5, 0],\n",
       " [10, 5, 0],\n",
       " [5, 5, 5],\n",
       " [10, 5, 5],\n",
       " [10, 10, 5],\n",
       " [10, 0, 0],\n",
       " [10, 10, 0],\n",
       " [10, 10, 10]]"
      ]
     },
     "execution_count": 101,
     "metadata": {},
     "output_type": "execute_result"
    }
   ],
   "source": [
    "result = []\n",
    "[result.append(x) for x in data if x not in result]\n",
    "result\n",
    "#https://favtutor.com/blogs/remove-duplicates-from-list-python"
   ]
  },
  {
   "cell_type": "code",
   "execution_count": 102,
   "id": "8d8a8cb4",
   "metadata": {},
   "outputs": [],
   "source": [
    "cleaned = [tuple(n for n in sublist if n != 0) for sublist in result]"
   ]
  },
  {
   "cell_type": "code",
   "execution_count": 103,
   "id": "90f2bbab",
   "metadata": {},
   "outputs": [
    {
     "data": {
      "text/plain": [
       "[(2,),\n",
       " (2, 2),\n",
       " (5, 2),\n",
       " (10, 2),\n",
       " (2, 2, 2),\n",
       " (5, 2, 2),\n",
       " (10, 2, 2),\n",
       " (5, 5, 2),\n",
       " (10, 5, 2),\n",
       " (10, 10, 2),\n",
       " (5,),\n",
       " (5, 5),\n",
       " (10, 5),\n",
       " (5, 5, 5),\n",
       " (10, 5, 5),\n",
       " (10, 10, 5),\n",
       " (10,),\n",
       " (10, 10),\n",
       " (10, 10, 10)]"
      ]
     },
     "execution_count": 103,
     "metadata": {},
     "output_type": "execute_result"
    }
   ],
   "source": [
    "cleaned"
   ]
  },
  {
   "cell_type": "code",
   "execution_count": 104,
   "id": "4218ae3c",
   "metadata": {},
   "outputs": [
    {
     "data": {
      "text/plain": [
       "0             (2,)\n",
       "1           (2, 2)\n",
       "2           (5, 2)\n",
       "3          (10, 2)\n",
       "4        (2, 2, 2)\n",
       "5        (5, 2, 2)\n",
       "6       (10, 2, 2)\n",
       "7        (5, 5, 2)\n",
       "8       (10, 5, 2)\n",
       "9      (10, 10, 2)\n",
       "10            (5,)\n",
       "11          (5, 5)\n",
       "12         (10, 5)\n",
       "13       (5, 5, 5)\n",
       "14      (10, 5, 5)\n",
       "15     (10, 10, 5)\n",
       "16           (10,)\n",
       "17        (10, 10)\n",
       "18    (10, 10, 10)\n",
       "Name: Numbers, dtype: object"
      ]
     },
     "execution_count": 104,
     "metadata": {},
     "output_type": "execute_result"
    }
   ],
   "source": [
    "import pandas as pd \n",
    "s = pd.Series(cleaned, name='Numbers')\n",
    "s"
   ]
  },
  {
   "cell_type": "code",
   "execution_count": 105,
   "id": "4995db74",
   "metadata": {},
   "outputs": [],
   "source": [
    "import pandas as pd \n",
    "import numpy as np \n",
    "import seaborn as sns\n",
    "import matplotlib.pyplot as plt \n",
    "\n",
    "%matplotlib inline\n",
    "\n",
    "from sklearn.model_selection import train_test_split\n",
    "from sklearn.pipeline import Pipeline\n",
    "from sklearn.preprocessing import MinMaxScaler, StandardScaler, RobustScaler \n",
    "from sklearn.neural_network import MLPRegressor\n",
    "from sklearn.metrics import accuracy_score\n",
    "from sklearn.neural_network import MLPClassifier\n",
    "\n",
    "from sklearn.model_selection import GridSearchCV\n",
    "from sklearn.metrics import mean_squared_error"
   ]
  },
  {
   "cell_type": "code",
   "execution_count": 106,
   "id": "310a357a",
   "metadata": {},
   "outputs": [
    {
     "data": {
      "text/html": [
       "<div>\n",
       "<style scoped>\n",
       "    .dataframe tbody tr th:only-of-type {\n",
       "        vertical-align: middle;\n",
       "    }\n",
       "\n",
       "    .dataframe tbody tr th {\n",
       "        vertical-align: top;\n",
       "    }\n",
       "\n",
       "    .dataframe thead th {\n",
       "        text-align: right;\n",
       "    }\n",
       "</style>\n",
       "<table border=\"1\" class=\"dataframe\">\n",
       "  <thead>\n",
       "    <tr style=\"text-align: right;\">\n",
       "      <th></th>\n",
       "      <th>Age</th>\n",
       "      <th>DailyRate</th>\n",
       "      <th>DistanceFromHome</th>\n",
       "      <th>Education</th>\n",
       "      <th>EnvironmentSatisfaction</th>\n",
       "      <th>HourlyRate</th>\n",
       "      <th>JobInvolvement</th>\n",
       "      <th>JobLevel</th>\n",
       "      <th>JobSatisfaction</th>\n",
       "      <th>MonthlyIncome</th>\n",
       "      <th>...</th>\n",
       "      <th>JobRole_Manager</th>\n",
       "      <th>JobRole_Manufacturing_Director</th>\n",
       "      <th>JobRole_Research_Director</th>\n",
       "      <th>JobRole_Research_Scientist</th>\n",
       "      <th>JobRole_Sales_Executive</th>\n",
       "      <th>JobRole_Sales_Representative</th>\n",
       "      <th>MaritalStatus_Married</th>\n",
       "      <th>MaritalStatus_Single</th>\n",
       "      <th>OverTime_Yes</th>\n",
       "      <th>Attrition_Yes</th>\n",
       "    </tr>\n",
       "  </thead>\n",
       "  <tbody>\n",
       "    <tr>\n",
       "      <th>0</th>\n",
       "      <td>41</td>\n",
       "      <td>1102</td>\n",
       "      <td>1</td>\n",
       "      <td>2</td>\n",
       "      <td>2</td>\n",
       "      <td>94</td>\n",
       "      <td>3</td>\n",
       "      <td>2</td>\n",
       "      <td>4</td>\n",
       "      <td>5993</td>\n",
       "      <td>...</td>\n",
       "      <td>0</td>\n",
       "      <td>0</td>\n",
       "      <td>0</td>\n",
       "      <td>0</td>\n",
       "      <td>1</td>\n",
       "      <td>0</td>\n",
       "      <td>0</td>\n",
       "      <td>1</td>\n",
       "      <td>1</td>\n",
       "      <td>1</td>\n",
       "    </tr>\n",
       "    <tr>\n",
       "      <th>1</th>\n",
       "      <td>49</td>\n",
       "      <td>279</td>\n",
       "      <td>8</td>\n",
       "      <td>1</td>\n",
       "      <td>3</td>\n",
       "      <td>61</td>\n",
       "      <td>2</td>\n",
       "      <td>2</td>\n",
       "      <td>2</td>\n",
       "      <td>5130</td>\n",
       "      <td>...</td>\n",
       "      <td>0</td>\n",
       "      <td>0</td>\n",
       "      <td>0</td>\n",
       "      <td>1</td>\n",
       "      <td>0</td>\n",
       "      <td>0</td>\n",
       "      <td>1</td>\n",
       "      <td>0</td>\n",
       "      <td>0</td>\n",
       "      <td>0</td>\n",
       "    </tr>\n",
       "    <tr>\n",
       "      <th>2</th>\n",
       "      <td>37</td>\n",
       "      <td>1373</td>\n",
       "      <td>2</td>\n",
       "      <td>2</td>\n",
       "      <td>4</td>\n",
       "      <td>92</td>\n",
       "      <td>2</td>\n",
       "      <td>1</td>\n",
       "      <td>3</td>\n",
       "      <td>2090</td>\n",
       "      <td>...</td>\n",
       "      <td>0</td>\n",
       "      <td>0</td>\n",
       "      <td>0</td>\n",
       "      <td>0</td>\n",
       "      <td>0</td>\n",
       "      <td>0</td>\n",
       "      <td>0</td>\n",
       "      <td>1</td>\n",
       "      <td>1</td>\n",
       "      <td>1</td>\n",
       "    </tr>\n",
       "  </tbody>\n",
       "</table>\n",
       "<p>3 rows × 44 columns</p>\n",
       "</div>"
      ],
      "text/plain": [
       "   Age  DailyRate  DistanceFromHome  Education  EnvironmentSatisfaction  \\\n",
       "0   41       1102                 1          2                        2   \n",
       "1   49        279                 8          1                        3   \n",
       "2   37       1373                 2          2                        4   \n",
       "\n",
       "   HourlyRate  JobInvolvement  JobLevel  JobSatisfaction  MonthlyIncome  ...  \\\n",
       "0          94               3         2                4           5993  ...   \n",
       "1          61               2         2                2           5130  ...   \n",
       "2          92               2         1                3           2090  ...   \n",
       "\n",
       "   JobRole_Manager  JobRole_Manufacturing_Director  JobRole_Research_Director  \\\n",
       "0                0                               0                          0   \n",
       "1                0                               0                          0   \n",
       "2                0                               0                          0   \n",
       "\n",
       "   JobRole_Research_Scientist  JobRole_Sales_Executive  \\\n",
       "0                           0                        1   \n",
       "1                           1                        0   \n",
       "2                           0                        0   \n",
       "\n",
       "   JobRole_Sales_Representative  MaritalStatus_Married  MaritalStatus_Single  \\\n",
       "0                             0                      0                     1   \n",
       "1                             0                      1                     0   \n",
       "2                             0                      0                     1   \n",
       "\n",
       "   OverTime_Yes  Attrition_Yes  \n",
       "0             1              1  \n",
       "1             0              0  \n",
       "2             1              1  \n",
       "\n",
       "[3 rows x 44 columns]"
      ]
     },
     "execution_count": 106,
     "metadata": {},
     "output_type": "execute_result"
    }
   ],
   "source": [
    "df = pd.read_csv('Lab05A_prepared.csv')\n",
    "df.head(3)"
   ]
  },
  {
   "cell_type": "code",
   "execution_count": 107,
   "id": "5f3a0c6c",
   "metadata": {},
   "outputs": [],
   "source": [
    "target = df['Attrition_Yes'] #Dependent variable Y\n",
    "features = df.drop(['Attrition_Yes'], axis = 1) #Independent variables X"
   ]
  },
  {
   "cell_type": "code",
   "execution_count": 108,
   "id": "c250b7ff",
   "metadata": {},
   "outputs": [],
   "source": [
    "X_train, X_test, y_train, y_test = train_test_split(features, target, test_size=0.25, random_state=42)"
   ]
  },
  {
   "cell_type": "code",
   "execution_count": 109,
   "id": "3de48da5",
   "metadata": {},
   "outputs": [],
   "source": [
    "score = []"
   ]
  },
  {
   "cell_type": "code",
   "execution_count": 149,
   "id": "321dcac1",
   "metadata": {},
   "outputs": [
    {
     "name": "stderr",
     "output_type": "stream",
     "text": [
      "D:\\Programs\\Anaconda3\\lib\\site-packages\\sklearn\\neural_network\\_multilayer_perceptron.py:692: ConvergenceWarning: Stochastic Optimizer: Maximum iterations (100) reached and the optimization hasn't converged yet.\n",
      "  warnings.warn(\n",
      "D:\\Programs\\Anaconda3\\lib\\site-packages\\sklearn\\neural_network\\_multilayer_perceptron.py:692: ConvergenceWarning: Stochastic Optimizer: Maximum iterations (100) reached and the optimization hasn't converged yet.\n",
      "  warnings.warn(\n",
      "D:\\Programs\\Anaconda3\\lib\\site-packages\\sklearn\\neural_network\\_multilayer_perceptron.py:692: ConvergenceWarning: Stochastic Optimizer: Maximum iterations (100) reached and the optimization hasn't converged yet.\n",
      "  warnings.warn(\n",
      "D:\\Programs\\Anaconda3\\lib\\site-packages\\sklearn\\neural_network\\_multilayer_perceptron.py:692: ConvergenceWarning: Stochastic Optimizer: Maximum iterations (100) reached and the optimization hasn't converged yet.\n",
      "  warnings.warn(\n",
      "D:\\Programs\\Anaconda3\\lib\\site-packages\\sklearn\\neural_network\\_multilayer_perceptron.py:692: ConvergenceWarning: Stochastic Optimizer: Maximum iterations (100) reached and the optimization hasn't converged yet.\n",
      "  warnings.warn(\n",
      "D:\\Programs\\Anaconda3\\lib\\site-packages\\sklearn\\neural_network\\_multilayer_perceptron.py:692: ConvergenceWarning: Stochastic Optimizer: Maximum iterations (100) reached and the optimization hasn't converged yet.\n",
      "  warnings.warn(\n",
      "D:\\Programs\\Anaconda3\\lib\\site-packages\\sklearn\\neural_network\\_multilayer_perceptron.py:692: ConvergenceWarning: Stochastic Optimizer: Maximum iterations (100) reached and the optimization hasn't converged yet.\n",
      "  warnings.warn(\n",
      "D:\\Programs\\Anaconda3\\lib\\site-packages\\sklearn\\neural_network\\_multilayer_perceptron.py:692: ConvergenceWarning: Stochastic Optimizer: Maximum iterations (100) reached and the optimization hasn't converged yet.\n",
      "  warnings.warn(\n",
      "D:\\Programs\\Anaconda3\\lib\\site-packages\\sklearn\\neural_network\\_multilayer_perceptron.py:692: ConvergenceWarning: Stochastic Optimizer: Maximum iterations (100) reached and the optimization hasn't converged yet.\n",
      "  warnings.warn(\n",
      "D:\\Programs\\Anaconda3\\lib\\site-packages\\sklearn\\neural_network\\_multilayer_perceptron.py:692: ConvergenceWarning: Stochastic Optimizer: Maximum iterations (100) reached and the optimization hasn't converged yet.\n",
      "  warnings.warn(\n",
      "D:\\Programs\\Anaconda3\\lib\\site-packages\\sklearn\\neural_network\\_multilayer_perceptron.py:692: ConvergenceWarning: Stochastic Optimizer: Maximum iterations (100) reached and the optimization hasn't converged yet.\n",
      "  warnings.warn(\n",
      "D:\\Programs\\Anaconda3\\lib\\site-packages\\sklearn\\neural_network\\_multilayer_perceptron.py:692: ConvergenceWarning: Stochastic Optimizer: Maximum iterations (100) reached and the optimization hasn't converged yet.\n",
      "  warnings.warn(\n",
      "D:\\Programs\\Anaconda3\\lib\\site-packages\\sklearn\\neural_network\\_multilayer_perceptron.py:692: ConvergenceWarning: Stochastic Optimizer: Maximum iterations (100) reached and the optimization hasn't converged yet.\n",
      "  warnings.warn(\n",
      "D:\\Programs\\Anaconda3\\lib\\site-packages\\sklearn\\neural_network\\_multilayer_perceptron.py:692: ConvergenceWarning: Stochastic Optimizer: Maximum iterations (100) reached and the optimization hasn't converged yet.\n",
      "  warnings.warn(\n",
      "D:\\Programs\\Anaconda3\\lib\\site-packages\\sklearn\\neural_network\\_multilayer_perceptron.py:692: ConvergenceWarning: Stochastic Optimizer: Maximum iterations (100) reached and the optimization hasn't converged yet.\n",
      "  warnings.warn(\n",
      "D:\\Programs\\Anaconda3\\lib\\site-packages\\sklearn\\neural_network\\_multilayer_perceptron.py:692: ConvergenceWarning: Stochastic Optimizer: Maximum iterations (100) reached and the optimization hasn't converged yet.\n",
      "  warnings.warn(\n",
      "D:\\Programs\\Anaconda3\\lib\\site-packages\\sklearn\\neural_network\\_multilayer_perceptron.py:692: ConvergenceWarning: Stochastic Optimizer: Maximum iterations (100) reached and the optimization hasn't converged yet.\n",
      "  warnings.warn(\n",
      "D:\\Programs\\Anaconda3\\lib\\site-packages\\sklearn\\neural_network\\_multilayer_perceptron.py:692: ConvergenceWarning: Stochastic Optimizer: Maximum iterations (100) reached and the optimization hasn't converged yet.\n",
      "  warnings.warn(\n",
      "D:\\Programs\\Anaconda3\\lib\\site-packages\\sklearn\\neural_network\\_multilayer_perceptron.py:692: ConvergenceWarning: Stochastic Optimizer: Maximum iterations (100) reached and the optimization hasn't converged yet.\n",
      "  warnings.warn(\n"
     ]
    }
   ],
   "source": [
    "for ca in range(len(s)): #where ca is each cluster algorithm, and clust_alg the list where we store each algorithm\n",
    "    pipe = Pipeline (\n",
    "    [('scaler', RobustScaler()),('classifier', MLPClassifier(\n",
    "                                                learning_rate='adaptive',\n",
    "                                                max_iter=100,    \n",
    "                                                hidden_layer_sizes=s[ca]\n",
    "                                                            ) \n",
    "                                \n",
    "                                )\n",
    "                    ])\n",
    "    pipe.fit(X_train, y_train)\n",
    "    score.append(pipe.score(X_test,y_test))\n",
    "    \n",
    "    grid_parameters = {\n",
    "                        'hidden_layer_sizes': [s[ca]],\n",
    "                        'learning_rate': ['adaptive'],\n",
    "                        'max_iter': [100]\n",
    "    }\n",
    "    clf = GridSearchCV(MLPClassifier(), grid_parameters, cv=5, scoring='accuracy')\n",
    "    \n",
    "    "
   ]
  },
  {
   "cell_type": "code",
   "execution_count": 141,
   "id": "f90d5a64",
   "metadata": {},
   "outputs": [],
   "source": [
    "res_df = pd.DataFrame(zip(s,score), columns=['ANN Hidden Layer','Score'])"
   ]
  },
  {
   "cell_type": "code",
   "execution_count": 142,
   "id": "56fee41e",
   "metadata": {},
   "outputs": [
    {
     "data": {
      "text/html": [
       "<div>\n",
       "<style scoped>\n",
       "    .dataframe tbody tr th:only-of-type {\n",
       "        vertical-align: middle;\n",
       "    }\n",
       "\n",
       "    .dataframe tbody tr th {\n",
       "        vertical-align: top;\n",
       "    }\n",
       "\n",
       "    .dataframe thead th {\n",
       "        text-align: right;\n",
       "    }\n",
       "</style>\n",
       "<table border=\"1\" class=\"dataframe\">\n",
       "  <thead>\n",
       "    <tr style=\"text-align: right;\">\n",
       "      <th></th>\n",
       "      <th>ANN Hidden Layer</th>\n",
       "      <th>Score</th>\n",
       "    </tr>\n",
       "  </thead>\n",
       "  <tbody>\n",
       "    <tr>\n",
       "      <th>0</th>\n",
       "      <td>(2,)</td>\n",
       "      <td>0.869565</td>\n",
       "    </tr>\n",
       "    <tr>\n",
       "      <th>1</th>\n",
       "      <td>(2, 2)</td>\n",
       "      <td>0.869565</td>\n",
       "    </tr>\n",
       "    <tr>\n",
       "      <th>2</th>\n",
       "      <td>(5, 2)</td>\n",
       "      <td>0.130435</td>\n",
       "    </tr>\n",
       "    <tr>\n",
       "      <th>3</th>\n",
       "      <td>(10, 2)</td>\n",
       "      <td>0.875000</td>\n",
       "    </tr>\n",
       "    <tr>\n",
       "      <th>4</th>\n",
       "      <td>(2, 2, 2)</td>\n",
       "      <td>0.872283</td>\n",
       "    </tr>\n",
       "    <tr>\n",
       "      <th>5</th>\n",
       "      <td>(5, 2, 2)</td>\n",
       "      <td>0.869565</td>\n",
       "    </tr>\n",
       "    <tr>\n",
       "      <th>6</th>\n",
       "      <td>(10, 2, 2)</td>\n",
       "      <td>0.883152</td>\n",
       "    </tr>\n",
       "    <tr>\n",
       "      <th>7</th>\n",
       "      <td>(5, 5, 2)</td>\n",
       "      <td>0.869565</td>\n",
       "    </tr>\n",
       "    <tr>\n",
       "      <th>8</th>\n",
       "      <td>(10, 5, 2)</td>\n",
       "      <td>0.894022</td>\n",
       "    </tr>\n",
       "    <tr>\n",
       "      <th>9</th>\n",
       "      <td>(10, 10, 2)</td>\n",
       "      <td>0.869565</td>\n",
       "    </tr>\n",
       "    <tr>\n",
       "      <th>10</th>\n",
       "      <td>(5,)</td>\n",
       "      <td>0.896739</td>\n",
       "    </tr>\n",
       "    <tr>\n",
       "      <th>11</th>\n",
       "      <td>(5, 5)</td>\n",
       "      <td>0.894022</td>\n",
       "    </tr>\n",
       "    <tr>\n",
       "      <th>12</th>\n",
       "      <td>(10, 5)</td>\n",
       "      <td>0.888587</td>\n",
       "    </tr>\n",
       "    <tr>\n",
       "      <th>13</th>\n",
       "      <td>(5, 5, 5)</td>\n",
       "      <td>0.894022</td>\n",
       "    </tr>\n",
       "    <tr>\n",
       "      <th>14</th>\n",
       "      <td>(10, 5, 5)</td>\n",
       "      <td>0.894022</td>\n",
       "    </tr>\n",
       "    <tr>\n",
       "      <th>15</th>\n",
       "      <td>(10, 10, 5)</td>\n",
       "      <td>0.888587</td>\n",
       "    </tr>\n",
       "    <tr>\n",
       "      <th>16</th>\n",
       "      <td>(10,)</td>\n",
       "      <td>0.883152</td>\n",
       "    </tr>\n",
       "    <tr>\n",
       "      <th>17</th>\n",
       "      <td>(10, 10)</td>\n",
       "      <td>0.902174</td>\n",
       "    </tr>\n",
       "    <tr>\n",
       "      <th>18</th>\n",
       "      <td>(10, 10, 10)</td>\n",
       "      <td>0.896739</td>\n",
       "    </tr>\n",
       "  </tbody>\n",
       "</table>\n",
       "</div>"
      ],
      "text/plain": [
       "   ANN Hidden Layer     Score\n",
       "0              (2,)  0.869565\n",
       "1            (2, 2)  0.869565\n",
       "2            (5, 2)  0.130435\n",
       "3           (10, 2)  0.875000\n",
       "4         (2, 2, 2)  0.872283\n",
       "5         (5, 2, 2)  0.869565\n",
       "6        (10, 2, 2)  0.883152\n",
       "7         (5, 5, 2)  0.869565\n",
       "8        (10, 5, 2)  0.894022\n",
       "9       (10, 10, 2)  0.869565\n",
       "10             (5,)  0.896739\n",
       "11           (5, 5)  0.894022\n",
       "12          (10, 5)  0.888587\n",
       "13        (5, 5, 5)  0.894022\n",
       "14       (10, 5, 5)  0.894022\n",
       "15      (10, 10, 5)  0.888587\n",
       "16            (10,)  0.883152\n",
       "17         (10, 10)  0.902174\n",
       "18     (10, 10, 10)  0.896739"
      ]
     },
     "execution_count": 142,
     "metadata": {},
     "output_type": "execute_result"
    }
   ],
   "source": [
    "res_df"
   ]
  },
  {
   "cell_type": "code",
   "execution_count": 152,
   "id": "8343dd44",
   "metadata": {},
   "outputs": [
    {
     "name": "stderr",
     "output_type": "stream",
     "text": [
      "D:\\Programs\\Anaconda3\\lib\\site-packages\\sklearn\\neural_network\\_multilayer_perceptron.py:692: ConvergenceWarning: Stochastic Optimizer: Maximum iterations (100) reached and the optimization hasn't converged yet.\n",
      "  warnings.warn(\n"
     ]
    },
    {
     "name": "stdout",
     "output_type": "stream",
     "text": [
      "Best parameters set found on development set: {'hidden_layer_sizes': (10, 10, 10), 'learning_rate': 'adaptive', 'max_iter': 100}\n",
      "\n",
      "Best model validation accuracy: 0.8094158782394075\n"
     ]
    }
   ],
   "source": [
    "clf.fit(X_train, y_train)\n",
    "print(\"Best parameters set found on development set:\", clf.best_params_)\n",
    "print(\"\\nBest model validation accuracy:\", clf.best_score_)"
   ]
  },
  {
   "cell_type": "code",
   "execution_count": 153,
   "id": "4e5fc543",
   "metadata": {},
   "outputs": [
    {
     "data": {
      "text/plain": [
       "MLPClassifier(hidden_layer_sizes=(10, 10, 10), learning_rate='adaptive',\n",
       "              max_iter=100)"
      ]
     },
     "execution_count": 153,
     "metadata": {},
     "output_type": "execute_result"
    }
   ],
   "source": [
    "gs_best = clf.best_estimator_ #gs: grid search\n",
    "gs_best"
   ]
  },
  {
   "cell_type": "code",
   "execution_count": 155,
   "id": "142cf75c",
   "metadata": {},
   "outputs": [
    {
     "name": "stdout",
     "output_type": "stream",
     "text": [
      "\n",
      "\n",
      "Tuned Model Stats:\n",
      "              precision    recall  f1-score   support\n",
      "\n",
      "     class 0       0.87      1.00      0.93       320\n",
      "     class 1       0.00      0.00      0.00        48\n",
      "\n",
      "    accuracy                           0.87       368\n",
      "   macro avg       0.43      0.50      0.47       368\n",
      "weighted avg       0.76      0.87      0.81       368\n",
      "\n"
     ]
    },
    {
     "name": "stderr",
     "output_type": "stream",
     "text": [
      "D:\\Programs\\Anaconda3\\lib\\site-packages\\sklearn\\metrics\\_classification.py:1318: UndefinedMetricWarning: Precision and F-score are ill-defined and being set to 0.0 in labels with no predicted samples. Use `zero_division` parameter to control this behavior.\n",
      "  _warn_prf(average, modifier, msg_start, len(result))\n",
      "D:\\Programs\\Anaconda3\\lib\\site-packages\\sklearn\\metrics\\_classification.py:1318: UndefinedMetricWarning: Precision and F-score are ill-defined and being set to 0.0 in labels with no predicted samples. Use `zero_division` parameter to control this behavior.\n",
      "  _warn_prf(average, modifier, msg_start, len(result))\n",
      "D:\\Programs\\Anaconda3\\lib\\site-packages\\sklearn\\metrics\\_classification.py:1318: UndefinedMetricWarning: Precision and F-score are ill-defined and being set to 0.0 in labels with no predicted samples. Use `zero_division` parameter to control this behavior.\n",
      "  _warn_prf(average, modifier, msg_start, len(result))\n"
     ]
    }
   ],
   "source": [
    "from sklearn.metrics import classification_report\n",
    "from sklearn.metrics import confusion_matrix\n",
    "tuned_y_pred = gs_best.predict(X_test) \n",
    "print('\\n\\nTuned Model Stats:')\n",
    "print(classification_report(y_test, tuned_y_pred, target_names=['class 0', 'class 1']))"
   ]
  },
  {
   "cell_type": "code",
   "execution_count": 156,
   "id": "0b7aa3c5",
   "metadata": {},
   "outputs": [
    {
     "name": "stdout",
     "output_type": "stream",
     "text": [
      "[[320   0]\n",
      " [ 48   0]]\n"
     ]
    }
   ],
   "source": [
    "conf_matrix = confusion_matrix(y_test, tuned_y_pred)\n",
    "print(conf_matrix)"
   ]
  },
  {
   "cell_type": "code",
   "execution_count": 157,
   "id": "fabb742c",
   "metadata": {},
   "outputs": [
    {
     "data": {
      "text/plain": [
       "<AxesSubplot:xlabel='Predicted', ylabel='Actual'>"
      ]
     },
     "execution_count": 157,
     "metadata": {},
     "output_type": "execute_result"
    },
    {
     "data": {
      "image/png": "[encoded data removed]",
      "text/plain": [
       "<Figure size 288x288 with 1 Axes>"
      ]
     },
     "metadata": {
      "needs_background": "light"
     },
     "output_type": "display_data"
    }
   ],
   "source": [
    "df_cm = pd.DataFrame(conf_matrix, columns=np.unique(y_test), index = np.unique(y_test))\n",
    "df_cm.index.name = 'Actual'\n",
    "df_cm.columns.name = 'Predicted'\n",
    "plt.figure(figsize = (4,4))\n",
    "sns.set(font_scale = 1.2) # for label size\n",
    "sns.heatmap(df_cm, annot=True, annot_kws={\"size\": 14}, cbar=False, vmax = 20, #vmax from confusion matrix\n",
    "            square = True, cmap=\"Greens\", fmt='g') #fmt to remove scientific notation"
   ]
  },
  {
   "cell_type": "code",
   "execution_count": null,
   "id": "4ded8529",
   "metadata": {},
   "outputs": [],
   "source": []
  }
 ],
 "metadata": {
  "kernelspec": {
   "display_name": "Python 3 (ipykernel)",
   "language": "python",
   "name": "python3"
  },
  "language_info": {
   "codemirror_mode": {
    "name": "ipython",
    "version": 3
   },
   "file_extension": ".py",
   "mimetype": "text/x-python",
   "name": "python",
   "nbconvert_exporter": "python",
   "pygments_lexer": "ipython3",
   "version": "3.9.12"
  }
 },
 "nbformat": 4,
 "nbformat_minor": 5
}
